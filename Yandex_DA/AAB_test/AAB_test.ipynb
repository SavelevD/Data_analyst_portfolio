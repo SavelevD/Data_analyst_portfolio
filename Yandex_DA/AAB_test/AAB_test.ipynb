{
 "cells": [
  {
   "cell_type": "markdown",
   "id": "3846e936-9898-480e-89f3-1dfcc9882151",
   "metadata": {},
   "source": [
    "<font size=\"+3\">Анализ результатов A/A/B-теста для определения влияния нового шрифта на поведение пользователей</font>\n",
    "\n",
    "<font size=\"+2\">Легенда и описание проекта</font>  \n",
    "Исследование поведения пользователей производится для стартапа, который продаёт продукты питания через мобильное приложение.  \n",
    "Дизайнеры захотели поменять шрифты во всём приложении, а менеджеры испугались, что пользователям будет непривычно. Договорились принять решение по результатам A/A/B-теста. Пользователей разбили на 3 группы: 2 контрольные со старыми шрифтами и одну экспериментальную — с новыми.\n",
    "\n",
    "<font size=\"+2\">Цель исследования</font>\n",
    "- Выяснить, есть ли различия в поведении пользователей при внедрении нового шрифта.\n",
    "\n",
    "<font size=\"+2\">Задачи исследования</font>\n",
    "- Узнать, как пользователи доходят до покупки;\n",
    "- Выяснить, сколько пользователей доходит до покупки, а сколько — «застревает» на предыдущих шагах и на каких именно;\n",
    "- Изучить воронку продаж;\n",
    "- Исследовать результаты A/A/B-теста.\n",
    "\n",
    "<font size=\"+2\">Содержание</font>\n",
    "1. [Обзор данных с результатами A/A/B-теста](#start)\n",
    "2. [Предобработка данных](#prepare)\n",
    "3. [Исследовательский анализ данных](#eda)  \n",
    "4. [Изучение воронки событий](#funnel)\n",
    "5. [Изучение результатов A/A/B-теста](#ab-test_explore)\n",
    "6. [Общий вывод](#conclusion)"
   ]
  },
  {
   "cell_type": "markdown",
   "id": "9d0081a0-5ff7-4aa5-ba2c-af410cac589d",
   "metadata": {},
   "source": [
    "# Обзор данных с результатами A/A/B-теста <a id='start'></a>"
   ]
  },
  {
   "cell_type": "markdown",
   "id": "5845c40c-47b2-4441-b20a-7cd3caa9603f",
   "metadata": {},
   "source": [
    "## Датасет с действиями пользователей и событиями\n",
    "Загрузим файл, где содержатся данные с действиями пользователей и событиями:"
   ]
  },
  {
   "cell_type": "code",
   "execution_count": 9,
   "id": "7892879b-3879-480e-8247-09229d9a440e",
   "metadata": {},
   "outputs": [],
   "source": [
    "import pandas as pd\n",
    "import matplotlib.pyplot as plt\n",
    "import datetime as dt\n",
    "import math as mth\n",
    "from scipy import stats as st"
   ]
  },
  {
   "cell_type": "code",
   "execution_count": 10,
   "id": "fda5356d-e64d-4537-8016-22c3eda7e819",
   "metadata": {},
   "outputs": [],
   "source": [
    "pd.options.mode.chained_assignment = None"
   ]
  },
  {
   "cell_type": "code",
   "execution_count": 11,
   "id": "304efb97-337f-4506-834a-386df23e4e55",
   "metadata": {},
   "outputs": [],
   "source": [
    "try:\n",
    "    logs = pd.read_csv('local_dataset.csv', sep='\\t')\n",
    "except:\n",
    "    logs = pd.read_csv('url_to_dataset', sep='\\t')"
   ]
  },
  {
   "cell_type": "code",
   "execution_count": 12,
   "id": "6ce87cf3-8f43-4cf7-b2a3-27a784495f01",
   "metadata": {},
   "outputs": [
    {
     "data": {
      "text/html": [
       "<div>\n",
       "<style scoped>\n",
       "    .dataframe tbody tr th:only-of-type {\n",
       "        vertical-align: middle;\n",
       "    }\n",
       "\n",
       "    .dataframe tbody tr th {\n",
       "        vertical-align: top;\n",
       "    }\n",
       "\n",
       "    .dataframe thead th {\n",
       "        text-align: right;\n",
       "    }\n",
       "</style>\n",
       "<table border=\"1\" class=\"dataframe\">\n",
       "  <thead>\n",
       "    <tr style=\"text-align: right;\">\n",
       "      <th></th>\n",
       "      <th>EventName</th>\n",
       "      <th>DeviceIDHash</th>\n",
       "      <th>EventTimestamp</th>\n",
       "      <th>ExpId</th>\n",
       "    </tr>\n",
       "  </thead>\n",
       "  <tbody>\n",
       "    <tr>\n",
       "      <th>0</th>\n",
       "      <td>MainScreenAppear</td>\n",
       "      <td>4575588528974610257</td>\n",
       "      <td>1564029816</td>\n",
       "      <td>246</td>\n",
       "    </tr>\n",
       "    <tr>\n",
       "      <th>1</th>\n",
       "      <td>MainScreenAppear</td>\n",
       "      <td>7416695313311560658</td>\n",
       "      <td>1564053102</td>\n",
       "      <td>246</td>\n",
       "    </tr>\n",
       "    <tr>\n",
       "      <th>2</th>\n",
       "      <td>PaymentScreenSuccessful</td>\n",
       "      <td>3518123091307005509</td>\n",
       "      <td>1564054127</td>\n",
       "      <td>248</td>\n",
       "    </tr>\n",
       "    <tr>\n",
       "      <th>3</th>\n",
       "      <td>CartScreenAppear</td>\n",
       "      <td>3518123091307005509</td>\n",
       "      <td>1564054127</td>\n",
       "      <td>248</td>\n",
       "    </tr>\n",
       "    <tr>\n",
       "      <th>4</th>\n",
       "      <td>PaymentScreenSuccessful</td>\n",
       "      <td>6217807653094995999</td>\n",
       "      <td>1564055322</td>\n",
       "      <td>248</td>\n",
       "    </tr>\n",
       "  </tbody>\n",
       "</table>\n",
       "</div>"
      ],
      "text/plain": [
       "                 EventName         DeviceIDHash  EventTimestamp  ExpId\n",
       "0         MainScreenAppear  4575588528974610257      1564029816    246\n",
       "1         MainScreenAppear  7416695313311560658      1564053102    246\n",
       "2  PaymentScreenSuccessful  3518123091307005509      1564054127    248\n",
       "3         CartScreenAppear  3518123091307005509      1564054127    248\n",
       "4  PaymentScreenSuccessful  6217807653094995999      1564055322    248"
      ]
     },
     "execution_count": 12,
     "metadata": {},
     "output_type": "execute_result"
    }
   ],
   "source": [
    "logs.head(5)  # Вывод первых 5 строк для первичного ознакомления с датасетом"
   ]
  },
  {
   "cell_type": "code",
   "execution_count": 13,
   "id": "bfe7c160-c8e7-4cee-9287-2f402acecc19",
   "metadata": {},
   "outputs": [
    {
     "data": {
      "text/html": [
       "<div>\n",
       "<style scoped>\n",
       "    .dataframe tbody tr th:only-of-type {\n",
       "        vertical-align: middle;\n",
       "    }\n",
       "\n",
       "    .dataframe tbody tr th {\n",
       "        vertical-align: top;\n",
       "    }\n",
       "\n",
       "    .dataframe thead th {\n",
       "        text-align: right;\n",
       "    }\n",
       "</style>\n",
       "<table border=\"1\" class=\"dataframe\">\n",
       "  <thead>\n",
       "    <tr style=\"text-align: right;\">\n",
       "      <th></th>\n",
       "      <th>EventName</th>\n",
       "      <th>DeviceIDHash</th>\n",
       "      <th>EventTimestamp</th>\n",
       "      <th>ExpId</th>\n",
       "    </tr>\n",
       "  </thead>\n",
       "  <tbody>\n",
       "    <tr>\n",
       "      <th>244121</th>\n",
       "      <td>MainScreenAppear</td>\n",
       "      <td>4599628364049201812</td>\n",
       "      <td>1565212345</td>\n",
       "      <td>247</td>\n",
       "    </tr>\n",
       "    <tr>\n",
       "      <th>244122</th>\n",
       "      <td>MainScreenAppear</td>\n",
       "      <td>5849806612437486590</td>\n",
       "      <td>1565212439</td>\n",
       "      <td>246</td>\n",
       "    </tr>\n",
       "    <tr>\n",
       "      <th>244123</th>\n",
       "      <td>MainScreenAppear</td>\n",
       "      <td>5746969938801999050</td>\n",
       "      <td>1565212483</td>\n",
       "      <td>246</td>\n",
       "    </tr>\n",
       "    <tr>\n",
       "      <th>244124</th>\n",
       "      <td>MainScreenAppear</td>\n",
       "      <td>5746969938801999050</td>\n",
       "      <td>1565212498</td>\n",
       "      <td>246</td>\n",
       "    </tr>\n",
       "    <tr>\n",
       "      <th>244125</th>\n",
       "      <td>OffersScreenAppear</td>\n",
       "      <td>5746969938801999050</td>\n",
       "      <td>1565212517</td>\n",
       "      <td>246</td>\n",
       "    </tr>\n",
       "  </tbody>\n",
       "</table>\n",
       "</div>"
      ],
      "text/plain": [
       "                 EventName         DeviceIDHash  EventTimestamp  ExpId\n",
       "244121    MainScreenAppear  4599628364049201812      1565212345    247\n",
       "244122    MainScreenAppear  5849806612437486590      1565212439    246\n",
       "244123    MainScreenAppear  5746969938801999050      1565212483    246\n",
       "244124    MainScreenAppear  5746969938801999050      1565212498    246\n",
       "244125  OffersScreenAppear  5746969938801999050      1565212517    246"
      ]
     },
     "execution_count": 13,
     "metadata": {},
     "output_type": "execute_result"
    }
   ],
   "source": [
    "logs.tail(5)  # Вывод последних 5 строк для первичного ознакомления с датасетом"
   ]
  },
  {
   "cell_type": "markdown",
   "id": "c73b94f8-3ef8-4893-bc3c-73f6eedb6c10",
   "metadata": {},
   "source": [
    "Судя по первым и последним 5 записям датасета logs, данные соотносятся с целями анализа. Данных для анализа достаточно."
   ]
  },
  {
   "cell_type": "markdown",
   "id": "b66b2308-fc30-48d8-bbc1-326e658e7f3c",
   "metadata": {},
   "source": [
    "## Описание столбцов logs\n",
    "- **EventName** — название события;\n",
    "- **DeviceIDHash** — уникальный идентификатор пользователя;\n",
    "- **EventTimestamp** — время события;\n",
    "- **ExpId** — номер эксперимента: 246 и 247 — контрольные группы, а 248 — экспериментальная."
   ]
  },
  {
   "cell_type": "markdown",
   "id": "9f0991f1-27cc-4a3e-a849-b7b7820b62d7",
   "metadata": {},
   "source": [
    "# Предобработка данных <a id='prepare'></a>"
   ]
  },
  {
   "cell_type": "markdown",
   "id": "9ae94de1-73fe-437d-9841-9934b06dc62f",
   "metadata": {},
   "source": [
    "## Переименование столбцов"
   ]
  },
  {
   "cell_type": "code",
   "execution_count": 14,
   "id": "49f759d1-6f71-43fb-936e-5186ef85b12b",
   "metadata": {},
   "outputs": [
    {
     "data": {
      "text/plain": [
       "Index(['event_name', 'user_id', 'event_timestamp', 'group'], dtype='object')"
      ]
     },
     "execution_count": 14,
     "metadata": {},
     "output_type": "execute_result"
    }
   ],
   "source": [
    "logs = logs.rename(columns={'EventName': 'event_name',\n",
    "                            'DeviceIDHash': 'user_id',\n",
    "                            'EventTimestamp': 'event_timestamp',\n",
    "                            'ExpId': 'group'\n",
    "                           })\n",
    "logs.columns  # Вывод названий столбцов датафрейма для проверки результата"
   ]
  },
  {
   "cell_type": "markdown",
   "id": "d6455d82-6785-4e81-a292-b98e44980cb5",
   "metadata": {},
   "source": [
    "Cтолбцы переименованы успешно."
   ]
  },
  {
   "cell_type": "markdown",
   "id": "925b3e03-9249-45cc-ac81-f578c0f554bc",
   "metadata": {},
   "source": [
    "### Обновлённый список столбцов\n",
    "\n",
    "- **event_name** — название события;\n",
    "- **user_id** — уникальный идентификатор пользователя;\n",
    "- **event_timestamp** — timestamp события;\n",
    "- **group** — номер эксперимента: 246 и 247 — контрольные группы, а 248 — экспериментальная."
   ]
  },
  {
   "cell_type": "markdown",
   "id": "407b8f06-e0c6-413a-abc3-1f8da81d3ce9",
   "metadata": {},
   "source": [
    "## Изучение типов данных "
   ]
  },
  {
   "cell_type": "code",
   "execution_count": 15,
   "id": "9a8cc216-b766-4c89-9106-0e1faf9048c1",
   "metadata": {},
   "outputs": [
    {
     "name": "stdout",
     "output_type": "stream",
     "text": [
      "<class 'pandas.core.frame.DataFrame'>\n",
      "RangeIndex: 244126 entries, 0 to 244125\n",
      "Data columns (total 4 columns):\n",
      " #   Column           Non-Null Count   Dtype \n",
      "---  ------           --------------   ----- \n",
      " 0   event_name       244126 non-null  object\n",
      " 1   user_id          244126 non-null  int64 \n",
      " 2   event_timestamp  244126 non-null  int64 \n",
      " 3   group            244126 non-null  int64 \n",
      "dtypes: int64(3), object(1)\n",
      "memory usage: 7.5+ MB\n"
     ]
    }
   ],
   "source": [
    "logs.info()"
   ]
  },
  {
   "cell_type": "markdown",
   "id": "43a473a5-7033-4578-b582-25cad9907364",
   "metadata": {},
   "source": [
    "Датасет logs не содержит пропусков.\n",
    "\n",
    "На основе столбца *event_timestamp* добавим два новых столбца — один с датой и временем события, второй с датой:\n",
    "\n",
    "- **event_datetime** — дата и время события;\n",
    "- **event_date** — дата события."
   ]
  },
  {
   "cell_type": "code",
   "execution_count": 16,
   "id": "bdd1cbd9-486d-4e7c-a615-4b647c06ec73",
   "metadata": {},
   "outputs": [
    {
     "data": {
      "text/plain": [
       "0   2019-07-25 04:43:36\n",
       "1   2019-07-25 11:11:42\n",
       "2   2019-07-25 11:28:47\n",
       "3   2019-07-25 11:28:47\n",
       "4   2019-07-25 11:48:42\n",
       "Name: event_datetime, dtype: datetime64[ns]"
      ]
     },
     "execution_count": 16,
     "metadata": {},
     "output_type": "execute_result"
    }
   ],
   "source": [
    "logs['event_datetime'] = pd.to_datetime(logs['event_timestamp'], unit = 's')\n",
    "logs['event_datetime'].head(5)"
   ]
  },
  {
   "cell_type": "markdown",
   "id": "aa969523-31a9-4282-9b49-ba3a901bebbb",
   "metadata": {},
   "source": [
    "В датафрейм logs успешно добавлен столбец *event_datetime* с датой и временем события."
   ]
  },
  {
   "cell_type": "code",
   "execution_count": 17,
   "id": "ac5ecb24-937b-4689-bff6-4c2c20cbfd74",
   "metadata": {},
   "outputs": [
    {
     "data": {
      "text/plain": [
       "0    2019-07-25\n",
       "1    2019-07-25\n",
       "2    2019-07-25\n",
       "3    2019-07-25\n",
       "4    2019-07-25\n",
       "Name: event_date, dtype: object"
      ]
     },
     "execution_count": 17,
     "metadata": {},
     "output_type": "execute_result"
    }
   ],
   "source": [
    "logs['event_date'] = logs['event_datetime'].dt.date\n",
    "logs['event_date'].head(5)"
   ]
  },
  {
   "cell_type": "markdown",
   "id": "11f51b5d-4826-46bf-a450-2ea93eb089b7",
   "metadata": {},
   "source": [
    "В датафрейм logs успешно добавлен столбец *event_date* с датой события."
   ]
  },
  {
   "cell_type": "markdown",
   "id": "84ef2f16-73c9-42b0-bf16-033a7456c35e",
   "metadata": {},
   "source": [
    "**Категориальные данные:**\n",
    "- event_name\n",
    "- user_id\n",
    "- group\n",
    "\n",
    "**Количественные данные:**\n",
    "- event_timestamp\n",
    "- event_datetime\n",
    "- event_date"
   ]
  },
  {
   "cell_type": "markdown",
   "id": "e30e5f04-0173-47ff-ad6d-3b3fdd23564c",
   "metadata": {},
   "source": [
    "## Обработка дубликатов"
   ]
  },
  {
   "cell_type": "code",
   "execution_count": 18,
   "id": "08a6d52f-802f-465b-bd15-f691118057bb",
   "metadata": {},
   "outputs": [
    {
     "data": {
      "text/plain": [
       "413"
      ]
     },
     "execution_count": 18,
     "metadata": {},
     "output_type": "execute_result"
    }
   ],
   "source": [
    "logs.duplicated().sum()  # Поиск явных дубликатов"
   ]
  },
  {
   "cell_type": "markdown",
   "id": "b34e1c2f-7c64-4763-a26c-8b240ebdcb1c",
   "metadata": {},
   "source": [
    "Найдено 413 явных дубликатов. Удалим явные дубликаты:"
   ]
  },
  {
   "cell_type": "code",
   "execution_count": 19,
   "id": "3b7fdd7e-901d-4cfc-93ee-b5ecb776ee7e",
   "metadata": {},
   "outputs": [
    {
     "data": {
      "text/plain": [
       "0"
      ]
     },
     "execution_count": 19,
     "metadata": {},
     "output_type": "execute_result"
    }
   ],
   "source": [
    "logs = logs.drop_duplicates()\n",
    "logs.duplicated().sum()"
   ]
  },
  {
   "cell_type": "markdown",
   "id": "696d5d53-b368-44a3-adb1-7a096fe21ff2",
   "metadata": {},
   "source": [
    "Явные дубликаты удалены."
   ]
  },
  {
   "cell_type": "markdown",
   "id": "56a621d2-2804-4d8b-91de-f99a5eba3d58",
   "metadata": {},
   "source": [
    "## Итоги предобработки данных"
   ]
  },
  {
   "cell_type": "markdown",
   "id": "13285fa1-9170-45c0-8693-4f1e8f026acb",
   "metadata": {},
   "source": [
    "Произведён первичный осмотр датасета, наименования столбцов приведены к формату snake_case. Добавлены столбцы *event_datetime* с датой и временем события и *event_date* с датой события.  \n",
    "Пропуски обнаружены не были. Дубликаты были исключены."
   ]
  },
  {
   "cell_type": "markdown",
   "id": "b9168d1a-66ed-435b-8ab0-eed0533bd370",
   "metadata": {},
   "source": [
    "# Исследовательский анализ данных <a id='eda'></a>"
   ]
  },
  {
   "cell_type": "markdown",
   "id": "46e7e235-5669-4cc8-868f-13d3badbd92b",
   "metadata": {},
   "source": [
    "## Изучение событий и пользователей"
   ]
  },
  {
   "cell_type": "code",
   "execution_count": 20,
   "id": "b403e632-e52e-42a7-95a1-5e5a656bfc65",
   "metadata": {},
   "outputs": [
    {
     "data": {
      "text/plain": [
       "243713"
      ]
     },
     "execution_count": 20,
     "metadata": {},
     "output_type": "execute_result"
    }
   ],
   "source": [
    "len(logs.index)"
   ]
  },
  {
   "cell_type": "markdown",
   "id": "23508b24-a331-44a1-b170-9217131415b5",
   "metadata": {},
   "source": [
    "Всего в датафрейме собрано 243713 записей событий."
   ]
  },
  {
   "cell_type": "code",
   "execution_count": 21,
   "id": "276a67c7-65cc-4305-b15a-55787b650ede",
   "metadata": {},
   "outputs": [
    {
     "data": {
      "text/plain": [
       "7551"
      ]
     },
     "execution_count": 21,
     "metadata": {},
     "output_type": "execute_result"
    }
   ],
   "source": [
    "logs['user_id'].nunique()"
   ]
  },
  {
   "cell_type": "markdown",
   "id": "f89a3569-8d36-4b1b-b673-f8dfb01cdeb6",
   "metadata": {},
   "source": [
    "В датафрейме содержаться записи 7551 уникальных пользователей."
   ]
  },
  {
   "cell_type": "code",
   "execution_count": 22,
   "id": "e539edb7-41c5-4ed9-91aa-0bed7f53343b",
   "metadata": {},
   "outputs": [
    {
     "data": {
      "text/plain": [
       "32.3"
      ]
     },
     "execution_count": 22,
     "metadata": {},
     "output_type": "execute_result"
    }
   ],
   "source": [
    "round(len(logs.index) / logs['user_id'].nunique(), 1)"
   ]
  },
  {
   "cell_type": "markdown",
   "id": "ec3c09de-1cea-45af-9bac-8bd9de8275e6",
   "metadata": {},
   "source": [
    "В среднем на одного пользователя приходится 32.3 события."
   ]
  },
  {
   "cell_type": "markdown",
   "id": "fa95114b-d927-479b-a36c-9980404ba996",
   "metadata": {},
   "source": [
    "## Определение периода A/A/B-теста"
   ]
  },
  {
   "cell_type": "code",
   "execution_count": 23,
   "id": "e46cdfba-701e-4fff-8baa-eea23c168dd7",
   "metadata": {},
   "outputs": [
    {
     "data": {
      "text/plain": [
       "0        2019-07-25 04:43:36\n",
       "1        2019-07-25 11:11:42\n",
       "2        2019-07-25 11:28:47\n",
       "3        2019-07-25 11:28:47\n",
       "4        2019-07-25 11:48:42\n",
       "                 ...        \n",
       "244121   2019-08-07 21:12:25\n",
       "244122   2019-08-07 21:13:59\n",
       "244123   2019-08-07 21:14:43\n",
       "244124   2019-08-07 21:14:58\n",
       "244125   2019-08-07 21:15:17\n",
       "Name: event_datetime, Length: 243713, dtype: datetime64[ns]"
      ]
     },
     "execution_count": 23,
     "metadata": {},
     "output_type": "execute_result"
    }
   ],
   "source": [
    "logs['event_datetime'].sort_values()"
   ]
  },
  {
   "cell_type": "markdown",
   "id": "f61e4983-e21e-4762-92fe-4d96d1f56fbe",
   "metadata": {},
   "source": [
    "Период представленный в датафрейме стартует с 2019-07-25 и заканчивается 2019-08-07."
   ]
  },
  {
   "cell_type": "code",
   "execution_count": 24,
   "id": "eab047ce-1012-426d-b187-79f3a7900318",
   "metadata": {},
   "outputs": [
    {
     "data": {
      "image/png": "[encoded data removed]",
      "text/plain": [
       "<Figure size 600x400 with 1 Axes>"
      ]
     },
     "metadata": {},
     "output_type": "display_data"
    }
   ],
   "source": [
    "plt.figure(figsize = (6, 4))\n",
    "\n",
    "plt.hist(logs['event_datetime'], bins=14) \n",
    "# plt.gca().set_xticks(ordersByUsers[\"transactions\"].unique())\n",
    "plt.title('Количество событий по дате')\n",
    "plt.xticks(rotation=45)\n",
    "plt.xlabel('Дата')\n",
    "plt.ylabel('Количество событий')\n",
    "plt.grid(axis='y')\n",
    "plt.show()"
   ]
  },
  {
   "cell_type": "markdown",
   "id": "49709842-c349-484a-afdb-70f37cd8a196",
   "metadata": {},
   "source": [
    "В период с 2019-08-01 по 2019-08-07 было собрано наибольшее кол-во данных, при этом в любой другой день было собрано более чем в 10 раз меньше записей событий. Для исключения негативного влияния при изучении A/A/B-теста, данные за период вне 2019-08-01 по 2019-08-07 будут отброшены:"
   ]
  },
  {
   "cell_type": "code",
   "execution_count": 25,
   "id": "a7f34eb4-af18-469d-a655-b1f6b2d2396c",
   "metadata": {},
   "outputs": [
    {
     "data": {
      "text/plain": [
       "2019-08-01    36141\n",
       "2019-08-02    35554\n",
       "2019-08-03    33282\n",
       "2019-08-04    32968\n",
       "2019-08-05    36058\n",
       "2019-08-06    35788\n",
       "2019-08-07    31096\n",
       "Name: event_date, dtype: int64"
      ]
     },
     "execution_count": 25,
     "metadata": {},
     "output_type": "execute_result"
    }
   ],
   "source": [
    "logs_actual_period = logs.loc[logs['event_datetime'] >= dt.datetime(2019, 8, 1)]\n",
    "logs_actual_period['event_date'].value_counts().sort_index()"
   ]
  },
  {
   "cell_type": "markdown",
   "id": "add26f52-c30e-44f5-814a-5c4ce87c6f39",
   "metadata": {},
   "source": [
    "Более старые, данные за неактуальный период были отброшены и оставлены только полные данные за период с 2019-08-01 по 2019-08-07.\n",
    "\n",
    "При отбрасывании данных за неактуальный период произошли следующие изменения:"
   ]
  },
  {
   "cell_type": "code",
   "execution_count": 26,
   "id": "b7f53ce2-d9f2-4cff-9dcb-5bf4780f3751",
   "metadata": {},
   "outputs": [
    {
     "name": "stdout",
     "output_type": "stream",
     "text": [
      "Кол-во событий уменьшилось на 2826\n",
      "Кол-во событий в процентном выражении уменьшилось на 1.2%\n",
      "Кол-во пользователей уменьшилось на 17\n",
      "Кол-во событий в процентном выражении уменьшилось на 0.2%\n"
     ]
    }
   ],
   "source": [
    "print('Кол-во событий уменьшилось на ' + str(len(logs.index) - len(logs_actual_period.index)))\n",
    "print('Кол-во событий в процентном выражении уменьшилось на ' + str(round((len(logs.index) - len(logs_actual_period.index)) / (len(logs.index)), 3)*100) + '%')\n",
    "print('Кол-во пользователей уменьшилось на ' + str(logs['user_id'].nunique() - logs_actual_period['user_id'].nunique()))\n",
    "\n",
    "print('Кол-во событий в процентном выражении уменьшилось на ' + str(round((logs['user_id'].nunique() - logs_actual_period['user_id'].nunique()) / (logs['user_id'].nunique()), 3)*100) + '%')"
   ]
  },
  {
   "cell_type": "markdown",
   "id": "a0c309e5-a8de-44e4-ac0c-d480cad278f9",
   "metadata": {},
   "source": [
    "Количество событий и пользователей при отбрасывании данных за неактуальный период уменьшилось незначительно, что позволяет продолжить исследование."
   ]
  },
  {
   "cell_type": "markdown",
   "id": "7c624377-663b-43ac-b563-dd2fa1817e24",
   "metadata": {},
   "source": [
    "## Проверка корректности распредений в группах"
   ]
  },
  {
   "cell_type": "markdown",
   "id": "9af92bc5-3992-4a60-b759-7e90d86c294e",
   "metadata": {},
   "source": [
    "Перед анализом A/A/B-теста следует убедится, что пользователи в датафрейме *logs_actual_period* корректно распределены по группам. Для этого убедимся, что один и тот же пользователь не попадал в две группы, а был только в одной на протяжении сбора данных для теста, а также посмотрим общее кол-во записей для групп."
   ]
  },
  {
   "cell_type": "code",
   "execution_count": 27,
   "id": "f2af1411-2619-4bd7-911a-41bd950a66fd",
   "metadata": {},
   "outputs": [
    {
     "name": "stdout",
     "output_type": "stream",
     "text": [
      "Данные по кол-ву пользователей:\n",
      "Всего записей событий для обеих групп: 7534\n",
      "Пользователей в контрольной группе 246: 2484\n",
      "Пользователей в контрольной группе 247: 2513\n",
      "Пользователей в тестовой группе 248: 2537\n"
     ]
    },
    {
     "data": {
      "text/plain": [
       "247                 31.97%\n",
       "246                 32.92%\n",
       "248    35.099999999999994%\n",
       "Name: group, dtype: object"
      ]
     },
     "execution_count": 27,
     "metadata": {},
     "output_type": "execute_result"
    }
   ],
   "source": [
    "print('Данные по кол-ву пользователей:')\n",
    "print('Всего записей событий для обеих групп: ' + str(logs_actual_period['user_id'].nunique()))\n",
    "print('Пользователей в контрольной группе 246: ' + str(logs_actual_period.query('group == 246')['user_id'].nunique()))\n",
    "print('Пользователей в контрольной группе 247: ' + str(logs_actual_period.query('group == 247')['user_id'].nunique()))\n",
    "print('Пользователей в тестовой группе 248: ' + str(logs_actual_period.query('group == 248')['user_id'].nunique()))\n",
    "(logs_actual_period['group'].value_counts(normalize=True).sort_values().round(4) * 100).astype('str') + '%'"
   ]
  },
  {
   "cell_type": "markdown",
   "id": "fa7583fd-66cc-4c2f-972e-79a32325615b",
   "metadata": {},
   "source": [
    "Пользователей в группе B (248) несколько больше относительно первой и второй контрольной группы (246 и 247), является нормальным для проведения исследования."
   ]
  },
  {
   "cell_type": "markdown",
   "id": "fb9ba5a7-c887-4c67-a4d3-6788a61d7aee",
   "metadata": {},
   "source": [
    "Для того чтобы найти пользователей попавших одновременно в несколько групп, создадим три датафрейма *group_246*, *group_247* и *group_248* с пользователями из различных групп:"
   ]
  },
  {
   "cell_type": "code",
   "execution_count": 28,
   "id": "ed3b6095-aa62-4dce-858b-9a25689a773e",
   "metadata": {},
   "outputs": [],
   "source": [
    "group_246 = logs_actual_period.loc[logs_actual_period['group'] == 246]\n",
    "group_247 = logs_actual_period.loc[logs_actual_period['group'] == 247]\n",
    "group_248 = logs_actual_period.loc[logs_actual_period['group'] == 248]"
   ]
  },
  {
   "cell_type": "code",
   "execution_count": 29,
   "id": "493bfd54-bcee-4435-974b-4770d64b091e",
   "metadata": {},
   "outputs": [
    {
     "data": {
      "text/plain": [
       "0"
      ]
     },
     "execution_count": 29,
     "metadata": {},
     "output_type": "execute_result"
    }
   ],
   "source": [
    "double_event = (\n",
    "    logs_actual_period[((logs_actual_period['user_id'].isin(group_246['user_id'])) & (logs_actual_period['user_id'].isin(group_247['user_id'])))\n",
    "                     | ((logs_actual_period['user_id'].isin(group_246['user_id'])) & (logs_actual_period['user_id'].isin(group_248['user_id'])))\n",
    "                     | ((logs_actual_period['user_id'].isin(group_247['user_id'])) & (logs_actual_period['user_id'].isin(group_248['user_id'])))]\n",
    ")\n",
    "len(double_event.index)"
   ]
  },
  {
   "cell_type": "markdown",
   "id": "0d2ba10a-51b7-414d-a004-9122b3010631",
   "metadata": {},
   "source": [
    "Пользователей попавших одновременно в несколько групп не обнаружено."
   ]
  },
  {
   "cell_type": "markdown",
   "id": "99a18ba1-6985-423c-b755-bb00d8df2919",
   "metadata": {},
   "source": [
    "## Итоги изучения данных"
   ]
  },
  {
   "cell_type": "markdown",
   "id": "79dcaa11-3cfb-49ea-b2b7-2fdfa767f193",
   "metadata": {},
   "source": [
    "При изучении периода проведения тестирования, были отброшены записи до 2019-08-01, где кол-во событий более чем в 10 меньше, чем за любой день августа. При этом, в результате отсечения неактульных записей, общее кол-во данных в датафрейме снизилось всего на 1.4%. Таким образом, в качестве актуального периода выбран 2019-08-01 — 2019-08-07.  \n",
    "Проверка корректности собранных данных не выявила факты попадания записей событий одних и тех же пользователей в разные группы."
   ]
  },
  {
   "cell_type": "markdown",
   "id": "cdce0075-ae1a-4e7b-b036-cfaf10e23e3f",
   "metadata": {},
   "source": [
    "# Изучение воронки событий <a id='funnel'></a>"
   ]
  },
  {
   "cell_type": "code",
   "execution_count": 30,
   "id": "75400d9e-5ea7-433c-9cd6-795932403ded",
   "metadata": {},
   "outputs": [
    {
     "data": {
      "text/plain": [
       "array(['Tutorial', 'MainScreenAppear', 'OffersScreenAppear',\n",
       "       'CartScreenAppear', 'PaymentScreenSuccessful'], dtype=object)"
      ]
     },
     "execution_count": 30,
     "metadata": {},
     "output_type": "execute_result"
    }
   ],
   "source": [
    "logs_actual_period['event_name'].unique()"
   ]
  },
  {
   "cell_type": "markdown",
   "id": "0194fc5d-07c3-4243-a63c-9ec558023b9f",
   "metadata": {},
   "source": [
    "В датафрейме встречаются следующие события:\n",
    "- **MainScreenAppear** — переход на главный экран;\n",
    "- **OffersScreenAppear** — переход на экран предложений;\n",
    "- **CartScreenAppear** — переход на экран корзины;\n",
    "- **PaymentScreenSuccessful** — переход на экран успешной оплаты;\n",
    "- **Tutorial** — переход на экран инструкции по использованию приложения (туториал)."
   ]
  },
  {
   "cell_type": "markdown",
   "id": "e1e0aa49-5119-44e4-8497-c6cba658700c",
   "metadata": {},
   "source": [
    "## Изучение частоты событий"
   ]
  },
  {
   "cell_type": "code",
   "execution_count": 31,
   "id": "f08b5f87-fe74-48d4-be06-aed4cca9f15f",
   "metadata": {},
   "outputs": [
    {
     "data": {
      "text/plain": [
       "MainScreenAppear           117328\n",
       "OffersScreenAppear          46333\n",
       "CartScreenAppear            42303\n",
       "PaymentScreenSuccessful     33918\n",
       "Tutorial                     1005\n",
       "Name: event_name, dtype: int64"
      ]
     },
     "execution_count": 31,
     "metadata": {},
     "output_type": "execute_result"
    }
   ],
   "source": [
    "logs_actual_period['event_name'].value_counts().sort_values(ascending=False)"
   ]
  },
  {
   "cell_type": "markdown",
   "id": "e82a31c4-9044-4944-b130-3870881ddc0c",
   "metadata": {},
   "source": [
    "Наиболее часто встречающееся событие — *MainScreenAppear*. Наиболее редкое — *Tutorial*."
   ]
  },
  {
   "cell_type": "code",
   "execution_count": 32,
   "id": "278a1d3c-5809-438a-b7bf-10c58b8ebea2",
   "metadata": {},
   "outputs": [
    {
     "data": {
      "text/html": [
       "<div>\n",
       "<style scoped>\n",
       "    .dataframe tbody tr th:only-of-type {\n",
       "        vertical-align: middle;\n",
       "    }\n",
       "\n",
       "    .dataframe tbody tr th {\n",
       "        vertical-align: top;\n",
       "    }\n",
       "\n",
       "    .dataframe thead th {\n",
       "        text-align: right;\n",
       "    }\n",
       "</style>\n",
       "<table border=\"1\" class=\"dataframe\">\n",
       "  <thead>\n",
       "    <tr style=\"text-align: right;\">\n",
       "      <th></th>\n",
       "      <th>event_name</th>\n",
       "      <th>users</th>\n",
       "      <th>percent_of_user</th>\n",
       "    </tr>\n",
       "  </thead>\n",
       "  <tbody>\n",
       "    <tr>\n",
       "      <th>1</th>\n",
       "      <td>MainScreenAppear</td>\n",
       "      <td>7419</td>\n",
       "      <td>98.47%</td>\n",
       "    </tr>\n",
       "    <tr>\n",
       "      <th>2</th>\n",
       "      <td>OffersScreenAppear</td>\n",
       "      <td>4593</td>\n",
       "      <td>60.96%</td>\n",
       "    </tr>\n",
       "    <tr>\n",
       "      <th>0</th>\n",
       "      <td>CartScreenAppear</td>\n",
       "      <td>3734</td>\n",
       "      <td>49.56%</td>\n",
       "    </tr>\n",
       "    <tr>\n",
       "      <th>3</th>\n",
       "      <td>PaymentScreenSuccessful</td>\n",
       "      <td>3539</td>\n",
       "      <td>46.97%</td>\n",
       "    </tr>\n",
       "    <tr>\n",
       "      <th>4</th>\n",
       "      <td>Tutorial</td>\n",
       "      <td>840</td>\n",
       "      <td>11.15%</td>\n",
       "    </tr>\n",
       "  </tbody>\n",
       "</table>\n",
       "</div>"
      ],
      "text/plain": [
       "                event_name  users percent_of_user\n",
       "1         MainScreenAppear   7419          98.47%\n",
       "2       OffersScreenAppear   4593          60.96%\n",
       "0         CartScreenAppear   3734          49.56%\n",
       "3  PaymentScreenSuccessful   3539          46.97%\n",
       "4                 Tutorial    840          11.15%"
      ]
     },
     "execution_count": 32,
     "metadata": {},
     "output_type": "execute_result"
    }
   ],
   "source": [
    "event_per_user = (\n",
    "    logs_actual_period.groupby('event_name', as_index=False)\n",
    "    .agg({'user_id': 'nunique'})\n",
    ")\n",
    "event_per_user = event_per_user.rename(columns={'user_id': 'users'})\n",
    "event_per_user['percent_of_user'] = (event_per_user['users'] / logs_actual_period['user_id'].nunique() * 100).round(2).astype('str') + '%'\n",
    "event_per_user.sort_values(by='users', ascending=False)"
   ]
  },
  {
   "cell_type": "markdown",
   "id": "7a56c9b8-f3f2-4a82-bfcf-fad1eb3635e1",
   "metadata": {},
   "source": [
    "Так же как и в общем числе событий, доля пользователей, которые хоть раз совершали событие, принадлежит событию *MainScreenAppear* и равна 98.47% от общего числа пользователей.  \n",
    "Минимальная доля 11.15% принадлежит событию *Tutorial*."
   ]
  },
  {
   "cell_type": "markdown",
   "id": "97b5c3e8-2e75-4363-82ad-ef740d332dbd",
   "metadata": {},
   "source": [
    "## Порядок событий <a id='Порядок_событий'></a>"
   ]
  },
  {
   "cell_type": "markdown",
   "id": "06b76882-eaa0-4b31-93f8-0a5c0a579563",
   "metadata": {},
   "source": [
    "Порядок событий пользователя в приложении выстраивается в следующую цепочку:\n",
    "1. Переход на главный экран;\n",
    "2. Переход на экран предложений;\n",
    "3. Переход на экран корзины;\n",
    "4. Переход на экран успешной оплаты.\n",
    "\n",
    "При этом экран инструкции по использованию приложения (туториал) не обязателен и многие пользователи его пропускают. Потому при расчёте воронки следует учитывать перечисленные события за исключением события *Tutorial*"
   ]
  },
  {
   "cell_type": "markdown",
   "id": "c0249cc3-4063-43ec-b17e-6c13ea00f043",
   "metadata": {},
   "source": [
    "## Расчёт воронки событий"
   ]
  },
  {
   "cell_type": "code",
   "execution_count": 33,
   "id": "d3aea6d9-4fd1-4778-b6bd-703bfe8465c5",
   "metadata": {},
   "outputs": [
    {
     "data": {
      "text/html": [
       "<div>\n",
       "<style scoped>\n",
       "    .dataframe tbody tr th:only-of-type {\n",
       "        vertical-align: middle;\n",
       "    }\n",
       "\n",
       "    .dataframe tbody tr th {\n",
       "        vertical-align: top;\n",
       "    }\n",
       "\n",
       "    .dataframe thead th {\n",
       "        text-align: right;\n",
       "    }\n",
       "</style>\n",
       "<table border=\"1\" class=\"dataframe\">\n",
       "  <thead>\n",
       "    <tr style=\"text-align: right;\">\n",
       "      <th></th>\n",
       "      <th>event_name</th>\n",
       "      <th>counts</th>\n",
       "      <th>percent</th>\n",
       "    </tr>\n",
       "  </thead>\n",
       "  <tbody>\n",
       "    <tr>\n",
       "      <th>0</th>\n",
       "      <td>MainScreenAppear</td>\n",
       "      <td>117328</td>\n",
       "      <td>100.0%</td>\n",
       "    </tr>\n",
       "    <tr>\n",
       "      <th>1</th>\n",
       "      <td>OffersScreenAppear</td>\n",
       "      <td>46333</td>\n",
       "      <td>39.49%</td>\n",
       "    </tr>\n",
       "    <tr>\n",
       "      <th>2</th>\n",
       "      <td>CartScreenAppear</td>\n",
       "      <td>42303</td>\n",
       "      <td>91.3%</td>\n",
       "    </tr>\n",
       "    <tr>\n",
       "      <th>3</th>\n",
       "      <td>PaymentScreenSuccessful</td>\n",
       "      <td>33918</td>\n",
       "      <td>80.18%</td>\n",
       "    </tr>\n",
       "  </tbody>\n",
       "</table>\n",
       "</div>"
      ],
      "text/plain": [
       "                event_name  counts percent\n",
       "0         MainScreenAppear  117328  100.0%\n",
       "1       OffersScreenAppear   46333  39.49%\n",
       "2         CartScreenAppear   42303   91.3%\n",
       "3  PaymentScreenSuccessful   33918  80.18%"
      ]
     },
     "execution_count": 33,
     "metadata": {},
     "output_type": "execute_result"
    }
   ],
   "source": [
    "funnel = (\n",
    "    logs_actual_period.loc[logs_actual_period['event_name'] != 'Tutorial']\n",
    "    .groupby('event_name', as_index=False)\n",
    "    .agg({'user_id': 'count'})\n",
    "    .sort_values(by='user_id', ascending=False)\n",
    "    .reset_index(drop=True)\n",
    ")\n",
    "funnel = funnel.rename(columns={'user_id': 'counts'})\n",
    "funnel['percent'] = 100.0\n",
    "\n",
    "for i in range(1, len(funnel.index)):\n",
    "    funnel['percent'][i] = funnel['counts'][i] / funnel['counts'][i-1] * 100\n",
    "funnel['percent'] = funnel['percent'].round(2).astype('str') + '%'\n",
    "funnel"
   ]
  },
  {
   "cell_type": "markdown",
   "id": "69cfef40-e63e-404a-8e66-ec794a794c19",
   "metadata": {},
   "source": [
    "При переходе с главного экрана *(MainScreenAppear)* на экран предложений *(OffersScreenAppear)* теряется больше всего пользователей — с одного на другой экран менее 40% переходов."
   ]
  },
  {
   "cell_type": "code",
   "execution_count": 34,
   "id": "91630d28-d994-46bb-bd7b-6cf4235074d5",
   "metadata": {},
   "outputs": [
    {
     "data": {
      "text/plain": [
       "28.91"
      ]
     },
     "execution_count": 34,
     "metadata": {},
     "output_type": "execute_result"
    }
   ],
   "source": [
    "round(funnel['counts'][3] / funnel['counts'][0] * 100, 2)"
   ]
  },
  {
   "cell_type": "markdown",
   "id": "2f8236cf-ddfd-4b5b-9108-fb2a0b18abe2",
   "metadata": {},
   "source": [
    "28.91% пользователей доходит от первого события *(MainScreenAppear)* до оплаты *(OffersScreenAppear)*."
   ]
  },
  {
   "cell_type": "markdown",
   "id": "b0d61063-312e-49ca-9bc8-c4a4bbf8c5bd",
   "metadata": {},
   "source": [
    "## Итоги воронки событий"
   ]
  },
  {
   "cell_type": "markdown",
   "id": "547679e4-3890-42a3-b7a8-cda07d62465d",
   "metadata": {},
   "source": [
    "В результате изучения воронки событий был определён порядок событий: \n",
    "1. Переход на главный экран;\n",
    "2. Переход на экран предложений;\n",
    "3. Переход на экран корзины;\n",
    "4. Переход на экран успешной оплаты.\n",
    "\n",
    "Исключено из дальнейшего анализа событие *Tutorial*, т.к. оно не является определяющим и участвующим в процессе оформления заказа.  \n",
    "Удалось установить на каком из шагов происходит наибольшая потеря пользователей. Самый низкий процент при переходе с главного экрана на экран предложений — менее 40% переходов.  \n",
    "Процент пользователей проходящих от первого экрана до покупки равен 28.91%."
   ]
  },
  {
   "cell_type": "markdown",
   "id": "54e273ab-ae2b-45a9-b020-8f6bfb0b244e",
   "metadata": {},
   "source": [
    "# Изучение результатов A/A/B-теста <a id='ab-test_explore'></a>"
   ]
  },
  {
   "cell_type": "markdown",
   "id": "503c3788-ef8c-4bf4-a630-69790d809cc2",
   "metadata": {},
   "source": [
    "По итогам изучения данных удалось установить, что количество пользователей в группах следующее:\n",
    "\n",
    "- Контрольная группа 246: 2484 (31.97%)\n",
    "- Контрольная группа 247: 2513 (32.92%)\n",
    "- Тестовая группа 248: 2537 (35.1%)"
   ]
  },
  {
   "cell_type": "markdown",
   "id": "83ced6c4-4594-4118-b437-4e3814f58608",
   "metadata": {},
   "source": [
    "Создадим объединённую контрольную группу *249*, которая будет состоять из всех записей групп *246* и *247*:"
   ]
  },
  {
   "cell_type": "markdown",
   "id": "c64b7dd5-00d6-4458-99c3-e6b9d683b506",
   "metadata": {},
   "source": [
    "## Сравнение долей пользователей совершивших события для различных групп"
   ]
  },
  {
   "cell_type": "markdown",
   "id": "20443e50-60aa-4d53-9aa0-398aaf219345",
   "metadata": {},
   "source": [
    "Сравним доли пользователей совершивших события в различных группах. Для этого сформулируем гипотезы:\n",
    "- Нулевая: различий в доле пользователей совершивших событие между группами нет;\n",
    "- Альтернативная: различия в доле пользователей совершивших событие между группами есть.\n",
    "\n",
    "При изучении результатов теста будем проводить проверку гипотезы о равенстве долей между группами для каждого события при помощи z-теста.\n",
    "\n",
    "Критический уровень статистической значимости принимаем равным 0.05."
   ]
  },
  {
   "cell_type": "code",
   "execution_count": 35,
   "id": "eb52addd-9698-46a1-95a0-d82e103f7a0f",
   "metadata": {},
   "outputs": [],
   "source": [
    "alpha = 0.05  # критический уровень статистической значимости"
   ]
  },
  {
   "cell_type": "code",
   "execution_count": 36,
   "id": "a0332704-99e2-493e-a816-e66caa5ac645",
   "metadata": {},
   "outputs": [],
   "source": [
    "# Объявим функцию z_test для проверки гипотезы о равенстве долей между группами и сравнения долей пользователей.\n",
    "# Параметры функции это сравниваемые группы (group_1, group_2) и событие (event) по которому они сравниваются\n",
    "\n",
    "def z_test(group_1, group_2, event):\n",
    "    \n",
    "    print('Сравнение долей пользователей совершивших событие ' \n",
    "          + event \n",
    "          + ' для групп ' \n",
    "          + str(group_1['group'].reset_index(drop=True)[0]) \n",
    "          + ' и ' \n",
    "          + str(group_2['group'].reset_index(drop=True)[0])\n",
    "          + ':'\n",
    "         )\n",
    "    \n",
    "    # число пользователей, совершивших это событие в группе\n",
    "    count_group_1 = int(group_1.groupby('event_name', as_index=False).agg({'user_id': 'nunique'}).query('event_name == @event')['user_id'])\n",
    "    \n",
    "    # доля пользователей, совершивших это событие в группе\n",
    "    percent_group_1 = count_group_1 / group_1['user_id'].nunique()\n",
    "    \n",
    "    count_group_2 = int(group_2.groupby('event_name', as_index=False).agg({'user_id': 'nunique'}).query('event_name == @event')['user_id'])\n",
    "    percent_group_2 = count_group_2 / group_2['user_id'].nunique()\n",
    "    \n",
    "    # пропорция успехов в первой группе:\n",
    "    p1 = percent_group_1/count_group_1\n",
    "    \n",
    "    # пропорция успехов во второй группе:\n",
    "    p2 = percent_group_2/count_group_2\n",
    "    \n",
    "    # пропорция успехов в комбинированном датасете:\n",
    "    p_combined = (percent_group_1 + percent_group_2) / (count_group_1 + count_group_2)\n",
    "    \n",
    "    # разница пропорций в датасетах\n",
    "    difference = p1 - p2 \n",
    "    \n",
    "    # считаем статистику в ст.отклонениях стандартного нормального распределения\n",
    "    z_value = difference / mth.sqrt(p_combined * (1 - p_combined) * (1/count_group_1 + 1/count_group_2))\n",
    "    \n",
    "    # задаем стандартное нормальное распределение (среднее 0, ст.отклонение 1)\n",
    "    distr = st.norm(0, 1)  \n",
    "    \n",
    "    p_value = (1 - distr.cdf(abs(z_value))) * 2\n",
    "    \n",
    "    print('p-значение:', '%.3f' % p_value)\n",
    "    \n",
    "    if p_value < alpha:\n",
    "        print('Отвергаем нулевую гипотезу: между долями есть значимая разница.')\n",
    "    else:\n",
    "        print('Не получилось отвергнуть нулевую гипотезу, нет оснований считать доли разными.')\n",
    "    \n",
    "    if (percent_group_1 / percent_group_2 - 1) < 0:\n",
    "        print('Доля пользователей совершивших события в группе ' \n",
    "              + str(group_2['group'].reset_index(drop=True)[0]) \n",
    "              + ' больше чем в группе на ' \n",
    "              + str(group_1['group'].reset_index(drop=True)[0]) \n",
    "              + ' и составляет ' \n",
    "              + str('%.2f' % abs((round(percent_group_1 / percent_group_2 - 1, 4) * 100))) \n",
    "              + '%.')\n",
    "    else:\n",
    "        print('Доля пользователей совершивших события в группе ' \n",
    "              + str(group_1['group'].reset_index(drop=True)[0]) \n",
    "              + ' больше чем в группе на ' \n",
    "              + str(group_2['group'].reset_index(drop=True)[0]) \n",
    "              + ' и составляет ' \n",
    "              + str('%.2f' % (round(percent_group_1 / percent_group_2 - 1, 4) * 100)) \n",
    "              + '%.')\n",
    "    print('\\n')\n",
    "    "
   ]
  },
  {
   "cell_type": "markdown",
   "id": "ebbf9f12-eb03-41ca-aac9-4fcc78f57e02",
   "metadata": {},
   "source": [
    "### Сравнение контрольных групп 246 и 247"
   ]
  },
  {
   "cell_type": "markdown",
   "id": "1e6fd95d-bf04-491a-8ba0-e264d5a5a3b9",
   "metadata": {},
   "source": [
    "Вызывем функцию *z_test* для групп 246 и 247. Вызывать фунцию будем в цикле *for* перебирающем наименования событий отсортированных по их количеству. Из перечисления исключено событие *\"Tutorial\"*:"
   ]
  },
  {
   "cell_type": "code",
   "execution_count": 37,
   "id": "49f1f473-9afe-4afa-994e-8f945df26766",
   "metadata": {},
   "outputs": [
    {
     "name": "stdout",
     "output_type": "stream",
     "text": [
      "Сравнение долей пользователей совершивших событие MainScreenAppear для групп 246 и 247:\n",
      "p-значение: 0.993\n",
      "Не получилось отвергнуть нулевую гипотезу, нет оснований считать доли разными.\n",
      "Доля пользователей совершивших события в группе 246 больше чем в группе на 247 и составляет 0.11%.\n",
      "\n",
      "\n",
      "Сравнение долей пользователей совершивших событие OffersScreenAppear для групп 246 и 247:\n",
      "p-значение: 0.995\n",
      "Не получилось отвергнуть нулевую гипотезу, нет оснований считать доли разными.\n",
      "Доля пользователей совершивших события в группе 246 больше чем в группе на 247 и составляет 2.63%.\n",
      "\n",
      "\n",
      "Сравнение долей пользователей совершивших событие CartScreenAppear для групп 246 и 247:\n",
      "p-значение: 0.995\n",
      "Не получилось отвергнуть нулевую гипотезу, нет оснований считать доли разными.\n",
      "Доля пользователей совершивших события в группе 246 больше чем в группе на 247 и составляет 3.46%.\n",
      "\n",
      "\n",
      "Сравнение долей пользователей совершивших событие PaymentScreenSuccessful для групп 246 и 247:\n",
      "p-значение: 0.996\n",
      "Не получилось отвергнуть нулевую гипотезу, нет оснований считать доли разными.\n",
      "Доля пользователей совершивших события в группе 246 больше чем в группе на 247 и составляет 4.84%.\n",
      "\n",
      "\n"
     ]
    }
   ],
   "source": [
    "for event in logs_actual_period.loc[logs_actual_period['event_name'] != 'Tutorial']['event_name'].value_counts().sort_values(ascending=False).index:\n",
    "    z_test(group_246, group_247, event)"
   ]
  },
  {
   "cell_type": "markdown",
   "id": "dbf5b83e-4724-4d0a-a819-d5883ee7a1f1",
   "metadata": {},
   "source": [
    "Полученные данные говорят о том, что между контрольными группами 246 и 247 есть небольшие различия, которые при этом не являются статистически значимыми."
   ]
  },
  {
   "cell_type": "markdown",
   "id": "9fcff62f-75c9-4564-9ac1-115ce09bf380",
   "metadata": {},
   "source": [
    "### Сравнение контрольной групы 246 и тестовой группы 248"
   ]
  },
  {
   "cell_type": "code",
   "execution_count": 38,
   "id": "d9879098-cccc-4fc4-9e72-04f47d44152c",
   "metadata": {},
   "outputs": [
    {
     "name": "stdout",
     "output_type": "stream",
     "text": [
      "Сравнение долей пользователей совершивших событие MainScreenAppear для групп 246 и 248:\n",
      "p-значение: 0.988\n",
      "Не получилось отвергнуть нулевую гипотезу, нет оснований считать доли разными.\n",
      "Доля пользователей совершивших события в группе 246 больше чем в группе на 248 и составляет 0.37%.\n",
      "\n",
      "\n",
      "Сравнение долей пользователей совершивших событие OffersScreenAppear для групп 246 и 248:\n",
      "p-значение: 0.991\n",
      "Не получилось отвергнуть нулевую гипотезу, нет оснований считать доли разными.\n",
      "Доля пользователей совершивших события в группе 246 больше чем в группе на 248 и составляет 2.87%.\n",
      "\n",
      "\n",
      "Сравнение долей пользователей совершивших событие CartScreenAppear для групп 246 и 248:\n",
      "p-значение: 0.992\n",
      "Не получилось отвергнуть нулевую гипотезу, нет оснований считать доли разными.\n",
      "Доля пользователей совершивших события в группе 246 больше чем в группе на 248 и составляет 5.12%.\n",
      "\n",
      "\n",
      "Сравнение долей пользователей совершивших событие PaymentScreenSuccessful для групп 246 и 248:\n",
      "p-значение: 0.992\n",
      "Не получилось отвергнуть нулевую гипотезу, нет оснований считать доли разными.\n",
      "Доля пользователей совершивших события в группе 246 больше чем в группе на 248 и составляет 3.78%.\n",
      "\n",
      "\n"
     ]
    }
   ],
   "source": [
    "for event in logs_actual_period.loc[logs_actual_period['event_name'] != 'Tutorial']['event_name'].value_counts().sort_values(ascending=False).index:\n",
    "    z_test(group_246, group_248, event)"
   ]
  },
  {
   "cell_type": "markdown",
   "id": "2d3ed10e-e4b9-4066-b77e-a6592c0fe28f",
   "metadata": {},
   "source": [
    "Между контрольной группой 246 и тестовой группой 248 есть небольшие различия, но они не являются статистически значимыми."
   ]
  },
  {
   "cell_type": "markdown",
   "id": "e92bfc10-97a6-4772-a8c2-6d7a79963ff2",
   "metadata": {},
   "source": [
    "### Сравнение контрольной групы 247 и тестовой группы 248"
   ]
  },
  {
   "cell_type": "code",
   "execution_count": 39,
   "id": "44626229-4884-44f8-b1a1-6ceca2e93a1e",
   "metadata": {},
   "outputs": [
    {
     "name": "stdout",
     "output_type": "stream",
     "text": [
      "Сравнение долей пользователей совершивших событие MainScreenAppear для групп 247 и 248:\n",
      "p-значение: 0.995\n",
      "Не получилось отвергнуть нулевую гипотезу, нет оснований считать доли разными.\n",
      "Доля пользователей совершивших события в группе 247 больше чем в группе на 248 и составляет 0.27%.\n",
      "\n",
      "\n",
      "Сравнение долей пользователей совершивших событие OffersScreenAppear для групп 247 и 248:\n",
      "p-значение: 0.996\n",
      "Не получилось отвергнуть нулевую гипотезу, нет оснований считать доли разными.\n",
      "Доля пользователей совершивших события в группе 247 больше чем в группе на 248 и составляет 0.23%.\n",
      "\n",
      "\n",
      "Сравнение долей пользователей совершивших событие CartScreenAppear для групп 247 и 248:\n",
      "p-значение: 0.996\n",
      "Не получилось отвергнуть нулевую гипотезу, нет оснований считать доли разными.\n",
      "Доля пользователей совершивших события в группе 247 больше чем в группе на 248 и составляет 1.61%.\n",
      "\n",
      "\n",
      "Сравнение долей пользователей совершивших событие PaymentScreenSuccessful для групп 247 и 248:\n",
      "p-значение: 0.996\n",
      "Не получилось отвергнуть нулевую гипотезу, нет оснований считать доли разными.\n",
      "Доля пользователей совершивших события в группе 248 больше чем в группе на 247 и составляет 1.01%.\n",
      "\n",
      "\n"
     ]
    }
   ],
   "source": [
    "for event in logs_actual_period.loc[logs_actual_period['event_name'] != 'Tutorial']['event_name'].value_counts().sort_values(ascending=False).index:\n",
    "    z_test(group_247, group_248, event)"
   ]
  },
  {
   "cell_type": "markdown",
   "id": "a21bb934-07e0-42c6-a0c5-ea91a3365046",
   "metadata": {},
   "source": [
    "Между контрольной группой 246 и тестовой группой 248 есть небольшие различия, но они не являются статистически значимыми."
   ]
  },
  {
   "cell_type": "markdown",
   "id": "432e46dd-7292-4bfa-bcdb-29745567d1d2",
   "metadata": {},
   "source": [
    "### Сравнение объединённой контрольной групы 249 и тестовой группы 248"
   ]
  },
  {
   "cell_type": "markdown",
   "id": "b83bf834-29d2-4ba3-932c-85f76f5a73db",
   "metadata": {},
   "source": [
    "Создадим объединённую контрольную групы *249*, которая состоит из контрольных групп *246* и *247*:"
   ]
  },
  {
   "cell_type": "code",
   "execution_count": 40,
   "id": "b784c30f-37ef-4ccd-a7d5-6d30d464e71e",
   "metadata": {},
   "outputs": [],
   "source": [
    "group_249 = pd.concat([group_246, group_247])\n",
    "group_249['group'] = 249"
   ]
  },
  {
   "cell_type": "code",
   "execution_count": 41,
   "id": "3c42a3d2-3272-4036-9ef7-8f65e759bd80",
   "metadata": {},
   "outputs": [
    {
     "name": "stdout",
     "output_type": "stream",
     "text": [
      "Сравнение долей пользователей совершивших событие MainScreenAppear для групп 249 и 248:\n",
      "p-значение: 0.628\n",
      "Не получилось отвергнуть нулевую гипотезу, нет оснований считать доли разными.\n",
      "Доля пользователей совершивших события в группе 249 больше чем в группе на 248 и составляет 0.32%.\n",
      "\n",
      "\n",
      "Сравнение долей пользователей совершивших событие OffersScreenAppear для групп 249 и 248:\n",
      "p-значение: 0.703\n",
      "Не получилось отвергнуть нулевую гипотезу, нет оснований считать доли разными.\n",
      "Доля пользователей совершивших события в группе 249 больше чем в группе на 248 и составляет 1.54%.\n",
      "\n",
      "\n",
      "Сравнение долей пользователей совершивших событие CartScreenAppear для групп 249 и 248:\n",
      "p-значение: 0.732\n",
      "Не получилось отвергнуть нулевую гипотезу, нет оснований считать доли разными.\n",
      "Доля пользователей совершивших события в группе 249 больше чем в группе на 248 и составляет 3.36%.\n",
      "\n",
      "\n",
      "Сравнение долей пользователей совершивших событие PaymentScreenSuccessful для групп 249 и 248:\n",
      "p-значение: 0.738\n",
      "Не получилось отвергнуть нулевую гипотезу, нет оснований считать доли разными.\n",
      "Доля пользователей совершивших события в группе 249 больше чем в группе на 248 и составляет 1.37%.\n",
      "\n",
      "\n"
     ]
    }
   ],
   "source": [
    "for event in logs_actual_period.loc[logs_actual_period['event_name'] != 'Tutorial']['event_name'].value_counts().sort_values(ascending=False).index:\n",
    "    z_test(group_249, group_248, event)"
   ]
  },
  {
   "cell_type": "markdown",
   "id": "a7c06f90-4cc1-42c0-ad11-b4d175e7c909",
   "metadata": {},
   "source": [
    "Между объединённой контрольной групой 249 и тестовой группой 248 есть небольшие различия, но они не являются статистически значимыми."
   ]
  },
  {
   "cell_type": "markdown",
   "id": "17a72d3d-599a-4ff0-a584-e00ff9e548b0",
   "metadata": {},
   "source": [
    "## Проверка уровня значимости"
   ]
  },
  {
   "cell_type": "markdown",
   "id": "1dac2e48-8864-487a-a0a1-b184942fa940",
   "metadata": {},
   "source": [
    "Ранее при проверках уровень значимости был выбран равным 0.05.  \n",
    "Чтобы снизить групповую вероятность ошибки первого рода и скорректировать уровнь значимости, применименяют методы Бонферрони, Холма и Шидака."
   ]
  },
  {
   "cell_type": "markdown",
   "id": "6b77119c-8782-46bc-bfed-cce373af58dc",
   "metadata": {},
   "source": [
    "Например, поскольку при сравнении долей пользователей было выполнено 16 тестов (4 теста в каждом по 4 гипотезы), то согласно методу Бонферрони уровень значимости должен быть равен 0.003125:"
   ]
  },
  {
   "cell_type": "code",
   "execution_count": 42,
   "id": "d501c536-a614-45be-b2d0-62b3148b9510",
   "metadata": {},
   "outputs": [
    {
     "data": {
      "text/plain": [
       "0.003125"
      ]
     },
     "execution_count": 42,
     "metadata": {},
     "output_type": "execute_result"
    }
   ],
   "source": [
    "0.05 / 16"
   ]
  },
  {
   "cell_type": "markdown",
   "id": "9735be57-fa1e-4daf-a7f7-398745b1ad52",
   "metadata": {},
   "source": [
    "## Итоги изучения результатов теста"
   ]
  },
  {
   "cell_type": "markdown",
   "id": "ca0894cb-f84b-4784-940a-ecc2a2930e31",
   "metadata": {},
   "source": [
    "Между контрольными группами 246, 247, объединённой контрольной групой 249 и тестовой группой 248 есть небольшие различия, но при этом все они не являются статистически значимыми.  \n",
    "Это значит, что изменение шрифта для тестовой группы 248 на данном этапе наблюдений не значимого влияния."
   ]
  },
  {
   "cell_type": "markdown",
   "id": "68b19cbc-325d-4583-b989-64c4919184cb",
   "metadata": {},
   "source": [
    "# Общий вывод <a id='conclusion'></a>"
   ]
  },
  {
   "cell_type": "markdown",
   "id": "b52ba797-edf7-4ae5-a2c9-f49324e53330",
   "metadata": {},
   "source": [
    "В ходе исследования была изучена воронка продаж, а также результаты A/A/B-теста.  \n",
    "Рассматривался период 2019-08-01 — 2019-08-07.\n",
    "\n",
    "**Воронка продаж**  \n",
    "В результате изучения воронки продаж [определён порядок событий](#Порядок_событий) приводящий пользователя от первого экрана до покупки.  \n",
    "Процент пользователей проходящих от первого экрана до покупки равен 28.91%.  \n",
    "Наибольшая потеря пользователей происходит при переходе с главного экрана на экран предложений — наблюдается чуть менее 40% переходов. Это потенциальная точка роста.\n",
    "\n",
    "**Результаты A/A/B-теста**\n",
    "Между контрольными и тестовой группой есть лишь небольшие различия, которые не являются статистически значимыми.  \n",
    "Таким образом, изменение шрифта для тестовой группы 248 не оказало влияния на поведение пользователей мобильного приложения."
   ]
  }
 ],
 "metadata": {
  "kernelspec": {
   "display_name": "Python 3 (ipykernel)",
   "language": "python",
   "name": "python3"
  },
  "language_info": {
   "codemirror_mode": {
    "name": "ipython",
    "version": 3
   },
   "file_extension": ".py",
   "mimetype": "text/x-python",
   "name": "python",
   "nbconvert_exporter": "python",
   "pygments_lexer": "ipython3",
   "version": "3.9.16"
  },
  "toc-autonumbering": false
 },
 "nbformat": 4,
 "nbformat_minor": 5
}
