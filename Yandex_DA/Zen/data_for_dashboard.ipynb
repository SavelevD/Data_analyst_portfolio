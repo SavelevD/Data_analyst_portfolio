{
 "cells": [
  {
   "cell_type": "markdown",
   "id": "3470ebdf-3c5f-469b-bcd5-e2d2947b5e49",
   "metadata": {},
   "source": [
    "<font size=\"+4\">Дашборд для [Дзена](https://zen.yandex.ru/)</font>\n",
    "\n",
    "<font size=\"+2\">Легенда и описание проекта</font>  \n",
    "Почти всё время аналитика в [Дзене](https://zen.yandex.ru/) занимает анализ пользовательского взаимодействия с карточками статей.  \n",
    "Каждую карточку статьи определяют её тема и источник (у него тоже есть тема). Примеры тем: «Красота и здоровье», «Россия», «Путешествия».  \n",
    "Пользователей системы характеризует возрастная категория. Например, «26-30» или «45+».  \n",
    "\n",
    "Каждую неделю начинающие менеджеры задают аналитику одни и те же вопросы по темам источников и карточек статей. Потому было решено сделать для менеджеров дашборд.  \n",
    "Дашборд будет основываться на пайплайне, который будет брать данные из таблицы с сырыми данными, трансформировать данные и укладывать их в агрегирующую таблицу.\n",
    "\n",
    "<font size=\"+2\">Техническое задание</font>\n",
    "- Бизнес-задача: анализ взаимодействия пользователей с карточками [Дзена](https://zen.yandex.ru/);\n",
    "- На какие вопросы должен отвечать дашборд:\n",
    "    - Сколько взаимодействий пользователей с карточками происходит в системе с разбивкой по темам карточек?\n",
    "    - Как много карточек генерируют источники с разными темами?\n",
    "    - Как соотносятся темы карточек и темы источников?\n",
    "- Насколько часто предполагается пользоваться дашбордом: не реже, чем раз в неделю;\n",
    "- Кто будет основным пользователем дашборда: менеджеры по анализу контента;\n",
    "- Состав данных для дашборда:\n",
    "    - История событий по темам карточек (два графика - абсолютные числа и процентное соотношение);\n",
    "    - Разбивка событий по темам источников;\n",
    "    - Таблица соответствия тем источников темам карточек.\n",
    "- По каким параметрам данные должны группироваться:\n",
    "    - Дата и время;\n",
    "    - Тема карточки;\n",
    "    - Тема источника;\n",
    "    - Возрастная группа.\n",
    "- Характер данных:\n",
    "    - История событий по темам карточек — абсолютные величины с разбивкой по минутам;\n",
    "    - Разбивка событий по темам источников — относительные величины (% событий);\n",
    "    - Соответствия тем источников темам карточек — абсолютные величины.\n",
    "- Важность: все графики имеют равную важность;\n",
    "- Источники данных для дашборда: дата-инженеры обещали подготовить агрегирующую таблицу dash_visits. Структура dash_visits:\n",
    "    - `record_id` — первичный ключ;\n",
    "    - `item_topic` — тема карточки;\n",
    "    - `source_topic` — тема источника;\n",
    "    - `age_segment` — возрастной сегмент;\n",
    "    - `dt` — дата и время;\n",
    "    - `visits` — количество событий.\n",
    "- Таблица хранится в базе данных zen-db;\n",
    "- Частота обновления данных: один раз в сутки, в полночь по UTC.\n",
    "\n",
    "<font size=\"+2\">Макет дашборда</font>  \n",
    "![макет дашборда](https://3.downloader.disk.yandex.ru/preview/dcf8b286b175615aa7ebefe23ebad848200209a4112d5d6e2d5e11d85e548a15/inf/KVrkbHeJF4dufxAe_5IA5BYBsaFJwikallmI43omNCHscHtBCS8GGsVBnpET_VMqmZCKCB11klsJbbGBK5EIDg%3D%3D?uid=270737516&filename=Untitled_-_2020-07-06T160925.436_1594041010.png&disposition=inline&hash=&limit=0&content_type=image%2Fpng&owner_uid=270737516&tknv=v2&size=1200x1771)\n",
    "\n",
    "<font size=\"+1\">Ссылка на дашборд: https://public.tableau.com/app/profile/dmitriy.savelev/viz/_16912469370800/sheet4</font>  \n",
    "<font size=\"+1\">Ссылка на презентацию: https://disk.yandex.ru/d/tAovAZ42u2iOCA</font>"
   ]
  },
  {
   "cell_type": "code",
   "execution_count": 2,
   "id": "f3579e8e-c84d-46ac-a18b-3ca7b47ce7d8",
   "metadata": {
    "tags": []
   },
   "outputs": [],
   "source": [
    "# импортируем библиотеки\n",
    "import pandas as pd\n",
    "from sqlalchemy import text, create_engine"
   ]
  },
  {
   "cell_type": "code",
   "execution_count": 3,
   "id": "93a86854-50c8-4abe-999f-2af6ea45afcc",
   "metadata": {
    "tags": []
   },
   "outputs": [],
   "source": [
    "# устанавливаем параметры\n",
    "db_config = {'user': '---',  # имя пользователя\n",
    "            'pwd': '---',    # пароль\n",
    "            'host': '---',\n",
    "            'port': '---',   # порт подключения\n",
    "            'db': 'zen-db'}  # название базы данных"
   ]
  },
  {
   "cell_type": "code",
   "execution_count": 7,
   "id": "3822493d-98c3-4cd1-8391-34375c66186e",
   "metadata": {
    "tags": []
   },
   "outputs": [],
   "source": [
    "# Формируем строку соединения с БД\n",
    "connection_string = 'postgresql://{}:{}@{}:{}/{}'.format(\n",
    "    db_config['user'],\n",
    "    db_config['pwd'],\n",
    "    db_config['host'],\n",
    "    db_config['port'],\n",
    "    db_config['db'],\n",
    ")"
   ]
  },
  {
   "cell_type": "code",
   "execution_count": 8,
   "id": "6d24cf61-c784-44cf-92ef-ee7ea280f227",
   "metadata": {
    "tags": []
   },
   "outputs": [],
   "source": [
    "# Подключаемся к БД\n",
    "engine = create_engine(connection_string)"
   ]
  },
  {
   "cell_type": "code",
   "execution_count": 9,
   "id": "662344eb-9872-4b17-9ad8-bf4c402cd4c6",
   "metadata": {
    "tags": []
   },
   "outputs": [],
   "source": [
    "# Формируем sql-запрос к БД\n",
    "query = ''' SELECT *\n",
    "            FROM dash_visits\n",
    "        '''"
   ]
  },
  {
   "cell_type": "code",
   "execution_count": 10,
   "id": "e719e0ba-e803-4358-ae4f-8dee2ee1ba57",
   "metadata": {
    "tags": []
   },
   "outputs": [],
   "source": [
    "# Выполняем запрос и сохраняем результат\n",
    "# выполнения в DataFrame df\n",
    "df = pd.io.sql.read_sql(query, con = engine, index_col='record_id') "
   ]
  },
  {
   "cell_type": "code",
   "execution_count": 11,
   "id": "8bc1972a-51fb-4f99-b518-41f454801cba",
   "metadata": {
    "tags": []
   },
   "outputs": [
    {
     "data": {
      "text/html": [
       "<div>\n",
       "<style scoped>\n",
       "    .dataframe tbody tr th:only-of-type {\n",
       "        vertical-align: middle;\n",
       "    }\n",
       "\n",
       "    .dataframe tbody tr th {\n",
       "        vertical-align: top;\n",
       "    }\n",
       "\n",
       "    .dataframe thead th {\n",
       "        text-align: right;\n",
       "    }\n",
       "</style>\n",
       "<table border=\"1\" class=\"dataframe\">\n",
       "  <thead>\n",
       "    <tr style=\"text-align: right;\">\n",
       "      <th></th>\n",
       "      <th>item_topic</th>\n",
       "      <th>source_topic</th>\n",
       "      <th>age_segment</th>\n",
       "      <th>dt</th>\n",
       "      <th>visits</th>\n",
       "    </tr>\n",
       "    <tr>\n",
       "      <th>record_id</th>\n",
       "      <th></th>\n",
       "      <th></th>\n",
       "      <th></th>\n",
       "      <th></th>\n",
       "      <th></th>\n",
       "    </tr>\n",
       "  </thead>\n",
       "  <tbody>\n",
       "    <tr>\n",
       "      <th>1040597</th>\n",
       "      <td>Деньги</td>\n",
       "      <td>Авто</td>\n",
       "      <td>18-25</td>\n",
       "      <td>2019-09-24 18:32:00</td>\n",
       "      <td>3</td>\n",
       "    </tr>\n",
       "    <tr>\n",
       "      <th>1040598</th>\n",
       "      <td>Деньги</td>\n",
       "      <td>Авто</td>\n",
       "      <td>18-25</td>\n",
       "      <td>2019-09-24 18:35:00</td>\n",
       "      <td>1</td>\n",
       "    </tr>\n",
       "    <tr>\n",
       "      <th>1040599</th>\n",
       "      <td>Деньги</td>\n",
       "      <td>Авто</td>\n",
       "      <td>18-25</td>\n",
       "      <td>2019-09-24 18:54:00</td>\n",
       "      <td>4</td>\n",
       "    </tr>\n",
       "    <tr>\n",
       "      <th>1040600</th>\n",
       "      <td>Деньги</td>\n",
       "      <td>Авто</td>\n",
       "      <td>18-25</td>\n",
       "      <td>2019-09-24 18:55:00</td>\n",
       "      <td>17</td>\n",
       "    </tr>\n",
       "    <tr>\n",
       "      <th>1040601</th>\n",
       "      <td>Деньги</td>\n",
       "      <td>Авто</td>\n",
       "      <td>18-25</td>\n",
       "      <td>2019-09-24 18:56:00</td>\n",
       "      <td>27</td>\n",
       "    </tr>\n",
       "  </tbody>\n",
       "</table>\n",
       "</div>"
      ],
      "text/plain": [
       "          item_topic source_topic age_segment                  dt  visits\n",
       "record_id                                                                \n",
       "1040597       Деньги         Авто       18-25 2019-09-24 18:32:00       3\n",
       "1040598       Деньги         Авто       18-25 2019-09-24 18:35:00       1\n",
       "1040599       Деньги         Авто       18-25 2019-09-24 18:54:00       4\n",
       "1040600       Деньги         Авто       18-25 2019-09-24 18:55:00      17\n",
       "1040601       Деньги         Авто       18-25 2019-09-24 18:56:00      27"
      ]
     },
     "execution_count": 11,
     "metadata": {},
     "output_type": "execute_result"
    }
   ],
   "source": [
    "df.head(5) # Вывод последних 5 строк для первичного ознакомления с датасетом"
   ]
  },
  {
   "cell_type": "code",
   "execution_count": 12,
   "id": "63e58c4d-827b-4167-b079-536d54ea24e1",
   "metadata": {
    "tags": []
   },
   "outputs": [
    {
     "name": "stdout",
     "output_type": "stream",
     "text": [
      "<class 'pandas.core.frame.DataFrame'>\n",
      "Int64Index: 30745 entries, 1040597 to 1071341\n",
      "Data columns (total 5 columns):\n",
      " #   Column        Non-Null Count  Dtype         \n",
      "---  ------        --------------  -----         \n",
      " 0   item_topic    30745 non-null  object        \n",
      " 1   source_topic  30745 non-null  object        \n",
      " 2   age_segment   30745 non-null  object        \n",
      " 3   dt            30745 non-null  datetime64[ns]\n",
      " 4   visits        30745 non-null  int64         \n",
      "dtypes: datetime64[ns](1), int64(1), object(3)\n",
      "memory usage: 1.4+ MB\n"
     ]
    }
   ],
   "source": [
    "# Проверка типов в выгруженных данных\n",
    "df.info()"
   ]
  },
  {
   "cell_type": "markdown",
   "id": "8dcd8c5c-59b9-45a6-a093-3d1d8707debb",
   "metadata": {},
   "source": [
    "Данные выгружены в корректны"
   ]
  },
  {
   "cell_type": "code",
   "execution_count": 13,
   "id": "113ac43e-81e3-4772-af4e-20c99e8458bf",
   "metadata": {
    "tags": []
   },
   "outputs": [],
   "source": [
    "# Сохранение датасета в файл dash_visits.csv\n",
    "\n",
    "df.to_csv('dash_visits.csv')"
   ]
  },
  {
   "cell_type": "code",
   "execution_count": null,
   "id": "7e40c8a2-4f51-4a6e-8f4a-4e1306c36d97",
   "metadata": {},
   "outputs": [],
   "source": []
  }
 ],
 "metadata": {
  "kernelspec": {
   "display_name": "Python 3 (ipykernel)",
   "language": "python",
   "name": "python3"
  },
  "language_info": {
   "codemirror_mode": {
    "name": "ipython",
    "version": 3
   },
   "file_extension": ".py",
   "mimetype": "text/x-python",
   "name": "python",
   "nbconvert_exporter": "python",
   "pygments_lexer": "ipython3",
   "version": "3.9.16"
  }
 },
 "nbformat": 4,
 "nbformat_minor": 5
}
