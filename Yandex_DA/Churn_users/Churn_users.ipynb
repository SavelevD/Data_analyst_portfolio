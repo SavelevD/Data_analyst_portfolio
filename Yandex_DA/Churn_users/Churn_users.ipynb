{
 "cells": [
  {
   "cell_type": "markdown",
   "id": "9c6a2f8a-82d9-479f-bab6-7ee7ea566741",
   "metadata": {},
   "source": [
    "<font size=\"+4\">Анализ оттока клиентов банка «Метанпром»</font>"
   ]
  },
  {
   "cell_type": "markdown",
   "id": "10256ae5-b5c8-4cf8-a32e-cdb8450af94b",
   "metadata": {},
   "source": [
    "Заказчик исследования — отдел маркетинга банка «Метанпром». Отдел маркетинга состоит из двух сотрудников: начальник отдела и линейный сотрудник.  \n",
    "Заказчик отмечает, что в последнее время в банке повысился отток клиентов. Заказчик также заинтересован в том, чтобы удержать старых клиентов, т.к. расходы на мероприятия по удержанию клиента меньше, чем расходы на привлечение новых.  \n",
    "В нашем распоряжении [датасет](#https://code.s3.yandex.net/datasets/bank_scrooge.csv) в котором содержатся данные о клиентах банка «Метанпром».  \n",
    "Банк располагается в трёх городах: `Ярославле`, а также в областных городах `Ростов` и `Рыбинск`.  \n",
    "\n",
    "Пожелание заказчика к содержанию исследования — понятные интерпретируемые графики, а также лаконичные и ёмкие выводы.  \n",
    "Также в отделе маркетинга банка отсутствуют автоматизированные системы рассылок, письма каждому клиенту пишутся вручную. Поэтому для отдела маркетинга важно, чтобы были представлены компактные однородные сегменты клиентов, которые склонны уходить из банка и дать примеры мероприятий, которые можно провести, чтобы вернуть клиентов в банк или удержать сомневающихся от оттока."
   ]
  },
  {
   "cell_type": "markdown",
   "id": "32a3a967-e726-4f61-a842-3fd7ae7fc523",
   "metadata": {},
   "source": [
    "<font size=\"+1\">Ретроспектива</font>  \n",
    "Ранее было проведено исследование оттока, и выделены сегменты, но клиентская база поменялась, и текущие решения не работают."
   ]
  },
  {
   "cell_type": "markdown",
   "id": "fd057803-85e3-49e6-a981-7c66ede07569",
   "metadata": {},
   "source": [
    "<font size=\"+1\">Цель исследования</font>  \n",
    "- Снизить отток клиентов банка."
   ]
  },
  {
   "cell_type": "markdown",
   "id": "ec3837cc-53ab-47a9-bdc8-4c21c9364409",
   "metadata": {},
   "source": [
    "<font size=\"+1\">Задачи исследования</font>  \n",
    "1. Загрузить датасет с данными о клиентах банка, ознакомиться с данными;\n",
    "2. Произвести предобработку данных;\n",
    "3. Выполнить исследовательский анализ данных:  \n",
    "    1. Определить признаки отточности.\n",
    "4. Проверить статистические гипотезы:  \n",
    "    1. Гипотеза различия дохода между теми клиентами, которые ушли и теми, которые остались;  \n",
    "    2. Сформулировать и проверить иные гипотезы.\n",
    "5. Сформировать сегменты отточных клиентов опираясь на ранее сформированные признаки отточности и на результаты проверки гипотез;\n",
    "6. Представить итоговые выводы. Выводы включают в себя:\n",
    "    1. Список приоритезированных, наиболее отточных сегментов клиентов;\n",
    "    2. Таргетированные по сегментам рекомендации для снижения оттока."
   ]
  },
  {
   "cell_type": "markdown",
   "id": "f37a4dad-08df-4748-a4ee-3d5e5d2b2eeb",
   "metadata": {},
   "source": [
    "<font size=\"+1\">Конечный результат исследования</font>  \n",
    "- Определены сегменты клиентов (от 500 клиентов на сегмент) с наибольшим оттоком (чей отток выше среднего уровня оттока клиентов по банку);\n",
    "- Даны приоритезированные, таргетированные по сегментам рекомендации для снижения оттока клиентов."
   ]
  },
  {
   "cell_type": "markdown",
   "id": "7b22b3cd-2d9b-4c89-9548-f27ef70d839f",
   "metadata": {},
   "source": [
    "<font size=\"+2\">Содержание</font><a id='content'></a>\n",
    "1. [Обзор данных](#start)\n",
    "2. [Предобработка данных](#prepare)\n",
    "3. [Исследовательский анализ данных](#eda)\n",
    "4. [Проверка статистических гипотез](#statistical_hypotheses)\n",
    "5. [Промежуточные выводы. Выделение признаков влияющих на отток](#outflow_intermediate_conclusions)\n",
    "6. [Формирование сегментов отточных клиентов](#churn_search_algorithm)\n",
    "7. [Итоговые выводы исследования](#conclusion)ования"
   ]
  },
  {
   "cell_type": "markdown",
   "id": "798fe461-6039-492a-987f-2ab03f215463",
   "metadata": {},
   "source": [
    "# Обзор данных <a id='start'></a>"
   ]
  },
  {
   "cell_type": "code",
   "execution_count": 1,
   "id": "d67c9da5-e4e1-4dae-804e-a525e190693a",
   "metadata": {
    "tags": []
   },
   "outputs": [
    {
     "name": "stdout",
     "output_type": "stream",
     "text": [
      "Requirement already satisfied: phik in c:\\users\\savel\\anaconda\\anaconda3\\envs\\lab_v4\\lib\\site-packages (0.12.3)\n",
      "Requirement already satisfied: numpy>=1.18.0 in c:\\users\\savel\\anaconda\\anaconda3\\envs\\lab_v4\\lib\\site-packages (from phik) (1.20.1)\n",
      "Requirement already satisfied: scipy>=1.5.2 in c:\\users\\savel\\anaconda\\anaconda3\\envs\\lab_v4\\lib\\site-packages (from phik) (1.8.0)\n",
      "Requirement already satisfied: pandas>=0.25.1 in c:\\users\\savel\\anaconda\\anaconda3\\envs\\lab_v4\\lib\\site-packages (from phik) (1.2.4)\n",
      "Requirement already satisfied: matplotlib>=2.2.3 in c:\\users\\savel\\anaconda\\anaconda3\\envs\\lab_v4\\lib\\site-packages (from phik) (3.3.4)\n",
      "Requirement already satisfied: joblib>=0.14.1 in c:\\users\\savel\\anaconda\\anaconda3\\envs\\lab_v4\\lib\\site-packages (from phik) (1.3.2)\n",
      "Requirement already satisfied: cycler>=0.10 in c:\\users\\savel\\anaconda\\anaconda3\\envs\\lab_v4\\lib\\site-packages (from matplotlib>=2.2.3->phik) (0.11.0)\n",
      "Requirement already satisfied: kiwisolver>=1.0.1 in c:\\users\\savel\\anaconda\\anaconda3\\envs\\lab_v4\\lib\\site-packages (from matplotlib>=2.2.3->phik) (1.4.4)\n",
      "Requirement already satisfied: pillow>=6.2.0 in c:\\users\\savel\\anaconda\\anaconda3\\envs\\lab_v4\\lib\\site-packages (from matplotlib>=2.2.3->phik) (10.0.0)\n",
      "Requirement already satisfied: pyparsing!=2.0.4,!=2.1.2,!=2.1.6,>=2.0.3 in c:\\users\\savel\\anaconda\\anaconda3\\envs\\lab_v4\\lib\\site-packages (from matplotlib>=2.2.3->phik) (3.1.1)\n",
      "Requirement already satisfied: python-dateutil>=2.1 in c:\\users\\savel\\anaconda\\anaconda3\\envs\\lab_v4\\lib\\site-packages (from matplotlib>=2.2.3->phik) (2.8.2)\n",
      "Requirement already satisfied: pytz>=2017.3 in c:\\users\\savel\\anaconda\\anaconda3\\envs\\lab_v4\\lib\\site-packages (from pandas>=0.25.1->phik) (2023.3)\n",
      "Requirement already satisfied: six>=1.5 in c:\\users\\savel\\anaconda\\anaconda3\\envs\\lab_v4\\lib\\site-packages (from python-dateutil>=2.1->matplotlib>=2.2.3->phik) (1.16.0)\n"
     ]
    }
   ],
   "source": [
    "!pip install phik"
   ]
  },
  {
   "cell_type": "code",
   "execution_count": 2,
   "id": "effc11e1-74f7-47bd-af75-64497552c1f0",
   "metadata": {
    "tags": []
   },
   "outputs": [],
   "source": [
    "import pandas as pd\n",
    "import seaborn as sns\n",
    "import phik\n",
    "import numpy as np\n",
    "import matplotlib.pyplot as plt\n",
    "from matplotlib import style\n",
    "from scipy import stats as st\n",
    "import math as mth"
   ]
  },
  {
   "cell_type": "code",
   "execution_count": 3,
   "id": "fd57b15b-8fb9-4e38-86f3-ef8ee1b8ee8b",
   "metadata": {},
   "outputs": [],
   "source": [
    "# Изменение параметра вывода строк датафреймов для вывода полных строк\n",
    "pd.options.display.max_colwidth = 1"
   ]
  },
  {
   "cell_type": "code",
   "execution_count": 4,
   "id": "d53a891f-c209-4d98-ab97-d20f5c6e7392",
   "metadata": {
    "tags": []
   },
   "outputs": [],
   "source": [
    "# Активация matplotlib стиля seaborn-darkgrid для диаграмм\n",
    "\n",
    "plt.style.use('seaborn-darkgrid')"
   ]
  },
  {
   "cell_type": "code",
   "execution_count": 5,
   "id": "7cbf89c2-36a0-4ee9-bc0a-36d0f562ee79",
   "metadata": {
    "tags": []
   },
   "outputs": [],
   "source": [
    "# чтение датасета через try except. Сначала предпринимается попытка прочитать датасет с локального расположения.\n",
    "# В случае неудачи происходит загрузка датасета по url\n",
    "\n",
    "try:\n",
    "    df = pd.read_csv('local_dataset.csv')\n",
    "except:\n",
    "    df = pd.read_csv('url_to_dataset.csv')"
   ]
  },
  {
   "cell_type": "code",
   "execution_count": 6,
   "id": "e0e87bc3-823b-4dd3-9673-b1854b3df424",
   "metadata": {
    "tags": []
   },
   "outputs": [
    {
     "data": {
      "text/html": [
       "<div>\n",
       "<style scoped>\n",
       "    .dataframe tbody tr th:only-of-type {\n",
       "        vertical-align: middle;\n",
       "    }\n",
       "\n",
       "    .dataframe tbody tr th {\n",
       "        vertical-align: top;\n",
       "    }\n",
       "\n",
       "    .dataframe thead th {\n",
       "        text-align: right;\n",
       "    }\n",
       "</style>\n",
       "<table border=\"1\" class=\"dataframe\">\n",
       "  <thead>\n",
       "    <tr style=\"text-align: right;\">\n",
       "      <th></th>\n",
       "      <th>USERID</th>\n",
       "      <th>score</th>\n",
       "      <th>city</th>\n",
       "      <th>gender</th>\n",
       "      <th>age</th>\n",
       "      <th>equity</th>\n",
       "      <th>balance</th>\n",
       "      <th>products</th>\n",
       "      <th>credit_card</th>\n",
       "      <th>last_activity</th>\n",
       "      <th>EST_SALARY</th>\n",
       "      <th>churn</th>\n",
       "    </tr>\n",
       "  </thead>\n",
       "  <tbody>\n",
       "    <tr>\n",
       "      <th>0</th>\n",
       "      <td>183012</td>\n",
       "      <td>850.0</td>\n",
       "      <td>Рыбинск</td>\n",
       "      <td>Ж</td>\n",
       "      <td>25.0</td>\n",
       "      <td>1</td>\n",
       "      <td>59214.82</td>\n",
       "      <td>2</td>\n",
       "      <td>0</td>\n",
       "      <td>1</td>\n",
       "      <td>75719.14</td>\n",
       "      <td>1</td>\n",
       "    </tr>\n",
       "    <tr>\n",
       "      <th>1</th>\n",
       "      <td>146556</td>\n",
       "      <td>861.0</td>\n",
       "      <td>Рыбинск</td>\n",
       "      <td>Ж</td>\n",
       "      <td>37.0</td>\n",
       "      <td>5</td>\n",
       "      <td>850594.33</td>\n",
       "      <td>3</td>\n",
       "      <td>1</td>\n",
       "      <td>0</td>\n",
       "      <td>86621.77</td>\n",
       "      <td>0</td>\n",
       "    </tr>\n",
       "    <tr>\n",
       "      <th>2</th>\n",
       "      <td>120722</td>\n",
       "      <td>892.0</td>\n",
       "      <td>Рыбинск</td>\n",
       "      <td>Ж</td>\n",
       "      <td>30.0</td>\n",
       "      <td>0</td>\n",
       "      <td>NaN</td>\n",
       "      <td>1</td>\n",
       "      <td>1</td>\n",
       "      <td>1</td>\n",
       "      <td>107683.34</td>\n",
       "      <td>0</td>\n",
       "    </tr>\n",
       "    <tr>\n",
       "      <th>3</th>\n",
       "      <td>225363</td>\n",
       "      <td>866.0</td>\n",
       "      <td>Ярославль</td>\n",
       "      <td>Ж</td>\n",
       "      <td>51.0</td>\n",
       "      <td>5</td>\n",
       "      <td>1524746.26</td>\n",
       "      <td>2</td>\n",
       "      <td>0</td>\n",
       "      <td>1</td>\n",
       "      <td>174423.53</td>\n",
       "      <td>1</td>\n",
       "    </tr>\n",
       "    <tr>\n",
       "      <th>4</th>\n",
       "      <td>157978</td>\n",
       "      <td>730.0</td>\n",
       "      <td>Ярославль</td>\n",
       "      <td>М</td>\n",
       "      <td>34.0</td>\n",
       "      <td>5</td>\n",
       "      <td>174.00</td>\n",
       "      <td>1</td>\n",
       "      <td>1</td>\n",
       "      <td>0</td>\n",
       "      <td>67353.16</td>\n",
       "      <td>1</td>\n",
       "    </tr>\n",
       "  </tbody>\n",
       "</table>\n",
       "</div>"
      ],
      "text/plain": [
       "   USERID  score       city gender   age  equity     balance  products  \\\n",
       "0  183012  850.0  Рыбинск    Ж      25.0  1       59214.82    2          \n",
       "1  146556  861.0  Рыбинск    Ж      37.0  5       850594.33   3          \n",
       "2  120722  892.0  Рыбинск    Ж      30.0  0      NaN          1          \n",
       "3  225363  866.0  Ярославль  Ж      51.0  5       1524746.26  2          \n",
       "4  157978  730.0  Ярославль  М      34.0  5       174.00      1          \n",
       "\n",
       "   credit_card  last_activity  EST_SALARY  churn  \n",
       "0  0            1              75719.14    1      \n",
       "1  1            0              86621.77    0      \n",
       "2  1            1              107683.34   0      \n",
       "3  0            1              174423.53   1      \n",
       "4  1            0              67353.16    1      "
      ]
     },
     "execution_count": 6,
     "metadata": {},
     "output_type": "execute_result"
    }
   ],
   "source": [
    "df.head(5)  # Вывод первых 5 строк для первичного ознакомления с датасетом"
   ]
  },
  {
   "cell_type": "code",
   "execution_count": 7,
   "id": "ad0fd469-1b03-47a8-bbcb-9536d542f93c",
   "metadata": {
    "tags": []
   },
   "outputs": [
    {
     "data": {
      "text/html": [
       "<div>\n",
       "<style scoped>\n",
       "    .dataframe tbody tr th:only-of-type {\n",
       "        vertical-align: middle;\n",
       "    }\n",
       "\n",
       "    .dataframe tbody tr th {\n",
       "        vertical-align: top;\n",
       "    }\n",
       "\n",
       "    .dataframe thead th {\n",
       "        text-align: right;\n",
       "    }\n",
       "</style>\n",
       "<table border=\"1\" class=\"dataframe\">\n",
       "  <thead>\n",
       "    <tr style=\"text-align: right;\">\n",
       "      <th></th>\n",
       "      <th>USERID</th>\n",
       "      <th>score</th>\n",
       "      <th>city</th>\n",
       "      <th>gender</th>\n",
       "      <th>age</th>\n",
       "      <th>equity</th>\n",
       "      <th>balance</th>\n",
       "      <th>products</th>\n",
       "      <th>credit_card</th>\n",
       "      <th>last_activity</th>\n",
       "      <th>EST_SALARY</th>\n",
       "      <th>churn</th>\n",
       "    </tr>\n",
       "  </thead>\n",
       "  <tbody>\n",
       "    <tr>\n",
       "      <th>9995</th>\n",
       "      <td>120553</td>\n",
       "      <td>814.0</td>\n",
       "      <td>Рыбинск</td>\n",
       "      <td>М</td>\n",
       "      <td>27.0</td>\n",
       "      <td>1</td>\n",
       "      <td>78144.65</td>\n",
       "      <td>1</td>\n",
       "      <td>0</td>\n",
       "      <td>1</td>\n",
       "      <td>18943.64</td>\n",
       "      <td>0</td>\n",
       "    </tr>\n",
       "    <tr>\n",
       "      <th>9996</th>\n",
       "      <td>139170</td>\n",
       "      <td>894.0</td>\n",
       "      <td>Ярославль</td>\n",
       "      <td>М</td>\n",
       "      <td>46.0</td>\n",
       "      <td>0</td>\n",
       "      <td>NaN</td>\n",
       "      <td>1</td>\n",
       "      <td>1</td>\n",
       "      <td>0</td>\n",
       "      <td>196898.29</td>\n",
       "      <td>0</td>\n",
       "    </tr>\n",
       "    <tr>\n",
       "      <th>9997</th>\n",
       "      <td>115639</td>\n",
       "      <td>903.0</td>\n",
       "      <td>Ярославль</td>\n",
       "      <td>М</td>\n",
       "      <td>24.0</td>\n",
       "      <td>0</td>\n",
       "      <td>NaN</td>\n",
       "      <td>2</td>\n",
       "      <td>1</td>\n",
       "      <td>1</td>\n",
       "      <td>108905.09</td>\n",
       "      <td>0</td>\n",
       "    </tr>\n",
       "    <tr>\n",
       "      <th>9998</th>\n",
       "      <td>148700</td>\n",
       "      <td>777.0</td>\n",
       "      <td>Ярославль</td>\n",
       "      <td>Ж</td>\n",
       "      <td>68.0</td>\n",
       "      <td>3</td>\n",
       "      <td>865457.97</td>\n",
       "      <td>3</td>\n",
       "      <td>0</td>\n",
       "      <td>1</td>\n",
       "      <td>86874.90</td>\n",
       "      <td>0</td>\n",
       "    </tr>\n",
       "    <tr>\n",
       "      <th>9999</th>\n",
       "      <td>96267</td>\n",
       "      <td>828.0</td>\n",
       "      <td>Рыбинск</td>\n",
       "      <td>Ж</td>\n",
       "      <td>58.0</td>\n",
       "      <td>3</td>\n",
       "      <td>1180886.70</td>\n",
       "      <td>4</td>\n",
       "      <td>0</td>\n",
       "      <td>1</td>\n",
       "      <td>21422.37</td>\n",
       "      <td>0</td>\n",
       "    </tr>\n",
       "  </tbody>\n",
       "</table>\n",
       "</div>"
      ],
      "text/plain": [
       "      USERID  score       city gender   age  equity     balance  products  \\\n",
       "9995  120553  814.0  Рыбинск    М      27.0  1       78144.65    1          \n",
       "9996  139170  894.0  Ярославль  М      46.0  0      NaN          1          \n",
       "9997  115639  903.0  Ярославль  М      24.0  0      NaN          2          \n",
       "9998  148700  777.0  Ярославль  Ж      68.0  3       865457.97   3          \n",
       "9999  96267   828.0  Рыбинск    Ж      58.0  3       1180886.70  4          \n",
       "\n",
       "      credit_card  last_activity  EST_SALARY  churn  \n",
       "9995  0            1              18943.64    0      \n",
       "9996  1            0              196898.29   0      \n",
       "9997  1            1              108905.09   0      \n",
       "9998  0            1              86874.90    0      \n",
       "9999  0            1              21422.37    0      "
      ]
     },
     "execution_count": 7,
     "metadata": {},
     "output_type": "execute_result"
    }
   ],
   "source": [
    "df.tail(5)  # Вывод последних 5 строк для первичного ознакомления с датасетом"
   ]
  },
  {
   "cell_type": "markdown",
   "id": "cc15442a-b96e-4842-8637-e5fa5adb74ed",
   "metadata": {},
   "source": [
    "Судя по первым и последним 5 записям датасета df, данные соотносятся с целями анализа. Данных для анализа достаточно."
   ]
  },
  {
   "cell_type": "code",
   "execution_count": 8,
   "id": "9fc5b9bc-943c-4ed5-906a-96e03d6f0f18",
   "metadata": {
    "tags": []
   },
   "outputs": [
    {
     "data": {
      "text/plain": [
       "(10000, 12)"
      ]
     },
     "execution_count": 8,
     "metadata": {},
     "output_type": "execute_result"
    }
   ],
   "source": [
    "# Обзор размеров датасета\n",
    "\n",
    "df.shape"
   ]
  },
  {
   "cell_type": "markdown",
   "id": "93baa495-0034-4729-bf7c-288112fd6f96",
   "metadata": {},
   "source": [
    "Всего в датасете 10000 записей и 12 столбцов."
   ]
  },
  {
   "cell_type": "markdown",
   "id": "ce6b8ffd-3ccf-49b3-b84e-07260541e99f",
   "metadata": {},
   "source": [
    "## Описание столбцов датасета"
   ]
  },
  {
   "cell_type": "markdown",
   "id": "dee808bc-9962-4a9b-82ed-480451f8e6a1",
   "metadata": {},
   "source": [
    "- `USERID` — идентификатор пользователя;\n",
    "- `score` — баллы кредитного скоринга;\n",
    "- `city` — город;\n",
    "- `gender` — пол;\n",
    "- `age` — возраст;\n",
    "- `equity` — количество баллов собственности;\n",
    "- `balance` — баланс на счёте;\n",
    "- `products` — количество продуктов, которыми пользуется клиент;\n",
    "- `credit_card` — есть ли кредитная карта;\n",
    "- `last_activity` — активный клиент;\n",
    "- `EST_SALARY` — заработная плата клиента;\n",
    "- `churn` — ушёл или нет.\n",
    "\n",
    "Наименования столбцов `USERID` и `EST_SALARY` будут приведены к стилю snake_case при предобработке данных."
   ]
  },
  {
   "cell_type": "markdown",
   "id": "e3b1e17b-b878-4634-8abb-982a21f497aa",
   "metadata": {},
   "source": [
    "## Типы данных"
   ]
  },
  {
   "cell_type": "code",
   "execution_count": 9,
   "id": "5a45fcaa-717a-4cb6-9cbd-8e9216a2dbdf",
   "metadata": {
    "tags": []
   },
   "outputs": [
    {
     "name": "stdout",
     "output_type": "stream",
     "text": [
      "<class 'pandas.core.frame.DataFrame'>\n",
      "RangeIndex: 10000 entries, 0 to 9999\n",
      "Data columns (total 12 columns):\n",
      " #   Column         Non-Null Count  Dtype  \n",
      "---  ------         --------------  -----  \n",
      " 0   USERID         10000 non-null  int64  \n",
      " 1   score          10000 non-null  float64\n",
      " 2   city           10000 non-null  object \n",
      " 3   gender         10000 non-null  object \n",
      " 4   age            9974 non-null   float64\n",
      " 5   equity         10000 non-null  int64  \n",
      " 6   balance        7705 non-null   float64\n",
      " 7   products       10000 non-null  int64  \n",
      " 8   credit_card    10000 non-null  int64  \n",
      " 9   last_activity  10000 non-null  int64  \n",
      " 10  EST_SALARY     10000 non-null  float64\n",
      " 11  churn          10000 non-null  int64  \n",
      "dtypes: float64(4), int64(6), object(2)\n",
      "memory usage: 937.6+ KB\n"
     ]
    }
   ],
   "source": [
    "df.info()"
   ]
  },
  {
   "cell_type": "markdown",
   "id": "a3b96f79-581f-422e-b5de-33679bea5084",
   "metadata": {},
   "source": [
    "Типы данных в датасете корректны и не нуждаются в преобразовании к иному типу."
   ]
  },
  {
   "cell_type": "markdown",
   "id": "97c7de80-9d15-4a31-86ea-3a22f01ea2c4",
   "metadata": {
    "tags": []
   },
   "source": [
    "Категориальные данные:\n",
    "- `USERID` — идентификатор пользователя;\n",
    "- `city` — город;\n",
    "- `gender` — пол;\n",
    "- `credit_card` — есть ли кредитная карта;\n",
    "- `last_activity` — активный клиент;\n",
    "- `churn` — ушёл или нет.\n",
    "\n",
    "Количественные дискретные данные:\n",
    "- `equity` — количество баллов собственности;\n",
    "- `products` — количество продуктов, которыми пользуется клиент.\n",
    "\n",
    "Количественные непрерывные данные:\n",
    "- `score` — баллы кредитного скоринга;\n",
    "- `age` — возраст;\n",
    "- `balance` — баланс на счёте;\n",
    "- `EST_SALARY` — заработная плата клиента."
   ]
  },
  {
   "cell_type": "markdown",
   "id": "1c8aea37-ba07-46ab-9920-5c9865662f22",
   "metadata": {},
   "source": [
    "## Общая гистограмма <a id='common_hist'></a>"
   ]
  },
  {
   "cell_type": "code",
   "execution_count": 10,
   "id": "199d51be-9c39-41ec-a81a-301586e19b83",
   "metadata": {
    "tags": []
   },
   "outputs": [
    {
     "data": {
      "image/png": "[encoded data removed]",
      "text/plain": [
       "<Figure size 1500x1500 with 12 Axes>"
      ]
     },
     "metadata": {},
     "output_type": "display_data"
    }
   ],
   "source": [
    "df.hist(figsize=(15, 15));"
   ]
  },
  {
   "cell_type": "markdown",
   "id": "d2da7850-b74f-4db3-a87b-b17aadcabcbd",
   "metadata": {},
   "source": [
    "Согласно общей гистограмме можно сложить следующее первое представление:\n",
    "- Большинство клиентов имеют от ~750 до ~930 баллов баллы кредитного скоринга;\n",
    "- Большинство клиентов находятся в возрасте от ~25 до ~45 лет;\n",
    "- По большей части клиенты имеют либо 0, либо от 3 до 5 баллов собственности;\n",
    "- В балансе клиентов имеется сильный выброс;\n",
    "- Чаще всего клиенты пользуются 2 или 1 продуктом банка;\n",
    "- Клиентов с кредитными картами ~68%, без кредитных карт ~32%;\n",
    "- Признаком активного клиента обладает ~52%, соответственно неактивных ~48%;\n",
    "- В зарплате клиентов имеется сильный выброс;\n",
    "- Ушли из банка ~18% клиентов, остаются клиентами банка ~82%."
   ]
  },
  {
   "cell_type": "markdown",
   "id": "e30ed5e0-0866-41ae-a100-357a9622101a",
   "metadata": {},
   "source": [
    "## Обзор количественных данных <a id='describe'></a>"
   ]
  },
  {
   "cell_type": "code",
   "execution_count": 11,
   "id": "db1f9f0a-45e9-44f8-8892-936b9dc98834",
   "metadata": {
    "tags": []
   },
   "outputs": [
    {
     "data": {
      "text/html": [
       "<div>\n",
       "<style scoped>\n",
       "    .dataframe tbody tr th:only-of-type {\n",
       "        vertical-align: middle;\n",
       "    }\n",
       "\n",
       "    .dataframe tbody tr th {\n",
       "        vertical-align: top;\n",
       "    }\n",
       "\n",
       "    .dataframe thead th {\n",
       "        text-align: right;\n",
       "    }\n",
       "</style>\n",
       "<table border=\"1\" class=\"dataframe\">\n",
       "  <thead>\n",
       "    <tr style=\"text-align: right;\">\n",
       "      <th></th>\n",
       "      <th>USERID</th>\n",
       "      <th>score</th>\n",
       "      <th>age</th>\n",
       "      <th>equity</th>\n",
       "      <th>balance</th>\n",
       "      <th>products</th>\n",
       "      <th>credit_card</th>\n",
       "      <th>last_activity</th>\n",
       "      <th>EST_SALARY</th>\n",
       "      <th>churn</th>\n",
       "    </tr>\n",
       "  </thead>\n",
       "  <tbody>\n",
       "    <tr>\n",
       "      <th>count</th>\n",
       "      <td>10000.00000</td>\n",
       "      <td>10000.000000</td>\n",
       "      <td>9974.000000</td>\n",
       "      <td>10000.000000</td>\n",
       "      <td>7.705000e+03</td>\n",
       "      <td>10000.000000</td>\n",
       "      <td>10000.000000</td>\n",
       "      <td>10000.000000</td>\n",
       "      <td>1.000000e+04</td>\n",
       "      <td>10000.000000</td>\n",
       "    </tr>\n",
       "    <tr>\n",
       "      <th>mean</th>\n",
       "      <td>171814.71260</td>\n",
       "      <td>848.699400</td>\n",
       "      <td>42.734409</td>\n",
       "      <td>2.627600</td>\n",
       "      <td>8.277943e+05</td>\n",
       "      <td>1.870100</td>\n",
       "      <td>0.680400</td>\n",
       "      <td>0.523500</td>\n",
       "      <td>1.478669e+05</td>\n",
       "      <td>0.182000</td>\n",
       "    </tr>\n",
       "    <tr>\n",
       "      <th>std</th>\n",
       "      <td>33708.23812</td>\n",
       "      <td>65.448519</td>\n",
       "      <td>12.179971</td>\n",
       "      <td>1.980836</td>\n",
       "      <td>1.980614e+06</td>\n",
       "      <td>0.792647</td>\n",
       "      <td>0.466345</td>\n",
       "      <td>0.499472</td>\n",
       "      <td>1.393885e+05</td>\n",
       "      <td>0.385864</td>\n",
       "    </tr>\n",
       "    <tr>\n",
       "      <th>min</th>\n",
       "      <td>94561.00000</td>\n",
       "      <td>642.000000</td>\n",
       "      <td>18.000000</td>\n",
       "      <td>0.000000</td>\n",
       "      <td>0.000000e+00</td>\n",
       "      <td>0.000000</td>\n",
       "      <td>0.000000</td>\n",
       "      <td>0.000000</td>\n",
       "      <td>2.546300e+03</td>\n",
       "      <td>0.000000</td>\n",
       "    </tr>\n",
       "    <tr>\n",
       "      <th>25%</th>\n",
       "      <td>142810.25000</td>\n",
       "      <td>802.000000</td>\n",
       "      <td>33.000000</td>\n",
       "      <td>0.000000</td>\n",
       "      <td>2.955542e+05</td>\n",
       "      <td>1.000000</td>\n",
       "      <td>0.000000</td>\n",
       "      <td>0.000000</td>\n",
       "      <td>7.525190e+04</td>\n",
       "      <td>0.000000</td>\n",
       "    </tr>\n",
       "    <tr>\n",
       "      <th>50%</th>\n",
       "      <td>172728.00000</td>\n",
       "      <td>853.000000</td>\n",
       "      <td>40.000000</td>\n",
       "      <td>3.000000</td>\n",
       "      <td>5.242722e+05</td>\n",
       "      <td>2.000000</td>\n",
       "      <td>1.000000</td>\n",
       "      <td>1.000000</td>\n",
       "      <td>1.196581e+05</td>\n",
       "      <td>0.000000</td>\n",
       "    </tr>\n",
       "    <tr>\n",
       "      <th>75%</th>\n",
       "      <td>201261.75000</td>\n",
       "      <td>900.000000</td>\n",
       "      <td>51.000000</td>\n",
       "      <td>4.000000</td>\n",
       "      <td>9.807058e+05</td>\n",
       "      <td>2.000000</td>\n",
       "      <td>1.000000</td>\n",
       "      <td>1.000000</td>\n",
       "      <td>1.745005e+05</td>\n",
       "      <td>0.000000</td>\n",
       "    </tr>\n",
       "    <tr>\n",
       "      <th>max</th>\n",
       "      <td>229145.00000</td>\n",
       "      <td>1000.000000</td>\n",
       "      <td>86.000000</td>\n",
       "      <td>9.000000</td>\n",
       "      <td>1.191136e+08</td>\n",
       "      <td>5.000000</td>\n",
       "      <td>1.000000</td>\n",
       "      <td>1.000000</td>\n",
       "      <td>1.395064e+06</td>\n",
       "      <td>1.000000</td>\n",
       "    </tr>\n",
       "  </tbody>\n",
       "</table>\n",
       "</div>"
      ],
      "text/plain": [
       "             USERID         score          age        equity       balance  \\\n",
       "count  10000.00000   10000.000000  9974.000000  10000.000000  7.705000e+03   \n",
       "mean   171814.71260  848.699400    42.734409    2.627600      8.277943e+05   \n",
       "std    33708.23812   65.448519     12.179971    1.980836      1.980614e+06   \n",
       "min    94561.00000   642.000000    18.000000    0.000000      0.000000e+00   \n",
       "25%    142810.25000  802.000000    33.000000    0.000000      2.955542e+05   \n",
       "50%    172728.00000  853.000000    40.000000    3.000000      5.242722e+05   \n",
       "75%    201261.75000  900.000000    51.000000    4.000000      9.807058e+05   \n",
       "max    229145.00000  1000.000000   86.000000    9.000000      1.191136e+08   \n",
       "\n",
       "           products   credit_card  last_activity    EST_SALARY         churn  \n",
       "count  10000.000000  10000.000000  10000.000000   1.000000e+04  10000.000000  \n",
       "mean   1.870100      0.680400      0.523500       1.478669e+05  0.182000      \n",
       "std    0.792647      0.466345      0.499472       1.393885e+05  0.385864      \n",
       "min    0.000000      0.000000      0.000000       2.546300e+03  0.000000      \n",
       "25%    1.000000      0.000000      0.000000       7.525190e+04  0.000000      \n",
       "50%    2.000000      1.000000      1.000000       1.196581e+05  0.000000      \n",
       "75%    2.000000      1.000000      1.000000       1.745005e+05  0.000000      \n",
       "max    5.000000      1.000000      1.000000       1.395064e+06  1.000000      "
      ]
     },
     "execution_count": 11,
     "metadata": {},
     "output_type": "execute_result"
    }
   ],
   "source": [
    "df.describe()"
   ]
  },
  {
   "cell_type": "markdown",
   "id": "16cb7215-4adb-4991-a263-10b1f6d3562e",
   "metadata": {},
   "source": [
    "Обзор количественных данных позволяет убедиться в том, что в данных нет явных аномалий и позволяет сформировать общее представление о значениях.  \n",
    "Также обзор подтверждает выводы сделанные по общей гистограмме и предоставляет новые данные:\n",
    "- Возраст клиентов корректный: минимальный 18 лет, максимальный 86 лет;\n",
    "- Баланс клиентов не опускается ниже 0;\n",
    "- Средний и медианный показатели рейтинга и возраста близки между собой по значению, а потому эти значения имеют нормальное распределение;\n",
    "- 75-й перцентиль баланса и зарплаты клиентов во много раз отличается от их максимума, что подтверждает большие выбросы в этих данных."
   ]
  },
  {
   "cell_type": "markdown",
   "id": "053958f4-c619-430d-a3f7-097d44fde024",
   "metadata": {},
   "source": [
    "# Предобработка данных <a id='prepare'></a>"
   ]
  },
  {
   "cell_type": "markdown",
   "id": "7feae115-5101-4d1c-aa20-c2b6ac7acb96",
   "metadata": {},
   "source": [
    "## Переименование столбцов"
   ]
  },
  {
   "cell_type": "markdown",
   "id": "f3b43eb0-558e-4d29-a763-b93d7f24f5f8",
   "metadata": {},
   "source": [
    "Приведём наименования столбцов `USERID` и `EST_SALARY` к стилю snake_case."
   ]
  },
  {
   "cell_type": "code",
   "execution_count": 12,
   "id": "29cca58e-14e1-4d52-9b55-900b6ea6d5a5",
   "metadata": {
    "tags": []
   },
   "outputs": [
    {
     "data": {
      "text/plain": [
       "Index(['user_id', 'score', 'city', 'gender', 'age', 'equity', 'balance',\n",
       "       'products', 'credit_card', 'last_activity', 'est_salary', 'churn'],\n",
       "      dtype='object')"
      ]
     },
     "execution_count": 12,
     "metadata": {},
     "output_type": "execute_result"
    }
   ],
   "source": [
    "# Переименовываем столбцы\n",
    "\n",
    "df = df.rename(columns={'USERID': 'user_id',\n",
    "                        'EST_SALARY': 'est_salary'\n",
    "                        })\n",
    "# Выводим наименование столбцов, чтобы убедиться в корректности изменений\n",
    "\n",
    "df.columns"
   ]
  },
  {
   "cell_type": "markdown",
   "id": "c16a3139-ca8d-4284-bf3d-7a9c007046cd",
   "metadata": {},
   "source": [
    "Столбцы успешно переименованы и теперь соответствуют стилю snake_case."
   ]
  },
  {
   "cell_type": "markdown",
   "id": "2411d89b-0aae-47c4-8f13-2d119355d671",
   "metadata": {},
   "source": [
    "## Дубликаты"
   ]
  },
  {
   "cell_type": "markdown",
   "id": "9d98947d-4207-408a-953b-3b374989c134",
   "metadata": {},
   "source": [
    "### Явные дубликаты"
   ]
  },
  {
   "cell_type": "code",
   "execution_count": 13,
   "id": "b50f1d71-cf6c-4f11-a72a-9f1dda245911",
   "metadata": {
    "tags": []
   },
   "outputs": [
    {
     "data": {
      "text/plain": [
       "0"
      ]
     },
     "execution_count": 13,
     "metadata": {},
     "output_type": "execute_result"
    }
   ],
   "source": [
    "df.duplicated().sum()"
   ]
  },
  {
   "cell_type": "markdown",
   "id": "395c4d3b-07c5-49c6-8456-175b0361cf3d",
   "metadata": {},
   "source": [
    "Явные дубликаты отсутствуют."
   ]
  },
  {
   "cell_type": "markdown",
   "id": "2b13c9a3-c38e-4a8d-a17f-d837750fa86b",
   "metadata": {},
   "source": [
    "### Неявные дубликаты"
   ]
  },
  {
   "cell_type": "code",
   "execution_count": 14,
   "id": "843619a3-d6ee-41e2-883f-da644c46b482",
   "metadata": {
    "tags": []
   },
   "outputs": [
    {
     "data": {
      "text/plain": [
       "73"
      ]
     },
     "execution_count": 14,
     "metadata": {},
     "output_type": "execute_result"
    }
   ],
   "source": [
    "df['user_id'].duplicated().sum()"
   ]
  },
  {
   "cell_type": "markdown",
   "id": "0851493b-0a81-4aef-916d-fbf299bcb400",
   "metadata": {},
   "source": [
    "Имеется 73 дубликата по идентификатору клиента. Посмотрим на данные дубликаты:"
   ]
  },
  {
   "cell_type": "code",
   "execution_count": 15,
   "id": "8e925309-f4ae-4d48-a0e5-5ee41c6ce030",
   "metadata": {
    "tags": []
   },
   "outputs": [
    {
     "data": {
      "text/html": [
       "<div>\n",
       "<style scoped>\n",
       "    .dataframe tbody tr th:only-of-type {\n",
       "        vertical-align: middle;\n",
       "    }\n",
       "\n",
       "    .dataframe tbody tr th {\n",
       "        vertical-align: top;\n",
       "    }\n",
       "\n",
       "    .dataframe thead th {\n",
       "        text-align: right;\n",
       "    }\n",
       "</style>\n",
       "<table border=\"1\" class=\"dataframe\">\n",
       "  <thead>\n",
       "    <tr style=\"text-align: right;\">\n",
       "      <th></th>\n",
       "      <th>user_id</th>\n",
       "      <th>score</th>\n",
       "      <th>city</th>\n",
       "      <th>gender</th>\n",
       "      <th>age</th>\n",
       "      <th>equity</th>\n",
       "      <th>balance</th>\n",
       "      <th>products</th>\n",
       "      <th>credit_card</th>\n",
       "      <th>last_activity</th>\n",
       "      <th>est_salary</th>\n",
       "      <th>churn</th>\n",
       "    </tr>\n",
       "  </thead>\n",
       "  <tbody>\n",
       "    <tr>\n",
       "      <th>1893</th>\n",
       "      <td>116540</td>\n",
       "      <td>883.0</td>\n",
       "      <td>Рыбинск</td>\n",
       "      <td>Ж</td>\n",
       "      <td>55.0</td>\n",
       "      <td>1</td>\n",
       "      <td>362756.49</td>\n",
       "      <td>3</td>\n",
       "      <td>0</td>\n",
       "      <td>1</td>\n",
       "      <td>175920.48</td>\n",
       "      <td>1</td>\n",
       "    </tr>\n",
       "    <tr>\n",
       "      <th>7694</th>\n",
       "      <td>116540</td>\n",
       "      <td>887.0</td>\n",
       "      <td>Ярославль</td>\n",
       "      <td>Ж</td>\n",
       "      <td>38.0</td>\n",
       "      <td>0</td>\n",
       "      <td>NaN</td>\n",
       "      <td>1</td>\n",
       "      <td>0</td>\n",
       "      <td>1</td>\n",
       "      <td>119247.61</td>\n",
       "      <td>0</td>\n",
       "    </tr>\n",
       "    <tr>\n",
       "      <th>7542</th>\n",
       "      <td>117943</td>\n",
       "      <td>880.0</td>\n",
       "      <td>Ярославль</td>\n",
       "      <td>Ж</td>\n",
       "      <td>40.0</td>\n",
       "      <td>0</td>\n",
       "      <td>NaN</td>\n",
       "      <td>1</td>\n",
       "      <td>1</td>\n",
       "      <td>0</td>\n",
       "      <td>137718.93</td>\n",
       "      <td>0</td>\n",
       "    </tr>\n",
       "    <tr>\n",
       "      <th>4866</th>\n",
       "      <td>117943</td>\n",
       "      <td>855.0</td>\n",
       "      <td>Рыбинск</td>\n",
       "      <td>Ж</td>\n",
       "      <td>32.0</td>\n",
       "      <td>6</td>\n",
       "      <td>1036832.93</td>\n",
       "      <td>4</td>\n",
       "      <td>1</td>\n",
       "      <td>1</td>\n",
       "      <td>107792.71</td>\n",
       "      <td>1</td>\n",
       "    </tr>\n",
       "    <tr>\n",
       "      <th>5896</th>\n",
       "      <td>120258</td>\n",
       "      <td>905.0</td>\n",
       "      <td>Ярославль</td>\n",
       "      <td>М</td>\n",
       "      <td>30.0</td>\n",
       "      <td>0</td>\n",
       "      <td>NaN</td>\n",
       "      <td>1</td>\n",
       "      <td>1</td>\n",
       "      <td>1</td>\n",
       "      <td>146427.96</td>\n",
       "      <td>0</td>\n",
       "    </tr>\n",
       "    <tr>\n",
       "      <th>5863</th>\n",
       "      <td>120258</td>\n",
       "      <td>908.0</td>\n",
       "      <td>Рыбинск</td>\n",
       "      <td>Ж</td>\n",
       "      <td>38.0</td>\n",
       "      <td>4</td>\n",
       "      <td>2213581.63</td>\n",
       "      <td>2</td>\n",
       "      <td>0</td>\n",
       "      <td>1</td>\n",
       "      <td>160327.77</td>\n",
       "      <td>1</td>\n",
       "    </tr>\n",
       "    <tr>\n",
       "      <th>1411</th>\n",
       "      <td>123461</td>\n",
       "      <td>829.0</td>\n",
       "      <td>Ярославль</td>\n",
       "      <td>Ж</td>\n",
       "      <td>59.0</td>\n",
       "      <td>0</td>\n",
       "      <td>96222.44</td>\n",
       "      <td>2</td>\n",
       "      <td>0</td>\n",
       "      <td>1</td>\n",
       "      <td>102771.55</td>\n",
       "      <td>1</td>\n",
       "    </tr>\n",
       "    <tr>\n",
       "      <th>8638</th>\n",
       "      <td>123461</td>\n",
       "      <td>934.0</td>\n",
       "      <td>Рыбинск</td>\n",
       "      <td>М</td>\n",
       "      <td>34.0</td>\n",
       "      <td>0</td>\n",
       "      <td>NaN</td>\n",
       "      <td>2</td>\n",
       "      <td>1</td>\n",
       "      <td>0</td>\n",
       "      <td>291619.27</td>\n",
       "      <td>0</td>\n",
       "    </tr>\n",
       "    <tr>\n",
       "      <th>8164</th>\n",
       "      <td>124450</td>\n",
       "      <td>859.0</td>\n",
       "      <td>Ярославль</td>\n",
       "      <td>Ж</td>\n",
       "      <td>38.0</td>\n",
       "      <td>6</td>\n",
       "      <td>516811.20</td>\n",
       "      <td>1</td>\n",
       "      <td>1</td>\n",
       "      <td>1</td>\n",
       "      <td>95144.63</td>\n",
       "      <td>1</td>\n",
       "    </tr>\n",
       "    <tr>\n",
       "      <th>9775</th>\n",
       "      <td>124450</td>\n",
       "      <td>758.0</td>\n",
       "      <td>Рыбинск</td>\n",
       "      <td>Ж</td>\n",
       "      <td>36.0</td>\n",
       "      <td>0</td>\n",
       "      <td>73574.07</td>\n",
       "      <td>2</td>\n",
       "      <td>0</td>\n",
       "      <td>1</td>\n",
       "      <td>79963.59</td>\n",
       "      <td>0</td>\n",
       "    </tr>\n",
       "  </tbody>\n",
       "</table>\n",
       "</div>"
      ],
      "text/plain": [
       "      user_id  score       city gender   age  equity     balance  products  \\\n",
       "1893  116540   883.0  Рыбинск    Ж      55.0  1       362756.49   3          \n",
       "7694  116540   887.0  Ярославль  Ж      38.0  0      NaN          1          \n",
       "7542  117943   880.0  Ярославль  Ж      40.0  0      NaN          1          \n",
       "4866  117943   855.0  Рыбинск    Ж      32.0  6       1036832.93  4          \n",
       "5896  120258   905.0  Ярославль  М      30.0  0      NaN          1          \n",
       "5863  120258   908.0  Рыбинск    Ж      38.0  4       2213581.63  2          \n",
       "1411  123461   829.0  Ярославль  Ж      59.0  0       96222.44    2          \n",
       "8638  123461   934.0  Рыбинск    М      34.0  0      NaN          2          \n",
       "8164  124450   859.0  Ярославль  Ж      38.0  6       516811.20   1          \n",
       "9775  124450   758.0  Рыбинск    Ж      36.0  0       73574.07    2          \n",
       "\n",
       "      credit_card  last_activity  est_salary  churn  \n",
       "1893  0            1              175920.48   1      \n",
       "7694  0            1              119247.61   0      \n",
       "7542  1            0              137718.93   0      \n",
       "4866  1            1              107792.71   1      \n",
       "5896  1            1              146427.96   0      \n",
       "5863  0            1              160327.77   1      \n",
       "1411  0            1              102771.55   1      \n",
       "8638  1            0              291619.27   0      \n",
       "8164  1            1              95144.63    1      \n",
       "9775  0            1              79963.59    0      "
      ]
     },
     "execution_count": 15,
     "metadata": {},
     "output_type": "execute_result"
    }
   ],
   "source": [
    "# Показываем первые 10 полного набора записей-дубликатов по user_id\n",
    "\n",
    "df[df['user_id'].duplicated(keep=False)].sort_values('user_id').head(10)"
   ]
  },
  {
   "cell_type": "markdown",
   "id": "e0d2505c-a65a-455b-911c-86e9dab6179c",
   "metadata": {},
   "source": [
    "Клиенты с одинаковыми `user_id` не имеют общих черт, соответственно это разные люди.  \n",
    "Закономерность, которая объединяет данные дубли — это то что задублированные клиенты присутствуют в разных городах.  \n",
    "Нет ни одного дубля одновременно по `user_id` и `city`:"
   ]
  },
  {
   "cell_type": "code",
   "execution_count": 16,
   "id": "388904a8-381b-4697-b10d-b1fb7c6aae4d",
   "metadata": {
    "tags": []
   },
   "outputs": [
    {
     "data": {
      "text/plain": [
       "0"
      ]
     },
     "execution_count": 16,
     "metadata": {},
     "output_type": "execute_result"
    }
   ],
   "source": [
    "df[df[['user_id', 'city']].duplicated(keep=False)].sort_values('user_id')['user_id'].count()"
   ]
  },
  {
   "cell_type": "markdown",
   "id": "2cf4e0de-b6c6-4a9d-9543-eddf992fe53f",
   "metadata": {},
   "source": [
    "Клиенты с одинаковым `user_id` встречаются в двух городах из трёх, где представлен банк. Это города `Рыбинск` и `Ярославль`:"
   ]
  },
  {
   "cell_type": "code",
   "execution_count": 17,
   "id": "b33617f2-5617-494e-802c-97363fa1777c",
   "metadata": {
    "tags": []
   },
   "outputs": [
    {
     "data": {
      "text/plain": [
       "array(['Рыбинск', 'Ярославль'], dtype=object)"
      ]
     },
     "execution_count": 17,
     "metadata": {},
     "output_type": "execute_result"
    }
   ],
   "source": [
    "df[df['user_id'].duplicated(keep=False)].sort_values('user_id')['city'].unique()"
   ]
  },
  {
   "cell_type": "markdown",
   "id": "3c81a137-9bde-465d-93ef-2e1658615338",
   "metadata": {},
   "source": [
    "По всей видимости, в результате какого-то дефекта в филиалах банка в `Рыбинск` и `Ярославль` возможно присвоение клиенту уже существующего в системе `user_id`. О данном явлении следует сообщить в отдел технической поддержки, чтобы они исправили данный дефект в дальнейшем.  \n",
    "А сейчас, чтобы избавиться от дублей по `user_id` присвоим таким пользователям иные `user_id`. Новые `user_id` дадим по правилу `user_id * 10`. Это позволит дать дубликатам уникальные `user_id`, т.к. минимальный `user_id` дубликата равен `116540`, а максимальный до данной операции равен `229145`."
   ]
  },
  {
   "cell_type": "code",
   "execution_count": 18,
   "id": "af7762d1-422b-4869-a7ca-180020404148",
   "metadata": {
    "tags": []
   },
   "outputs": [],
   "source": [
    "# Все задублированные user_id умножаем на 10\n",
    "\n",
    "df.loc[df['user_id'].duplicated(), ['user_id']] = df.loc[df['user_id'].duplicated(), ['user_id']] * 10"
   ]
  },
  {
   "cell_type": "markdown",
   "id": "9bd985ce-20df-4afe-acac-94d30ef430b6",
   "metadata": {},
   "source": [
    "Проверим наличие дубликатов:"
   ]
  },
  {
   "cell_type": "code",
   "execution_count": 19,
   "id": "ec5b8fef-8030-42b8-b504-67442c5044ef",
   "metadata": {},
   "outputs": [
    {
     "data": {
      "text/plain": [
       "0"
      ]
     },
     "execution_count": 19,
     "metadata": {},
     "output_type": "execute_result"
    }
   ],
   "source": [
    "df['user_id'].duplicated().sum()"
   ]
  },
  {
   "cell_type": "markdown",
   "id": "c174ba18-917e-4af5-bb67-d6fd03ceef07",
   "metadata": {},
   "source": [
    "Дубликатов в датафрейме более нет, при этом удалось сохранить записи всех клиентов."
   ]
  },
  {
   "cell_type": "markdown",
   "id": "6e6021c1-e0f2-4426-8fe4-2ea90bae7051",
   "metadata": {},
   "source": [
    "## Поиск и обработка аномальных и выбивающихся значений"
   ]
  },
  {
   "cell_type": "markdown",
   "id": "41061e93-ce13-4587-8fe3-e8e929b3c328",
   "metadata": {},
   "source": [
    "Первое представление по граничным значениям в данных мы уже получили в разделах [Общая гистограмма](#common_hist) и [Обзор количественных данных](#describe). Но пока не рассматривали такие категориальные данные, как город и пол.\n",
    "Также стоит обратить внимание на клиентов с граничными значениями количества продуктов банка."
   ]
  },
  {
   "cell_type": "markdown",
   "id": "758d8cfd-370e-46f1-a939-b8618f5e89bb",
   "metadata": {},
   "source": [
    "### Город"
   ]
  },
  {
   "cell_type": "code",
   "execution_count": 20,
   "id": "db01e78d-985e-4773-8aad-1603352a7381",
   "metadata": {
    "tags": []
   },
   "outputs": [
    {
     "data": {
      "text/plain": [
       "Ярославль    5888\n",
       "Рыбинск      2695\n",
       "Ростов       1417\n",
       "Name: city, dtype: int64"
      ]
     },
     "execution_count": 20,
     "metadata": {},
     "output_type": "execute_result"
    }
   ],
   "source": [
    "df['city'].value_counts()"
   ]
  },
  {
   "cell_type": "markdown",
   "id": "098b3978-3e5a-46a9-a1cf-b34a1e88cd95",
   "metadata": {},
   "source": [
    "Как и заявлялось ранее, присутствуют три города. Аномалий не обнаружено."
   ]
  },
  {
   "cell_type": "markdown",
   "id": "a431ddd1-969a-4a0c-a33c-6b8db1c784ed",
   "metadata": {},
   "source": [
    "### Пол клиента"
   ]
  },
  {
   "cell_type": "code",
   "execution_count": 21,
   "id": "703c8ea0-632f-4ca5-b66d-f2d2d9af530e",
   "metadata": {
    "tags": []
   },
   "outputs": [
    {
     "data": {
      "text/plain": [
       "М    5005\n",
       "Ж    4995\n",
       "Name: gender, dtype: int64"
      ]
     },
     "execution_count": 21,
     "metadata": {},
     "output_type": "execute_result"
    }
   ],
   "source": [
    "df['gender'].value_counts()"
   ]
  },
  {
   "cell_type": "markdown",
   "id": "57609938-99dc-44b3-b7fa-dcb1d8d5d2b9",
   "metadata": {},
   "source": [
    "Примерно равное распределение клиентов на два пола. Аномалий не обнаружено."
   ]
  },
  {
   "cell_type": "markdown",
   "id": "ce8df330-b98c-4cad-b8ce-c378f7bc7816",
   "metadata": {},
   "source": [
    "### Количество продуктов банка"
   ]
  },
  {
   "cell_type": "code",
   "execution_count": 22,
   "id": "d5a216af-ac64-4f30-a87c-7ff285f5367f",
   "metadata": {
    "tags": []
   },
   "outputs": [
    {
     "data": {
      "text/plain": [
       "2    5126\n",
       "1    3341\n",
       "3    1039\n",
       "4    474 \n",
       "5    19  \n",
       "0    1   \n",
       "Name: products, dtype: int64"
      ]
     },
     "execution_count": 22,
     "metadata": {},
     "output_type": "execute_result"
    }
   ],
   "source": [
    "df['products'].value_counts()"
   ]
  },
  {
   "cell_type": "code",
   "execution_count": 23,
   "id": "d304e2b1-a070-4d96-8045-b12e7854557b",
   "metadata": {
    "tags": []
   },
   "outputs": [
    {
     "data": {
      "text/html": [
       "<div>\n",
       "<style scoped>\n",
       "    .dataframe tbody tr th:only-of-type {\n",
       "        vertical-align: middle;\n",
       "    }\n",
       "\n",
       "    .dataframe tbody tr th {\n",
       "        vertical-align: top;\n",
       "    }\n",
       "\n",
       "    .dataframe thead th {\n",
       "        text-align: right;\n",
       "    }\n",
       "</style>\n",
       "<table border=\"1\" class=\"dataframe\">\n",
       "  <thead>\n",
       "    <tr style=\"text-align: right;\">\n",
       "      <th></th>\n",
       "      <th>user_id</th>\n",
       "      <th>score</th>\n",
       "      <th>city</th>\n",
       "      <th>gender</th>\n",
       "      <th>age</th>\n",
       "      <th>equity</th>\n",
       "      <th>balance</th>\n",
       "      <th>products</th>\n",
       "      <th>credit_card</th>\n",
       "      <th>last_activity</th>\n",
       "      <th>est_salary</th>\n",
       "      <th>churn</th>\n",
       "    </tr>\n",
       "  </thead>\n",
       "  <tbody>\n",
       "    <tr>\n",
       "      <th>8957</th>\n",
       "      <td>147837</td>\n",
       "      <td>962.0</td>\n",
       "      <td>Рыбинск</td>\n",
       "      <td>Ж</td>\n",
       "      <td>79.0</td>\n",
       "      <td>3</td>\n",
       "      <td>NaN</td>\n",
       "      <td>0</td>\n",
       "      <td>0</td>\n",
       "      <td>0</td>\n",
       "      <td>25063.96</td>\n",
       "      <td>1</td>\n",
       "    </tr>\n",
       "  </tbody>\n",
       "</table>\n",
       "</div>"
      ],
      "text/plain": [
       "      user_id  score     city gender   age  equity  balance  products  \\\n",
       "8957  147837   962.0  Рыбинск  Ж      79.0  3      NaN       0          \n",
       "\n",
       "      credit_card  last_activity  est_salary  churn  \n",
       "8957  0            0              25063.96    1      "
      ]
     },
     "execution_count": 23,
     "metadata": {},
     "output_type": "execute_result"
    }
   ],
   "source": [
    "df[df['products'] == 0]"
   ]
  },
  {
   "cell_type": "code",
   "execution_count": 24,
   "id": "076047e2-5148-4f41-a0ad-59e30ea6d9fd",
   "metadata": {
    "tags": []
   },
   "outputs": [
    {
     "data": {
      "text/html": [
       "<div>\n",
       "<style scoped>\n",
       "    .dataframe tbody tr th:only-of-type {\n",
       "        vertical-align: middle;\n",
       "    }\n",
       "\n",
       "    .dataframe tbody tr th {\n",
       "        vertical-align: top;\n",
       "    }\n",
       "\n",
       "    .dataframe thead th {\n",
       "        text-align: right;\n",
       "    }\n",
       "</style>\n",
       "<table border=\"1\" class=\"dataframe\">\n",
       "  <thead>\n",
       "    <tr style=\"text-align: right;\">\n",
       "      <th></th>\n",
       "      <th>user_id</th>\n",
       "      <th>score</th>\n",
       "      <th>city</th>\n",
       "      <th>gender</th>\n",
       "      <th>age</th>\n",
       "      <th>equity</th>\n",
       "      <th>balance</th>\n",
       "      <th>products</th>\n",
       "      <th>credit_card</th>\n",
       "      <th>last_activity</th>\n",
       "      <th>est_salary</th>\n",
       "      <th>churn</th>\n",
       "    </tr>\n",
       "  </thead>\n",
       "  <tbody>\n",
       "    <tr>\n",
       "      <th>401</th>\n",
       "      <td>187761</td>\n",
       "      <td>868.0</td>\n",
       "      <td>Ярославль</td>\n",
       "      <td>Ж</td>\n",
       "      <td>19.0</td>\n",
       "      <td>4</td>\n",
       "      <td>8126.88</td>\n",
       "      <td>5</td>\n",
       "      <td>1</td>\n",
       "      <td>1</td>\n",
       "      <td>85323.98</td>\n",
       "      <td>0</td>\n",
       "    </tr>\n",
       "    <tr>\n",
       "      <th>523</th>\n",
       "      <td>195914</td>\n",
       "      <td>852.0</td>\n",
       "      <td>Ярославль</td>\n",
       "      <td>Ж</td>\n",
       "      <td>39.0</td>\n",
       "      <td>5</td>\n",
       "      <td>1388255.70</td>\n",
       "      <td>5</td>\n",
       "      <td>1</td>\n",
       "      <td>1</td>\n",
       "      <td>135432.48</td>\n",
       "      <td>1</td>\n",
       "    </tr>\n",
       "    <tr>\n",
       "      <th>893</th>\n",
       "      <td>132781</td>\n",
       "      <td>820.0</td>\n",
       "      <td>Ярославль</td>\n",
       "      <td>М</td>\n",
       "      <td>37.0</td>\n",
       "      <td>5</td>\n",
       "      <td>259677.16</td>\n",
       "      <td>5</td>\n",
       "      <td>1</td>\n",
       "      <td>1</td>\n",
       "      <td>124261.01</td>\n",
       "      <td>0</td>\n",
       "    </tr>\n",
       "    <tr>\n",
       "      <th>1019</th>\n",
       "      <td>122402</td>\n",
       "      <td>833.0</td>\n",
       "      <td>Ростов</td>\n",
       "      <td>М</td>\n",
       "      <td>32.0</td>\n",
       "      <td>3</td>\n",
       "      <td>234560.94</td>\n",
       "      <td>5</td>\n",
       "      <td>1</td>\n",
       "      <td>1</td>\n",
       "      <td>106033.79</td>\n",
       "      <td>0</td>\n",
       "    </tr>\n",
       "    <tr>\n",
       "      <th>1346</th>\n",
       "      <td>159649</td>\n",
       "      <td>847.0</td>\n",
       "      <td>Ярославль</td>\n",
       "      <td>Ж</td>\n",
       "      <td>39.0</td>\n",
       "      <td>1</td>\n",
       "      <td>137974.02</td>\n",
       "      <td>5</td>\n",
       "      <td>1</td>\n",
       "      <td>1</td>\n",
       "      <td>219672.26</td>\n",
       "      <td>0</td>\n",
       "    </tr>\n",
       "  </tbody>\n",
       "</table>\n",
       "</div>"
      ],
      "text/plain": [
       "      user_id  score       city gender   age  equity     balance  products  \\\n",
       "401   187761   868.0  Ярославль  Ж      19.0  4       8126.88     5          \n",
       "523   195914   852.0  Ярославль  Ж      39.0  5       1388255.70  5          \n",
       "893   132781   820.0  Ярославль  М      37.0  5       259677.16   5          \n",
       "1019  122402   833.0  Ростов     М      32.0  3       234560.94   5          \n",
       "1346  159649   847.0  Ярославль  Ж      39.0  1       137974.02   5          \n",
       "\n",
       "      credit_card  last_activity  est_salary  churn  \n",
       "401   1            1              85323.98    0      \n",
       "523   1            1              135432.48   1      \n",
       "893   1            1              124261.01   0      \n",
       "1019  1            1              106033.79   0      \n",
       "1346  1            1              219672.26   0      "
      ]
     },
     "execution_count": 24,
     "metadata": {},
     "output_type": "execute_result"
    }
   ],
   "source": [
    "df[df['products'] == 5].head(5)"
   ]
  },
  {
   "cell_type": "markdown",
   "id": "68fa435c-69af-439e-8e62-572d319dbc6b",
   "metadata": {},
   "source": [
    "Аномалий не обнаружено."
   ]
  },
  {
   "cell_type": "markdown",
   "id": "f98a411d-4e80-4f32-8159-edfdc9fe2f07",
   "metadata": {},
   "source": [
    "## Пропуски"
   ]
  },
  {
   "cell_type": "code",
   "execution_count": 25,
   "id": "60ecb0a7-39da-4b2c-bafe-f67f0b464987",
   "metadata": {
    "tags": []
   },
   "outputs": [
    {
     "data": {
      "text/plain": [
       "balance          0.2295\n",
       "age              0.0026\n",
       "user_id          0.0000\n",
       "score            0.0000\n",
       "city             0.0000\n",
       "gender           0.0000\n",
       "equity           0.0000\n",
       "products         0.0000\n",
       "credit_card      0.0000\n",
       "last_activity    0.0000\n",
       "est_salary       0.0000\n",
       "churn            0.0000\n",
       "dtype: float64"
      ]
     },
     "execution_count": 25,
     "metadata": {},
     "output_type": "execute_result"
    }
   ],
   "source": [
    "# Ищем строки с пропусками с помощью isna(), подчитываем их среднее кол-во и\n",
    "# сортируем от большего к меньшему. В итоге отображается доля пропусков в столбцах\n",
    "\n",
    "df.isna().mean().sort_values(ascending=False)"
   ]
  },
  {
   "cell_type": "markdown",
   "id": "7b5288e0-0137-412b-931d-7415aeb53ef5",
   "metadata": {},
   "source": [
    "Пропуски содержатся в колонках с возрастом (0.26% пропусков) и балансом клиентов (22.95% пропусков).  \n",
    "Для выяснения причин появления пропусков следует связаться с ответственными за выгрузку специалистами для установления причин их появления. Возможно, имеет место техническая ошибка на одном из этапов выгрузки и преобразования данных.  \n",
    "Но пока попробуем разобраться в природе данных пропусков и подумаем что можно с ними сделать."
   ]
  },
  {
   "cell_type": "markdown",
   "id": "bd886ace-6bf0-4e6d-8653-d22f5ad68acc",
   "metadata": {},
   "source": [
    "### Обработка пропусков в возрасте клиентов"
   ]
  },
  {
   "cell_type": "markdown",
   "id": "2585ace3-ff3d-4858-ba50-053b29245ebc",
   "metadata": {},
   "source": [
    "Чтобы ответить на вопрос о том, распределены пропуски случайно или имеется зависимость от каких либо данных, создадим сводную таблицу, где по каждому признаку будет посчитана мера центральной тенденции.  \n",
    "Для расчёта такой таблицы добавим столбец-признак `age_na`, принимающим 1, если в возрасте пропущено значение, и 0 если нет. А также напишем функцию расчёта таблицы и воспользуемся ей."
   ]
  },
  {
   "cell_type": "code",
   "execution_count": 26,
   "id": "8cf3208b-19e5-489d-8e54-5f26c0e3248d",
   "metadata": {
    "tags": []
   },
   "outputs": [],
   "source": [
    "# Всем записям сначала присваиваем столбец age_na равный 0\n",
    "# Затем, в случае если возраст в записи пропущен, присваем age_na значение 1\n",
    "\n",
    "df['age_na'] = 0\n",
    "df.loc[df['age'].isna(), ['age_na']] = 1"
   ]
  },
  {
   "cell_type": "code",
   "execution_count": 27,
   "id": "edcda2d5-9b44-4b22-9c5a-9be0f3a425e4",
   "metadata": {},
   "outputs": [
    {
     "data": {
      "text/html": [
       "<div>\n",
       "<style scoped>\n",
       "    .dataframe tbody tr th:only-of-type {\n",
       "        vertical-align: middle;\n",
       "    }\n",
       "\n",
       "    .dataframe tbody tr th {\n",
       "        vertical-align: top;\n",
       "    }\n",
       "\n",
       "    .dataframe thead th {\n",
       "        text-align: right;\n",
       "    }\n",
       "</style>\n",
       "<table border=\"1\" class=\"dataframe\">\n",
       "  <thead>\n",
       "    <tr style=\"text-align: right;\">\n",
       "      <th></th>\n",
       "      <th>Значение пропущено</th>\n",
       "      <th>Значение не пропущено</th>\n",
       "      <th>Относительная разница</th>\n",
       "    </tr>\n",
       "  </thead>\n",
       "  <tbody>\n",
       "    <tr>\n",
       "      <th>Средний кредитный скоринга</th>\n",
       "      <td>855</td>\n",
       "      <td>849</td>\n",
       "      <td>0.71%</td>\n",
       "    </tr>\n",
       "    <tr>\n",
       "      <th>Средняя зарплата</th>\n",
       "      <td>178585</td>\n",
       "      <td>147787</td>\n",
       "      <td>20.84%</td>\n",
       "    </tr>\n",
       "    <tr>\n",
       "      <th>Медианная зарплата</th>\n",
       "      <td>142599</td>\n",
       "      <td>119627</td>\n",
       "      <td>19.2%</td>\n",
       "    </tr>\n",
       "    <tr>\n",
       "      <th>Средний баланс</th>\n",
       "      <td>1250034</td>\n",
       "      <td>827246</td>\n",
       "      <td>51.11%</td>\n",
       "    </tr>\n",
       "    <tr>\n",
       "      <th>Медианный баланс</th>\n",
       "      <td>417361</td>\n",
       "      <td>524295</td>\n",
       "      <td>-20.4%</td>\n",
       "    </tr>\n",
       "    <tr>\n",
       "      <th>Медианное количество продуктов</th>\n",
       "      <td>1</td>\n",
       "      <td>2</td>\n",
       "      <td>-50.0%</td>\n",
       "    </tr>\n",
       "    <tr>\n",
       "      <th>Медианное количество баллов собственности</th>\n",
       "      <td>0</td>\n",
       "      <td>3</td>\n",
       "      <td>-100.0%</td>\n",
       "    </tr>\n",
       "    <tr>\n",
       "      <th>Мода по городу</th>\n",
       "      <td>Ярославль</td>\n",
       "      <td>Ярославль</td>\n",
       "      <td>0%</td>\n",
       "    </tr>\n",
       "    <tr>\n",
       "      <th>Мода по полу</th>\n",
       "      <td>М</td>\n",
       "      <td>М</td>\n",
       "      <td>0%</td>\n",
       "    </tr>\n",
       "    <tr>\n",
       "      <th>Мода по наличию кредитной карты</th>\n",
       "      <td>1</td>\n",
       "      <td>1</td>\n",
       "      <td>0%</td>\n",
       "    </tr>\n",
       "    <tr>\n",
       "      <th>Мода по активности клиента</th>\n",
       "      <td>1</td>\n",
       "      <td>1</td>\n",
       "      <td>0%</td>\n",
       "    </tr>\n",
       "  </tbody>\n",
       "</table>\n",
       "</div>"
      ],
      "text/plain": [
       "                                          Значение пропущено  \\\n",
       "Средний кредитный скоринга                 855                 \n",
       "Средняя зарплата                           178585              \n",
       "Медианная зарплата                         142599              \n",
       "Средний баланс                             1250034             \n",
       "Медианный баланс                           417361              \n",
       "Медианное количество продуктов             1                   \n",
       "Медианное количество баллов собственности  0                   \n",
       "Мода по городу                             Ярославль           \n",
       "Мода по полу                               М                   \n",
       "Мода по наличию кредитной карты            1                   \n",
       "Мода по активности клиента                 1                   \n",
       "\n",
       "                                          Значение не пропущено  \\\n",
       "Средний кредитный скоринга                 849                    \n",
       "Средняя зарплата                           147787                 \n",
       "Медианная зарплата                         119627                 \n",
       "Средний баланс                             827246                 \n",
       "Медианный баланс                           524295                 \n",
       "Медианное количество продуктов             2                      \n",
       "Медианное количество баллов собственности  3                      \n",
       "Мода по городу                             Ярославль              \n",
       "Мода по полу                               М                      \n",
       "Мода по наличию кредитной карты            1                      \n",
       "Мода по активности клиента                 1                      \n",
       "\n",
       "                                          Относительная разница  \n",
       "Средний кредитный скоринга                 0.71%                 \n",
       "Средняя зарплата                           20.84%                \n",
       "Медианная зарплата                         19.2%                 \n",
       "Средний баланс                             51.11%                \n",
       "Медианный баланс                           -20.4%                \n",
       "Медианное количество продуктов             -50.0%                \n",
       "Медианное количество баллов собственности  -100.0%               \n",
       "Мода по городу                             0%                    \n",
       "Мода по полу                               0%                    \n",
       "Мода по наличию кредитной карты            0%                    \n",
       "Мода по активности клиента                 0%                    "
      ]
     },
     "execution_count": 27,
     "metadata": {},
     "output_type": "execute_result"
    }
   ],
   "source": [
    "# В новом датафрейме na_dependency_df заполняем столбец \"Значение пропущено\" посчитанной мерой центральной \n",
    "# тендеции признаков для таких строк, где пропущено значение возраста. Значения округляются и приводятся к типу int.\n",
    "# Столбец \"Значение не пропущено\" заполняется аналогично, только посчитанной мерой центральной тендеции признаков \n",
    "# для таких строк, где значение возраста не пропущено.\n",
    "# Столбец \"Относительная разница\" заполняется значением 0 при создании датафрейма, расчёт производится после\n",
    "# создания датафрейма na_dependency_df.\n",
    "\n",
    "na_dependency_df = pd.DataFrame({'Значение пропущено':[df[df['age_na'] == 1]['score'].mean().round().astype('int'),\n",
    "                                                       df[df['age_na'] == 1]['est_salary'].mean().round().astype('int'),\n",
    "                                                       df[df['age_na'] == 1]['est_salary'].median().round().astype('int'),\n",
    "                                                       df[df['age_na'] == 1]['balance'].mean().round().astype('int'),\n",
    "                                                       df[df['age_na'] == 1]['balance'].median().round().astype('int'),\n",
    "                                                       df[df['age_na'] == 1]['products'].median().astype('int'),\n",
    "                                                       df[df['age_na'] == 1]['equity'].median().astype('int'),\n",
    "                                                       df[df['age_na'] == 1]['city'].mode()[0],\n",
    "                                                       df[df['age_na'] == 1]['gender'].mode()[0],\n",
    "                                                       df[df['age_na'] == 1]['credit_card'].mode()[0],\n",
    "                                                       df[df['age_na'] == 1]['last_activity'].mode()[0]],\n",
    "                                 'Значение не пропущено':[df[df['age_na'] == 0]['score'].mean().round().astype('int'),\n",
    "                                                          df[df['age_na'] == 0]['est_salary'].mean().round().astype('int'),\n",
    "                                                          df[df['age_na'] == 0]['est_salary'].median().round().astype('int'),\n",
    "                                                          df[df['age_na'] == 0]['balance'].mean().round().astype('int'),\n",
    "                                                          df[df['age_na'] == 0]['balance'].median().round().astype('int'),\n",
    "                                                          df[df['age_na'] == 0]['products'].median().astype('int'),\n",
    "                                                          df[df['age_na'] == 0]['equity'].median().astype('int'),\n",
    "                                                          df[df['age_na'] == 0]['city'].mode()[0],\n",
    "                                                          df[df['age_na'] == 0]['gender'].mode()[0],\n",
    "                                                          df[df['age_na'] == 0]['credit_card'].mode()[0],\n",
    "                                                          df[df['age_na'] == 0]['last_activity'].mode()[0]],\n",
    "                                 'Относительная разница':[0] * 11},\n",
    "                                index = ['Средний кредитный скоринга',\n",
    "                                         'Средняя зарплата',\n",
    "                                         'Медианная зарплата',\n",
    "                                         'Средний баланс',\n",
    "                                         'Медианный баланс',\n",
    "                                         'Медианное количество продуктов',\n",
    "                                         'Медианное количество баллов собственности',\n",
    "                                         'Мода по городу',\n",
    "                                         'Мода по полу',\n",
    "                                         'Мода по наличию кредитной карты',\n",
    "                                         'Мода по активности клиента'])\n",
    "\n",
    "# Расчёт относительной разницы для средних и медианных значений. Разница умножается на 100, округляется до второго знака\n",
    "# после запятой, приводится к типу str и добавляется знак процента для лучшей визуализации\n",
    "\n",
    "for i in range(7):\n",
    "    na_dependency_df.iloc[i, 2] = round((na_dependency_df.iloc[i, 0] - na_dependency_df.iloc[i, 1]) / na_dependency_df.iloc[i, 1] * 100, 2).astype('str') + '%'\n",
    "\n",
    "# Расчёт относительной разницы для значений моды. 0%, если разницы нет, 100%, если есть\n",
    "\n",
    "for i in range(7,11):\n",
    "    na_dependency_df.iloc[i, 2] = '0%' if na_dependency_df.iloc[i, 0] == na_dependency_df.iloc[i, 1] else '100.0%'\n",
    "\n",
    "na_dependency_df"
   ]
  },
  {
   "cell_type": "markdown",
   "id": "925a8687-107d-42d5-9042-14645dcd243f",
   "metadata": {},
   "source": [
    "Согласно полученной таблице можно отметить, что у записей, где пропущен возраст значительно больше среднее значение баланса, а медианное меньше. Это говорит о том, что среди клиентов, где баланс пропущен присутствует большой выброс по значению баланса.  \n",
    "Также у клиентов с пропущенным возрастом баллы собственности равны 0, и меньше продуктов относительно записей, где возраст не пропущен.  \n",
    "Пропуски возраста относятся к типу `MNAR (Missing Not At Random / Отсутствует не случайно)`, т.к. пропуски зависят от данных (при этом больше всего от баллов собственности), но их можно удалить, т.к. записей с пропуском возраста всего 0.26% от общего числа записей.\n",
    "\n",
    "Удалим записи, где пропущен возраст и столбец `age_na` за ненадобностью."
   ]
  },
  {
   "cell_type": "code",
   "execution_count": 28,
   "id": "33f23324-f7d7-44de-b90f-53ef93eec073",
   "metadata": {
    "tags": []
   },
   "outputs": [
    {
     "name": "stdout",
     "output_type": "stream",
     "text": [
      "<class 'pandas.core.frame.DataFrame'>\n",
      "Int64Index: 9974 entries, 0 to 9999\n",
      "Data columns (total 12 columns):\n",
      " #   Column         Non-Null Count  Dtype  \n",
      "---  ------         --------------  -----  \n",
      " 0   user_id        9974 non-null   int64  \n",
      " 1   score          9974 non-null   float64\n",
      " 2   city           9974 non-null   object \n",
      " 3   gender         9974 non-null   object \n",
      " 4   age            9974 non-null   float64\n",
      " 5   equity         9974 non-null   int64  \n",
      " 6   balance        7695 non-null   float64\n",
      " 7   products       9974 non-null   int64  \n",
      " 8   credit_card    9974 non-null   int64  \n",
      " 9   last_activity  9974 non-null   int64  \n",
      " 10  est_salary     9974 non-null   float64\n",
      " 11  churn          9974 non-null   int64  \n",
      "dtypes: float64(4), int64(6), object(2)\n",
      "memory usage: 1013.0+ KB\n"
     ]
    }
   ],
   "source": [
    "# Оставляем в датафрейме только те записи, где возраст заполнен\n",
    "df = df[df['age_na'] == 0]\n",
    "\n",
    "# Удаляем из датафрейма столбец age_na\n",
    "df = df.drop(columns='age_na')\n",
    "\n",
    "# Проверка изменений\n",
    "df.info()"
   ]
  },
  {
   "cell_type": "markdown",
   "id": "77e98927-ae9d-4520-a75d-85891c097f44",
   "metadata": {},
   "source": [
    "В датафрейме более нет строк с пропущенным возрастом клиентов."
   ]
  },
  {
   "cell_type": "markdown",
   "id": "e0242e6f-0177-4f60-985e-c8015f62afe6",
   "metadata": {},
   "source": [
    "### Обработка пропусков в балансе клиентов <a id ='balance_na'></a>"
   ]
  },
  {
   "cell_type": "markdown",
   "id": "6f62d723-7b9b-4fef-b556-1538824acd66",
   "metadata": {},
   "source": [
    "Создадим сводную таблицу, аналогичную той, что строили для записей где был пропущен возраст."
   ]
  },
  {
   "cell_type": "code",
   "execution_count": 29,
   "id": "84711b6b-4472-4e4d-a719-61d453317ebd",
   "metadata": {
    "tags": []
   },
   "outputs": [],
   "source": [
    "# Всем записям сначала присваиваем столбец balance_na равный 0\n",
    "# Затем, в случае если возраст в записи пропущен, присваем balance_na значение 1\n",
    "\n",
    "df['balance_na'] = 0\n",
    "df.loc[df['balance'].isna(), ['balance_na']] = 1"
   ]
  },
  {
   "cell_type": "code",
   "execution_count": 30,
   "id": "246eccd6-64c9-4a60-b107-c28d9176ec81",
   "metadata": {
    "tags": []
   },
   "outputs": [
    {
     "data": {
      "text/html": [
       "<div>\n",
       "<style scoped>\n",
       "    .dataframe tbody tr th:only-of-type {\n",
       "        vertical-align: middle;\n",
       "    }\n",
       "\n",
       "    .dataframe tbody tr th {\n",
       "        vertical-align: top;\n",
       "    }\n",
       "\n",
       "    .dataframe thead th {\n",
       "        text-align: right;\n",
       "    }\n",
       "</style>\n",
       "<table border=\"1\" class=\"dataframe\">\n",
       "  <thead>\n",
       "    <tr style=\"text-align: right;\">\n",
       "      <th></th>\n",
       "      <th>Значение пропущено</th>\n",
       "      <th>Значение не пропущено</th>\n",
       "      <th>Относительная разница</th>\n",
       "    </tr>\n",
       "  </thead>\n",
       "  <tbody>\n",
       "    <tr>\n",
       "      <th>Средний кредитный рейтинг</th>\n",
       "      <td>865</td>\n",
       "      <td>844</td>\n",
       "      <td>2.49%</td>\n",
       "    </tr>\n",
       "    <tr>\n",
       "      <th>Средний возраст</th>\n",
       "      <td>42</td>\n",
       "      <td>43</td>\n",
       "      <td>-2.33%</td>\n",
       "    </tr>\n",
       "    <tr>\n",
       "      <th>Средняя зарплата</th>\n",
       "      <td>226345</td>\n",
       "      <td>124520</td>\n",
       "      <td>81.77%</td>\n",
       "    </tr>\n",
       "    <tr>\n",
       "      <th>Медианная зарплата</th>\n",
       "      <td>174348</td>\n",
       "      <td>106250</td>\n",
       "      <td>64.09%</td>\n",
       "    </tr>\n",
       "    <tr>\n",
       "      <th>Медианное количество продуктов</th>\n",
       "      <td>1</td>\n",
       "      <td>2</td>\n",
       "      <td>-50.0%</td>\n",
       "    </tr>\n",
       "    <tr>\n",
       "      <th>Медианное количество баллов собственности</th>\n",
       "      <td>0</td>\n",
       "      <td>4</td>\n",
       "      <td>-100.0%</td>\n",
       "    </tr>\n",
       "    <tr>\n",
       "      <th>Мода по городу</th>\n",
       "      <td>Ярославль</td>\n",
       "      <td>Ярославль</td>\n",
       "      <td>0%</td>\n",
       "    </tr>\n",
       "    <tr>\n",
       "      <th>Мода по полу</th>\n",
       "      <td>М</td>\n",
       "      <td>Ж</td>\n",
       "      <td>100.0%</td>\n",
       "    </tr>\n",
       "    <tr>\n",
       "      <th>Мода по наличию кредитной карты</th>\n",
       "      <td>1</td>\n",
       "      <td>1</td>\n",
       "      <td>0%</td>\n",
       "    </tr>\n",
       "    <tr>\n",
       "      <th>Мода по активности клиента</th>\n",
       "      <td>1</td>\n",
       "      <td>1</td>\n",
       "      <td>0%</td>\n",
       "    </tr>\n",
       "  </tbody>\n",
       "</table>\n",
       "</div>"
      ],
      "text/plain": [
       "                                          Значение пропущено  \\\n",
       "Средний кредитный рейтинг                  865                 \n",
       "Средний возраст                            42                  \n",
       "Средняя зарплата                           226345              \n",
       "Медианная зарплата                         174348              \n",
       "Медианное количество продуктов             1                   \n",
       "Медианное количество баллов собственности  0                   \n",
       "Мода по городу                             Ярославль           \n",
       "Мода по полу                               М                   \n",
       "Мода по наличию кредитной карты            1                   \n",
       "Мода по активности клиента                 1                   \n",
       "\n",
       "                                          Значение не пропущено  \\\n",
       "Средний кредитный рейтинг                  844                    \n",
       "Средний возраст                            43                     \n",
       "Средняя зарплата                           124520                 \n",
       "Медианная зарплата                         106250                 \n",
       "Медианное количество продуктов             2                      \n",
       "Медианное количество баллов собственности  4                      \n",
       "Мода по городу                             Ярославль              \n",
       "Мода по полу                               Ж                      \n",
       "Мода по наличию кредитной карты            1                      \n",
       "Мода по активности клиента                 1                      \n",
       "\n",
       "                                          Относительная разница  \n",
       "Средний кредитный рейтинг                  2.49%                 \n",
       "Средний возраст                            -2.33%                \n",
       "Средняя зарплата                           81.77%                \n",
       "Медианная зарплата                         64.09%                \n",
       "Медианное количество продуктов             -50.0%                \n",
       "Медианное количество баллов собственности  -100.0%               \n",
       "Мода по городу                             0%                    \n",
       "Мода по полу                               100.0%                \n",
       "Мода по наличию кредитной карты            0%                    \n",
       "Мода по активности клиента                 0%                    "
      ]
     },
     "execution_count": 30,
     "metadata": {},
     "output_type": "execute_result"
    }
   ],
   "source": [
    "# В новом датафрейме na_dependency_df заполняем столбец \"Значение пропущено\" посчитанной мерой центральной \n",
    "# тендеции признаков для таких строк, где пропущено значение баланса. Значения округляются и приводятся к типу int.\n",
    "# Столбец \"Значение не пропущено\" заполняется аналогично, только посчитанной мерой центральной тендеции признаков \n",
    "# для таких строк, где значение баланса не пропущено.\n",
    "# Столбец \"Относительная разница\" заполняется значением 0 при создании датафрейма, расчёт производится после\n",
    "# создания датафрейма na_dependency_df.\n",
    "\n",
    "na_dependency_df = pd.DataFrame({'Значение пропущено':[df[df['balance_na'] == 1]['score'].mean().round().astype('int'),\n",
    "                                                       df[df['balance_na'] == 1]['age'].mean().round().astype('int'),\n",
    "                                                       df[df['balance_na'] == 1]['est_salary'].mean().round().astype('int'),\n",
    "                                                       df[df['balance_na'] == 1]['est_salary'].median().round().astype('int'),\n",
    "                                                       df[df['balance_na'] == 1]['products'].median().astype('int'),\n",
    "                                                       df[df['balance_na'] == 1]['equity'].median().astype('int'),\n",
    "                                                       df[df['balance_na'] == 1]['city'].mode()[0],\n",
    "                                                       df[df['balance_na'] == 1]['gender'].mode()[0],\n",
    "                                                       df[df['balance_na'] == 1]['credit_card'].mode()[0],\n",
    "                                                       df[df['balance_na'] == 1]['last_activity'].mode()[0]],\n",
    "                                 'Значение не пропущено':[df[df['balance_na'] == 0]['score'].mean().round().astype('int'),\n",
    "                                                          df[df['balance_na'] == 0]['age'].mean().round().astype('int'),\n",
    "                                                          df[df['balance_na'] == 0]['est_salary'].mean().round().astype('int'),\n",
    "                                                          df[df['balance_na'] == 0]['est_salary'].median().round().astype('int'),\n",
    "                                                          df[df['balance_na'] == 0]['products'].median().astype('int'),\n",
    "                                                          df[df['balance_na'] == 0]['equity'].median().astype('int'),\n",
    "                                                          df[df['balance_na'] == 0]['city'].mode()[0],\n",
    "                                                          df[df['balance_na'] == 0]['gender'].mode()[0],\n",
    "                                                          df[df['balance_na'] == 0]['credit_card'].mode()[0],\n",
    "                                                          df[df['balance_na'] == 0]['last_activity'].mode()[0]],\n",
    "                                 'Относительная разница':[0] * 10},\n",
    "                                index = ['Средний кредитный рейтинг',\n",
    "                                         'Средний возраст',\n",
    "                                         'Средняя зарплата',\n",
    "                                         'Медианная зарплата',\n",
    "                                         'Медианное количество продуктов',\n",
    "                                         'Медианное количество баллов собственности',\n",
    "                                         'Мода по городу',\n",
    "                                         'Мода по полу',\n",
    "                                         'Мода по наличию кредитной карты',\n",
    "                                         'Мода по активности клиента'])\n",
    "\n",
    "# Расчёт относительной разницы для средних и медианных значений. Разница умножается на 100, округляется до второго знака\n",
    "# после запятой, приводится к типу str и добавляется знак процента для лучшей визуализации\n",
    "\n",
    "for i in range(6):\n",
    "    na_dependency_df.iloc[i, 2] = round((na_dependency_df.iloc[i, 0] - na_dependency_df.iloc[i, 1]) / na_dependency_df.iloc[i, 1] * 100, 2).astype('str') + '%'\n",
    "\n",
    "# Расчёт относительной разницы для значений моды. 0%, если разницы нет, 100%, если есть\n",
    "\n",
    "for i in range(6,10):\n",
    "    na_dependency_df.iloc[i, 2] = '0%' if na_dependency_df.iloc[i, 0] == na_dependency_df.iloc[i, 1] else '100.0%'\n",
    "\n",
    "na_dependency_df"
   ]
  },
  {
   "cell_type": "markdown",
   "id": "8a7233fc-d137-4aa1-ad81-e2264c4777df",
   "metadata": {},
   "source": [
    "Между записями где пропущен и заполнен баланс присутствуют сильные различия в мерах центральных тенденций. У записей с отсутствующим балансом значительно выше зарплата, сильно меньше медианное кол-во собственности и есть различия по полу.  \n",
    "Пропуски баланса относятся к типу `MNAR (Missing Not At Random / Отсутствует не случайно)`, т.к. пропуски сильно зависят от данных и их нельзя удалить, т.к. записей с пропуском баланса всего 22.95% от общего числа записей. Возможно баланс отсутствует у новых клиентов, которые начали пользоваться услугами банка совсем недавно. В пользу этой версии говорят два факта. У клиентов с пропущенным балансом по сравнению с клиентами у которых баланс указан:\n",
    "- Меньшее кол-во продуктов банка;\n",
    "- Во много раз [меньше показатель отточности](#balance_na_percent). Вероятно, клиенты у которых баланс не указан, стали клиентами банка совсем недавно и в базе данных откуда был получен датасет ещё нет сведений о балансе.\n",
    "\n",
    "Посмотрим на то, как коррелирует баланс клиентов к остальным параметрам. Для начала посмотрим на корреляцию Пирсона."
   ]
  },
  {
   "cell_type": "code",
   "execution_count": 31,
   "id": "7957aea7-2371-4bc8-9847-0cee1e555087",
   "metadata": {
    "tags": []
   },
   "outputs": [
    {
     "data": {
      "text/plain": [
       "balance          1.000000\n",
       "est_salary       0.338800\n",
       "score            0.235283\n",
       "equity           0.163793\n",
       "churn            0.085915\n",
       "products         0.075716\n",
       "age              0.069745\n",
       "last_activity    0.024770\n",
       "credit_card     -0.059850\n",
       "balance_na      NaN      \n",
       "Name: balance, dtype: float64"
      ]
     },
     "execution_count": 31,
     "metadata": {},
     "output_type": "execute_result"
    }
   ],
   "source": [
    "# Срез столбцов исключает из корреляции столбец user_id\n",
    "\n",
    "df.iloc[:, 1:13].corr(method='pearson')['balance'].sort_values(ascending=False)"
   ]
  },
  {
   "cell_type": "markdown",
   "id": "4a3ee887-53ac-48e1-9c2f-4b4aa92eb236",
   "metadata": {},
   "source": [
    "Наибольшую корреляцию на баланс показывает доход клиента, однако она является умеренной. Проверим данный вывод также на корреляции методом `phik()`, который базируется на подсчете хи-квадрат статистики."
   ]
  },
  {
   "cell_type": "code",
   "execution_count": 32,
   "id": "8788a2cc-52a1-43f6-9d76-e75619944db6",
   "metadata": {
    "tags": []
   },
   "outputs": [
    {
     "data": {
      "text/plain": [
       "balance          1.000000\n",
       "est_salary       0.374366\n",
       "score            0.170887\n",
       "gender           0.045434\n",
       "city             0.039931\n",
       "age              0.024989\n",
       "churn            0.024672\n",
       "equity           0.000000\n",
       "products         0.000000\n",
       "credit_card      0.000000\n",
       "last_activity    0.000000\n",
       "balance_na      NaN      \n",
       "Name: balance, dtype: float64"
      ]
     },
     "execution_count": 32,
     "metadata": {},
     "output_type": "execute_result"
    }
   ],
   "source": [
    "# Срез столбцов исключает из корреляции столбец user_id\n",
    "# В параметре interval_cols передаётся информация о том, какие столцы\n",
    "# следует считать непрерывными количественными данными\n",
    "\n",
    "phik_overview = df.iloc[:, 1:].phik_matrix(interval_cols=['score', 'age', 'balance', 'est_salary'])\n",
    "phik_overview['balance'].sort_values(ascending=False)"
   ]
  },
  {
   "cell_type": "markdown",
   "id": "00426ec1-df59-4096-ab76-12c7f91e3b81",
   "metadata": {},
   "source": [
    "Данный метод подсчёта также подтверждает, что наибольшую корреляцию на баланс показывает доход клиента, и она по-прежнему является умеренной.\n",
    "\n",
    "Пропуски в балансе клиентов не будут заполнены средними значениями, т.к. это может сильно исказить результаты исследования, как показала сводная таблица с посчитанными мерами центральной тенденции. Удалены записи с пропусками баланса также не будут, т.к. записей с пропуском баланса 22.95% от общего числа."
   ]
  },
  {
   "cell_type": "markdown",
   "id": "a263a839-08e4-4fe8-9ea5-e68a641e5aec",
   "metadata": {},
   "source": [
    "## Выводы по результатам предобработки"
   ]
  },
  {
   "cell_type": "markdown",
   "id": "0b9df02d-4c57-438e-852f-e7f949ce0fbe",
   "metadata": {},
   "source": [
    "Произведён первичный осмотр датасета, наименования столбцов приведены к формату snake_case.  \n",
    "Явные дубликаты не обнаружены. Обработаны неявные дубликаты по `user_id`, дубликатам даны новые `user_id`, т.к. судя по данным, это разные клиенты.  \n",
    "Аномальных и выбивающихся значений не обнаружено.  \n",
    "Удалены записи клиентов с пропусками в возрасте. Записи с пропусками в балансе клиентов оставлены без изменений."
   ]
  },
  {
   "cell_type": "markdown",
   "id": "2f91792f-1a41-4847-abbb-06dab988018d",
   "metadata": {},
   "source": [
    "# Исследовательский анализ данных <a id='eda'></a>"
   ]
  },
  {
   "cell_type": "markdown",
   "id": "a0c5ab0f-0b70-46db-94cb-057c747ea48c",
   "metadata": {
    "tags": []
   },
   "source": [
    "## Среднее значение отточности для всех клиентов"
   ]
  },
  {
   "cell_type": "code",
   "execution_count": 33,
   "id": "70c9ce79-d297-4508-ad63-e4cbc04c4c26",
   "metadata": {
    "tags": []
   },
   "outputs": [
    {
     "data": {
      "text/plain": [
       "18.24"
      ]
     },
     "execution_count": 33,
     "metadata": {},
     "output_type": "execute_result"
    }
   ],
   "source": [
    "common_churn_percent = round(df['churn'].mean() * 100, 2)\n",
    "common_churn_percent"
   ]
  },
  {
   "cell_type": "markdown",
   "id": "608e7c92-4ab9-4bee-900f-3d17e7815382",
   "metadata": {},
   "source": [
    "Среднее значение отточности клиентов составляет 18.24%. При дальнейшем анализе будем выделять такие интервалы признаков клиентов, при которых значение отточности будет выше, чем в среднем по банку."
   ]
  },
  {
   "cell_type": "markdown",
   "id": "bcda6d2b-92cf-46fc-8c9a-8612d7df5aa7",
   "metadata": {},
   "source": [
    "## Матрица корреляций <a id='matrix'></a>"
   ]
  },
  {
   "cell_type": "markdown",
   "id": "510c0f14-4b24-4a76-9a2b-a0a4dad97d3d",
   "metadata": {},
   "source": [
    "Построим матрицу корреляций между всеми данными в датасете."
   ]
  },
  {
   "cell_type": "code",
   "execution_count": 34,
   "id": "a1d78f5c-6297-4d79-a8c7-e21ca108a5fb",
   "metadata": {
    "tags": []
   },
   "outputs": [
    {
     "data": {
      "image/png": "[encoded data removed]",
      "text/plain": [
       "<Figure size 1000x700 with 2 Axes>"
      ]
     },
     "metadata": {},
     "output_type": "display_data"
    }
   ],
   "source": [
    "fig = plt.figure(figsize=(10, 7))\n",
    "\n",
    "sns.heatmap(phik_overview,\n",
    "            cmap='coolwarm',\n",
    "            center=0)\n",
    "\n",
    "plt.xticks(rotation=45)\n",
    "plt.title('Матрица коррелиций данных в датасете', fontsize=16)\n",
    "plt.show()"
   ]
  },
  {
   "cell_type": "markdown",
   "id": "b55b1504-e9c1-4a99-a0b8-a38374e2840c",
   "metadata": {},
   "source": [
    "С признаком оттока с умеренной силой коррелируют `количество продуктов банка` — `products`, признак `пропуска баланса` — `balance_na` и `количеством баллов собственности` — `equity`.  \n",
    "Слабо с признаком оттока коррелируют `признак активности` — `last_activity`, `баллы кредитного скоринга` — `score`, `пол` — `gender`, `наличие кредитной карты` — `credit_card` и `возраст` — `age`.  \n",
    "Остальные признаки не коррелируют с признаком оттока.\n",
    "\n",
    "Также в матрице корреляций заметна сильная корреляция признака пропуска баланса с `количеством баллов собственности` — `equity`, `баллами кредитного скоринга` — `score` и `количеством продуктов банка` — `products`."
   ]
  },
  {
   "cell_type": "markdown",
   "id": "bb0d98d4-7962-4903-8d25-99728e97583d",
   "metadata": {},
   "source": [
    "### Корреляция признака оттока к остальным признакам клиента в численном выражении <a id='phik'></a>"
   ]
  },
  {
   "cell_type": "code",
   "execution_count": 35,
   "id": "65268d88-931c-47c8-824e-c63ba7f405db",
   "metadata": {
    "tags": []
   },
   "outputs": [
    {
     "data": {
      "text/plain": [
       "churn            1.000000\n",
       "products         0.440923\n",
       "balance_na       0.380486\n",
       "equity           0.352103\n",
       "last_activity    0.262164\n",
       "score            0.228080\n",
       "gender           0.219731\n",
       "credit_card      0.202374\n",
       "age              0.182538\n",
       "est_salary       0.048803\n",
       "balance          0.024672\n",
       "city             0.016431\n",
       "Name: churn, dtype: float64"
      ]
     },
     "execution_count": 35,
     "metadata": {},
     "output_type": "execute_result"
    }
   ],
   "source": [
    "phik_overview['churn'].sort_values(ascending=False)"
   ]
  },
  {
   "cell_type": "markdown",
   "id": "dcbe3afd-24d4-4d66-893f-48aa234dd7f3",
   "metadata": {},
   "source": [
    "Численное выражение корреляции оттока к остальным признакам даёт точные данные о значении корреляции и подтверждает сделанные ранее выводы."
   ]
  },
  {
   "cell_type": "markdown",
   "id": "c19b9b26-e4f4-44b1-9535-99f98d397c4d",
   "metadata": {},
   "source": [
    "## Поиск отточных признаков путём анализа распределения <a id='distribution'></a>"
   ]
  },
  {
   "cell_type": "markdown",
   "id": "675fb4fb-cf65-495f-bb42-ca27334fc5dd",
   "metadata": {},
   "source": [
    "Анализ распределения отточных клиентов будем проводить с теми признаками, которые имеют умеренную или слабую корреляцию. Потому распределение отточных клиентов по признакам зарплаты, баланса и города рассмотрены не будут."
   ]
  },
  {
   "cell_type": "markdown",
   "id": "ae52757b-4089-4765-acc7-e919ff65dcd6",
   "metadata": {},
   "source": [
    "### Распределения категориальных признаков"
   ]
  },
  {
   "cell_type": "markdown",
   "id": "712475fb-b593-44c2-8310-92e868ba6349",
   "metadata": {},
   "source": [
    "#### Признак пропуска баланса <a id='balance_na_percent'></a>"
   ]
  },
  {
   "cell_type": "markdown",
   "id": "94b3175d-c5c0-4ee0-8b9e-e82fa4307267",
   "metadata": {},
   "source": [
    "Ранее в разделе [Обработка пропусков в балансе клиентов](#balance_na) был добавлен столбец `balance_na`, который принимает значение 0, когда у клиента заполнен баланс и 1, когда баланс пропущен. Признак пропуска баланса [показал умеренную корреляцию](#phik) с признаком оттока, поэтому посмотрим также и его распределение совместно с признаком отточности клиентов."
   ]
  },
  {
   "cell_type": "code",
   "execution_count": 36,
   "id": "9c9d4228-dc33-4e05-b006-9726cf62d798",
   "metadata": {
    "tags": []
   },
   "outputs": [
    {
     "data": {
      "text/html": [
       "<div>\n",
       "<style scoped>\n",
       "    .dataframe tbody tr th:only-of-type {\n",
       "        vertical-align: middle;\n",
       "    }\n",
       "\n",
       "    .dataframe tbody tr th {\n",
       "        vertical-align: top;\n",
       "    }\n",
       "\n",
       "    .dataframe thead th {\n",
       "        text-align: right;\n",
       "    }\n",
       "</style>\n",
       "<table border=\"1\" class=\"dataframe\">\n",
       "  <thead>\n",
       "    <tr style=\"text-align: right;\">\n",
       "      <th></th>\n",
       "      <th>balance_na</th>\n",
       "      <th>churn_sum</th>\n",
       "      <th>balance_na_count</th>\n",
       "      <th>churn_percent</th>\n",
       "    </tr>\n",
       "  </thead>\n",
       "  <tbody>\n",
       "    <tr>\n",
       "      <th>0</th>\n",
       "      <td>0</td>\n",
       "      <td>1806</td>\n",
       "      <td>7695</td>\n",
       "      <td>23.47</td>\n",
       "    </tr>\n",
       "    <tr>\n",
       "      <th>1</th>\n",
       "      <td>1</td>\n",
       "      <td>13</td>\n",
       "      <td>2279</td>\n",
       "      <td>0.57</td>\n",
       "    </tr>\n",
       "  </tbody>\n",
       "</table>\n",
       "</div>"
      ],
      "text/plain": [
       "   balance_na  churn_sum  balance_na_count  churn_percent\n",
       "0  0           1806       7695              23.47        \n",
       "1  1           13         2279              0.57         "
      ]
     },
     "execution_count": 36,
     "metadata": {},
     "output_type": "execute_result"
    }
   ],
   "source": [
    "# Группировка признака пропуска баланса и отточности клиентов. Аггрегируем кол-во клиентов по\n",
    "# признаку отточности и считаем количество клиентов у которых баланс есть и у которых пропущен\n",
    "churn_vs_balance_na = df.groupby('balance_na').agg({'churn': 'sum', 'balance_na': 'count'})\n",
    "\n",
    "# Переименовываем колонки, чтобы они отражали суть содержимого и чтобы они имели уникальные имена\n",
    "churn_vs_balance_na = churn_vs_balance_na.rename(columns={'balance_na': 'balance_na_count',\n",
    "                                                          'churn': 'churn_sum'\n",
    "                                                          })\n",
    "\n",
    "# Избаляемся от второго уровня наименований колонок\n",
    "churn_vs_balance_na = churn_vs_balance_na.reset_index()\n",
    "\n",
    "# Вычисление процента отточности для клиентов у которых баланс есть и у которых пропущен\n",
    "churn_vs_balance_na['churn_percent'] = round(churn_vs_balance_na['churn_sum'] / churn_vs_balance_na['balance_na_count'] * 100, 2)\n",
    "churn_vs_balance_na"
   ]
  },
  {
   "cell_type": "markdown",
   "id": "c0fd6979-a5eb-446b-8be8-115fc48b1e1c",
   "metadata": {
    "tags": []
   },
   "source": [
    "Построим диаграмму на основе процента отточности для клиентов у которых баланс есть и у которых он пропущен."
   ]
  },
  {
   "cell_type": "code",
   "execution_count": 37,
   "id": "fdd10776-4993-4192-a27a-0260d987b4a5",
   "metadata": {
    "tags": []
   },
   "outputs": [
    {
     "data": {
      "image/png": "[encoded data removed]",
      "text/plain": [
       "<Figure size 800x500 with 1 Axes>"
      ]
     },
     "metadata": {},
     "output_type": "display_data"
    }
   ],
   "source": [
    "# Палитра для диаграмм\n",
    "colors = ['#4363d8', '#3cb44b', '#ffe119', '#f58231', '#911eb4', '#42d4f4', '#f032e6', '#bfef45', '#fabed4', '#469990']\n",
    "\n",
    "ax = (churn_vs_balance_na['churn_percent'].plot(kind = 'bar',\n",
    "                                                figsize = (8,5),\n",
    "                                                color=colors))\n",
    "\n",
    "ax.tick_params(labelrotation=0)\n",
    "ax.set_ylabel('Процент отточных клиентов').set_fontsize(14)\n",
    "ax.set_ylim([0, 30])\n",
    "ax.set_xlabel('Наличие пропуска баланса').set_fontsize(14)\n",
    "ax.set_xticklabels(['Есть баланс', 'Пропущен'], fontsize=12)\n",
    "ax.grid(axis='x')\n",
    "\n",
    "for x, y, p in zip(churn_vs_balance_na['churn_percent'].index, churn_vs_balance_na['churn_percent'], list(churn_vs_balance_na['churn_percent'])):\n",
    "    plt.text(x, y, str(p) + '%', ha='center', va='bottom', fontsize=11)\n",
    "\n",
    "plt.axhline(y=common_churn_percent, color='red', linestyle ='dashed')\n",
    "ax.text(x=1.05, y=common_churn_percent * 1.03, s='Средний % отточности', fontsize=9)\n",
    "\n",
    "plt.title('Процент отточности среди клиентов у которых баланс есть и у кого он пропущен', fontweight='bold', y=1.04, fontsize=16)\n",
    "plt.show()"
   ]
  },
  {
   "cell_type": "markdown",
   "id": "7c389142-c10d-4394-8e21-cc237754a891",
   "metadata": {},
   "source": [
    "Клиенты у которых есть значение баланса значительно чаще уходят из банка, чем те у кого он пропущен. Процент уходящих клиентов с заполненным балансом больше среднего по банку.  \n",
    "Вероятно, клиенты у которых баланс не указан, стали клиентами банка совсем недавно и в базе данных откуда был получен датасет ещё нет сведений о балансе."
   ]
  },
  {
   "cell_type": "markdown",
   "id": "cda33f8e-d11b-4382-9ab8-1c3b7c1de55b",
   "metadata": {},
   "source": [
    "#### Признак активности "
   ]
  },
  {
   "cell_type": "markdown",
   "id": "5fdb5ee0-2fc6-4113-be94-10130c054a7f",
   "metadata": {},
   "source": [
    "Сгруппируем признак активности и признак отточности клиентов, чтобы посмотреть распределение."
   ]
  },
  {
   "cell_type": "code",
   "execution_count": 38,
   "id": "4097576b-554d-4bbb-96ed-8ac04fdc8073",
   "metadata": {
    "tags": []
   },
   "outputs": [
    {
     "data": {
      "text/html": [
       "<div>\n",
       "<style scoped>\n",
       "    .dataframe tbody tr th:only-of-type {\n",
       "        vertical-align: middle;\n",
       "    }\n",
       "\n",
       "    .dataframe tbody tr th {\n",
       "        vertical-align: top;\n",
       "    }\n",
       "\n",
       "    .dataframe thead th {\n",
       "        text-align: right;\n",
       "    }\n",
       "</style>\n",
       "<table border=\"1\" class=\"dataframe\">\n",
       "  <thead>\n",
       "    <tr style=\"text-align: right;\">\n",
       "      <th></th>\n",
       "      <th>last_activity</th>\n",
       "      <th>churn_sum</th>\n",
       "      <th>last_activity_count</th>\n",
       "      <th>churn_percent</th>\n",
       "    </tr>\n",
       "  </thead>\n",
       "  <tbody>\n",
       "    <tr>\n",
       "      <th>0</th>\n",
       "      <td>0</td>\n",
       "      <td>542</td>\n",
       "      <td>4759</td>\n",
       "      <td>11.39</td>\n",
       "    </tr>\n",
       "    <tr>\n",
       "      <th>1</th>\n",
       "      <td>1</td>\n",
       "      <td>1277</td>\n",
       "      <td>5215</td>\n",
       "      <td>24.49</td>\n",
       "    </tr>\n",
       "  </tbody>\n",
       "</table>\n",
       "</div>"
      ],
      "text/plain": [
       "   last_activity  churn_sum  last_activity_count  churn_percent\n",
       "0  0              542        4759                 11.39        \n",
       "1  1              1277       5215                 24.49        "
      ]
     },
     "execution_count": 38,
     "metadata": {},
     "output_type": "execute_result"
    }
   ],
   "source": [
    "# Группировка признака активности и отточности клиентов. Аггрегируем кол-во клиентов по\n",
    "# признаку отточности и считаем количество клиентов разной активности\n",
    "churn_vs_last_activity = df.groupby('last_activity').agg({'churn': 'sum', 'last_activity': 'count'})\n",
    "\n",
    "# Переименовываем колонки, чтобы они отражали суть содержимого и чтобы они имели уникальные имена\n",
    "churn_vs_last_activity = churn_vs_last_activity.rename(columns={'last_activity': 'last_activity_count',\n",
    "                                                                'churn': 'churn_sum'\n",
    "                                                               })\n",
    "\n",
    "# Избаляемся от второго уровня наименований колонок\n",
    "churn_vs_last_activity = churn_vs_last_activity.reset_index()\n",
    "\n",
    "# Вычисление процента отточности для клиентов различной активности\n",
    "churn_vs_last_activity['churn_percent'] = round(churn_vs_last_activity['churn_sum'] / churn_vs_last_activity['last_activity_count'] * 100, 2)\n",
    "churn_vs_last_activity"
   ]
  },
  {
   "cell_type": "markdown",
   "id": "b97c39fe-f472-42ec-8a9d-e6e0878b3878",
   "metadata": {},
   "source": [
    "Построим диаграмму на основе процента отточности для клиентов различной активности."
   ]
  },
  {
   "cell_type": "code",
   "execution_count": 39,
   "id": "ee5e63e2-594e-4bcf-9c68-7fd188b54988",
   "metadata": {
    "tags": []
   },
   "outputs": [
    {
     "data": {
      "image/png": "[encoded data removed]",
      "text/plain": [
       "<Figure size 800x500 with 1 Axes>"
      ]
     },
     "metadata": {},
     "output_type": "display_data"
    }
   ],
   "source": [
    "ax = (churn_vs_last_activity['churn_percent'].plot(kind = 'bar',\n",
    "                                                   figsize = (8,5),\n",
    "                                                   color=colors))\n",
    "\n",
    "ax.tick_params(labelrotation=0)\n",
    "ax.set_ylabel('Процент отточных клиентов').set_fontsize(14)\n",
    "ax.set_ylim([0, 30])\n",
    "ax.set_xlabel('Тип клиентов').set_fontsize(14)\n",
    "ax.set_xticklabels(['Неактивные', 'Активные'], fontsize=12)\n",
    "ax.grid(axis='x')\n",
    "\n",
    "for x, y, p in zip(churn_vs_last_activity['churn_percent'].index, churn_vs_last_activity['churn_percent'], list(churn_vs_last_activity['churn_percent'])):\n",
    "    plt.text(x, y, str(p) + '%', ha='center', va='bottom', fontsize=11)\n",
    "\n",
    "plt.axhline(y=common_churn_percent, color='red', linestyle ='dashed')\n",
    "ax.text(x=-0.47, y=common_churn_percent * 1.03, s='Средний % отточности', fontsize=9)\n",
    "\n",
    "plt.title('Процент отточности среди клиентов различной активности', fontweight='bold', y=1.04, fontsize=16)\n",
    "plt.show()"
   ]
  },
  {
   "cell_type": "markdown",
   "id": "1e738776-fc5a-4502-af96-737e3e5cd964",
   "metadata": {},
   "source": [
    "Активные клиенты чаще уходят из банка, чем неактивные и среднестатистические клиенты."
   ]
  },
  {
   "cell_type": "markdown",
   "id": "750d7017-3928-447e-9d1a-3f55f1902836",
   "metadata": {},
   "source": [
    "#### Пол"
   ]
  },
  {
   "cell_type": "markdown",
   "id": "bbb58335-49a9-4a0d-b555-d7580b815d49",
   "metadata": {},
   "source": [
    "Сгруппируем пол и признак отточности клиентов, чтобы посмотреть распределение."
   ]
  },
  {
   "cell_type": "code",
   "execution_count": 40,
   "id": "1ea4894c-ab0f-4ffa-a72b-e09bbb9ffd0c",
   "metadata": {
    "tags": []
   },
   "outputs": [
    {
     "data": {
      "text/html": [
       "<div>\n",
       "<style scoped>\n",
       "    .dataframe tbody tr th:only-of-type {\n",
       "        vertical-align: middle;\n",
       "    }\n",
       "\n",
       "    .dataframe tbody tr th {\n",
       "        vertical-align: top;\n",
       "    }\n",
       "\n",
       "    .dataframe thead th {\n",
       "        text-align: right;\n",
       "    }\n",
       "</style>\n",
       "<table border=\"1\" class=\"dataframe\">\n",
       "  <thead>\n",
       "    <tr style=\"text-align: right;\">\n",
       "      <th></th>\n",
       "      <th>gender</th>\n",
       "      <th>churn_sum</th>\n",
       "      <th>gender_count</th>\n",
       "      <th>churn_percent</th>\n",
       "    </tr>\n",
       "  </thead>\n",
       "  <tbody>\n",
       "    <tr>\n",
       "      <th>0</th>\n",
       "      <td>Ж</td>\n",
       "      <td>636</td>\n",
       "      <td>4983</td>\n",
       "      <td>12.76</td>\n",
       "    </tr>\n",
       "    <tr>\n",
       "      <th>1</th>\n",
       "      <td>М</td>\n",
       "      <td>1183</td>\n",
       "      <td>4991</td>\n",
       "      <td>23.70</td>\n",
       "    </tr>\n",
       "  </tbody>\n",
       "</table>\n",
       "</div>"
      ],
      "text/plain": [
       "  gender  churn_sum  gender_count  churn_percent\n",
       "0  Ж      636        4983          12.76        \n",
       "1  М      1183       4991          23.70        "
      ]
     },
     "execution_count": 40,
     "metadata": {},
     "output_type": "execute_result"
    }
   ],
   "source": [
    "# Группировка пола и отточности клиентов. Аггрегируем кол-во клиентов по\n",
    "# признаку отточности и считаем количество клиентов разного пола\n",
    "churn_vs_gender = df.groupby('gender').agg({'churn': 'sum', 'gender': 'count'})\n",
    "\n",
    "# Переименовываем колонки, чтобы они отражали суть содержимого и чтобы они имели уникальные имена\n",
    "churn_vs_gender = churn_vs_gender.rename(columns={'gender': 'gender_count',\n",
    "                                                  'churn': 'churn_sum'\n",
    "                                                  })\n",
    "\n",
    "# Избаляемся от второго уровня наименований колонок\n",
    "churn_vs_gender = churn_vs_gender.reset_index()\n",
    "\n",
    "# Вычисление процента отточности для клиентов разного пола\n",
    "churn_vs_gender['churn_percent'] = round(churn_vs_gender['churn_sum'] / churn_vs_gender['gender_count'] * 100, 2)\n",
    "churn_vs_gender"
   ]
  },
  {
   "cell_type": "markdown",
   "id": "d5c9fecd-5dfe-4046-8c2c-c4aeb57617a6",
   "metadata": {},
   "source": [
    "Построим диаграмму на основе процента отточности для клиентов различного пола."
   ]
  },
  {
   "cell_type": "code",
   "execution_count": 41,
   "id": "7b7c3988-878c-4f92-9da7-43b16c3cee1d",
   "metadata": {
    "tags": []
   },
   "outputs": [
    {
     "data": {
      "image/png": "[encoded data removed]",
      "text/plain": [
       "<Figure size 800x500 with 1 Axes>"
      ]
     },
     "metadata": {},
     "output_type": "display_data"
    }
   ],
   "source": [
    "ax = (churn_vs_gender['churn_percent'].plot(kind = 'bar',\n",
    "                                            figsize = (8,5),\n",
    "                                            color=colors))\n",
    "\n",
    "ax.tick_params(labelrotation=0)\n",
    "ax.set_ylabel('Процент отточных клиентов').set_fontsize(14)\n",
    "ax.set_ylim([0, 30])\n",
    "ax.set_xlabel('Пол клиентов').set_fontsize(14)\n",
    "ax.set_xticklabels(['Женщины', 'Мужчины'], fontsize=12)\n",
    "ax.grid(axis='x')\n",
    "\n",
    "for x, y, p in zip(churn_vs_gender['churn_percent'].index, churn_vs_gender['churn_percent'], list(churn_vs_gender['churn_percent'])):\n",
    "    plt.text(x, y, str(p) + '%', ha='center', va='bottom', fontsize=11)\n",
    "\n",
    "plt.axhline(y=common_churn_percent, color='red', linestyle ='dashed')\n",
    "ax.text(x=-0.47, y=common_churn_percent * 1.03, s='Средний % отточности', fontsize=9)\n",
    "\n",
    "plt.title('Процент отточности среди клиентов различного пола', fontweight='bold', y=1.04, fontsize=16)\n",
    "plt.show()"
   ]
  },
  {
   "cell_type": "markdown",
   "id": "d2e599fd-fd20-4246-aecd-5788d296bcc6",
   "metadata": {},
   "source": [
    "Мужчины уходят из банка чаще женщин. Также процент уходящих мужчин больше среднего по банку."
   ]
  },
  {
   "cell_type": "markdown",
   "id": "14f87bf5-a982-4c26-8f4d-3859c7c92a53",
   "metadata": {},
   "source": [
    "#### Наличие кредитной карты"
   ]
  },
  {
   "cell_type": "markdown",
   "id": "ce809d2b-5a71-4dc8-9481-77d30a579844",
   "metadata": {},
   "source": [
    "Сгруппируем признак наличия кредитной карты банка и признак отточности клиентов, чтобы посмотреть распределение."
   ]
  },
  {
   "cell_type": "code",
   "execution_count": 42,
   "id": "2bcd1e40-4b4b-42ec-aa48-658d2ca20c5f",
   "metadata": {
    "tags": []
   },
   "outputs": [
    {
     "data": {
      "text/html": [
       "<div>\n",
       "<style scoped>\n",
       "    .dataframe tbody tr th:only-of-type {\n",
       "        vertical-align: middle;\n",
       "    }\n",
       "\n",
       "    .dataframe tbody tr th {\n",
       "        vertical-align: top;\n",
       "    }\n",
       "\n",
       "    .dataframe thead th {\n",
       "        text-align: right;\n",
       "    }\n",
       "</style>\n",
       "<table border=\"1\" class=\"dataframe\">\n",
       "  <thead>\n",
       "    <tr style=\"text-align: right;\">\n",
       "      <th></th>\n",
       "      <th>credit_card</th>\n",
       "      <th>churn_sum</th>\n",
       "      <th>credit_card_count</th>\n",
       "      <th>churn_percent</th>\n",
       "    </tr>\n",
       "  </thead>\n",
       "  <tbody>\n",
       "    <tr>\n",
       "      <th>0</th>\n",
       "      <td>0</td>\n",
       "      <td>816</td>\n",
       "      <td>3190</td>\n",
       "      <td>25.58</td>\n",
       "    </tr>\n",
       "    <tr>\n",
       "      <th>1</th>\n",
       "      <td>1</td>\n",
       "      <td>1003</td>\n",
       "      <td>6784</td>\n",
       "      <td>14.78</td>\n",
       "    </tr>\n",
       "  </tbody>\n",
       "</table>\n",
       "</div>"
      ],
      "text/plain": [
       "   credit_card  churn_sum  credit_card_count  churn_percent\n",
       "0  0            816        3190               25.58        \n",
       "1  1            1003       6784               14.78        "
      ]
     },
     "execution_count": 42,
     "metadata": {},
     "output_type": "execute_result"
    }
   ],
   "source": [
    "# Группировка признака наличия кредитной карты банка и отточности клиентов. Аггрегируем кол-во клиентов по\n",
    "# признаку отточности и считаем количество клиентов с кредитной картой и без\n",
    "churn_vs_credit_card = df.groupby('credit_card').agg({'churn': 'sum', 'credit_card': 'count'})\n",
    "\n",
    "# Переименовываем колонки, чтобы они отражали суть содержимого и чтобы они имели уникальные имена\n",
    "churn_vs_credit_card = churn_vs_credit_card.rename(columns={'credit_card': 'credit_card_count',\n",
    "                                                                'churn': 'churn_sum'\n",
    "                                                               })\n",
    "\n",
    "# Избаляемся от второго уровня наименований колонок\n",
    "churn_vs_credit_card = churn_vs_credit_card.reset_index()\n",
    "\n",
    "# Вычисление процента отточности для клиентов с кредитной картой и без\n",
    "churn_vs_credit_card['churn_percent'] = round(churn_vs_credit_card['churn_sum'] / churn_vs_credit_card['credit_card_count'] * 100, 2)\n",
    "churn_vs_credit_card"
   ]
  },
  {
   "cell_type": "markdown",
   "id": "81b1d99c-d19f-4787-ad4c-072499cfb1d6",
   "metadata": {},
   "source": [
    "Построим диаграмму на основе процента отточности для клиентов с кредитной картой банка и без неё."
   ]
  },
  {
   "cell_type": "code",
   "execution_count": 43,
   "id": "bf186667-db1d-4e17-ba88-41dff8307b07",
   "metadata": {
    "tags": []
   },
   "outputs": [
    {
     "data": {
      "image/png": "[encoded data removed]",
      "text/plain": [
       "<Figure size 800x500 with 1 Axes>"
      ]
     },
     "metadata": {},
     "output_type": "display_data"
    }
   ],
   "source": [
    "ax = (churn_vs_credit_card['churn_percent'].plot(kind = 'bar',\n",
    "                                            figsize = (8,5),\n",
    "                                            color=colors))\n",
    "\n",
    "ax.tick_params(labelrotation=0)\n",
    "ax.set_ylabel('Процент отточных клиентов').set_fontsize(14)\n",
    "ax.set_ylim([0, 30])\n",
    "ax.set_xlabel('Наличие кредитной карты').set_fontsize(14)\n",
    "ax.set_xticklabels(['Нет', 'Да'], fontsize=12)\n",
    "ax.grid(axis='x')\n",
    "\n",
    "for x, y, p in zip(churn_vs_credit_card['churn_percent'].index, churn_vs_credit_card['churn_percent'], list(churn_vs_credit_card['churn_percent'])):\n",
    "    plt.text(x, y, str(p) + '%', ha='center', va='bottom', fontsize=11)\n",
    "\n",
    "plt.axhline(y=common_churn_percent, color='red', linestyle ='dashed')\n",
    "ax.text(x=1.05, y=common_churn_percent * 1.03, s='Средний % отточности', fontsize=9)\n",
    "\n",
    "plt.title('Процент отточности среди клиентов с кредитной картой и без', fontweight='bold', y=1.04, fontsize=16)\n",
    "plt.show()"
   ]
  },
  {
   "cell_type": "markdown",
   "id": "3d19731e-ebb5-4bba-ae3f-36bdff861200",
   "metadata": {},
   "source": [
    "Клиенты без кредитной карты уходят из банка чаще. Также процент уходящих клиентов без кредитной карты больше среднего по банку.  \n",
    "Это ещё один аргумент в пользу увеличения процента клиентов имеющих кредитную карту."
   ]
  },
  {
   "cell_type": "markdown",
   "id": "fe4fc8e9-ebf7-4f7b-b98b-9c79e4f618b3",
   "metadata": {},
   "source": [
    "### Распределения количественных дискретных признаков"
   ]
  },
  {
   "cell_type": "markdown",
   "id": "057b595a-1734-4940-b23f-fc2dbba4b2b5",
   "metadata": {},
   "source": [
    "#### Количество продуктов"
   ]
  },
  {
   "cell_type": "markdown",
   "id": "8d75a8ec-3b43-4f65-97c2-75ed5d5e51c3",
   "metadata": {
    "tags": []
   },
   "source": [
    "Сгруппируем признак активности и количество продуктов клиентов, чтобы посмотреть распределение."
   ]
  },
  {
   "cell_type": "code",
   "execution_count": 44,
   "id": "c7fa786e-45e7-43fd-a266-6b773452b2a3",
   "metadata": {
    "tags": []
   },
   "outputs": [
    {
     "data": {
      "text/html": [
       "<div>\n",
       "<style scoped>\n",
       "    .dataframe tbody tr th:only-of-type {\n",
       "        vertical-align: middle;\n",
       "    }\n",
       "\n",
       "    .dataframe tbody tr th {\n",
       "        vertical-align: top;\n",
       "    }\n",
       "\n",
       "    .dataframe thead th {\n",
       "        text-align: right;\n",
       "    }\n",
       "</style>\n",
       "<table border=\"1\" class=\"dataframe\">\n",
       "  <thead>\n",
       "    <tr style=\"text-align: right;\">\n",
       "      <th></th>\n",
       "      <th>products</th>\n",
       "      <th>churn_sum</th>\n",
       "      <th>products_count</th>\n",
       "      <th>churn_percent</th>\n",
       "    </tr>\n",
       "  </thead>\n",
       "  <tbody>\n",
       "    <tr>\n",
       "      <th>0</th>\n",
       "      <td>0</td>\n",
       "      <td>1</td>\n",
       "      <td>1</td>\n",
       "      <td>100.00</td>\n",
       "    </tr>\n",
       "    <tr>\n",
       "      <th>1</th>\n",
       "      <td>1</td>\n",
       "      <td>235</td>\n",
       "      <td>3323</td>\n",
       "      <td>7.07</td>\n",
       "    </tr>\n",
       "    <tr>\n",
       "      <th>2</th>\n",
       "      <td>2</td>\n",
       "      <td>978</td>\n",
       "      <td>5119</td>\n",
       "      <td>19.11</td>\n",
       "    </tr>\n",
       "    <tr>\n",
       "      <th>3</th>\n",
       "      <td>3</td>\n",
       "      <td>297</td>\n",
       "      <td>1038</td>\n",
       "      <td>28.61</td>\n",
       "    </tr>\n",
       "    <tr>\n",
       "      <th>4</th>\n",
       "      <td>4</td>\n",
       "      <td>300</td>\n",
       "      <td>474</td>\n",
       "      <td>63.29</td>\n",
       "    </tr>\n",
       "    <tr>\n",
       "      <th>5</th>\n",
       "      <td>5</td>\n",
       "      <td>8</td>\n",
       "      <td>19</td>\n",
       "      <td>42.11</td>\n",
       "    </tr>\n",
       "  </tbody>\n",
       "</table>\n",
       "</div>"
      ],
      "text/plain": [
       "   products  churn_sum  products_count  churn_percent\n",
       "0  0         1          1               100.00       \n",
       "1  1         235        3323            7.07         \n",
       "2  2         978        5119            19.11        \n",
       "3  3         297        1038            28.61        \n",
       "4  4         300        474             63.29        \n",
       "5  5         8          19              42.11        "
      ]
     },
     "execution_count": 44,
     "metadata": {},
     "output_type": "execute_result"
    }
   ],
   "source": [
    "# Группировка признака пропуска баланса и отточности клиентов. Аггрегируем кол-во клиентов по\n",
    "# признаку отточности и считаем количество клиентов у которых баланс есть и у которых пропущен\n",
    "churn_vs_products = df.groupby('products').agg({'churn': 'sum', 'products': 'count'})\n",
    "\n",
    "# Переименовываем колонки, чтобы они отражали суть содержимого и чтобы они имели уникальные имена\n",
    "churn_vs_products = churn_vs_products.rename(columns={'products': 'products_count',\n",
    "                                                      'churn': 'churn_sum'\n",
    "                                                      })\n",
    "\n",
    "# Избаляемся от второго уровня наименований колонок\n",
    "churn_vs_products = churn_vs_products.reset_index()\n",
    "\n",
    "# Вычисление процента отточности для клиентов у которых баланс есть и у которых пропущен\n",
    "churn_vs_products['churn_percent'] = round(churn_vs_products['churn_sum'] / churn_vs_products['products_count'] * 100, 2)\n",
    "\n",
    "churn_vs_products"
   ]
  },
  {
   "cell_type": "markdown",
   "id": "0434168b-8103-4cbb-bceb-2c01f352a1f0",
   "metadata": {},
   "source": [
    "Построим диаграмму на основе процента отточности для клиентов с разным количеством продуктов.  \n",
    "Клиенты с 0 продуктами рассматриваться не будут, т.к. такой клиент лишь один."
   ]
  },
  {
   "cell_type": "code",
   "execution_count": 45,
   "id": "703c0329-baee-43c5-82c1-fc4b64a45237",
   "metadata": {
    "tags": []
   },
   "outputs": [
    {
     "data": {
      "image/png": "[encoded data removed]",
      "text/plain": [
       "<Figure size 800x500 with 1 Axes>"
      ]
     },
     "metadata": {},
     "output_type": "display_data"
    }
   ],
   "source": [
    "ax = (churn_vs_products.iloc[1:]['churn_percent'].plot(kind = 'bar',\n",
    "                                                       figsize = (8,5),\n",
    "                                                       color=colors))\n",
    "\n",
    "ax.tick_params(labelrotation=0)\n",
    "ax.set_ylabel('Процент отточных клиентов').set_fontsize(14)\n",
    "ax.set_ylim([0, 70])\n",
    "ax.set_xlabel('Количество продуктов у клиентов').set_fontsize(14)\n",
    "ax.grid(axis='x')\n",
    "\n",
    "for x, y, p in zip(churn_vs_products.iloc[1:]['churn_percent'].index - 1, churn_vs_products.iloc[1:]['churn_percent'], list(churn_vs_products.iloc[1:]['churn_percent'])):\n",
    "    plt.text(x, y, str(p) + '%', ha='center', va='bottom', fontsize=11)\n",
    "\n",
    "plt.axhline(y=common_churn_percent, color='red', linestyle ='dashed')\n",
    "ax.text(x=-0.47, y=common_churn_percent * 1.04, s='Средний % отточности', fontsize=9)\n",
    "\n",
    "plt.title('Процент отточности среди клиентов с разным количеством продуктов', fontweight='bold', y=1.04, fontsize=16)\n",
    "plt.show()"
   ]
  },
  {
   "cell_type": "markdown",
   "id": "de679c5e-1853-481b-9d09-cb7070f4a4ed",
   "metadata": {},
   "source": [
    "Клиенты с 1 и 2 продуктами имеют процент отточности ниже или примерно равный среднему проценту отточности по банку.  \n",
    "Клиенты с более чем 2 продуктами показывают уровень отточности выше среднего. При этом, самый высокий уровень отточности у клиентов с 4 продуктами.\n",
    "\n",
    "На диаграмме выше можно заметить зависимость уровня отточности клиентов от количества баллов продуктов — чем больше продуктов, тем выше уровень оттока. Исключение составляют клиенты с 5 продуктами, но в случае с такими клиентами недостаточно данных для выводов, т.к. таких клиентов всего 19, т.е. выборка слишком мала."
   ]
  },
  {
   "cell_type": "markdown",
   "id": "7b90c086-9bb8-488c-872a-1a141b4c6bee",
   "metadata": {},
   "source": [
    "#### Количество баллов собственности"
   ]
  },
  {
   "cell_type": "markdown",
   "id": "c25ac71f-1051-44b4-b3ae-d6956ba3a93b",
   "metadata": {},
   "source": [
    "Сгруппируем признак активности и количество баллов собственности клиентов, чтобы посмотреть распределение."
   ]
  },
  {
   "cell_type": "code",
   "execution_count": 46,
   "id": "b6664ad9-04d0-4eff-a642-41125e5ac3a3",
   "metadata": {
    "tags": []
   },
   "outputs": [
    {
     "data": {
      "text/html": [
       "<div>\n",
       "<style scoped>\n",
       "    .dataframe tbody tr th:only-of-type {\n",
       "        vertical-align: middle;\n",
       "    }\n",
       "\n",
       "    .dataframe tbody tr th {\n",
       "        vertical-align: top;\n",
       "    }\n",
       "\n",
       "    .dataframe thead th {\n",
       "        text-align: right;\n",
       "    }\n",
       "</style>\n",
       "<table border=\"1\" class=\"dataframe\">\n",
       "  <thead>\n",
       "    <tr style=\"text-align: right;\">\n",
       "      <th></th>\n",
       "      <th>equity</th>\n",
       "      <th>churn_sum</th>\n",
       "      <th>equity_count</th>\n",
       "      <th>churn_percent</th>\n",
       "    </tr>\n",
       "  </thead>\n",
       "  <tbody>\n",
       "    <tr>\n",
       "      <th>0</th>\n",
       "      <td>0</td>\n",
       "      <td>90</td>\n",
       "      <td>2576</td>\n",
       "      <td>3.49</td>\n",
       "    </tr>\n",
       "    <tr>\n",
       "      <th>1</th>\n",
       "      <td>1</td>\n",
       "      <td>93</td>\n",
       "      <td>773</td>\n",
       "      <td>12.03</td>\n",
       "    </tr>\n",
       "    <tr>\n",
       "      <th>2</th>\n",
       "      <td>2</td>\n",
       "      <td>166</td>\n",
       "      <td>1051</td>\n",
       "      <td>15.79</td>\n",
       "    </tr>\n",
       "    <tr>\n",
       "      <th>3</th>\n",
       "      <td>3</td>\n",
       "      <td>322</td>\n",
       "      <td>1541</td>\n",
       "      <td>20.90</td>\n",
       "    </tr>\n",
       "    <tr>\n",
       "      <th>4</th>\n",
       "      <td>4</td>\n",
       "      <td>464</td>\n",
       "      <td>1847</td>\n",
       "      <td>25.12</td>\n",
       "    </tr>\n",
       "    <tr>\n",
       "      <th>5</th>\n",
       "      <td>5</td>\n",
       "      <td>576</td>\n",
       "      <td>1915</td>\n",
       "      <td>30.08</td>\n",
       "    </tr>\n",
       "    <tr>\n",
       "      <th>6</th>\n",
       "      <td>6</td>\n",
       "      <td>58</td>\n",
       "      <td>161</td>\n",
       "      <td>36.02</td>\n",
       "    </tr>\n",
       "    <tr>\n",
       "      <th>7</th>\n",
       "      <td>7</td>\n",
       "      <td>37</td>\n",
       "      <td>80</td>\n",
       "      <td>46.25</td>\n",
       "    </tr>\n",
       "    <tr>\n",
       "      <th>8</th>\n",
       "      <td>8</td>\n",
       "      <td>6</td>\n",
       "      <td>17</td>\n",
       "      <td>35.29</td>\n",
       "    </tr>\n",
       "    <tr>\n",
       "      <th>9</th>\n",
       "      <td>9</td>\n",
       "      <td>7</td>\n",
       "      <td>13</td>\n",
       "      <td>53.85</td>\n",
       "    </tr>\n",
       "  </tbody>\n",
       "</table>\n",
       "</div>"
      ],
      "text/plain": [
       "   equity  churn_sum  equity_count  churn_percent\n",
       "0  0       90         2576          3.49         \n",
       "1  1       93         773           12.03        \n",
       "2  2       166        1051          15.79        \n",
       "3  3       322        1541          20.90        \n",
       "4  4       464        1847          25.12        \n",
       "5  5       576        1915          30.08        \n",
       "6  6       58         161           36.02        \n",
       "7  7       37         80            46.25        \n",
       "8  8       6          17            35.29        \n",
       "9  9       7          13            53.85        "
      ]
     },
     "execution_count": 46,
     "metadata": {},
     "output_type": "execute_result"
    }
   ],
   "source": [
    "# Группировка признака пропуска баланса и отточности клиентов. Аггрегируем кол-во клиентов по\n",
    "# признаку отточности и считаем количество клиентов у которых баланс есть и у которых пропущен\n",
    "churn_vs_equity = df.groupby('equity').agg({'churn': 'sum', 'equity': 'count'})\n",
    "\n",
    "# Переименовываем колонки, чтобы они отражали суть содержимого и чтобы они имели уникальные имена\n",
    "churn_vs_equity = churn_vs_equity.rename(columns={'equity': 'equity_count',\n",
    "                                                      'churn': 'churn_sum'\n",
    "                                                      })\n",
    "\n",
    "# Избаляемся от второго уровня наименований колонок\n",
    "churn_vs_equity = churn_vs_equity.reset_index()\n",
    "\n",
    "# Вычисление процента отточности для клиентов у которых баланс есть и у которых пропущен\n",
    "churn_vs_equity['churn_percent'] = round(churn_vs_equity['churn_sum'] / churn_vs_equity['equity_count'] * 100, 2)\n",
    "\n",
    "churn_vs_equity"
   ]
  },
  {
   "cell_type": "markdown",
   "id": "8d1d046d-7e77-4575-8bc7-75f535499dbe",
   "metadata": {
    "tags": []
   },
   "source": [
    "Построим диаграмму на основе процента отточности для клиентов с разным количеством баллов собственности."
   ]
  },
  {
   "cell_type": "code",
   "execution_count": 47,
   "id": "4edda664-5f94-463a-ae57-542ea2c8c68e",
   "metadata": {
    "tags": []
   },
   "outputs": [
    {
     "data": {
      "image/png": "[encoded data removed]",
      "text/plain": [
       "<Figure size 800x500 with 1 Axes>"
      ]
     },
     "metadata": {},
     "output_type": "display_data"
    }
   ],
   "source": [
    "ax = (churn_vs_equity['churn_percent'].plot(kind = 'bar',\n",
    "                                                          figsize = (8,5),\n",
    "                                                          color=colors))\n",
    "\n",
    "ax.tick_params(labelrotation=0)\n",
    "ax.set_ylabel('Процент отточных клиентов').set_fontsize(14)\n",
    "ax.set_ylim([0, 60])\n",
    "ax.set_xlabel('Количество баллов собственности у клиентов').set_fontsize(14)\n",
    "ax.grid(axis='x')\n",
    "\n",
    "for x, y, p in zip(churn_vs_equity['churn_percent'].index, churn_vs_equity['churn_percent'], list(churn_vs_equity['churn_percent'])):\n",
    "    plt.text(x, y, str(p) + '%', ha='center', va='bottom', fontsize=11)\n",
    "\n",
    "plt.axhline(y=common_churn_percent, color='red', linestyle ='dashed')\n",
    "ax.text(x=-0.47, y=common_churn_percent * 1.04, s='Средний % отточности', fontsize=9)\n",
    "\n",
    "plt.title('Процент отточности среди клиентов с разным количеством баллов собственности', fontweight='bold', y=1.04, fontsize=16)\n",
    "plt.show()"
   ]
  },
  {
   "cell_type": "markdown",
   "id": "6b2220db-6252-465a-a433-1e5586aac9fa",
   "metadata": {},
   "source": [
    "Клиенты с разным количеством баллов собственности разделились по среднему проценту отточности по банку следующим образом:\n",
    "- Клиенты с `0-2 баллами` имеют процент отточности ниже среднего;\n",
    "- Клиенты с `3 баллами` показывают уровень отточности примерно равный среднему;\n",
    "- Клиенты с `4-9 баллами` имеют процент отточности выше среднего.\n",
    "\n",
    "На диаграмме выше можно заметить зависимость уровня отточности клиентов от количества баллов собственности — чем больше баллов, тем выше уровень оттока."
   ]
  },
  {
   "cell_type": "markdown",
   "id": "743646ed-67c0-4bfd-bd34-90a52fcd38fd",
   "metadata": {},
   "source": [
    "### Распределения количественных непрерывных признаков"
   ]
  },
  {
   "cell_type": "markdown",
   "id": "91913358-1392-4075-80e5-057527313067",
   "metadata": {},
   "source": [
    "#### Баллы кредитного скоринга"
   ]
  },
  {
   "cell_type": "markdown",
   "id": "cd584cd1-b06b-4339-8cc7-c5c7e78a1838",
   "metadata": {},
   "source": [
    "Построим диаграмму с распределением отточных и неотточных клиентов к баллам кредитного скоринга."
   ]
  },
  {
   "cell_type": "code",
   "execution_count": 48,
   "id": "09af7ede-4f19-437d-beb7-e6e02f5edac8",
   "metadata": {
    "tags": []
   },
   "outputs": [
    {
     "data": {
      "image/png": "[encoded data removed]",
      "text/plain": [
       "<Figure size 1000x700 with 2 Axes>"
      ]
     },
     "metadata": {},
     "output_type": "display_data"
    }
   ],
   "source": [
    "fig = plt.figure(figsize=(10, 7))\n",
    "\n",
    "fig.add_subplot(1, 2, 1)\n",
    "ax = sns.violinplot(x='churn', y='score',\n",
    "              data=df,\n",
    "              scale='count',\n",
    "              hue='churn',\n",
    "              split=True,\n",
    "              palette=colors,\n",
    "              inner='quartile',\n",
    "             )\n",
    "\n",
    "ax.set_title('Относительное распределение')\n",
    "ax.set_ylabel('Количество баллов кредитного рейтинга').set_fontsize(12)\n",
    "ax.set_xlabel('')\n",
    "ax.set_xticklabels(['Действующие клиенты', 'Ушедшие клиенты'], fontsize=12)\n",
    "plt.legend([],[], frameon=False)\n",
    "\n",
    "fig.add_subplot(1, 2, 2)\n",
    "ax = sns.violinplot(x=[\"AB\"]*len(df), y='score',\n",
    "              data=df,\n",
    "              scale='count',\n",
    "              hue='churn',\n",
    "              split=True,\n",
    "              palette=colors,\n",
    "              inner='quartile')\n",
    "\n",
    "ax.set_title('Абсолютное распределение')\n",
    "ax.set_ylabel('')\n",
    "ax.set_xticklabels(['Действующие клиенты             Ушедшие клиенты'], fontsize=12)\n",
    "\n",
    "plt.tight_layout()\n",
    "plt.suptitle('Распределение отточных и неотточных клиентов к баллам кредитного скоринга', fontweight='bold', y=1.03, fontsize=16)\n",
    "plt.legend([],[], frameon=False)\n",
    "\n",
    "plt.show()"
   ]
  },
  {
   "cell_type": "markdown",
   "id": "a10e6319-e344-483b-a067-d742592cde5a",
   "metadata": {},
   "source": [
    "Ушедшие клиенты в среднем обладают большим количеством баллов кредитного рейтинга, чем действующие.  \n",
    "Половина ушедших клиентов, расположившихся между 1-м и 3-м квартилем, обладает рейтингом от 830 до 900 баллов. Большая часть ушедших клиентов обладает рейтингом `от 800 до 930`."
   ]
  },
  {
   "cell_type": "markdown",
   "id": "7759d4f2-5cd9-4208-9e04-6958f9c97f10",
   "metadata": {},
   "source": [
    "#### Возраст"
   ]
  },
  {
   "cell_type": "markdown",
   "id": "70c6e9b9-2652-4bf6-8b16-2f48c08d1ce6",
   "metadata": {},
   "source": [
    "Построим диаграмму с распределением отточных и неотточных клиентов к их возрасту."
   ]
  },
  {
   "cell_type": "code",
   "execution_count": 49,
   "id": "8d372fe7-1f8b-4a87-a5b0-dc46a8589a9a",
   "metadata": {
    "tags": []
   },
   "outputs": [
    {
     "data": {
      "image/png": "[encoded data removed]",
      "text/plain": [
       "<Figure size 1000x700 with 2 Axes>"
      ]
     },
     "metadata": {},
     "output_type": "display_data"
    }
   ],
   "source": [
    "fig = plt.figure(figsize=(10, 7))\n",
    "\n",
    "fig.add_subplot(1, 2, 1)\n",
    "ax = sns.violinplot(x='churn', y='age',\n",
    "              data=df,\n",
    "              scale='count',\n",
    "              hue='churn',\n",
    "              split=True,\n",
    "              palette=colors,\n",
    "              inner='quartile',\n",
    "             )\n",
    "\n",
    "ax.set_title('Относительное распределение')\n",
    "ax.set_ylabel('Возраст клиентов в годах').set_fontsize(12)\n",
    "ax.set_xlabel('')\n",
    "ax.set_xticklabels(['Действующие клиенты', 'Ушедшие клиенты'], fontsize=12)\n",
    "plt.legend([],[], frameon=False)\n",
    "\n",
    "fig.add_subplot(1, 2, 2)\n",
    "ax = sns.violinplot(x=[\"AB\"]*len(df), y='age',\n",
    "              data=df,\n",
    "              scale='count',\n",
    "              hue='churn',\n",
    "              split=True,\n",
    "              palette=colors,\n",
    "              inner='quartile')\n",
    "\n",
    "ax.set_title('Абсолютное распределение')\n",
    "ax.set_ylabel('')\n",
    "ax.set_xticklabels(['Действующие клиенты             Ушедшие клиенты'], fontsize=12)\n",
    "\n",
    "plt.tight_layout()\n",
    "plt.suptitle('Распределение отточных и неотточных клиентов к их возрасту', fontweight='bold', y=1.03, fontsize=16)\n",
    "plt.legend([],[], frameon=False)\n",
    "\n",
    "plt.show()"
   ]
  },
  {
   "cell_type": "markdown",
   "id": "3f20e637-58e5-4dd5-9b4f-df7b224054c1",
   "metadata": {},
   "source": [
    "Ушедшие клиенты в среднем немного моложе действующих.  \n",
    "Половина ушедших клиентов, расположившихся между 1-м и 3-м квартилем, пребывает в возрасте от 32 до 52 лет.  \n",
    "В распределении ушедших клиентов можно отметить две вершины, где возраст равен 33 и 55 годам. Если принимать это во внимание, то большая часть ушедших клиентов находится в двух диапазонах возраста — `26-43` и `50-58` лет."
   ]
  },
  {
   "cell_type": "markdown",
   "id": "4fda9fab-6fc2-4ee3-a760-65be90319d52",
   "metadata": {
    "tags": []
   },
   "source": [
    "## Анализ портрета клиента в разрезе оттока <a id='portrait'></a>"
   ]
  },
  {
   "cell_type": "markdown",
   "id": "ff3b8c41-7a1a-4229-9c86-1297927ea784",
   "metadata": {},
   "source": [
    "Посмотрим портрет клиента в разрезе оттока. Для этого построим сводную таблицу, где по каждому признаку будет посчитана мера центральной тенденции."
   ]
  },
  {
   "cell_type": "code",
   "execution_count": 50,
   "id": "95504d12-9a0f-491f-b710-3cfd446fa027",
   "metadata": {
    "tags": []
   },
   "outputs": [
    {
     "data": {
      "text/html": [
       "<div>\n",
       "<style scoped>\n",
       "    .dataframe tbody tr th:only-of-type {\n",
       "        vertical-align: middle;\n",
       "    }\n",
       "\n",
       "    .dataframe tbody tr th {\n",
       "        vertical-align: top;\n",
       "    }\n",
       "\n",
       "    .dataframe thead th {\n",
       "        text-align: right;\n",
       "    }\n",
       "</style>\n",
       "<table border=\"1\" class=\"dataframe\">\n",
       "  <thead>\n",
       "    <tr style=\"text-align: right;\">\n",
       "      <th></th>\n",
       "      <th>Ушедший клиент</th>\n",
       "      <th>Действующий клиент</th>\n",
       "      <th>Относительная разница</th>\n",
       "    </tr>\n",
       "  </thead>\n",
       "  <tbody>\n",
       "    <tr>\n",
       "      <th>Средний кредитный рейтинг</th>\n",
       "      <td>863</td>\n",
       "      <td>845</td>\n",
       "      <td>2.13%</td>\n",
       "    </tr>\n",
       "    <tr>\n",
       "      <th>Средний возраст</th>\n",
       "      <td>41</td>\n",
       "      <td>43</td>\n",
       "      <td>-4.65%</td>\n",
       "    </tr>\n",
       "    <tr>\n",
       "      <th>Средняя зарплата</th>\n",
       "      <td>148290</td>\n",
       "      <td>147675</td>\n",
       "      <td>0.42%</td>\n",
       "    </tr>\n",
       "    <tr>\n",
       "      <th>Медианная зарплата</th>\n",
       "      <td>125395</td>\n",
       "      <td>118228</td>\n",
       "      <td>6.06%</td>\n",
       "    </tr>\n",
       "    <tr>\n",
       "      <th>Средний баланс</th>\n",
       "      <td>1134458</td>\n",
       "      <td>733032</td>\n",
       "      <td>54.76%</td>\n",
       "    </tr>\n",
       "    <tr>\n",
       "      <th>Медианный баланс</th>\n",
       "      <td>783909</td>\n",
       "      <td>475410</td>\n",
       "      <td>64.89%</td>\n",
       "    </tr>\n",
       "    <tr>\n",
       "      <th>Медианное количество продуктов</th>\n",
       "      <td>2</td>\n",
       "      <td>2</td>\n",
       "      <td>0.0%</td>\n",
       "    </tr>\n",
       "    <tr>\n",
       "      <th>Медианное количество баллов собственности</th>\n",
       "      <td>4</td>\n",
       "      <td>3</td>\n",
       "      <td>33.33%</td>\n",
       "    </tr>\n",
       "    <tr>\n",
       "      <th>Мода по городу</th>\n",
       "      <td>Ярославль</td>\n",
       "      <td>Ярославль</td>\n",
       "      <td>0%</td>\n",
       "    </tr>\n",
       "    <tr>\n",
       "      <th>Мода по полу</th>\n",
       "      <td>М</td>\n",
       "      <td>Ж</td>\n",
       "      <td>100.0%</td>\n",
       "    </tr>\n",
       "    <tr>\n",
       "      <th>Мода по наличию кредитной карты</th>\n",
       "      <td>1</td>\n",
       "      <td>1</td>\n",
       "      <td>0%</td>\n",
       "    </tr>\n",
       "    <tr>\n",
       "      <th>Мода по активности клиента</th>\n",
       "      <td>1</td>\n",
       "      <td>0</td>\n",
       "      <td>100.0%</td>\n",
       "    </tr>\n",
       "  </tbody>\n",
       "</table>\n",
       "</div>"
      ],
      "text/plain": [
       "                                          Ушедший клиент Действующий клиент  \\\n",
       "Средний кредитный рейтинг                  863            845                 \n",
       "Средний возраст                            41             43                  \n",
       "Средняя зарплата                           148290         147675              \n",
       "Медианная зарплата                         125395         118228              \n",
       "Средний баланс                             1134458        733032              \n",
       "Медианный баланс                           783909         475410              \n",
       "Медианное количество продуктов             2              2                   \n",
       "Медианное количество баллов собственности  4              3                   \n",
       "Мода по городу                             Ярославль      Ярославль           \n",
       "Мода по полу                               М              Ж                   \n",
       "Мода по наличию кредитной карты            1              1                   \n",
       "Мода по активности клиента                 1              0                   \n",
       "\n",
       "                                          Относительная разница  \n",
       "Средний кредитный рейтинг                  2.13%                 \n",
       "Средний возраст                            -4.65%                \n",
       "Средняя зарплата                           0.42%                 \n",
       "Медианная зарплата                         6.06%                 \n",
       "Средний баланс                             54.76%                \n",
       "Медианный баланс                           64.89%                \n",
       "Медианное количество продуктов             0.0%                  \n",
       "Медианное количество баллов собственности  33.33%                \n",
       "Мода по городу                             0%                    \n",
       "Мода по полу                               100.0%                \n",
       "Мода по наличию кредитной карты            0%                    \n",
       "Мода по активности клиента                 100.0%                "
      ]
     },
     "execution_count": 50,
     "metadata": {},
     "output_type": "execute_result"
    }
   ],
   "source": [
    "# В новом датафрейме churn_dependency_df заполняем столбец \"Ушедший клиент\" посчитанной мерой центральной \n",
    "# тендеции признаков для таких строк, значение churn равно 1. Значения округляются и приводятся к типу int.\n",
    "# Столбец \"Действующий клиент\" заполняется аналогично, только посчитанной мерой центральной тендеции признаков \n",
    "# для таких строк, где значение churn равно 0.\n",
    "# Столбец \"Относительная разница\" заполняется значением 0 при создании датафрейма, расчёт производится после\n",
    "# создания датафрейма churn_dependency_df.\n",
    "\n",
    "churn_dependency_df = pd.DataFrame({'Ушедший клиент':[df[df['churn'] == 1]['score'].mean().round().astype('int'),\n",
    "                                                      df[df['churn'] == 1]['age'].mean().round().astype('int'),\n",
    "                                                      df[df['churn'] == 1]['est_salary'].mean().round().astype('int'),\n",
    "                                                      df[df['churn'] == 1]['est_salary'].median().round().astype('int'),\n",
    "                                                      df[df['churn'] == 1]['balance'].mean().round().astype('int'),\n",
    "                                                      df[df['churn'] == 1]['balance'].median().round().astype('int'),\n",
    "                                                      df[df['churn'] == 1]['products'].median().astype('int'),\n",
    "                                                      df[df['churn'] == 1]['equity'].median().astype('int'),\n",
    "                                                      df[df['churn'] == 1]['city'].mode()[0],\n",
    "                                                      df[df['churn'] == 1]['gender'].mode()[0],\n",
    "                                                      df[df['churn'] == 1]['credit_card'].mode()[0],\n",
    "                                                      df[df['churn'] == 1]['last_activity'].mode()[0]],\n",
    "                                    'Действующий клиент':[df[df['churn'] == 0]['score'].mean().round().astype('int'),\n",
    "                                                          df[df['churn'] == 0]['age'].mean().round().astype('int'),\n",
    "                                                          df[df['churn'] == 0]['est_salary'].mean().round().astype('int'),\n",
    "                                                          df[df['churn'] == 0]['est_salary'].median().round().astype('int'),\n",
    "                                                          df[df['churn'] == 0]['balance'].mean().round().astype('int'),\n",
    "                                                          df[df['churn'] == 0]['balance'].median().round().astype('int'),\n",
    "                                                          df[df['churn'] == 0]['products'].median().astype('int'),\n",
    "                                                          df[df['churn'] == 0]['equity'].median().astype('int'),\n",
    "                                                          df[df['churn'] == 0]['city'].mode()[0],\n",
    "                                                          df[df['churn'] == 0]['gender'].mode()[0],\n",
    "                                                          df[df['churn'] == 0]['credit_card'].mode()[0],\n",
    "                                                          df[df['churn'] == 0]['last_activity'].mode()[0]],\n",
    "                                    'Относительная разница':[0] * 12},\n",
    "                                   index = ['Средний кредитный рейтинг',\n",
    "                                            'Средний возраст',\n",
    "                                            'Средняя зарплата',\n",
    "                                            'Медианная зарплата',\n",
    "                                            'Средний баланс',\n",
    "                                            'Медианный баланс',\n",
    "                                            'Медианное количество продуктов',\n",
    "                                            'Медианное количество баллов собственности',\n",
    "                                            'Мода по городу',\n",
    "                                            'Мода по полу',\n",
    "                                            'Мода по наличию кредитной карты',\n",
    "                                            'Мода по активности клиента'])\n",
    "\n",
    "# Расчёт относительной разницы для средних и медианных значений. Разница умножается на 100, округляется до второго знака\n",
    "# после запятой, приводится к типу str и добавляется знак процента для лучшей визуализации\n",
    "\n",
    "for i in range(8):\n",
    "    churn_dependency_df.iloc[i, 2] = round((churn_dependency_df.iloc[i, 0] - churn_dependency_df.iloc[i, 1]) / churn_dependency_df.iloc[i, 1] * 100, 2).astype('str') + '%'\n",
    "\n",
    "# Расчёт относительной разницы для значений моды. 0%, если разницы нет, 100%, если есть\n",
    "\n",
    "for i in range(8,12):\n",
    "    churn_dependency_df.iloc[i, 2] = '0%' if churn_dependency_df.iloc[i, 0] == churn_dependency_df.iloc[i, 1] else '100.0%'\n",
    "\n",
    "churn_dependency_df"
   ]
  },
  {
   "cell_type": "markdown",
   "id": "5591a29e-7fa8-495d-a7b1-3d37f7beac3f",
   "metadata": {},
   "source": [
    "Ушедшие клиенты по сравнению с действующими:\n",
    "- Имеют больший баланс (однако корреляции отточности к балансу нет);\n",
    "- Чаще являются мужчинами;\n",
    "- Чаще являются активными клиентами;\n",
    "- Имеют немного больше баллов собственности."
   ]
  },
  {
   "cell_type": "markdown",
   "id": "7a737437-0393-43c4-a585-b1c94c2144a4",
   "metadata": {},
   "source": [
    "## Выводы по результатам исследовательского анализа данных"
   ]
  },
  {
   "cell_type": "markdown",
   "id": "020571f0-9e45-4a27-af84-618c8f43e337",
   "metadata": {},
   "source": [
    "В ходе исследовательского анализа была построена [матрица корреляций](#matrix), которая позволила установить, что с признаком оттока коррелируют следующие данные:\n",
    "- С умеренной силой:\n",
    "    - Количество продуктов банка — products;\n",
    "    - Признак пропуска баланса — balance_na;\n",
    "    - Количество баллов собственности — equity.\n",
    "- Слабо коррелируют:\n",
    "    - Признак активности — last_activity;\n",
    "    - Баллы кредитного скоринга — score;\n",
    "    - Пол — gender;\n",
    "    - Наличие кредитной карты — credit_card;\n",
    "    - Возраст — age.\n",
    "- Остальные признаки не коррелируют с признаком оттока.\n",
    "\n",
    "По вышеперечисленным признакам были [построены распределения](#distribution), по которым можно дать характеристики наиболее отточным клиентам в разрезе признаков. Чаще остальных из банка уходят клиенты у которых:\n",
    "- Значение баланса не пустое;\n",
    "- С признаком активности;\n",
    "- Мужской пол;\n",
    "- Без кредитной карты;\n",
    "- С более чем 2 продуктами;\n",
    "- С 4-9 баллами собственности;\n",
    "- С кредитным рейтингом от 800 до 930;\n",
    "- В двух диапазонах возраста — 26-43 и 50-58 лет.\n",
    "\n",
    "Построен портрет клиента в разрезе оттока. Ушедшие клиенты согласно портрету:\n",
    "- Имеют больший баланс (однако корреляции отточности к балансу нет);\n",
    "- Чаще являются мужчинами;\n",
    "- Чаще являются активными клиентами;\n",
    "- Имеют немного больше баллов собственности.\n",
    "\n",
    "Перечисленные пункты за исключением баланса ранее подтвердились при построении распределений."
   ]
  },
  {
   "cell_type": "markdown",
   "id": "2ddde236-cc4f-454e-9283-62fc789577ed",
   "metadata": {},
   "source": [
    "# Проверка статистических гипотез <a id='statistical_hypotheses'></a>"
   ]
  },
  {
   "cell_type": "markdown",
   "id": "82de698f-fc7f-4b23-a6f7-34d4049a09be",
   "metadata": {},
   "source": [
    "## Гипотеза №1. Доходы ушедших и действующих клиентов отличаются между собой"
   ]
  },
  {
   "cell_type": "markdown",
   "id": "d4e6ad42-2250-467f-af2b-cba2a1d775c7",
   "metadata": {},
   "source": [
    "Для проверки утверждения \"доходы ушедших и действующих клиентов отличаются между собой\", сформулируем нулевую и альтернативную гипотезы:\n",
    "- Нулевая гипотеза: \"Доходы ушедших и действующих клиентов не отличаются\";\n",
    "- Альтернативная гипотеза: \"Доходы ушедших и действующих клиентов отличаются между собой\".\n",
    "\n",
    "Для проверки гипотезы воспользуемся t-тестом, метод `scipy.stats.ttest_ind()`, т.к. он работает для выборки любого размера.  \n",
    "Чтобы убедится в том, что мы можем в данном случае применить t-тест, рассмотрим три аспекта:\n",
    "1. Генеральные совокупности не должны зависеть друг от друга:\n",
    "    - <font color='green'>В данном случае они независимы, в обеих совокупностях рассматриваются разные клиенты.</font>\n",
    "2. Выборочные средние должны быть нормально распределены:\n",
    "    - <font color='green'>Благодаря ЦПТ, т.к. размер выборки составляет более тысячи значений, выборочные средние, которые можно получить из одной и той же генеральной совокупности, будут распределены нормально вокруг истинного среднего этой совокупности.</font>\n",
    "3. Дисперсии рассматриваемых генеральных совокупностей должны быть равны:\n",
    "    - <font color='green'>Т.к. выборки разного размера и можно предположить, что дисперсии у генеральных совокупностей разные, в методе `scipy.stats.ttest_ind()` укажем параметр `equal_var=False`.</font>\n",
    "\n",
    "Критический уровень статистической значимости примем равным 5%.  \n",
    "\n",
    "Проверим гипотезу о равенстве доходов ушедших и действующих клиентов."
   ]
  },
  {
   "cell_type": "code",
   "execution_count": 51,
   "id": "d2f133a3-774d-462b-8626-daaa5a441421",
   "metadata": {
    "tags": []
   },
   "outputs": [
    {
     "name": "stdout",
     "output_type": "stream",
     "text": [
      "p-значение: 0.852\n",
      "Не получилось отвергнуть нулевую гипотезу\n"
     ]
    }
   ],
   "source": [
    "# Доходы действующих клиентов\n",
    "actual_clients_salary = df[df['churn'] == 0]['est_salary']\n",
    "\n",
    "# Доходы ушедших клиентов\n",
    "gone_clients_salary = df[df['churn'] == 1]['est_salary']\n",
    "\n",
    "# Критический уровень статистической значимости\n",
    "alpha = 0.05\n",
    "\n",
    "# Проведение статистического теста о равенстве доходов ушедших и действующих клиентов\n",
    "results = st.ttest_ind(actual_clients_salary, gone_clients_salary, equal_var=False)\n",
    "\n",
    "# Получившееся значение p-value\n",
    "print('p-значение:', results.pvalue.round(3))\n",
    "\n",
    "# Сравнение получившегося p-value с alpha\n",
    "if results.pvalue < alpha:\n",
    "    print('Отвергаем нулевую гипотезу')\n",
    "else:\n",
    "    print('Не получилось отвергнуть нулевую гипотезу')"
   ]
  },
  {
   "cell_type": "markdown",
   "id": "fb3ea210-99e3-4da0-ae43-ce306e60a101",
   "metadata": {},
   "source": [
    "Не нашлось причин отвергнуть нулевую гипотезу, считаем что доходы ушедших и действующих клиентов не отличаются."
   ]
  },
  {
   "cell_type": "markdown",
   "id": "ad472d8e-73a1-41a3-844f-c95bda0542af",
   "metadata": {},
   "source": [
    "## Гипотеза №2. Пропорции ушедших клиентов в городах различаются между собой"
   ]
  },
  {
   "cell_type": "markdown",
   "id": "e1914e4d-1d94-4ae9-a20b-048d50931f05",
   "metadata": {},
   "source": [
    "Для проверки утверждения \"пропорции ушедших клиентов в городах различаются между собой\" проверим гипотезу о равенстве долей при помощи Z-теста в различных городах. Так как банк расположен в трех городах, необходимо провести три проверки гипотезы для различных городов.\n",
    "\n",
    "Сформулируем нулевую и альтернативную гипотезы:\n",
    "- Нулевая гипотеза: \"Пропорции ушедших клиентов в городах равны\";\n",
    "- Альтернативная гипотеза: \"Пропорции ушедших клиентов в городах отличаются между собой\".\n",
    "\n",
    "Критический уровень статистической значимости примем равным 5%.  \n",
    "\n",
    "Для проверки гипотезы о равенстве пропорций ушедших клиентов в различных городах напишем метод `ztest_for_churn`."
   ]
  },
  {
   "cell_type": "code",
   "execution_count": 52,
   "id": "189f72e0-4b92-468a-a63d-023f7da7d26c",
   "metadata": {
    "tags": []
   },
   "outputs": [],
   "source": [
    "def ztest_for_churn(criterion, criterion_value_1, criterion_value_2):\n",
    "    '''\n",
    "    Метод производит тест пропорций ушедших клиентов на равенство при помощи Z-теста.\n",
    "    На вход подаются критерий проверки и его значения, которые нужно проверить на равенство.\n",
    "    '''\n",
    "    # Критический уровень статистической значимости\n",
    "    alpha = 0.05\n",
    "    \n",
    "    # Количество ушедших клиентов согласно первому критерию\n",
    "    criterion_1_gone_clients_count = df[(df['churn'] == 1) & (df[criterion] == criterion_value_1)]['user_id'].count()\n",
    "    \n",
    "    # Количество действующих клиентов согласно первому критерию\n",
    "    criterion_1_actual_clients_count = df[(df['churn'] == 0) & (df[criterion] == criterion_value_1)]['user_id'].count()\n",
    "    \n",
    "    # Количество ушедших клиентов согласно второму критерию\n",
    "    criterion_2_gone_clients_count = df[(df['churn'] == 1) & (df[criterion] == criterion_value_2)]['user_id'].count()\n",
    "    \n",
    "    # Количество действующих клиентов согласно второму критерию\n",
    "    criterion_2_actual_clients_count = df[(df['churn'] == 0) & (df[criterion] == criterion_value_2)]['user_id'].count()\n",
    "    \n",
    "    # Пропорция ушедших клиентов для первого критерия\n",
    "    p1 = criterion_1_gone_clients_count/criterion_1_actual_clients_count\n",
    "    print(f'Пропорция ушедших клиентов для значения {criterion_value_1} равна {p1.round(3)}')\n",
    "    \n",
    "    # Пропорция ушедших клиентов для второго критерия\n",
    "    p2 = criterion_2_gone_clients_count/criterion_2_actual_clients_count\n",
    "    print(f'Пропорция ушедших клиентов для значения {criterion_value_2} равна {p2.round(3)}')\n",
    "    \n",
    "    # Пропорция ушедших клиентов в комбинированном датасете\n",
    "    p_combined = (criterion_1_gone_clients_count + criterion_2_gone_clients_count) / (criterion_1_actual_clients_count + criterion_2_actual_clients_count)\n",
    "    \n",
    "    # Разница пропорций в датасетах\n",
    "    difference = p1 - p2\n",
    "    \n",
    "    # Считаем статистику в стандартных отклонениях стандартного нормального распределения\n",
    "    z_value = difference / mth.sqrt(p_combined * (1 - p_combined) * (1/criterion_1_actual_clients_count + 1/criterion_2_actual_clients_count))\n",
    "    \n",
    "    # Задаем стандартное нормальное распределение (среднее 0, ст.отклонение 1)\n",
    "    distr = st.norm(0, 1)\n",
    "    \n",
    "    # Вероятность получить такое отличие или больше\n",
    "    p_value = (1 - distr.cdf(abs(z_value))) * 2\n",
    "    \n",
    "    print('p-значение: ', p_value.round(3))\n",
    "    \n",
    "    if p_value < alpha:\n",
    "        print('Отвергаем нулевую гипотезу')\n",
    "    else:\n",
    "        print(\n",
    "            'Не получилось отвергнуть нулевую гипотезу'\n",
    "        ) "
   ]
  },
  {
   "cell_type": "markdown",
   "id": "b0fbe00b-0d92-431c-82c0-b84e423c9d82",
   "metadata": {},
   "source": [
    "### Ярославль и Ростов"
   ]
  },
  {
   "cell_type": "code",
   "execution_count": 53,
   "id": "4006dbd8-0c39-4f17-8080-4e98449754ac",
   "metadata": {
    "tags": []
   },
   "outputs": [
    {
     "name": "stdout",
     "output_type": "stream",
     "text": [
      "Пропорция ушедших клиентов для значения Ярославль равна 0.235\n",
      "Пропорция ушедших клиентов для значения Ростов равна 0.23\n",
      "p-значение:  0.745\n",
      "Не получилось отвергнуть нулевую гипотезу\n"
     ]
    }
   ],
   "source": [
    "ztest_for_churn('city', 'Ярославль', 'Ростов')"
   ]
  },
  {
   "cell_type": "markdown",
   "id": "a9920fd2-ea71-4121-bb2b-dd8c056b6b5f",
   "metadata": {},
   "source": [
    "Не нашлось причин отвергнуть нулевую гипотезу, считаем что пропорции ушедших клиентов в Ярославле и Ростове равны."
   ]
  },
  {
   "cell_type": "markdown",
   "id": "2bbd54e8-c44e-498f-a963-a98c0c340ca8",
   "metadata": {},
   "source": [
    "### Ярославль и Рыбинск"
   ]
  },
  {
   "cell_type": "code",
   "execution_count": 54,
   "id": "b406822b-20c5-4aa1-b376-f9a70e752b4e",
   "metadata": {
    "tags": []
   },
   "outputs": [
    {
     "name": "stdout",
     "output_type": "stream",
     "text": [
      "Пропорция ушедших клиентов для значения Ярославль равна 0.235\n",
      "Пропорция ушедших клиентов для значения Рыбинск равна 0.195\n",
      "p-значение:  0.0\n",
      "Отвергаем нулевую гипотезу\n"
     ]
    }
   ],
   "source": [
    "ztest_for_churn('city', 'Ярославль', 'Рыбинск')"
   ]
  },
  {
   "cell_type": "markdown",
   "id": "d034c4ab-d0ac-4eaf-88a3-6d24bd95c8d2",
   "metadata": {},
   "source": [
    "Нулевая гипотеза отвергнута, считаем что пропорции ушедших клиентов в Ярославле и Рыбинске не равны. В Ярославле пропорция ушедших клиентов больше, чем в Рыбинске."
   ]
  },
  {
   "cell_type": "markdown",
   "id": "1dcd7da9-a015-4f75-afdb-3cfdcb2744ce",
   "metadata": {},
   "source": [
    "### Ростов и Рыбинск"
   ]
  },
  {
   "cell_type": "code",
   "execution_count": 55,
   "id": "c6bc0772-147d-4e22-94c5-8abb042ad111",
   "metadata": {
    "tags": []
   },
   "outputs": [
    {
     "name": "stdout",
     "output_type": "stream",
     "text": [
      "Пропорция ушедших клиентов для значения Ростов равна 0.23\n",
      "Пропорция ушедших клиентов для значения Рыбинск равна 0.195\n",
      "p-значение:  0.015\n",
      "Отвергаем нулевую гипотезу\n"
     ]
    }
   ],
   "source": [
    "ztest_for_churn('city', 'Ростов', 'Рыбинск')"
   ]
  },
  {
   "cell_type": "markdown",
   "id": "757b8bff-3996-4a6f-817c-fa0b5cf24758",
   "metadata": {},
   "source": [
    "Нулевая гипотеза отвергнута, считаем что пропорции ушедших клиентов в Ростове и Рыбинске не равны. В Ростове пропорция ушедших клиентов больше, чем в Рыбинске."
   ]
  },
  {
   "cell_type": "markdown",
   "id": "9b56087d-c9cb-4b66-a361-218690410336",
   "metadata": {},
   "source": [
    "## Выводы по результатам проверок статистических гипотез"
   ]
  },
  {
   "cell_type": "markdown",
   "id": "be9a0470-2c04-436f-be94-d561d27ff44a",
   "metadata": {},
   "source": [
    "В ходе проверок статистических гипотез установлено следующее:\n",
    "- Доходы ушедших и действующих клиентов не отличаются;\n",
    "- В Ярославле и Ростове ушедших клиентов пропорционально больше, чем в Рыбинске. При этом в Ярославле и Ростове одинаковые пропорции ушедших клиентов."
   ]
  },
  {
   "cell_type": "markdown",
   "id": "023a326e-8a55-485e-af19-8f9521868f19",
   "metadata": {},
   "source": [
    "# Промежуточные выводы. Выделение признаков влияющих на отток <a id='outflow_intermediate_conclusions'></a>"
   ]
  },
  {
   "cell_type": "markdown",
   "id": "5d52c249-1680-4131-a33d-347be14d653f",
   "metadata": {},
   "source": [
    "По результатам исследовательского анализа, корреляции и статистических гипотез можно выделить признаки, которые лягут в основу сегментации отточных клиентов. Отточным клиентам присущи следующие признаки:\n",
    "- Значение баланса не пустое;\n",
    "- С признаком активности;\n",
    "- Мужской пол;\n",
    "- Без кредитной карты;\n",
    "- С более чем 2 продуктами;\n",
    "- С 4-9 баллами собственности;\n",
    "- С кредитным рейтингом от 800 до 930;\n",
    "- В двух диапазонах возраста — 26-43 и 50-58 лет;\n",
    "- Проживают в Ярославле или Ростове.\n",
    "\n",
    "Данные отточные признаки не нуждаются в ранжировании по влиянию на отток, т.к. при формировании отточных сегментов будут проверены все сочетания признаков."
   ]
  },
  {
   "cell_type": "markdown",
   "id": "7ad3768f-f6cb-413b-8144-a405b993564c",
   "metadata": {},
   "source": [
    "# Формирование сегментов отточных клиентов <a id='churn_search_algorithm'></a>"
   ]
  },
  {
   "cell_type": "markdown",
   "id": "1e040d37-3e80-4bae-a836-df4e9f75e632",
   "metadata": {
    "tags": []
   },
   "source": [
    "Формирование отточных сегментов клиентов будет построено по следующему алгоритму:\n",
    "1. Клиенты с признаками влияющими на отток определёнными в [промежуточных выводах](#outflow_intermediate_conclusions), как влияющие на отток, помещаются в отдельные датафреймы;\n",
    "2. Датафреймы из шага 1 записываются в словари, где ключом будет название признака определяющее датафрейм, а значением сам датафрейм;\n",
    "3. Словари из шага 2 записываются в список outflow_signs;\n",
    "4. Создаётся пустой датафрейм segments с колонками `Сегмент`, `Количество признаков в сегменте`, `Количество клиентов`, `Процент отточности` для записи отточных сегментов;\n",
    "5. В цикле перебирается сочетание двух признаков из списка outflow_signs созданного на шаге 3:\n",
    "    1. Записи из двух датафреймов объединяются в один;\n",
    "    2. Из полученного датафрейма сохраняются только дубликаты (значения, что находятся на пересечении признаков);\n",
    "    3. Если на таком пересечении признаков есть 500 и более не ушедших клиентов, то данные этого пересечения записываются в датафрейм segments.\n",
    "6. Проверяется первые 10 строк датафрейма segments отсортированного по убыванию процента оттока;\n",
    "7. Шаги 5 и 6 повторяются с увеличением сочетания признаков (три, четыре и т.д.), пока будут находиться сегменты с сочетанием признаков удовлетворяющим условию;\n",
    "8. Для получения сегментов с наивысшим процентом отточности уменьшить диапазон для признаков с непрерывными величинами (кредитный рейтинг, возраст) и повторять шаги 1-7 до тех пор, пока сегменты будут удовлетворять условию по минимальному количеству клиентов в сегменте.\n",
    "\n",
    "Таким образом будут найдены самые отточные сегменты, т.к. будут проверены и проранжированы сочетания всех признаков влияющих на отток."
   ]
  },
  {
   "cell_type": "markdown",
   "id": "5e346b62-7d14-4fe2-8dec-9e54f7984bef",
   "metadata": {},
   "source": [
    "Поместим в отдельные датафреймы, а затем в словари признаки влияющие на отток."
   ]
  },
  {
   "cell_type": "code",
   "execution_count": 56,
   "id": "df46763e-2bba-4452-bd14-26ffab22bb56",
   "metadata": {
    "tags": []
   },
   "outputs": [],
   "source": [
    "# Клиенты с не пустым балансом\n",
    "balance_not_na_clients = df[df['balance_na'] == 0]\n",
    "dict_balance_not_na_clients = {'Не пустой баланс': balance_not_na_clients}\n",
    "\n",
    "# Клиенты с признаком активности\n",
    "active_clients = df[df['last_activity'] == 1]\n",
    "dict_active_clients = {'Признак активности равен 1': active_clients}\n",
    "\n",
    "# Клиенты мужского пола\n",
    "men_clients = df[df['gender'] == 'М']\n",
    "dict_men_clients = {'Мужской пол': men_clients}\n",
    "\n",
    "# Клиенты без кредитной карты\n",
    "not_credit_card_clients = df[df['credit_card'] == 0]\n",
    "dict_not_credit_card_clients = {'Нет кредитной карты': not_credit_card_clients}\n",
    "\n",
    "# Клиенты с более чем 2 продуктами\n",
    "more_than_2_products_clients = df[df['products'] > 2]\n",
    "dict_more_than_2_products_clients = {'Более 2 продуктов': more_than_2_products_clients}\n",
    "\n",
    "# Клиенты с 4-9 баллами собственности\n",
    "more_than_3_equity_clients = df[df['equity'] > 3]\n",
    "dict_more_than_3_equity_clients = {'Больше 3 баллов собственности': more_than_3_equity_clients}\n",
    "\n",
    "# Клиенты с кредитным рейтингом от 807 до 926\n",
    "score_between_807_and_926_clients = df[(df['score'] >= 807) & (df['score'] <= 926)]\n",
    "dict_score_between_807_and_926_clients = {'Кредитный рейтинг от 807 до 926': score_between_807_and_926_clients}\n",
    "\n",
    "# Клиенты в возрасте от 26-43 и 51-57 лет\n",
    "age_26_to_46_and_51_to_57_clients = df[((df['age'] >= 26) & (df['age'] <= 43)) | ((df['age'] >= 51) & (df['age'] <= 57))]\n",
    "dict_age_26_to_46_and_51_to_57_clients = {'Возраст от 26-43 и 51-57 лет': age_26_to_46_and_51_to_57_clients}\n",
    "\n",
    "# Клиенты проживающие в Ярославле или Ростове\n",
    "yaroslavl_or_rostov_clients = df[(df['city'] == 'Ярославль') | (df['city'] == 'Ростов')]\n",
    "dict_yaroslavl_or_rostov_clients = {'Город Ярославль или Ростов': yaroslavl_or_rostov_clients}"
   ]
  },
  {
   "cell_type": "markdown",
   "id": "e80ae609-01aa-4b3f-b3ea-d5b661ddfab3",
   "metadata": {},
   "source": [
    "Словари запишем в список для перебора в цикле в дальнейшем."
   ]
  },
  {
   "cell_type": "code",
   "execution_count": 57,
   "id": "5d092c77-9cde-40aa-a3ce-eb4b946e3a6c",
   "metadata": {
    "tags": []
   },
   "outputs": [],
   "source": [
    "outflow_signs = [dict_balance_not_na_clients,\n",
    "                 dict_active_clients,\n",
    "                 dict_men_clients,\n",
    "                 dict_not_credit_card_clients,\n",
    "                 dict_more_than_2_products_clients,\n",
    "                 dict_more_than_3_equity_clients,\n",
    "                 dict_score_between_807_and_926_clients,\n",
    "                 dict_age_26_to_46_and_51_to_57_clients,\n",
    "                 dict_yaroslavl_or_rostov_clients]"
   ]
  },
  {
   "cell_type": "markdown",
   "id": "dd7e564b-4dea-4179-849a-b93c640a6c60",
   "metadata": {},
   "source": [
    "Создадим пустой датафрейм segments для записи отточных сегментов."
   ]
  },
  {
   "cell_type": "code",
   "execution_count": 58,
   "id": "4ab97ee6-efbf-4f72-84f0-a09093108365",
   "metadata": {
    "tags": []
   },
   "outputs": [],
   "source": [
    "segments = pd.DataFrame(columns=['Сегмент', 'Количество признаков', 'Количество клиентов','Процент отточности сегмента', 'Разница процента отточности базового и сегмента'])"
   ]
  },
  {
   "cell_type": "markdown",
   "id": "e6421bb8-df98-4e4f-9758-f14a23d6b5aa",
   "metadata": {},
   "source": [
    "## Перебор сочетаний признаков для формирования сегментов"
   ]
  },
  {
   "cell_type": "markdown",
   "id": "e04c7984-471d-427d-826c-7ff5555030ea",
   "metadata": {},
   "source": [
    "### Сегменты с двумя признаками"
   ]
  },
  {
   "cell_type": "markdown",
   "id": "13250936-860c-4937-a0e2-6c95cb19ed03",
   "metadata": {},
   "source": [
    "Переберём сочетание двух признаков из списка outflow_signs и запишем отточные сегменты удовлетворяющие условию `количество клиентов 500 и более` в датафрейм segments."
   ]
  },
  {
   "cell_type": "code",
   "execution_count": 59,
   "id": "adaab758-05b3-4de6-9840-2af94f3747a5",
   "metadata": {
    "tags": []
   },
   "outputs": [
    {
     "name": "stdout",
     "output_type": "stream",
     "text": [
      "Найдено сегментов: 34\n"
     ]
    }
   ],
   "source": [
    "# счётчик для подсчёта найденных сегментов\n",
    "count = 0\n",
    "\n",
    "# цикл для перебора признаков и формирования сегментов\n",
    "for i in range(0, len(outflow_signs) - 1):\n",
    "    for j in range(1, len(outflow_signs)):\n",
    "        \n",
    "        # Условие для перебора только уникальных сочетаний признаков\n",
    "        if i == j or i > j:\n",
    "            continue\n",
    "        \n",
    "        # Записи из двух датафреймов с признаками оттока объединяются в один датафрейм segment\n",
    "        segment = (\n",
    "            list(outflow_signs[i].values())[0]\n",
    "                                 .append(list(outflow_signs[j].values())[0],\n",
    "                                         ignore_index=False)\n",
    "            )\n",
    "        \n",
    "        # Из полученного датафрейма segment сохраняются только дубликаты (значения, что находятся на пересечении признаков)\n",
    "        segment = segment[segment.duplicated()]\n",
    "        \n",
    "        # Получаем датафрейм segment_actual_clients с действующими клиентами банка\n",
    "        segment_actual_clients = segment[segment['churn'] == 0]\n",
    "        \n",
    "        # Если действующих клиентов банка в полученном сегменте 500 и более, то записываем характеристики сегмента в датафрейм segments\n",
    "        if segment_actual_clients.shape[0] >= 500:\n",
    "            count += 1\n",
    "            segments.loc[len(segments.index)] = ['\"' + list(outflow_signs[i].keys())[0] + '\"'    # Наименование сегмента\n",
    "                                                 + ' И ' \n",
    "                                                 + '\"' + list(outflow_signs[j].keys())[0] + '\"',\n",
    "                                                     2,                                          # Кол-во признаков в сегменте\n",
    "                                                     segment_actual_clients.shape[0],            # Кол-во клиентов в сегменте\n",
    "                                                     round(segment['churn'].mean() * 100, 2),    # % отточности сегмента\n",
    "                                                     # Разница базового % отточности и % сегмента\n",
    "                                                     round(segment['churn'].mean() * 100, 2) - common_churn_percent]       \n",
    "            \n",
    "print(f'Найдено сегментов: {count}')"
   ]
  },
  {
   "cell_type": "markdown",
   "id": "5092dcaa-18d1-4cd3-aa53-d3ca0cc0afb2",
   "metadata": {},
   "source": [
    "Выведем первые 10 строк датафрейма segments отсортированного по убыванию процента оттока."
   ]
  },
  {
   "cell_type": "code",
   "execution_count": 60,
   "id": "069a9389-069f-475c-b828-664ecdfe6622",
   "metadata": {
    "tags": []
   },
   "outputs": [
    {
     "data": {
      "text/html": [
       "<div>\n",
       "<style scoped>\n",
       "    .dataframe tbody tr th:only-of-type {\n",
       "        vertical-align: middle;\n",
       "    }\n",
       "\n",
       "    .dataframe tbody tr th {\n",
       "        vertical-align: top;\n",
       "    }\n",
       "\n",
       "    .dataframe thead th {\n",
       "        text-align: right;\n",
       "    }\n",
       "</style>\n",
       "<table border=\"1\" class=\"dataframe\">\n",
       "  <thead>\n",
       "    <tr style=\"text-align: right;\">\n",
       "      <th></th>\n",
       "      <th>Сегмент</th>\n",
       "      <th>Количество признаков</th>\n",
       "      <th>Количество клиентов</th>\n",
       "      <th>Процент отточности сегмента</th>\n",
       "      <th>Разница процента отточности базового и сегмента</th>\n",
       "    </tr>\n",
       "  </thead>\n",
       "  <tbody>\n",
       "    <tr>\n",
       "      <th>24</th>\n",
       "      <td>\"Более 2 продуктов\" И \"Больше 3 баллов собственности\"</td>\n",
       "      <td>2</td>\n",
       "      <td>526</td>\n",
       "      <td>44.75</td>\n",
       "      <td>26.51</td>\n",
       "    </tr>\n",
       "    <tr>\n",
       "      <th>26</th>\n",
       "      <td>\"Более 2 продуктов\" И \"Возраст от 26-43 и 51-57 лет\"</td>\n",
       "      <td>2</td>\n",
       "      <td>582</td>\n",
       "      <td>44.09</td>\n",
       "      <td>25.85</td>\n",
       "    </tr>\n",
       "    <tr>\n",
       "      <th>25</th>\n",
       "      <td>\"Более 2 продуктов\" И \"Кредитный рейтинг от 807 до 926\"</td>\n",
       "      <td>2</td>\n",
       "      <td>566</td>\n",
       "      <td>42.36</td>\n",
       "      <td>24.12</td>\n",
       "    </tr>\n",
       "    <tr>\n",
       "      <th>3</th>\n",
       "      <td>\"Не пустой баланс\" И \"Более 2 продуктов\"</td>\n",
       "      <td>2</td>\n",
       "      <td>900</td>\n",
       "      <td>40.08</td>\n",
       "      <td>21.84</td>\n",
       "    </tr>\n",
       "    <tr>\n",
       "      <th>27</th>\n",
       "      <td>\"Более 2 продуктов\" И \"Город Ярославль или Ростов\"</td>\n",
       "      <td>2</td>\n",
       "      <td>761</td>\n",
       "      <td>39.89</td>\n",
       "      <td>21.65</td>\n",
       "    </tr>\n",
       "    <tr>\n",
       "      <th>10</th>\n",
       "      <td>\"Признак активности равен 1\" И \"Больше 3 баллов собственности\"</td>\n",
       "      <td>2</td>\n",
       "      <td>1292</td>\n",
       "      <td>39.51</td>\n",
       "      <td>21.27</td>\n",
       "    </tr>\n",
       "    <tr>\n",
       "      <th>15</th>\n",
       "      <td>\"Мужской пол\" И \"Больше 3 баллов собственности\"</td>\n",
       "      <td>2</td>\n",
       "      <td>1251</td>\n",
       "      <td>37.88</td>\n",
       "      <td>19.64</td>\n",
       "    </tr>\n",
       "    <tr>\n",
       "      <th>20</th>\n",
       "      <td>\"Нет кредитной карты\" И \"Больше 3 баллов собственности\"</td>\n",
       "      <td>2</td>\n",
       "      <td>1009</td>\n",
       "      <td>36.38</td>\n",
       "      <td>18.14</td>\n",
       "    </tr>\n",
       "    <tr>\n",
       "      <th>14</th>\n",
       "      <td>\"Мужской пол\" И \"Нет кредитной карты\"</td>\n",
       "      <td>2</td>\n",
       "      <td>846</td>\n",
       "      <td>35.07</td>\n",
       "      <td>16.83</td>\n",
       "    </tr>\n",
       "    <tr>\n",
       "      <th>9</th>\n",
       "      <td>\"Признак активности равен 1\" И \"Нет кредитной карты\"</td>\n",
       "      <td>2</td>\n",
       "      <td>1133</td>\n",
       "      <td>35.07</td>\n",
       "      <td>16.83</td>\n",
       "    </tr>\n",
       "  </tbody>\n",
       "</table>\n",
       "</div>"
      ],
      "text/plain": [
       "                                                           Сегмент  \\\n",
       "24  \"Более 2 продуктов\" И \"Больше 3 баллов собственности\"            \n",
       "26  \"Более 2 продуктов\" И \"Возраст от 26-43 и 51-57 лет\"             \n",
       "25  \"Более 2 продуктов\" И \"Кредитный рейтинг от 807 до 926\"          \n",
       "3   \"Не пустой баланс\" И \"Более 2 продуктов\"                         \n",
       "27  \"Более 2 продуктов\" И \"Город Ярославль или Ростов\"               \n",
       "10  \"Признак активности равен 1\" И \"Больше 3 баллов собственности\"   \n",
       "15  \"Мужской пол\" И \"Больше 3 баллов собственности\"                  \n",
       "20  \"Нет кредитной карты\" И \"Больше 3 баллов собственности\"          \n",
       "14  \"Мужской пол\" И \"Нет кредитной карты\"                            \n",
       "9   \"Признак активности равен 1\" И \"Нет кредитной карты\"             \n",
       "\n",
       "   Количество признаков Количество клиентов  Процент отточности сегмента  \\\n",
       "24  2                    526                 44.75                         \n",
       "26  2                    582                 44.09                         \n",
       "25  2                    566                 42.36                         \n",
       "3   2                    900                 40.08                         \n",
       "27  2                    761                 39.89                         \n",
       "10  2                    1292                39.51                         \n",
       "15  2                    1251                37.88                         \n",
       "20  2                    1009                36.38                         \n",
       "14  2                    846                 35.07                         \n",
       "9   2                    1133                35.07                         \n",
       "\n",
       "    Разница процента отточности базового и сегмента  \n",
       "24  26.51                                            \n",
       "26  25.85                                            \n",
       "25  24.12                                            \n",
       "3   21.84                                            \n",
       "27  21.65                                            \n",
       "10  21.27                                            \n",
       "15  19.64                                            \n",
       "20  18.14                                            \n",
       "14  16.83                                            \n",
       "9   16.83                                            "
      ]
     },
     "execution_count": 60,
     "metadata": {},
     "output_type": "execute_result"
    }
   ],
   "source": [
    "segments.sort_values(by='Процент отточности сегмента', ascending=False).head(10)"
   ]
  },
  {
   "cell_type": "markdown",
   "id": "b0029ff9-29ec-4b7c-a0f2-3a5869fb6844",
   "metadata": {},
   "source": [
    "При переборе сочетаний двух отточных признаков удалось найти такие сегменты, где менее 1000 клиентов.  \n",
    "Процент отточности в топ 10 отточных сегментов составляет `от 35.07% до 44.75%`."
   ]
  },
  {
   "cell_type": "markdown",
   "id": "f121cf28-ea01-4df8-81d8-a76539cf720d",
   "metadata": {},
   "source": [
    "### Сегменты с тремя признаками"
   ]
  },
  {
   "cell_type": "markdown",
   "id": "410373f3-16ed-4db1-9750-566f906ab1f5",
   "metadata": {},
   "source": [
    "Переберём сочетание трёх признаков из списка outflow_signs и запишем отточные сегменты удовлетворяющие условию количество клиентов 500 и более в датафрейм segments."
   ]
  },
  {
   "cell_type": "code",
   "execution_count": 61,
   "id": "1fdef8ed-7273-4a84-9089-ba49642bf5c1",
   "metadata": {
    "tags": []
   },
   "outputs": [
    {
     "name": "stdout",
     "output_type": "stream",
     "text": [
      "Найдено сегментов: 58\n"
     ]
    }
   ],
   "source": [
    "count = 0\n",
    "\n",
    "for i in range(0, len(outflow_signs) - 1):\n",
    "    for j in range(1, len(outflow_signs)):\n",
    "            for k in range(2, len(outflow_signs)):\n",
    "                if i == j or i > j or j == k or j > k:\n",
    "                    continue\n",
    "                segment = (\n",
    "                    list(outflow_signs[i].values())[0]\n",
    "                                         .append(list(outflow_signs[j].values())[0],\n",
    "                                                 ignore_index=False)\n",
    "                    )\n",
    "                segment = segment[segment.duplicated()]\n",
    "                segment = segment.append(list(outflow_signs[k].values())[0], ignore_index=False)\n",
    "                # Дубликаты требуется сохранять в датафрейме после каждого слияния датафреймов с признаком оттока\n",
    "                segment = segment[segment.duplicated()]\n",
    "                segment_actual_clients = segment[segment['churn'] == 0]\n",
    "                if segment_actual_clients.shape[0] >= 500:\n",
    "                    count += 1\n",
    "                    segments.loc[len(segments.index)] = ['\"' + list(outflow_signs[i].keys())[0] + '\"'\n",
    "                                                         + ' И ' + '\"' + list(outflow_signs[j].keys())[0] + '\"'\n",
    "                                                         + ' И ' + '\"' + list(outflow_signs[k].keys())[0] + '\"',\n",
    "                                                             3,\n",
    "                                                             segment_actual_clients.shape[0],\n",
    "                                                             round(segment['churn'].mean() * 100, 2),\n",
    "                                                             round(segment['churn'].mean() * 100, 2) - common_churn_percent]\n",
    "                    \n",
    "print(f'Найдено сегментов: {count}')"
   ]
  },
  {
   "cell_type": "markdown",
   "id": "1b588571-b398-4ce7-b0db-448bca9a8bdb",
   "metadata": {},
   "source": [
    "Выведем первые 10 строк датафрейма segments отсортированного по убыванию процента оттока."
   ]
  },
  {
   "cell_type": "code",
   "execution_count": 62,
   "id": "99acaf48-166a-4ac2-93dc-2ae6dc3fea57",
   "metadata": {
    "tags": []
   },
   "outputs": [
    {
     "data": {
      "text/html": [
       "<div>\n",
       "<style scoped>\n",
       "    .dataframe tbody tr th:only-of-type {\n",
       "        vertical-align: middle;\n",
       "    }\n",
       "\n",
       "    .dataframe tbody tr th {\n",
       "        vertical-align: top;\n",
       "    }\n",
       "\n",
       "    .dataframe thead th {\n",
       "        text-align: right;\n",
       "    }\n",
       "</style>\n",
       "<table border=\"1\" class=\"dataframe\">\n",
       "  <thead>\n",
       "    <tr style=\"text-align: right;\">\n",
       "      <th></th>\n",
       "      <th>Сегмент</th>\n",
       "      <th>Количество признаков</th>\n",
       "      <th>Количество клиентов</th>\n",
       "      <th>Процент отточности сегмента</th>\n",
       "      <th>Разница процента отточности базового и сегмента</th>\n",
       "    </tr>\n",
       "  </thead>\n",
       "  <tbody>\n",
       "    <tr>\n",
       "      <th>60</th>\n",
       "      <td>\"Признак активности равен 1\" И \"Мужской пол\" И \"Больше 3 баллов собственности\"</td>\n",
       "      <td>3</td>\n",
       "      <td>533</td>\n",
       "      <td>49.33</td>\n",
       "      <td>31.09</td>\n",
       "    </tr>\n",
       "    <tr>\n",
       "      <th>67</th>\n",
       "      <td>\"Признак активности равен 1\" И \"Больше 3 баллов собственности\" И \"Кредитный рейтинг от 807 до 926\"</td>\n",
       "      <td>3</td>\n",
       "      <td>828</td>\n",
       "      <td>45.63</td>\n",
       "      <td>27.39</td>\n",
       "    </tr>\n",
       "    <tr>\n",
       "      <th>68</th>\n",
       "      <td>\"Признак активности равен 1\" И \"Больше 3 баллов собственности\" И \"Возраст от 26-43 и 51-57 лет\"</td>\n",
       "      <td>3</td>\n",
       "      <td>811</td>\n",
       "      <td>45.05</td>\n",
       "      <td>26.81</td>\n",
       "    </tr>\n",
       "    <tr>\n",
       "      <th>52</th>\n",
       "      <td>\"Не пустой баланс\" И \"Более 2 продуктов\" И \"Возраст от 26-43 и 51-57 лет\"</td>\n",
       "      <td>3</td>\n",
       "      <td>563</td>\n",
       "      <td>44.80</td>\n",
       "      <td>26.56</td>\n",
       "    </tr>\n",
       "    <tr>\n",
       "      <th>24</th>\n",
       "      <td>\"Более 2 продуктов\" И \"Больше 3 баллов собственности\"</td>\n",
       "      <td>2</td>\n",
       "      <td>526</td>\n",
       "      <td>44.75</td>\n",
       "      <td>26.51</td>\n",
       "    </tr>\n",
       "    <tr>\n",
       "      <th>50</th>\n",
       "      <td>\"Не пустой баланс\" И \"Более 2 продуктов\" И \"Больше 3 баллов собственности\"</td>\n",
       "      <td>3</td>\n",
       "      <td>526</td>\n",
       "      <td>44.75</td>\n",
       "      <td>26.51</td>\n",
       "    </tr>\n",
       "    <tr>\n",
       "      <th>26</th>\n",
       "      <td>\"Более 2 продуктов\" И \"Возраст от 26-43 и 51-57 лет\"</td>\n",
       "      <td>2</td>\n",
       "      <td>582</td>\n",
       "      <td>44.09</td>\n",
       "      <td>25.85</td>\n",
       "    </tr>\n",
       "    <tr>\n",
       "      <th>64</th>\n",
       "      <td>\"Признак активности равен 1\" И \"Нет кредитной карты\" И \"Кредитный рейтинг от 807 до 926\"</td>\n",
       "      <td>3</td>\n",
       "      <td>683</td>\n",
       "      <td>43.37</td>\n",
       "      <td>25.13</td>\n",
       "    </tr>\n",
       "    <tr>\n",
       "      <th>51</th>\n",
       "      <td>\"Не пустой баланс\" И \"Более 2 продуктов\" И \"Кредитный рейтинг от 807 до 926\"</td>\n",
       "      <td>3</td>\n",
       "      <td>553</td>\n",
       "      <td>42.93</td>\n",
       "      <td>24.69</td>\n",
       "    </tr>\n",
       "    <tr>\n",
       "      <th>25</th>\n",
       "      <td>\"Более 2 продуктов\" И \"Кредитный рейтинг от 807 до 926\"</td>\n",
       "      <td>2</td>\n",
       "      <td>566</td>\n",
       "      <td>42.36</td>\n",
       "      <td>24.12</td>\n",
       "    </tr>\n",
       "  </tbody>\n",
       "</table>\n",
       "</div>"
      ],
      "text/plain": [
       "                                                                                               Сегмент  \\\n",
       "60  \"Признак активности равен 1\" И \"Мужской пол\" И \"Больше 3 баллов собственности\"                       \n",
       "67  \"Признак активности равен 1\" И \"Больше 3 баллов собственности\" И \"Кредитный рейтинг от 807 до 926\"   \n",
       "68  \"Признак активности равен 1\" И \"Больше 3 баллов собственности\" И \"Возраст от 26-43 и 51-57 лет\"      \n",
       "52  \"Не пустой баланс\" И \"Более 2 продуктов\" И \"Возраст от 26-43 и 51-57 лет\"                            \n",
       "24  \"Более 2 продуктов\" И \"Больше 3 баллов собственности\"                                                \n",
       "50  \"Не пустой баланс\" И \"Более 2 продуктов\" И \"Больше 3 баллов собственности\"                           \n",
       "26  \"Более 2 продуктов\" И \"Возраст от 26-43 и 51-57 лет\"                                                 \n",
       "64  \"Признак активности равен 1\" И \"Нет кредитной карты\" И \"Кредитный рейтинг от 807 до 926\"             \n",
       "51  \"Не пустой баланс\" И \"Более 2 продуктов\" И \"Кредитный рейтинг от 807 до 926\"                         \n",
       "25  \"Более 2 продуктов\" И \"Кредитный рейтинг от 807 до 926\"                                              \n",
       "\n",
       "   Количество признаков Количество клиентов  Процент отточности сегмента  \\\n",
       "60  3                    533                 49.33                         \n",
       "67  3                    828                 45.63                         \n",
       "68  3                    811                 45.05                         \n",
       "52  3                    563                 44.80                         \n",
       "24  2                    526                 44.75                         \n",
       "50  3                    526                 44.75                         \n",
       "26  2                    582                 44.09                         \n",
       "64  3                    683                 43.37                         \n",
       "51  3                    553                 42.93                         \n",
       "25  2                    566                 42.36                         \n",
       "\n",
       "    Разница процента отточности базового и сегмента  \n",
       "60  31.09                                            \n",
       "67  27.39                                            \n",
       "68  26.81                                            \n",
       "52  26.56                                            \n",
       "24  26.51                                            \n",
       "50  26.51                                            \n",
       "26  25.85                                            \n",
       "64  25.13                                            \n",
       "51  24.69                                            \n",
       "25  24.12                                            "
      ]
     },
     "execution_count": 62,
     "metadata": {},
     "output_type": "execute_result"
    }
   ],
   "source": [
    "segments.sort_values(by='Процент отточности сегмента', ascending=False).head(10)"
   ]
  },
  {
   "cell_type": "markdown",
   "id": "71d66806-6b8d-4c34-9943-52dddfd75b5c",
   "metadata": {},
   "source": [
    "После перебора сочетаний трёх отточных признаков удалось найти ещё более привлекательные с точки зрения отточности сегменты.    \n",
    "В топ 10 отточных сегментов осталось только два сегмента с сочетанием двух признаков.  \n",
    "Процент отточности в топ 10 отточных сегментов составляет `от 42.36% до 49.33%`."
   ]
  },
  {
   "cell_type": "markdown",
   "id": "5020577b-d272-4951-9a50-f0e77cb32d15",
   "metadata": {},
   "source": [
    "### Сегменты с четыремя признаками"
   ]
  },
  {
   "cell_type": "markdown",
   "id": "266eeb35-d34e-4d71-b884-81f72ac6461b",
   "metadata": {},
   "source": [
    "Переберём сочетание четырёх признаков из списка outflow_signs и запишем отточные сегменты удовлетворяющие условию количество клиентов 500 и более в датафрейм segments."
   ]
  },
  {
   "cell_type": "code",
   "execution_count": 63,
   "id": "2e7a632d-7022-4629-a09c-7f4800dd9d21",
   "metadata": {
    "tags": []
   },
   "outputs": [
    {
     "name": "stdout",
     "output_type": "stream",
     "text": [
      "Найдено сегментов: 40\n"
     ]
    }
   ],
   "source": [
    "count = 0\n",
    "\n",
    "for i in range(0, len(outflow_signs) - 1):\n",
    "    for j in range(1, len(outflow_signs)):\n",
    "            for k in range(2, len(outflow_signs)):\n",
    "                for m in range(3, len(outflow_signs)):\n",
    "                    if i == j or i > j or j == k or j > k or k == m or k > m:\n",
    "                        continue\n",
    "                    segment = (\n",
    "                        list(outflow_signs[i].values())[0]\n",
    "                                             .append(list(outflow_signs[j].values())[0],\n",
    "                                                     ignore_index=False)\n",
    "                        )\n",
    "                    segment = segment[segment.duplicated()]\n",
    "                    segment = segment.append(list(outflow_signs[k].values())[0], ignore_index=False)\n",
    "                    segment = segment[segment.duplicated()]\n",
    "                    segment = segment.append(list(outflow_signs[m].values())[0], ignore_index=False)\n",
    "                    segment = segment[segment.duplicated()]\n",
    "                    segment_actual_clients = segment[segment['churn'] == 0]\n",
    "                    if segment_actual_clients.shape[0] >= 500:\n",
    "                        count += 1\n",
    "                        segments.loc[len(segments.index)] = ['\"' + list(outflow_signs[i].keys())[0] + '\"'\n",
    "                                                             + ' И ' + '\"' + list(outflow_signs[j].keys())[0] + '\"'\n",
    "                                                             + ' И ' + '\"' + list(outflow_signs[k].keys())[0] + '\"'\n",
    "                                                             + ' И ' + '\"' + list(outflow_signs[m].keys())[0] + '\"',\n",
    "                                                                 4,\n",
    "                                                                 segment_actual_clients.shape[0],\n",
    "                                                                 round(segment['churn'].mean() * 100, 2),\n",
    "                                                                 round(segment['churn'].mean() * 100, 2) - common_churn_percent]\n",
    "                        \n",
    "print(f'Найдено сегментов: {count}')"
   ]
  },
  {
   "cell_type": "markdown",
   "id": "47d5250f-8813-4e16-8401-240e35182e13",
   "metadata": {},
   "source": [
    "Выведем первые 10 строк датафрейма segments отсортированного по убыванию процента оттока."
   ]
  },
  {
   "cell_type": "code",
   "execution_count": 64,
   "id": "3efd161f-da5f-4295-a403-516a9c3b3021",
   "metadata": {
    "tags": []
   },
   "outputs": [
    {
     "data": {
      "text/html": [
       "<div>\n",
       "<style scoped>\n",
       "    .dataframe tbody tr th:only-of-type {\n",
       "        vertical-align: middle;\n",
       "    }\n",
       "\n",
       "    .dataframe tbody tr th {\n",
       "        vertical-align: top;\n",
       "    }\n",
       "\n",
       "    .dataframe thead th {\n",
       "        text-align: right;\n",
       "    }\n",
       "</style>\n",
       "<table border=\"1\" class=\"dataframe\">\n",
       "  <thead>\n",
       "    <tr style=\"text-align: right;\">\n",
       "      <th></th>\n",
       "      <th>Сегмент</th>\n",
       "      <th>Количество признаков</th>\n",
       "      <th>Количество клиентов</th>\n",
       "      <th>Процент отточности сегмента</th>\n",
       "      <th>Разница процента отточности базового и сегмента</th>\n",
       "    </tr>\n",
       "  </thead>\n",
       "  <tbody>\n",
       "    <tr>\n",
       "      <th>93</th>\n",
       "      <td>\"Не пустой баланс\" И \"Признак активности равен 1\" И \"Мужской пол\" И \"Кредитный рейтинг от 807 до 926\"</td>\n",
       "      <td>4</td>\n",
       "      <td>537</td>\n",
       "      <td>52.98</td>\n",
       "      <td>34.74</td>\n",
       "    </tr>\n",
       "    <tr>\n",
       "      <th>92</th>\n",
       "      <td>\"Не пустой баланс\" И \"Признак активности равен 1\" И \"Мужской пол\" И \"Больше 3 баллов собственности\"</td>\n",
       "      <td>4</td>\n",
       "      <td>533</td>\n",
       "      <td>49.33</td>\n",
       "      <td>31.09</td>\n",
       "    </tr>\n",
       "    <tr>\n",
       "      <th>60</th>\n",
       "      <td>\"Признак активности равен 1\" И \"Мужской пол\" И \"Больше 3 баллов собственности\"</td>\n",
       "      <td>3</td>\n",
       "      <td>533</td>\n",
       "      <td>49.33</td>\n",
       "      <td>31.09</td>\n",
       "    </tr>\n",
       "    <tr>\n",
       "      <th>123</th>\n",
       "      <td>\"Признак активности равен 1\" И \"Больше 3 баллов собственности\" И \"Кредитный рейтинг от 807 до 926\" И \"Город Ярославль или Ростов\"</td>\n",
       "      <td>4</td>\n",
       "      <td>539</td>\n",
       "      <td>49.20</td>\n",
       "      <td>30.96</td>\n",
       "    </tr>\n",
       "    <tr>\n",
       "      <th>101</th>\n",
       "      <td>\"Не пустой баланс\" И \"Признак активности равен 1\" И \"Кредитный рейтинг от 807 до 926\" И \"Возраст от 26-43 и 51-57 лет\"</td>\n",
       "      <td>4</td>\n",
       "      <td>853</td>\n",
       "      <td>48.71</td>\n",
       "      <td>30.47</td>\n",
       "    </tr>\n",
       "    <tr>\n",
       "      <th>96</th>\n",
       "      <td>\"Не пустой баланс\" И \"Признак активности равен 1\" И \"Нет кредитной карты\" И \"Возраст от 26-43 и 51-57 лет\"</td>\n",
       "      <td>4</td>\n",
       "      <td>507</td>\n",
       "      <td>48.11</td>\n",
       "      <td>29.87</td>\n",
       "    </tr>\n",
       "    <tr>\n",
       "      <th>124</th>\n",
       "      <td>\"Признак активности равен 1\" И \"Больше 3 баллов собственности\" И \"Возраст от 26-43 и 51-57 лет\" И \"Город Ярославль или Ростов\"</td>\n",
       "      <td>4</td>\n",
       "      <td>531</td>\n",
       "      <td>48.04</td>\n",
       "      <td>29.80</td>\n",
       "    </tr>\n",
       "    <tr>\n",
       "      <th>67</th>\n",
       "      <td>\"Признак активности равен 1\" И \"Больше 3 баллов собственности\" И \"Кредитный рейтинг от 807 до 926\"</td>\n",
       "      <td>3</td>\n",
       "      <td>828</td>\n",
       "      <td>45.63</td>\n",
       "      <td>27.39</td>\n",
       "    </tr>\n",
       "    <tr>\n",
       "      <th>98</th>\n",
       "      <td>\"Не пустой баланс\" И \"Признак активности равен 1\" И \"Больше 3 баллов собственности\" И \"Кредитный рейтинг от 807 до 926\"</td>\n",
       "      <td>4</td>\n",
       "      <td>828</td>\n",
       "      <td>45.63</td>\n",
       "      <td>27.39</td>\n",
       "    </tr>\n",
       "    <tr>\n",
       "      <th>102</th>\n",
       "      <td>\"Не пустой баланс\" И \"Признак активности равен 1\" И \"Кредитный рейтинг от 807 до 926\" И \"Город Ярославль или Ростов\"</td>\n",
       "      <td>4</td>\n",
       "      <td>922</td>\n",
       "      <td>45.57</td>\n",
       "      <td>27.33</td>\n",
       "    </tr>\n",
       "  </tbody>\n",
       "</table>\n",
       "</div>"
      ],
      "text/plain": [
       "                                                                                                                               Сегмент  \\\n",
       "93   \"Не пустой баланс\" И \"Признак активности равен 1\" И \"Мужской пол\" И \"Кредитный рейтинг от 807 до 926\"                               \n",
       "92   \"Не пустой баланс\" И \"Признак активности равен 1\" И \"Мужской пол\" И \"Больше 3 баллов собственности\"                                 \n",
       "60   \"Признак активности равен 1\" И \"Мужской пол\" И \"Больше 3 баллов собственности\"                                                      \n",
       "123  \"Признак активности равен 1\" И \"Больше 3 баллов собственности\" И \"Кредитный рейтинг от 807 до 926\" И \"Город Ярославль или Ростов\"   \n",
       "101  \"Не пустой баланс\" И \"Признак активности равен 1\" И \"Кредитный рейтинг от 807 до 926\" И \"Возраст от 26-43 и 51-57 лет\"              \n",
       "96   \"Не пустой баланс\" И \"Признак активности равен 1\" И \"Нет кредитной карты\" И \"Возраст от 26-43 и 51-57 лет\"                          \n",
       "124  \"Признак активности равен 1\" И \"Больше 3 баллов собственности\" И \"Возраст от 26-43 и 51-57 лет\" И \"Город Ярославль или Ростов\"      \n",
       "67   \"Признак активности равен 1\" И \"Больше 3 баллов собственности\" И \"Кредитный рейтинг от 807 до 926\"                                  \n",
       "98   \"Не пустой баланс\" И \"Признак активности равен 1\" И \"Больше 3 баллов собственности\" И \"Кредитный рейтинг от 807 до 926\"             \n",
       "102  \"Не пустой баланс\" И \"Признак активности равен 1\" И \"Кредитный рейтинг от 807 до 926\" И \"Город Ярославль или Ростов\"                \n",
       "\n",
       "    Количество признаков Количество клиентов  Процент отточности сегмента  \\\n",
       "93   4                    537                 52.98                         \n",
       "92   4                    533                 49.33                         \n",
       "60   3                    533                 49.33                         \n",
       "123  4                    539                 49.20                         \n",
       "101  4                    853                 48.71                         \n",
       "96   4                    507                 48.11                         \n",
       "124  4                    531                 48.04                         \n",
       "67   3                    828                 45.63                         \n",
       "98   4                    828                 45.63                         \n",
       "102  4                    922                 45.57                         \n",
       "\n",
       "     Разница процента отточности базового и сегмента  \n",
       "93   34.74                                            \n",
       "92   31.09                                            \n",
       "60   31.09                                            \n",
       "123  30.96                                            \n",
       "101  30.47                                            \n",
       "96   29.87                                            \n",
       "124  29.80                                            \n",
       "67   27.39                                            \n",
       "98   27.39                                            \n",
       "102  27.33                                            "
      ]
     },
     "execution_count": 64,
     "metadata": {},
     "output_type": "execute_result"
    }
   ],
   "source": [
    "segments.sort_values(by='Процент отточности сегмента', ascending=False).head(10)"
   ]
  },
  {
   "cell_type": "markdown",
   "id": "889cc7d1-92b8-407e-b5da-2673ae838b18",
   "metadata": {},
   "source": [
    "Увеличение перебора сочетаний до четырёх отточных признаков вновь позволил найти ещё более отточные сегменты.  \n",
    "В топ 10 отточных сегментов осталось только два сегмента с сочетанием трёх признаков.  \n",
    "Сегменты с сочетанием двух признаков вытеснены из топ 10 самых отточных сегментов.  \n",
    "Процент отточности в топ 10 отточных сегментов составляет `от 45.57% до 52.98%`."
   ]
  },
  {
   "cell_type": "markdown",
   "id": "9fc70dfe-3e5e-467b-91df-eef6c76c5ec9",
   "metadata": {},
   "source": [
    "### Сегменты с пятью признаками"
   ]
  },
  {
   "cell_type": "markdown",
   "id": "eae3ad31-aa45-43aa-a73e-743436416aed",
   "metadata": {},
   "source": [
    "Переберём сочетание пяти признаков из списка outflow_signs и запишем отточные сегменты удовлетворяющие условию количество клиентов 500 и более в датафрейм segments."
   ]
  },
  {
   "cell_type": "code",
   "execution_count": 65,
   "id": "5a32b2fd-3cdc-48e8-a0db-85724e11e9fd",
   "metadata": {
    "tags": []
   },
   "outputs": [
    {
     "name": "stdout",
     "output_type": "stream",
     "text": [
      "Найдено сегментов: 9\n"
     ]
    }
   ],
   "source": [
    "count = 0\n",
    "\n",
    "for i in range(0, len(outflow_signs) - 1):\n",
    "    for j in range(1, len(outflow_signs)):\n",
    "            for k in range(2, len(outflow_signs)):\n",
    "                for m in range(3, len(outflow_signs)):\n",
    "                    for n in range(4, len(outflow_signs)):\n",
    "                        if i == j or i > j or j == k or j > k or k == m or k > m or m == n or m > n:\n",
    "                            continue\n",
    "                        segment = (\n",
    "                            list(outflow_signs[i].values())[0]\n",
    "                                                 .append(list(outflow_signs[j].values())[0],\n",
    "                                                         ignore_index=False)\n",
    "                            )\n",
    "                        segment = segment[segment.duplicated()]\n",
    "                        segment = segment.append(list(outflow_signs[k].values())[0], ignore_index=False)\n",
    "                        segment = segment[segment.duplicated()]\n",
    "                        segment = segment.append(list(outflow_signs[m].values())[0], ignore_index=False)\n",
    "                        segment = segment[segment.duplicated()]\n",
    "                        segment = segment.append(list(outflow_signs[n].values())[0], ignore_index=False)\n",
    "                        segment = segment[segment.duplicated()]\n",
    "                        segment_actual_clients = segment[segment['churn'] == 0]\n",
    "                        if segment_actual_clients.shape[0] >= 500:\n",
    "                            count += 1\n",
    "                            segments.loc[len(segments.index)] = ['\"' + list(outflow_signs[i].keys())[0] + '\"'\n",
    "                                                                 + ' И ' + '\"' + list(outflow_signs[j].keys())[0] + '\"'\n",
    "                                                                 + ' И ' + '\"' + list(outflow_signs[k].keys())[0] + '\"'\n",
    "                                                                 + ' И ' + '\"' + list(outflow_signs[m].keys())[0] + '\"'\n",
    "                                                                 + ' И ' + '\"' + list(outflow_signs[n].keys())[0] + '\"',\n",
    "                                                                     5,\n",
    "                                                                     segment_actual_clients.shape[0],\n",
    "                                                                     round(segment['churn'].mean() * 100, 2),\n",
    "                                                                     round(segment['churn'].mean() * 100, 2) - common_churn_percent]\n",
    "                            \n",
    "print(f'Найдено сегментов: {count}')"
   ]
  },
  {
   "cell_type": "markdown",
   "id": "ca553a71-12ec-4096-8232-128e94a255ea",
   "metadata": {},
   "source": [
    "Выведем первые 10 строк датафрейма segments отсортированного по убыванию процента оттока."
   ]
  },
  {
   "cell_type": "code",
   "execution_count": 66,
   "id": "dad8d3c7-7800-4a8b-a47d-329898357baf",
   "metadata": {
    "tags": []
   },
   "outputs": [
    {
     "data": {
      "text/html": [
       "<div>\n",
       "<style scoped>\n",
       "    .dataframe tbody tr th:only-of-type {\n",
       "        vertical-align: middle;\n",
       "    }\n",
       "\n",
       "    .dataframe tbody tr th {\n",
       "        vertical-align: top;\n",
       "    }\n",
       "\n",
       "    .dataframe thead th {\n",
       "        text-align: right;\n",
       "    }\n",
       "</style>\n",
       "<table border=\"1\" class=\"dataframe\">\n",
       "  <thead>\n",
       "    <tr style=\"text-align: right;\">\n",
       "      <th></th>\n",
       "      <th>Сегмент</th>\n",
       "      <th>Количество признаков</th>\n",
       "      <th>Количество клиентов</th>\n",
       "      <th>Процент отточности сегмента</th>\n",
       "      <th>Разница процента отточности базового и сегмента</th>\n",
       "    </tr>\n",
       "  </thead>\n",
       "  <tbody>\n",
       "    <tr>\n",
       "      <th>135</th>\n",
       "      <td>\"Не пустой баланс\" И \"Признак активности равен 1\" И \"Кредитный рейтинг от 807 до 926\" И \"Возраст от 26-43 и 51-57 лет\" И \"Город Ярославль или Ростов\"</td>\n",
       "      <td>5</td>\n",
       "      <td>505</td>\n",
       "      <td>54.67</td>\n",
       "      <td>36.43</td>\n",
       "    </tr>\n",
       "    <tr>\n",
       "      <th>93</th>\n",
       "      <td>\"Не пустой баланс\" И \"Признак активности равен 1\" И \"Мужской пол\" И \"Кредитный рейтинг от 807 до 926\"</td>\n",
       "      <td>4</td>\n",
       "      <td>537</td>\n",
       "      <td>52.98</td>\n",
       "      <td>34.74</td>\n",
       "    </tr>\n",
       "    <tr>\n",
       "      <th>60</th>\n",
       "      <td>\"Признак активности равен 1\" И \"Мужской пол\" И \"Больше 3 баллов собственности\"</td>\n",
       "      <td>3</td>\n",
       "      <td>533</td>\n",
       "      <td>49.33</td>\n",
       "      <td>31.09</td>\n",
       "    </tr>\n",
       "    <tr>\n",
       "      <th>92</th>\n",
       "      <td>\"Не пустой баланс\" И \"Признак активности равен 1\" И \"Мужской пол\" И \"Больше 3 баллов собственности\"</td>\n",
       "      <td>4</td>\n",
       "      <td>533</td>\n",
       "      <td>49.33</td>\n",
       "      <td>31.09</td>\n",
       "    </tr>\n",
       "    <tr>\n",
       "      <th>123</th>\n",
       "      <td>\"Признак активности равен 1\" И \"Больше 3 баллов собственности\" И \"Кредитный рейтинг от 807 до 926\" И \"Город Ярославль или Ростов\"</td>\n",
       "      <td>4</td>\n",
       "      <td>539</td>\n",
       "      <td>49.20</td>\n",
       "      <td>30.96</td>\n",
       "    </tr>\n",
       "    <tr>\n",
       "      <th>133</th>\n",
       "      <td>\"Не пустой баланс\" И \"Признак активности равен 1\" И \"Больше 3 баллов собственности\" И \"Кредитный рейтинг от 807 до 926\" И \"Город Ярославль или Ростов\"</td>\n",
       "      <td>5</td>\n",
       "      <td>539</td>\n",
       "      <td>49.20</td>\n",
       "      <td>30.96</td>\n",
       "    </tr>\n",
       "    <tr>\n",
       "      <th>101</th>\n",
       "      <td>\"Не пустой баланс\" И \"Признак активности равен 1\" И \"Кредитный рейтинг от 807 до 926\" И \"Возраст от 26-43 и 51-57 лет\"</td>\n",
       "      <td>4</td>\n",
       "      <td>853</td>\n",
       "      <td>48.71</td>\n",
       "      <td>30.47</td>\n",
       "    </tr>\n",
       "    <tr>\n",
       "      <th>96</th>\n",
       "      <td>\"Не пустой баланс\" И \"Признак активности равен 1\" И \"Нет кредитной карты\" И \"Возраст от 26-43 и 51-57 лет\"</td>\n",
       "      <td>4</td>\n",
       "      <td>507</td>\n",
       "      <td>48.11</td>\n",
       "      <td>29.87</td>\n",
       "    </tr>\n",
       "    <tr>\n",
       "      <th>134</th>\n",
       "      <td>\"Не пустой баланс\" И \"Признак активности равен 1\" И \"Больше 3 баллов собственности\" И \"Возраст от 26-43 и 51-57 лет\" И \"Город Ярославль или Ростов\"</td>\n",
       "      <td>5</td>\n",
       "      <td>531</td>\n",
       "      <td>48.04</td>\n",
       "      <td>29.80</td>\n",
       "    </tr>\n",
       "    <tr>\n",
       "      <th>124</th>\n",
       "      <td>\"Признак активности равен 1\" И \"Больше 3 баллов собственности\" И \"Возраст от 26-43 и 51-57 лет\" И \"Город Ярославль или Ростов\"</td>\n",
       "      <td>4</td>\n",
       "      <td>531</td>\n",
       "      <td>48.04</td>\n",
       "      <td>29.80</td>\n",
       "    </tr>\n",
       "  </tbody>\n",
       "</table>\n",
       "</div>"
      ],
      "text/plain": [
       "                                                                                                                                                    Сегмент  \\\n",
       "135  \"Не пустой баланс\" И \"Признак активности равен 1\" И \"Кредитный рейтинг от 807 до 926\" И \"Возраст от 26-43 и 51-57 лет\" И \"Город Ярославль или Ростов\"    \n",
       "93   \"Не пустой баланс\" И \"Признак активности равен 1\" И \"Мужской пол\" И \"Кредитный рейтинг от 807 до 926\"                                                    \n",
       "60   \"Признак активности равен 1\" И \"Мужской пол\" И \"Больше 3 баллов собственности\"                                                                           \n",
       "92   \"Не пустой баланс\" И \"Признак активности равен 1\" И \"Мужской пол\" И \"Больше 3 баллов собственности\"                                                      \n",
       "123  \"Признак активности равен 1\" И \"Больше 3 баллов собственности\" И \"Кредитный рейтинг от 807 до 926\" И \"Город Ярославль или Ростов\"                        \n",
       "133  \"Не пустой баланс\" И \"Признак активности равен 1\" И \"Больше 3 баллов собственности\" И \"Кредитный рейтинг от 807 до 926\" И \"Город Ярославль или Ростов\"   \n",
       "101  \"Не пустой баланс\" И \"Признак активности равен 1\" И \"Кредитный рейтинг от 807 до 926\" И \"Возраст от 26-43 и 51-57 лет\"                                   \n",
       "96   \"Не пустой баланс\" И \"Признак активности равен 1\" И \"Нет кредитной карты\" И \"Возраст от 26-43 и 51-57 лет\"                                               \n",
       "134  \"Не пустой баланс\" И \"Признак активности равен 1\" И \"Больше 3 баллов собственности\" И \"Возраст от 26-43 и 51-57 лет\" И \"Город Ярославль или Ростов\"      \n",
       "124  \"Признак активности равен 1\" И \"Больше 3 баллов собственности\" И \"Возраст от 26-43 и 51-57 лет\" И \"Город Ярославль или Ростов\"                           \n",
       "\n",
       "    Количество признаков Количество клиентов  Процент отточности сегмента  \\\n",
       "135  5                    505                 54.67                         \n",
       "93   4                    537                 52.98                         \n",
       "60   3                    533                 49.33                         \n",
       "92   4                    533                 49.33                         \n",
       "123  4                    539                 49.20                         \n",
       "133  5                    539                 49.20                         \n",
       "101  4                    853                 48.71                         \n",
       "96   4                    507                 48.11                         \n",
       "134  5                    531                 48.04                         \n",
       "124  4                    531                 48.04                         \n",
       "\n",
       "     Разница процента отточности базового и сегмента  \n",
       "135  36.43                                            \n",
       "93   34.74                                            \n",
       "60   31.09                                            \n",
       "92   31.09                                            \n",
       "123  30.96                                            \n",
       "133  30.96                                            \n",
       "101  30.47                                            \n",
       "96   29.87                                            \n",
       "134  29.80                                            \n",
       "124  29.80                                            "
      ]
     },
     "execution_count": 66,
     "metadata": {},
     "output_type": "execute_result"
    }
   ],
   "source": [
    "segments.sort_values(by='Процент отточности сегмента', ascending=False).head(10)"
   ]
  },
  {
   "cell_type": "markdown",
   "id": "a407c156-6495-4bb6-ae29-4fe2a219b88e",
   "metadata": {},
   "source": [
    "После увеличения перебора до пяти признаков, в топ 10 отточных сегментов попало ещё три сегмента наиболее отточных клиентов.\n",
    "Процент отточности в топ 10 отточных сегментов составляет `от 48.04% до 54.67%`."
   ]
  },
  {
   "cell_type": "markdown",
   "id": "718db361-ceae-419b-ae60-07e3a47f66dc",
   "metadata": {},
   "source": [
    "### Сегменты с шестью признаками"
   ]
  },
  {
   "cell_type": "markdown",
   "id": "c6b08185-d18a-4a74-aa24-0c522bca590c",
   "metadata": {},
   "source": [
    "Переберём сочетание шести признаков из списка outflow_signs и запишем отточные сегменты удовлетворяющие условию количество клиентов 500 и более в датафрейм segments."
   ]
  },
  {
   "cell_type": "code",
   "execution_count": 67,
   "id": "2da6e65c-09af-4e74-9b4d-0ff94196ac73",
   "metadata": {
    "tags": []
   },
   "outputs": [
    {
     "name": "stdout",
     "output_type": "stream",
     "text": [
      "Найдено сегментов: 0\n"
     ]
    }
   ],
   "source": [
    "count = 0\n",
    "\n",
    "for i in range(0, len(outflow_signs) - 1):\n",
    "    for j in range(1, len(outflow_signs)):\n",
    "            for k in range(2, len(outflow_signs)):\n",
    "                for m in range(3, len(outflow_signs)):\n",
    "                    for n in range(4, len(outflow_signs)):\n",
    "                        for p in range(5, len(outflow_signs)):\n",
    "                            if i == j or i > j or j == k or j > k or k == m or k > m or m == n or m > n or n == p or n > p:\n",
    "                                continue\n",
    "                            segment = (\n",
    "                                list(outflow_signs[i].values())[0]\n",
    "                                                     .append(list(outflow_signs[j].values())[0],\n",
    "                                                             ignore_index=False)\n",
    "                                )\n",
    "                            segment = segment[segment.duplicated()]\n",
    "                            segment = segment.append(list(outflow_signs[k].values())[0], ignore_index=False)\n",
    "                            segment = segment[segment.duplicated()]\n",
    "                            segment = segment.append(list(outflow_signs[m].values())[0], ignore_index=False)\n",
    "                            segment = segment[segment.duplicated()]\n",
    "                            segment = segment.append(list(outflow_signs[n].values())[0], ignore_index=False)\n",
    "                            segment = segment[segment.duplicated()]\n",
    "                            segment = segment.append(list(outflow_signs[p].values())[0], ignore_index=False)\n",
    "                            segment = segment[segment.duplicated()]\n",
    "                            segment_actual_clients = segment[segment['churn'] == 0]\n",
    "                            if segment_actual_clients.shape[0] >= 500:\n",
    "                                count += 1\n",
    "                                segments.loc[len(segments.index)] = ['\"' + list(outflow_signs[i].keys())[0] + '\"'\n",
    "                                                                     + ' И ' + '\"' + list(outflow_signs[j].keys())[0] + '\"'\n",
    "                                                                     + ' И ' + '\"' + list(outflow_signs[k].keys())[0] + '\"'\n",
    "                                                                     + ' И ' + '\"' + list(outflow_signs[m].keys())[0] + '\"'\n",
    "                                                                     + ' И ' + '\"' + list(outflow_signs[n].keys())[0] + '\"'\n",
    "                                                                     + ' И ' + '\"' + list(outflow_signs[p].keys())[0] + '\"',\n",
    "                                                                         6,\n",
    "                                                                         segment_actual_clients.shape[0],\n",
    "                                                                         round(segment['churn'].mean() * 100, 2),\n",
    "                                                                         round(segment['churn'].mean() * 100, 2) - common_churn_percent]\n",
    "                                \n",
    "print(f'Найдено сегментов: {count}')"
   ]
  },
  {
   "cell_type": "markdown",
   "id": "c84b5200-ffd0-402b-95c6-d1a826768263",
   "metadata": {
    "tags": []
   },
   "source": [
    "Сегменты удовлетворяющие условиям с сочетанием шести отточных признаков не найдены.  \n",
    "Дальнейшее увеличение сочетания признаков не позволит найти подходящие сегменты."
   ]
  },
  {
   "cell_type": "markdown",
   "id": "f78a5f17-e6f1-4e84-896b-840923ef4d0f",
   "metadata": {},
   "source": [
    "## Анализ и обработка полученных сегментов"
   ]
  },
  {
   "cell_type": "markdown",
   "id": "d97a50b3-450a-4c13-a50c-e63ed0e118f5",
   "metadata": {},
   "source": [
    "В результате повторения шага 8 из [алгоритма получения наиболее отточных сегментов](#churn_search_algorithm), были изменены следующие [ранее выделенные](#outflow_intermediate_conclusions) признаки отточности:\n",
    "- Диапазон кредитного рейтинга изменён с `от 800 до 930` на `от 807 до 926`;\n",
    "- Диапазон возраста изменён с `26-43 и 50-58 лет` на `26-43 и 51-57 лет`.\n",
    "\n",
    "Найдём общее количество найденных сегментов."
   ]
  },
  {
   "cell_type": "code",
   "execution_count": 68,
   "id": "4cb369f0-6a57-4f2d-9a6f-11d20bc15d6d",
   "metadata": {
    "tags": []
   },
   "outputs": [
    {
     "name": "stdout",
     "output_type": "stream",
     "text": [
      "Количество сегментов: 141\n"
     ]
    }
   ],
   "source": [
    "print(f'Количество сегментов: {segments.shape[0]}')"
   ]
  },
  {
   "cell_type": "markdown",
   "id": "1f7dd075-7d04-434d-bbcc-c359c543d6a5",
   "metadata": {},
   "source": [
    "Посмотрим ещё раз на топ 10 самых отточных сегментов, которые мы получили."
   ]
  },
  {
   "cell_type": "code",
   "execution_count": 69,
   "id": "422a91b5-c890-41de-bb61-83e4fcd79701",
   "metadata": {
    "tags": []
   },
   "outputs": [
    {
     "data": {
      "text/html": [
       "<div>\n",
       "<style scoped>\n",
       "    .dataframe tbody tr th:only-of-type {\n",
       "        vertical-align: middle;\n",
       "    }\n",
       "\n",
       "    .dataframe tbody tr th {\n",
       "        vertical-align: top;\n",
       "    }\n",
       "\n",
       "    .dataframe thead th {\n",
       "        text-align: right;\n",
       "    }\n",
       "</style>\n",
       "<table border=\"1\" class=\"dataframe\">\n",
       "  <thead>\n",
       "    <tr style=\"text-align: right;\">\n",
       "      <th></th>\n",
       "      <th>Сегмент</th>\n",
       "      <th>Количество признаков</th>\n",
       "      <th>Количество клиентов</th>\n",
       "      <th>Процент отточности сегмента</th>\n",
       "      <th>Разница процента отточности базового и сегмента</th>\n",
       "    </tr>\n",
       "  </thead>\n",
       "  <tbody>\n",
       "    <tr>\n",
       "      <th>135</th>\n",
       "      <td>\"Не пустой баланс\" И \"Признак активности равен 1\" И \"Кредитный рейтинг от 807 до 926\" И \"Возраст от 26-43 и 51-57 лет\" И \"Город Ярославль или Ростов\"</td>\n",
       "      <td>5</td>\n",
       "      <td>505</td>\n",
       "      <td>54.67</td>\n",
       "      <td>36.43</td>\n",
       "    </tr>\n",
       "    <tr>\n",
       "      <th>93</th>\n",
       "      <td>\"Не пустой баланс\" И \"Признак активности равен 1\" И \"Мужской пол\" И \"Кредитный рейтинг от 807 до 926\"</td>\n",
       "      <td>4</td>\n",
       "      <td>537</td>\n",
       "      <td>52.98</td>\n",
       "      <td>34.74</td>\n",
       "    </tr>\n",
       "    <tr>\n",
       "      <th>60</th>\n",
       "      <td>\"Признак активности равен 1\" И \"Мужской пол\" И \"Больше 3 баллов собственности\"</td>\n",
       "      <td>3</td>\n",
       "      <td>533</td>\n",
       "      <td>49.33</td>\n",
       "      <td>31.09</td>\n",
       "    </tr>\n",
       "    <tr>\n",
       "      <th>92</th>\n",
       "      <td>\"Не пустой баланс\" И \"Признак активности равен 1\" И \"Мужской пол\" И \"Больше 3 баллов собственности\"</td>\n",
       "      <td>4</td>\n",
       "      <td>533</td>\n",
       "      <td>49.33</td>\n",
       "      <td>31.09</td>\n",
       "    </tr>\n",
       "    <tr>\n",
       "      <th>123</th>\n",
       "      <td>\"Признак активности равен 1\" И \"Больше 3 баллов собственности\" И \"Кредитный рейтинг от 807 до 926\" И \"Город Ярославль или Ростов\"</td>\n",
       "      <td>4</td>\n",
       "      <td>539</td>\n",
       "      <td>49.20</td>\n",
       "      <td>30.96</td>\n",
       "    </tr>\n",
       "    <tr>\n",
       "      <th>133</th>\n",
       "      <td>\"Не пустой баланс\" И \"Признак активности равен 1\" И \"Больше 3 баллов собственности\" И \"Кредитный рейтинг от 807 до 926\" И \"Город Ярославль или Ростов\"</td>\n",
       "      <td>5</td>\n",
       "      <td>539</td>\n",
       "      <td>49.20</td>\n",
       "      <td>30.96</td>\n",
       "    </tr>\n",
       "    <tr>\n",
       "      <th>101</th>\n",
       "      <td>\"Не пустой баланс\" И \"Признак активности равен 1\" И \"Кредитный рейтинг от 807 до 926\" И \"Возраст от 26-43 и 51-57 лет\"</td>\n",
       "      <td>4</td>\n",
       "      <td>853</td>\n",
       "      <td>48.71</td>\n",
       "      <td>30.47</td>\n",
       "    </tr>\n",
       "    <tr>\n",
       "      <th>96</th>\n",
       "      <td>\"Не пустой баланс\" И \"Признак активности равен 1\" И \"Нет кредитной карты\" И \"Возраст от 26-43 и 51-57 лет\"</td>\n",
       "      <td>4</td>\n",
       "      <td>507</td>\n",
       "      <td>48.11</td>\n",
       "      <td>29.87</td>\n",
       "    </tr>\n",
       "    <tr>\n",
       "      <th>134</th>\n",
       "      <td>\"Не пустой баланс\" И \"Признак активности равен 1\" И \"Больше 3 баллов собственности\" И \"Возраст от 26-43 и 51-57 лет\" И \"Город Ярославль или Ростов\"</td>\n",
       "      <td>5</td>\n",
       "      <td>531</td>\n",
       "      <td>48.04</td>\n",
       "      <td>29.80</td>\n",
       "    </tr>\n",
       "    <tr>\n",
       "      <th>124</th>\n",
       "      <td>\"Признак активности равен 1\" И \"Больше 3 баллов собственности\" И \"Возраст от 26-43 и 51-57 лет\" И \"Город Ярославль или Ростов\"</td>\n",
       "      <td>4</td>\n",
       "      <td>531</td>\n",
       "      <td>48.04</td>\n",
       "      <td>29.80</td>\n",
       "    </tr>\n",
       "  </tbody>\n",
       "</table>\n",
       "</div>"
      ],
      "text/plain": [
       "                                                                                                                                                    Сегмент  \\\n",
       "135  \"Не пустой баланс\" И \"Признак активности равен 1\" И \"Кредитный рейтинг от 807 до 926\" И \"Возраст от 26-43 и 51-57 лет\" И \"Город Ярославль или Ростов\"    \n",
       "93   \"Не пустой баланс\" И \"Признак активности равен 1\" И \"Мужской пол\" И \"Кредитный рейтинг от 807 до 926\"                                                    \n",
       "60   \"Признак активности равен 1\" И \"Мужской пол\" И \"Больше 3 баллов собственности\"                                                                           \n",
       "92   \"Не пустой баланс\" И \"Признак активности равен 1\" И \"Мужской пол\" И \"Больше 3 баллов собственности\"                                                      \n",
       "123  \"Признак активности равен 1\" И \"Больше 3 баллов собственности\" И \"Кредитный рейтинг от 807 до 926\" И \"Город Ярославль или Ростов\"                        \n",
       "133  \"Не пустой баланс\" И \"Признак активности равен 1\" И \"Больше 3 баллов собственности\" И \"Кредитный рейтинг от 807 до 926\" И \"Город Ярославль или Ростов\"   \n",
       "101  \"Не пустой баланс\" И \"Признак активности равен 1\" И \"Кредитный рейтинг от 807 до 926\" И \"Возраст от 26-43 и 51-57 лет\"                                   \n",
       "96   \"Не пустой баланс\" И \"Признак активности равен 1\" И \"Нет кредитной карты\" И \"Возраст от 26-43 и 51-57 лет\"                                               \n",
       "134  \"Не пустой баланс\" И \"Признак активности равен 1\" И \"Больше 3 баллов собственности\" И \"Возраст от 26-43 и 51-57 лет\" И \"Город Ярославль или Ростов\"      \n",
       "124  \"Признак активности равен 1\" И \"Больше 3 баллов собственности\" И \"Возраст от 26-43 и 51-57 лет\" И \"Город Ярославль или Ростов\"                           \n",
       "\n",
       "    Количество признаков Количество клиентов  Процент отточности сегмента  \\\n",
       "135  5                    505                 54.67                         \n",
       "93   4                    537                 52.98                         \n",
       "60   3                    533                 49.33                         \n",
       "92   4                    533                 49.33                         \n",
       "123  4                    539                 49.20                         \n",
       "133  5                    539                 49.20                         \n",
       "101  4                    853                 48.71                         \n",
       "96   4                    507                 48.11                         \n",
       "134  5                    531                 48.04                         \n",
       "124  4                    531                 48.04                         \n",
       "\n",
       "     Разница процента отточности базового и сегмента  \n",
       "135  36.43                                            \n",
       "93   34.74                                            \n",
       "60   31.09                                            \n",
       "92   31.09                                            \n",
       "123  30.96                                            \n",
       "133  30.96                                            \n",
       "101  30.47                                            \n",
       "96   29.87                                            \n",
       "134  29.80                                            \n",
       "124  29.80                                            "
      ]
     },
     "execution_count": 69,
     "metadata": {},
     "output_type": "execute_result"
    }
   ],
   "source": [
    "segments.sort_values(by='Процент отточности сегмента', ascending=False).head(10)"
   ]
  },
  {
   "cell_type": "markdown",
   "id": "752c97ba-1406-4b03-b7d0-8898d93fe6fd",
   "metadata": {},
   "source": [
    "Можно заметить, что некоторые сегменты имеют одинаковое число клиентов и процент отточности, например записи с индексами `60` и `92`. Это связано с тем, что добавление дополнительного признака отточности `\"Не пустой баланс\"` для сегмента `60` не сужает полученный в результате сегмент `92`, поскольку в нём уже были отобраны такие клиенты, которые соответствуют ещё не добавленному признаку `\"Не пустой баланс\"`.  \n",
    "Посмотрим на первые 5 пар таких дубликатов."
   ]
  },
  {
   "cell_type": "code",
   "execution_count": 70,
   "id": "f2d78cfe-5910-4bdf-a55c-16bc4836c802",
   "metadata": {
    "tags": []
   },
   "outputs": [
    {
     "data": {
      "text/html": [
       "<div>\n",
       "<style scoped>\n",
       "    .dataframe tbody tr th:only-of-type {\n",
       "        vertical-align: middle;\n",
       "    }\n",
       "\n",
       "    .dataframe tbody tr th {\n",
       "        vertical-align: top;\n",
       "    }\n",
       "\n",
       "    .dataframe thead th {\n",
       "        text-align: right;\n",
       "    }\n",
       "</style>\n",
       "<table border=\"1\" class=\"dataframe\">\n",
       "  <thead>\n",
       "    <tr style=\"text-align: right;\">\n",
       "      <th></th>\n",
       "      <th>Сегмент</th>\n",
       "      <th>Количество признаков</th>\n",
       "      <th>Количество клиентов</th>\n",
       "      <th>Процент отточности сегмента</th>\n",
       "      <th>Разница процента отточности базового и сегмента</th>\n",
       "    </tr>\n",
       "  </thead>\n",
       "  <tbody>\n",
       "    <tr>\n",
       "      <th>24</th>\n",
       "      <td>\"Более 2 продуктов\" И \"Больше 3 баллов собственности\"</td>\n",
       "      <td>2</td>\n",
       "      <td>526</td>\n",
       "      <td>44.75</td>\n",
       "      <td>26.51</td>\n",
       "    </tr>\n",
       "    <tr>\n",
       "      <th>50</th>\n",
       "      <td>\"Не пустой баланс\" И \"Более 2 продуктов\" И \"Больше 3 баллов собственности\"</td>\n",
       "      <td>3</td>\n",
       "      <td>526</td>\n",
       "      <td>44.75</td>\n",
       "      <td>26.51</td>\n",
       "    </tr>\n",
       "    <tr>\n",
       "      <th>124</th>\n",
       "      <td>\"Признак активности равен 1\" И \"Больше 3 баллов собственности\" И \"Возраст от 26-43 и 51-57 лет\" И \"Город Ярославль или Ростов\"</td>\n",
       "      <td>4</td>\n",
       "      <td>531</td>\n",
       "      <td>48.04</td>\n",
       "      <td>29.80</td>\n",
       "    </tr>\n",
       "    <tr>\n",
       "      <th>134</th>\n",
       "      <td>\"Не пустой баланс\" И \"Признак активности равен 1\" И \"Больше 3 баллов собственности\" И \"Возраст от 26-43 и 51-57 лет\" И \"Город Ярославль или Ростов\"</td>\n",
       "      <td>5</td>\n",
       "      <td>531</td>\n",
       "      <td>48.04</td>\n",
       "      <td>29.80</td>\n",
       "    </tr>\n",
       "    <tr>\n",
       "      <th>60</th>\n",
       "      <td>\"Признак активности равен 1\" И \"Мужской пол\" И \"Больше 3 баллов собственности\"</td>\n",
       "      <td>3</td>\n",
       "      <td>533</td>\n",
       "      <td>49.33</td>\n",
       "      <td>31.09</td>\n",
       "    </tr>\n",
       "    <tr>\n",
       "      <th>92</th>\n",
       "      <td>\"Не пустой баланс\" И \"Признак активности равен 1\" И \"Мужской пол\" И \"Больше 3 баллов собственности\"</td>\n",
       "      <td>4</td>\n",
       "      <td>533</td>\n",
       "      <td>49.33</td>\n",
       "      <td>31.09</td>\n",
       "    </tr>\n",
       "    <tr>\n",
       "      <th>123</th>\n",
       "      <td>\"Признак активности равен 1\" И \"Больше 3 баллов собственности\" И \"Кредитный рейтинг от 807 до 926\" И \"Город Ярославль или Ростов\"</td>\n",
       "      <td>4</td>\n",
       "      <td>539</td>\n",
       "      <td>49.20</td>\n",
       "      <td>30.96</td>\n",
       "    </tr>\n",
       "    <tr>\n",
       "      <th>133</th>\n",
       "      <td>\"Не пустой баланс\" И \"Признак активности равен 1\" И \"Больше 3 баллов собственности\" И \"Кредитный рейтинг от 807 до 926\" И \"Город Ярославль или Ростов\"</td>\n",
       "      <td>5</td>\n",
       "      <td>539</td>\n",
       "      <td>49.20</td>\n",
       "      <td>30.96</td>\n",
       "    </tr>\n",
       "    <tr>\n",
       "      <th>126</th>\n",
       "      <td>\"Мужской пол\" И \"Больше 3 баллов собственности\" И \"Кредитный рейтинг от 807 до 926\" И \"Возраст от 26-43 и 51-57 лет\"</td>\n",
       "      <td>4</td>\n",
       "      <td>605</td>\n",
       "      <td>43.83</td>\n",
       "      <td>25.59</td>\n",
       "    </tr>\n",
       "    <tr>\n",
       "      <th>136</th>\n",
       "      <td>\"Не пустой баланс\" И \"Мужской пол\" И \"Больше 3 баллов собственности\" И \"Кредитный рейтинг от 807 до 926\" И \"Возраст от 26-43 и 51-57 лет\"</td>\n",
       "      <td>5</td>\n",
       "      <td>605</td>\n",
       "      <td>43.83</td>\n",
       "      <td>25.59</td>\n",
       "    </tr>\n",
       "  </tbody>\n",
       "</table>\n",
       "</div>"
      ],
      "text/plain": [
       "                                                                                                                                                    Сегмент  \\\n",
       "24   \"Более 2 продуктов\" И \"Больше 3 баллов собственности\"                                                                                                    \n",
       "50   \"Не пустой баланс\" И \"Более 2 продуктов\" И \"Больше 3 баллов собственности\"                                                                               \n",
       "124  \"Признак активности равен 1\" И \"Больше 3 баллов собственности\" И \"Возраст от 26-43 и 51-57 лет\" И \"Город Ярославль или Ростов\"                           \n",
       "134  \"Не пустой баланс\" И \"Признак активности равен 1\" И \"Больше 3 баллов собственности\" И \"Возраст от 26-43 и 51-57 лет\" И \"Город Ярославль или Ростов\"      \n",
       "60   \"Признак активности равен 1\" И \"Мужской пол\" И \"Больше 3 баллов собственности\"                                                                           \n",
       "92   \"Не пустой баланс\" И \"Признак активности равен 1\" И \"Мужской пол\" И \"Больше 3 баллов собственности\"                                                      \n",
       "123  \"Признак активности равен 1\" И \"Больше 3 баллов собственности\" И \"Кредитный рейтинг от 807 до 926\" И \"Город Ярославль или Ростов\"                        \n",
       "133  \"Не пустой баланс\" И \"Признак активности равен 1\" И \"Больше 3 баллов собственности\" И \"Кредитный рейтинг от 807 до 926\" И \"Город Ярославль или Ростов\"   \n",
       "126  \"Мужской пол\" И \"Больше 3 баллов собственности\" И \"Кредитный рейтинг от 807 до 926\" И \"Возраст от 26-43 и 51-57 лет\"                                     \n",
       "136  \"Не пустой баланс\" И \"Мужской пол\" И \"Больше 3 баллов собственности\" И \"Кредитный рейтинг от 807 до 926\" И \"Возраст от 26-43 и 51-57 лет\"                \n",
       "\n",
       "    Количество признаков Количество клиентов  Процент отточности сегмента  \\\n",
       "24   2                    526                 44.75                         \n",
       "50   3                    526                 44.75                         \n",
       "124  4                    531                 48.04                         \n",
       "134  5                    531                 48.04                         \n",
       "60   3                    533                 49.33                         \n",
       "92   4                    533                 49.33                         \n",
       "123  4                    539                 49.20                         \n",
       "133  5                    539                 49.20                         \n",
       "126  4                    605                 43.83                         \n",
       "136  5                    605                 43.83                         \n",
       "\n",
       "     Разница процента отточности базового и сегмента  \n",
       "24   26.51                                            \n",
       "50   26.51                                            \n",
       "124  29.80                                            \n",
       "134  29.80                                            \n",
       "60   31.09                                            \n",
       "92   31.09                                            \n",
       "123  30.96                                            \n",
       "133  30.96                                            \n",
       "126  25.59                                            \n",
       "136  25.59                                            "
      ]
     },
     "execution_count": 70,
     "metadata": {},
     "output_type": "execute_result"
    }
   ],
   "source": [
    "(\n",
    "    segments[segments[['Количество клиентов',\n",
    "                       'Процент отточности сегмента']].duplicated(keep=False)]\n",
    "                                                      .sort_values(by=['Количество клиентов',\n",
    "                                                                       'Количество признаков'])\n",
    "                                                      .head(10)\n",
    ")"
   ]
  },
  {
   "cell_type": "markdown",
   "id": "d8f73e2a-4309-4b86-a631-aa4f219ce2ff",
   "metadata": {},
   "source": [
    "Удалим дубликаты. При этом из пары сегментов, где количество клиентов и процент отточности равны оставим такие сегменты, где собрано меньшее количество признаков.  \n",
    "После удаления посмотрим на количество оставшихся сегментов, запишем топ 10 самых отточных сегментов в переменную `top_10_segments` и выведем их на экран."
   ]
  },
  {
   "cell_type": "code",
   "execution_count": 71,
   "id": "87ccc2bb-d46c-47ea-8b5c-ef7f9bfaa494",
   "metadata": {
    "tags": []
   },
   "outputs": [
    {
     "name": "stdout",
     "output_type": "stream",
     "text": [
      "Количество сегментов: 115\n"
     ]
    },
    {
     "data": {
      "text/html": [
       "<div>\n",
       "<style scoped>\n",
       "    .dataframe tbody tr th:only-of-type {\n",
       "        vertical-align: middle;\n",
       "    }\n",
       "\n",
       "    .dataframe tbody tr th {\n",
       "        vertical-align: top;\n",
       "    }\n",
       "\n",
       "    .dataframe thead th {\n",
       "        text-align: right;\n",
       "    }\n",
       "</style>\n",
       "<table border=\"1\" class=\"dataframe\">\n",
       "  <thead>\n",
       "    <tr style=\"text-align: right;\">\n",
       "      <th></th>\n",
       "      <th>Сегмент</th>\n",
       "      <th>Количество признаков</th>\n",
       "      <th>Количество клиентов</th>\n",
       "      <th>Процент отточности сегмента</th>\n",
       "      <th>Разница процента отточности базового и сегмента</th>\n",
       "    </tr>\n",
       "  </thead>\n",
       "  <tbody>\n",
       "    <tr>\n",
       "      <th>135</th>\n",
       "      <td>\"Не пустой баланс\" И \"Признак активности равен 1\" И \"Кредитный рейтинг от 807 до 926\" И \"Возраст от 26-43 и 51-57 лет\" И \"Город Ярославль или Ростов\"</td>\n",
       "      <td>5</td>\n",
       "      <td>505</td>\n",
       "      <td>54.67</td>\n",
       "      <td>36.43</td>\n",
       "    </tr>\n",
       "    <tr>\n",
       "      <th>93</th>\n",
       "      <td>\"Не пустой баланс\" И \"Признак активности равен 1\" И \"Мужской пол\" И \"Кредитный рейтинг от 807 до 926\"</td>\n",
       "      <td>4</td>\n",
       "      <td>537</td>\n",
       "      <td>52.98</td>\n",
       "      <td>34.74</td>\n",
       "    </tr>\n",
       "    <tr>\n",
       "      <th>60</th>\n",
       "      <td>\"Признак активности равен 1\" И \"Мужской пол\" И \"Больше 3 баллов собственности\"</td>\n",
       "      <td>3</td>\n",
       "      <td>533</td>\n",
       "      <td>49.33</td>\n",
       "      <td>31.09</td>\n",
       "    </tr>\n",
       "    <tr>\n",
       "      <th>123</th>\n",
       "      <td>\"Признак активности равен 1\" И \"Больше 3 баллов собственности\" И \"Кредитный рейтинг от 807 до 926\" И \"Город Ярославль или Ростов\"</td>\n",
       "      <td>4</td>\n",
       "      <td>539</td>\n",
       "      <td>49.20</td>\n",
       "      <td>30.96</td>\n",
       "    </tr>\n",
       "    <tr>\n",
       "      <th>101</th>\n",
       "      <td>\"Не пустой баланс\" И \"Признак активности равен 1\" И \"Кредитный рейтинг от 807 до 926\" И \"Возраст от 26-43 и 51-57 лет\"</td>\n",
       "      <td>4</td>\n",
       "      <td>853</td>\n",
       "      <td>48.71</td>\n",
       "      <td>30.47</td>\n",
       "    </tr>\n",
       "    <tr>\n",
       "      <th>96</th>\n",
       "      <td>\"Не пустой баланс\" И \"Признак активности равен 1\" И \"Нет кредитной карты\" И \"Возраст от 26-43 и 51-57 лет\"</td>\n",
       "      <td>4</td>\n",
       "      <td>507</td>\n",
       "      <td>48.11</td>\n",
       "      <td>29.87</td>\n",
       "    </tr>\n",
       "    <tr>\n",
       "      <th>124</th>\n",
       "      <td>\"Признак активности равен 1\" И \"Больше 3 баллов собственности\" И \"Возраст от 26-43 и 51-57 лет\" И \"Город Ярославль или Ростов\"</td>\n",
       "      <td>4</td>\n",
       "      <td>531</td>\n",
       "      <td>48.04</td>\n",
       "      <td>29.80</td>\n",
       "    </tr>\n",
       "    <tr>\n",
       "      <th>67</th>\n",
       "      <td>\"Признак активности равен 1\" И \"Больше 3 баллов собственности\" И \"Кредитный рейтинг от 807 до 926\"</td>\n",
       "      <td>3</td>\n",
       "      <td>828</td>\n",
       "      <td>45.63</td>\n",
       "      <td>27.39</td>\n",
       "    </tr>\n",
       "    <tr>\n",
       "      <th>102</th>\n",
       "      <td>\"Не пустой баланс\" И \"Признак активности равен 1\" И \"Кредитный рейтинг от 807 до 926\" И \"Город Ярославль или Ростов\"</td>\n",
       "      <td>4</td>\n",
       "      <td>922</td>\n",
       "      <td>45.57</td>\n",
       "      <td>27.33</td>\n",
       "    </tr>\n",
       "    <tr>\n",
       "      <th>132</th>\n",
       "      <td>\"Не пустой баланс\" И \"Признак активности равен 1\" И \"Мужской пол\" И \"Возраст от 26-43 и 51-57 лет\" И \"Город Ярославль или Ростов\"</td>\n",
       "      <td>5</td>\n",
       "      <td>525</td>\n",
       "      <td>45.08</td>\n",
       "      <td>26.84</td>\n",
       "    </tr>\n",
       "  </tbody>\n",
       "</table>\n",
       "</div>"
      ],
      "text/plain": [
       "                                                                                                                                                   Сегмент  \\\n",
       "135  \"Не пустой баланс\" И \"Признак активности равен 1\" И \"Кредитный рейтинг от 807 до 926\" И \"Возраст от 26-43 и 51-57 лет\" И \"Город Ярославль или Ростов\"   \n",
       "93   \"Не пустой баланс\" И \"Признак активности равен 1\" И \"Мужской пол\" И \"Кредитный рейтинг от 807 до 926\"                                                   \n",
       "60   \"Признак активности равен 1\" И \"Мужской пол\" И \"Больше 3 баллов собственности\"                                                                          \n",
       "123  \"Признак активности равен 1\" И \"Больше 3 баллов собственности\" И \"Кредитный рейтинг от 807 до 926\" И \"Город Ярославль или Ростов\"                       \n",
       "101  \"Не пустой баланс\" И \"Признак активности равен 1\" И \"Кредитный рейтинг от 807 до 926\" И \"Возраст от 26-43 и 51-57 лет\"                                  \n",
       "96   \"Не пустой баланс\" И \"Признак активности равен 1\" И \"Нет кредитной карты\" И \"Возраст от 26-43 и 51-57 лет\"                                              \n",
       "124  \"Признак активности равен 1\" И \"Больше 3 баллов собственности\" И \"Возраст от 26-43 и 51-57 лет\" И \"Город Ярославль или Ростов\"                          \n",
       "67   \"Признак активности равен 1\" И \"Больше 3 баллов собственности\" И \"Кредитный рейтинг от 807 до 926\"                                                      \n",
       "102  \"Не пустой баланс\" И \"Признак активности равен 1\" И \"Кредитный рейтинг от 807 до 926\" И \"Город Ярославль или Ростов\"                                    \n",
       "132  \"Не пустой баланс\" И \"Признак активности равен 1\" И \"Мужской пол\" И \"Возраст от 26-43 и 51-57 лет\" И \"Город Ярославль или Ростов\"                       \n",
       "\n",
       "    Количество признаков Количество клиентов  Процент отточности сегмента  \\\n",
       "135  5                    505                 54.67                         \n",
       "93   4                    537                 52.98                         \n",
       "60   3                    533                 49.33                         \n",
       "123  4                    539                 49.20                         \n",
       "101  4                    853                 48.71                         \n",
       "96   4                    507                 48.11                         \n",
       "124  4                    531                 48.04                         \n",
       "67   3                    828                 45.63                         \n",
       "102  4                    922                 45.57                         \n",
       "132  5                    525                 45.08                         \n",
       "\n",
       "     Разница процента отточности базового и сегмента  \n",
       "135  36.43                                            \n",
       "93   34.74                                            \n",
       "60   31.09                                            \n",
       "123  30.96                                            \n",
       "101  30.47                                            \n",
       "96   29.87                                            \n",
       "124  29.80                                            \n",
       "67   27.39                                            \n",
       "102  27.33                                            \n",
       "132  26.84                                            "
      ]
     },
     "execution_count": 71,
     "metadata": {},
     "output_type": "execute_result"
    }
   ],
   "source": [
    "segments = (segments.sort_values(by=['Количество клиентов', 'Количество признаков'])\n",
    "                    .drop_duplicates(subset=['Количество клиентов', 'Процент отточности сегмента'],\n",
    "                                     keep='first')\n",
    "    )\n",
    "print(f'Количество сегментов: {segments.shape[0]}')\n",
    "top_10_segments = segments.sort_values(by='Процент отточности сегмента', ascending=False).head(10)\n",
    "top_10_segments"
   ]
  },
  {
   "cell_type": "markdown",
   "id": "d526de95-eeb9-445f-b74a-6c5f0db3d1d7",
   "metadata": {},
   "source": [
    "Сегментов-дубликатов более нет, всего найдено 115 уникальных сегментов отточных пользователей.  \n",
    "Процент отточности в итоговом списке топ 10 отточных сегментов составляет `от 45.08% до 54.67%`.  \n",
    "Процент отточности из топ 10 сегментов выше базового на величину от `от 26.84% до 36.43%`."
   ]
  },
  {
   "cell_type": "markdown",
   "id": "2f73dd9f-5ed2-4df7-ac0a-e3945998db05",
   "metadata": {
    "tags": []
   },
   "source": [
    "## Выводы по результатам формирования сегментов отточных клиентов"
   ]
  },
  {
   "cell_type": "markdown",
   "id": "4f773f46-70d9-49a2-8d04-88ba6629afc0",
   "metadata": {
    "tags": []
   },
   "source": [
    "[Алгоритм поиска наиболее отточных сегментов](#churn_search_algorithm) позволил установить следующий топ 10 самых отточных сегментов отсортированных в порядке убывания отточности:"
   ]
  },
  {
   "cell_type": "code",
   "execution_count": 72,
   "id": "cdd9cad8-60c5-4836-9999-618dba28c8fd",
   "metadata": {
    "tags": []
   },
   "outputs": [
    {
     "data": {
      "text/html": [
       "<div>\n",
       "<style scoped>\n",
       "    .dataframe tbody tr th:only-of-type {\n",
       "        vertical-align: middle;\n",
       "    }\n",
       "\n",
       "    .dataframe tbody tr th {\n",
       "        vertical-align: top;\n",
       "    }\n",
       "\n",
       "    .dataframe thead th {\n",
       "        text-align: right;\n",
       "    }\n",
       "</style>\n",
       "<table border=\"1\" class=\"dataframe\">\n",
       "  <thead>\n",
       "    <tr style=\"text-align: right;\">\n",
       "      <th></th>\n",
       "      <th>Сегмент</th>\n",
       "      <th>Количество признаков</th>\n",
       "      <th>Количество клиентов</th>\n",
       "      <th>Процент отточности сегмента</th>\n",
       "      <th>Разница процента отточности базового и сегмента</th>\n",
       "    </tr>\n",
       "  </thead>\n",
       "  <tbody>\n",
       "    <tr>\n",
       "      <th>135</th>\n",
       "      <td>\"Не пустой баланс\" И \"Признак активности равен 1\" И \"Кредитный рейтинг от 807 до 926\" И \"Возраст от 26-43 и 51-57 лет\" И \"Город Ярославль или Ростов\"</td>\n",
       "      <td>5</td>\n",
       "      <td>505</td>\n",
       "      <td>54.67</td>\n",
       "      <td>36.43</td>\n",
       "    </tr>\n",
       "    <tr>\n",
       "      <th>93</th>\n",
       "      <td>\"Не пустой баланс\" И \"Признак активности равен 1\" И \"Мужской пол\" И \"Кредитный рейтинг от 807 до 926\"</td>\n",
       "      <td>4</td>\n",
       "      <td>537</td>\n",
       "      <td>52.98</td>\n",
       "      <td>34.74</td>\n",
       "    </tr>\n",
       "    <tr>\n",
       "      <th>60</th>\n",
       "      <td>\"Признак активности равен 1\" И \"Мужской пол\" И \"Больше 3 баллов собственности\"</td>\n",
       "      <td>3</td>\n",
       "      <td>533</td>\n",
       "      <td>49.33</td>\n",
       "      <td>31.09</td>\n",
       "    </tr>\n",
       "    <tr>\n",
       "      <th>123</th>\n",
       "      <td>\"Признак активности равен 1\" И \"Больше 3 баллов собственности\" И \"Кредитный рейтинг от 807 до 926\" И \"Город Ярославль или Ростов\"</td>\n",
       "      <td>4</td>\n",
       "      <td>539</td>\n",
       "      <td>49.20</td>\n",
       "      <td>30.96</td>\n",
       "    </tr>\n",
       "    <tr>\n",
       "      <th>101</th>\n",
       "      <td>\"Не пустой баланс\" И \"Признак активности равен 1\" И \"Кредитный рейтинг от 807 до 926\" И \"Возраст от 26-43 и 51-57 лет\"</td>\n",
       "      <td>4</td>\n",
       "      <td>853</td>\n",
       "      <td>48.71</td>\n",
       "      <td>30.47</td>\n",
       "    </tr>\n",
       "    <tr>\n",
       "      <th>96</th>\n",
       "      <td>\"Не пустой баланс\" И \"Признак активности равен 1\" И \"Нет кредитной карты\" И \"Возраст от 26-43 и 51-57 лет\"</td>\n",
       "      <td>4</td>\n",
       "      <td>507</td>\n",
       "      <td>48.11</td>\n",
       "      <td>29.87</td>\n",
       "    </tr>\n",
       "    <tr>\n",
       "      <th>124</th>\n",
       "      <td>\"Признак активности равен 1\" И \"Больше 3 баллов собственности\" И \"Возраст от 26-43 и 51-57 лет\" И \"Город Ярославль или Ростов\"</td>\n",
       "      <td>4</td>\n",
       "      <td>531</td>\n",
       "      <td>48.04</td>\n",
       "      <td>29.80</td>\n",
       "    </tr>\n",
       "    <tr>\n",
       "      <th>67</th>\n",
       "      <td>\"Признак активности равен 1\" И \"Больше 3 баллов собственности\" И \"Кредитный рейтинг от 807 до 926\"</td>\n",
       "      <td>3</td>\n",
       "      <td>828</td>\n",
       "      <td>45.63</td>\n",
       "      <td>27.39</td>\n",
       "    </tr>\n",
       "    <tr>\n",
       "      <th>102</th>\n",
       "      <td>\"Не пустой баланс\" И \"Признак активности равен 1\" И \"Кредитный рейтинг от 807 до 926\" И \"Город Ярославль или Ростов\"</td>\n",
       "      <td>4</td>\n",
       "      <td>922</td>\n",
       "      <td>45.57</td>\n",
       "      <td>27.33</td>\n",
       "    </tr>\n",
       "    <tr>\n",
       "      <th>132</th>\n",
       "      <td>\"Не пустой баланс\" И \"Признак активности равен 1\" И \"Мужской пол\" И \"Возраст от 26-43 и 51-57 лет\" И \"Город Ярославль или Ростов\"</td>\n",
       "      <td>5</td>\n",
       "      <td>525</td>\n",
       "      <td>45.08</td>\n",
       "      <td>26.84</td>\n",
       "    </tr>\n",
       "  </tbody>\n",
       "</table>\n",
       "</div>"
      ],
      "text/plain": [
       "                                                                                                                                                   Сегмент  \\\n",
       "135  \"Не пустой баланс\" И \"Признак активности равен 1\" И \"Кредитный рейтинг от 807 до 926\" И \"Возраст от 26-43 и 51-57 лет\" И \"Город Ярославль или Ростов\"   \n",
       "93   \"Не пустой баланс\" И \"Признак активности равен 1\" И \"Мужской пол\" И \"Кредитный рейтинг от 807 до 926\"                                                   \n",
       "60   \"Признак активности равен 1\" И \"Мужской пол\" И \"Больше 3 баллов собственности\"                                                                          \n",
       "123  \"Признак активности равен 1\" И \"Больше 3 баллов собственности\" И \"Кредитный рейтинг от 807 до 926\" И \"Город Ярославль или Ростов\"                       \n",
       "101  \"Не пустой баланс\" И \"Признак активности равен 1\" И \"Кредитный рейтинг от 807 до 926\" И \"Возраст от 26-43 и 51-57 лет\"                                  \n",
       "96   \"Не пустой баланс\" И \"Признак активности равен 1\" И \"Нет кредитной карты\" И \"Возраст от 26-43 и 51-57 лет\"                                              \n",
       "124  \"Признак активности равен 1\" И \"Больше 3 баллов собственности\" И \"Возраст от 26-43 и 51-57 лет\" И \"Город Ярославль или Ростов\"                          \n",
       "67   \"Признак активности равен 1\" И \"Больше 3 баллов собственности\" И \"Кредитный рейтинг от 807 до 926\"                                                      \n",
       "102  \"Не пустой баланс\" И \"Признак активности равен 1\" И \"Кредитный рейтинг от 807 до 926\" И \"Город Ярославль или Ростов\"                                    \n",
       "132  \"Не пустой баланс\" И \"Признак активности равен 1\" И \"Мужской пол\" И \"Возраст от 26-43 и 51-57 лет\" И \"Город Ярославль или Ростов\"                       \n",
       "\n",
       "    Количество признаков Количество клиентов  Процент отточности сегмента  \\\n",
       "135  5                    505                 54.67                         \n",
       "93   4                    537                 52.98                         \n",
       "60   3                    533                 49.33                         \n",
       "123  4                    539                 49.20                         \n",
       "101  4                    853                 48.71                         \n",
       "96   4                    507                 48.11                         \n",
       "124  4                    531                 48.04                         \n",
       "67   3                    828                 45.63                         \n",
       "102  4                    922                 45.57                         \n",
       "132  5                    525                 45.08                         \n",
       "\n",
       "     Разница процента отточности базового и сегмента  \n",
       "135  36.43                                            \n",
       "93   34.74                                            \n",
       "60   31.09                                            \n",
       "123  30.96                                            \n",
       "101  30.47                                            \n",
       "96   29.87                                            \n",
       "124  29.80                                            \n",
       "67   27.39                                            \n",
       "102  27.33                                            \n",
       "132  26.84                                            "
      ]
     },
     "execution_count": 72,
     "metadata": {},
     "output_type": "execute_result"
    }
   ],
   "source": [
    "top_10_segments"
   ]
  },
  {
   "cell_type": "markdown",
   "id": "e2983361-c460-4ce1-aad1-836aae80fdd9",
   "metadata": {},
   "source": [
    "Всего найдено и выделено 115 уникальных сегментов отточных пользователей.  "
   ]
  },
  {
   "cell_type": "markdown",
   "id": "865da076-f0a1-4914-8c3d-d73894530a0d",
   "metadata": {},
   "source": [
    "# Итоговые выводы исследования <a id='conclusion'></a>"
   ]
  },
  {
   "cell_type": "markdown",
   "id": "c34c421d-5206-43a3-828d-6e7ab89bc53b",
   "metadata": {},
   "source": [
    "## Общие выводы исследования"
   ]
  },
  {
   "cell_type": "markdown",
   "id": "a11e3595-1532-473d-8cb3-9075df8fad55",
   "metadata": {},
   "source": [
    "В ходе проведения исследования оттока клиентов банка «Метанпром» на основе датасета заказчика были проведены [обзор данных датасета](#start), [предобработка данных](#prepare), [исследовательский анализ](#eda), проверка двух [статистических гипотез](#statistical_hypotheses), сделаны [промежуточные выводы](#outflow_intermediate_conclusions) и на их основе [сформированы наиболее отточные сегменты клиентов](#churn_search_algorithm).  \n",
    "\n",
    "В ходе [исследовательского анализа](#eda) была построена [матрица корреляций](#matrix), которая позволила установить, что с какими признаками коррелирует признак оттока.  \n",
    "По выявленным признакам были [построены распределения](#distribution), по которым были даны характеристики наиболее отточным клиентам в разрезе признаков.\n",
    "Построен [портрет клиента](#portrait) в разрезе оттока.\n",
    "\n",
    "Проверка [статистических гипотез](#statistical_hypotheses) позволила сделать выводы:\n",
    "- Доходы ушедших и действующих клиентов не отличаются;\n",
    "- В Ярославле и Ростове ушедших клиентов пропорционально больше, чем в Рыбинске.\n",
    "\n",
    "В ходе подведения [промежуточных выводов](#outflow_intermediate_conclusions) выделены признаки, которые легли в основу сегментации отточных клиентов:\n",
    "- Значение баланса не пустое;\n",
    "- С признаком активности;\n",
    "- Мужской пол;\n",
    "- Без кредитной карты;\n",
    "- С более чем 2 продуктами;\n",
    "- С 4-9 баллами собственности;\n",
    "- С кредитным рейтингом от 800 до 930;\n",
    "- В двух диапазонах возраста — 26-43 и 50-58 лет;\n",
    "- Проживают в Ярославле или Ростове.\n",
    "\n",
    "[Сформированы наиболее отточные сегменты клиентов](#churn_search_algorithm). В процессе формирования были изменены некоторые признаки отточности:\n",
    "- Диапазон кредитного рейтинга изменён с `от 800 до 930` на `от 807 до 926`;\n",
    "- Диапазон возраста изменён с `26-43 и 50-58 лет` на `26-43 и 51-57 лет`."
   ]
  },
  {
   "cell_type": "markdown",
   "id": "236c1ec6-7444-4257-8b64-08817ee60a13",
   "metadata": {},
   "source": [
    "## Список приоритезированных, наиболее отточных сегментов клиентов"
   ]
  },
  {
   "cell_type": "markdown",
   "id": "979d8b91-f65a-4331-a2f5-1af173cd7a83",
   "metadata": {},
   "source": [
    "Поскольку отдел маркетинга включает только двух работников, у которых нет автоматизированных систем, и все мероприятия, рассылки и агитации они будут выполнять ручным трудом, то сформировано только топ 10 по показателю отточности из 115 найденных сегментов с отточными клиентами.  \n",
    "Наиболее отточные сегменты приведены в списке ниже. Список приоритезирован по проценту отточности сегмента."
   ]
  },
  {
   "cell_type": "code",
   "execution_count": 73,
   "id": "36bda6f7-e168-45ad-be22-dfdb2acc5443",
   "metadata": {
    "tags": []
   },
   "outputs": [
    {
     "data": {
      "text/html": [
       "<div>\n",
       "<style scoped>\n",
       "    .dataframe tbody tr th:only-of-type {\n",
       "        vertical-align: middle;\n",
       "    }\n",
       "\n",
       "    .dataframe tbody tr th {\n",
       "        vertical-align: top;\n",
       "    }\n",
       "\n",
       "    .dataframe thead th {\n",
       "        text-align: right;\n",
       "    }\n",
       "</style>\n",
       "<table border=\"1\" class=\"dataframe\">\n",
       "  <thead>\n",
       "    <tr style=\"text-align: right;\">\n",
       "      <th></th>\n",
       "      <th>Сегмент</th>\n",
       "      <th>Количество признаков</th>\n",
       "      <th>Количество клиентов</th>\n",
       "      <th>Процент отточности сегмента</th>\n",
       "      <th>Разница процента отточности базового и сегмента</th>\n",
       "    </tr>\n",
       "  </thead>\n",
       "  <tbody>\n",
       "    <tr>\n",
       "      <th>135</th>\n",
       "      <td>\"Не пустой баланс\" И \"Признак активности равен 1\" И \"Кредитный рейтинг от 807 до 926\" И \"Возраст от 26-43 и 51-57 лет\" И \"Город Ярославль или Ростов\"</td>\n",
       "      <td>5</td>\n",
       "      <td>505</td>\n",
       "      <td>54.67</td>\n",
       "      <td>36.43</td>\n",
       "    </tr>\n",
       "    <tr>\n",
       "      <th>93</th>\n",
       "      <td>\"Не пустой баланс\" И \"Признак активности равен 1\" И \"Мужской пол\" И \"Кредитный рейтинг от 807 до 926\"</td>\n",
       "      <td>4</td>\n",
       "      <td>537</td>\n",
       "      <td>52.98</td>\n",
       "      <td>34.74</td>\n",
       "    </tr>\n",
       "    <tr>\n",
       "      <th>60</th>\n",
       "      <td>\"Признак активности равен 1\" И \"Мужской пол\" И \"Больше 3 баллов собственности\"</td>\n",
       "      <td>3</td>\n",
       "      <td>533</td>\n",
       "      <td>49.33</td>\n",
       "      <td>31.09</td>\n",
       "    </tr>\n",
       "    <tr>\n",
       "      <th>123</th>\n",
       "      <td>\"Признак активности равен 1\" И \"Больше 3 баллов собственности\" И \"Кредитный рейтинг от 807 до 926\" И \"Город Ярославль или Ростов\"</td>\n",
       "      <td>4</td>\n",
       "      <td>539</td>\n",
       "      <td>49.20</td>\n",
       "      <td>30.96</td>\n",
       "    </tr>\n",
       "    <tr>\n",
       "      <th>101</th>\n",
       "      <td>\"Не пустой баланс\" И \"Признак активности равен 1\" И \"Кредитный рейтинг от 807 до 926\" И \"Возраст от 26-43 и 51-57 лет\"</td>\n",
       "      <td>4</td>\n",
       "      <td>853</td>\n",
       "      <td>48.71</td>\n",
       "      <td>30.47</td>\n",
       "    </tr>\n",
       "    <tr>\n",
       "      <th>96</th>\n",
       "      <td>\"Не пустой баланс\" И \"Признак активности равен 1\" И \"Нет кредитной карты\" И \"Возраст от 26-43 и 51-57 лет\"</td>\n",
       "      <td>4</td>\n",
       "      <td>507</td>\n",
       "      <td>48.11</td>\n",
       "      <td>29.87</td>\n",
       "    </tr>\n",
       "    <tr>\n",
       "      <th>124</th>\n",
       "      <td>\"Признак активности равен 1\" И \"Больше 3 баллов собственности\" И \"Возраст от 26-43 и 51-57 лет\" И \"Город Ярославль или Ростов\"</td>\n",
       "      <td>4</td>\n",
       "      <td>531</td>\n",
       "      <td>48.04</td>\n",
       "      <td>29.80</td>\n",
       "    </tr>\n",
       "    <tr>\n",
       "      <th>67</th>\n",
       "      <td>\"Признак активности равен 1\" И \"Больше 3 баллов собственности\" И \"Кредитный рейтинг от 807 до 926\"</td>\n",
       "      <td>3</td>\n",
       "      <td>828</td>\n",
       "      <td>45.63</td>\n",
       "      <td>27.39</td>\n",
       "    </tr>\n",
       "    <tr>\n",
       "      <th>102</th>\n",
       "      <td>\"Не пустой баланс\" И \"Признак активности равен 1\" И \"Кредитный рейтинг от 807 до 926\" И \"Город Ярославль или Ростов\"</td>\n",
       "      <td>4</td>\n",
       "      <td>922</td>\n",
       "      <td>45.57</td>\n",
       "      <td>27.33</td>\n",
       "    </tr>\n",
       "    <tr>\n",
       "      <th>132</th>\n",
       "      <td>\"Не пустой баланс\" И \"Признак активности равен 1\" И \"Мужской пол\" И \"Возраст от 26-43 и 51-57 лет\" И \"Город Ярославль или Ростов\"</td>\n",
       "      <td>5</td>\n",
       "      <td>525</td>\n",
       "      <td>45.08</td>\n",
       "      <td>26.84</td>\n",
       "    </tr>\n",
       "  </tbody>\n",
       "</table>\n",
       "</div>"
      ],
      "text/plain": [
       "                                                                                                                                                   Сегмент  \\\n",
       "135  \"Не пустой баланс\" И \"Признак активности равен 1\" И \"Кредитный рейтинг от 807 до 926\" И \"Возраст от 26-43 и 51-57 лет\" И \"Город Ярославль или Ростов\"   \n",
       "93   \"Не пустой баланс\" И \"Признак активности равен 1\" И \"Мужской пол\" И \"Кредитный рейтинг от 807 до 926\"                                                   \n",
       "60   \"Признак активности равен 1\" И \"Мужской пол\" И \"Больше 3 баллов собственности\"                                                                          \n",
       "123  \"Признак активности равен 1\" И \"Больше 3 баллов собственности\" И \"Кредитный рейтинг от 807 до 926\" И \"Город Ярославль или Ростов\"                       \n",
       "101  \"Не пустой баланс\" И \"Признак активности равен 1\" И \"Кредитный рейтинг от 807 до 926\" И \"Возраст от 26-43 и 51-57 лет\"                                  \n",
       "96   \"Не пустой баланс\" И \"Признак активности равен 1\" И \"Нет кредитной карты\" И \"Возраст от 26-43 и 51-57 лет\"                                              \n",
       "124  \"Признак активности равен 1\" И \"Больше 3 баллов собственности\" И \"Возраст от 26-43 и 51-57 лет\" И \"Город Ярославль или Ростов\"                          \n",
       "67   \"Признак активности равен 1\" И \"Больше 3 баллов собственности\" И \"Кредитный рейтинг от 807 до 926\"                                                      \n",
       "102  \"Не пустой баланс\" И \"Признак активности равен 1\" И \"Кредитный рейтинг от 807 до 926\" И \"Город Ярославль или Ростов\"                                    \n",
       "132  \"Не пустой баланс\" И \"Признак активности равен 1\" И \"Мужской пол\" И \"Возраст от 26-43 и 51-57 лет\" И \"Город Ярославль или Ростов\"                       \n",
       "\n",
       "    Количество признаков Количество клиентов  Процент отточности сегмента  \\\n",
       "135  5                    505                 54.67                         \n",
       "93   4                    537                 52.98                         \n",
       "60   3                    533                 49.33                         \n",
       "123  4                    539                 49.20                         \n",
       "101  4                    853                 48.71                         \n",
       "96   4                    507                 48.11                         \n",
       "124  4                    531                 48.04                         \n",
       "67   3                    828                 45.63                         \n",
       "102  4                    922                 45.57                         \n",
       "132  5                    525                 45.08                         \n",
       "\n",
       "     Разница процента отточности базового и сегмента  \n",
       "135  36.43                                            \n",
       "93   34.74                                            \n",
       "60   31.09                                            \n",
       "123  30.96                                            \n",
       "101  30.47                                            \n",
       "96   29.87                                            \n",
       "124  29.80                                            \n",
       "67   27.39                                            \n",
       "102  27.33                                            \n",
       "132  26.84                                            "
      ]
     },
     "execution_count": 73,
     "metadata": {},
     "output_type": "execute_result"
    }
   ],
   "source": [
    "top_10_segments"
   ]
  },
  {
   "cell_type": "markdown",
   "id": "349ff064-7f9b-402b-ad63-7a937c559197",
   "metadata": {},
   "source": [
    "В случае, если у отдела маркетинга найдётся больше ресурсов для взаимодействия с клиентами из отточных сегментов, то после обработки клиентов из топ 10 отточных сегментов в работу можно будет взять следующие по приоритету оттока сегменты из датафрейма `segments`."
   ]
  },
  {
   "cell_type": "markdown",
   "id": "5c5e130a-0696-4d2e-bd7f-82cf2d172555",
   "metadata": {},
   "source": [
    "## Таргетированные по сегментам рекомендации для снижения оттока"
   ]
  },
  {
   "cell_type": "markdown",
   "id": "7edc78fe-ed39-4da6-85d4-f37fd8a10756",
   "metadata": {},
   "source": [
    "Для пяти самых приоритетных по проценту оттока сегментов предлагаются следующие таргетированные рекомендации для снижения оттока:"
   ]
  },
  {
   "cell_type": "markdown",
   "id": "4f8a5e38-f7c0-4c07-99a8-c1ca415d4465",
   "metadata": {},
   "source": [
    "|#|Сегмент|Рекомендация|\n",
    "|-|----------|----------|\n",
    "|1|\"Не пустой баланс\" И \"Признак активности равен 1\" И \"Кредитный рейтинг от 807 до 926\" И \"Возраст от 26-43 и 51-57 лет\" И \"Город Ярославль или Ростов\"|Предоставить клиентам банка льготные условия автокредитования при покупке автомобилей марок Toyota, LADA и Nissan в автосалонах городов Ярославль и Ростов. Поскольку согласно [исследованию аналитического агентства «АвтоСТАТ»](https://avtonovostidnya.ru/samye/na-kakih-avtomobilyah-ezdyat-lyudi-srednego-vozrasta-v-rossii) это самые популярные марки автомобилей у россиян в возрасте от 36 до 55 лет|\n",
    "|2|\"Не пустой баланс\" И \"Признак активности равен 1\" И \"Мужской пол\" И \"Кредитный рейтинг от 807 до 926\"|Совместно с сетью магазинов с охотничьим и рыболовным снаряжением провести акцию по предоставлению скидки на ассортимент магазинов для клиентов банка. А также предоставить возможность взять беспроцентную рассрочку на ассортимент данных магазинов|\n",
    "|3|\"Признак активности равен 1\" И \"Мужской пол\" И \"Больше 3 баллов собственности\"|Предоставить клиентам банка льготные условия ипотечного кредитования|\n",
    "|4|\"Признак активности равен 1\" И \"Больше 3 баллов собственности\" И \"Кредитный рейтинг от 807 до 926\" И \"Город Ярославль или Ростов\"|Предоставить клиентам банка льготные условия ипотечного кредитования в Ярославле и Ростове|\n",
    "|5|\"Не пустой баланс\" И \"Признак активности равен 1\" И \"Кредитный рейтинг от 807 до 926\" И \"Возраст от 26-43 и 51-57 лет\"|Предоставить клиентам банка беспроцентную рассрочку на бронирование семейных отелей и пансионатов|"
   ]
  },
  {
   "cell_type": "markdown",
   "id": "97344ac8-ffa8-4b1b-998c-f1745b6218eb",
   "metadata": {},
   "source": [
    "[К сожержанию](#content)"
   ]
  }
 ],
 "metadata": {
  "kernelspec": {
   "display_name": "Python 3 (ipykernel)",
   "language": "python",
   "name": "python3"
  },
  "language_info": {
   "codemirror_mode": {
    "name": "ipython",
    "version": 3
   },
   "file_extension": ".py",
   "mimetype": "text/x-python",
   "name": "python",
   "nbconvert_exporter": "python",
   "pygments_lexer": "ipython3",
   "version": "3.9.17"
  },
  "toc": {
   "base_numbering": 1,
   "nav_menu": {},
   "number_sections": true,
   "sideBar": true,
   "skip_h1_title": true,
   "title_cell": "Table of Contents",
   "title_sidebar": "Contents",
   "toc_cell": false,
   "toc_position": {},
   "toc_section_display": true,
   "toc_window_display": false
  },
  "toc-autonumbering": true
 },
 "nbformat": 4,
 "nbformat_minor": 5
}
