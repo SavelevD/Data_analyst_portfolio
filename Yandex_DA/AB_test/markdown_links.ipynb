{
 "cells": [
  {
   "cell_type": "markdown",
   "metadata": {},
   "source": [
    "- *[jump to code cell 2](#cell2)\n",
    "- *[jump to code cell 3](#cell3)\n",
    "- *[jump to code cell 4](#cell4)\n",
    "- [Section jump](#Section)\n",
    "- [Section with space jump](#Section-with-space)"
   ]
  },
  {
   "cell_type": "markdown",
   "metadata": {},
   "source": [
    "- Test markdown\n",
    "- Test markdown\n",
    "- Test markdown\n",
    "- Test markdown\n",
    "- Test markdown\n",
    "- Test markdown\n",
    "- Test markdown\n",
    "- Test markdown\n",
    "- Test markdown\n",
    "- Test markdown\n",
    "- Test markdown\n",
    "- Test markdown\n",
    "- Test markdown\n",
    "- Test markdown\n",
    "- Test markdown\n",
    "- Test markdown\n",
    "- Test markdown\n",
    "- Test markdown\n",
    "- Test markdown\n",
    "- Test markdown\n",
    "- Test markdown\n",
    "- Test markdown\n",
    "- Test markdown\n",
    "- Test markdown\n",
    "- Test markdown\n",
    "- Test markdown\n",
    "- Test markdown\n",
    "- Test markdown\n",
    "- Test markdown\n",
    "- Test markdown\n",
    "- Test markdown\n",
    "- Test markdown\n",
    "- Test markdown\n",
    "- Test markdown\n",
    "- Test markdown\n",
    "- Test markdown\n",
    "- Test markdown\n",
    "- Test markdown\n",
    "- Test markdown\n",
    "- Test markdown\n",
    "- Test markdown\n",
    "- Test markdown\n",
    "- Test markdown\n",
    "- Test markdown\n",
    "- Test markdown\n",
    "- Test markdown\n",
    "- Test markdown\n",
    "- Test markdown\n",
    "- Test markdown\n",
    "- Test markdown\n",
    "- Test markdown\n",
    "- Test markdown\n",
    "- Test markdown\n",
    "- Test markdown\n",
    "- Test markdown\n",
    "- Test markdown\n",
    "- Test markdown\n",
    "- Test markdown\n",
    "- Test markdown\n",
    "- Test markdown\n",
    "- Test markdown\n",
    "- Test markdown\n",
    "- Test markdown\n",
    "- Test markdown\n"
   ]
  },
  {
   "cell_type": "markdown",
   "metadata": {},
   "source": [
    "CELL 2\n",
    "<a id=\"cell2\"></a>"
   ]
  },
  {
   "cell_type": "code",
   "execution_count": 1,
   "metadata": {},
   "outputs": [
    {
     "name": "stdout",
     "output_type": "stream",
     "text": [
      "1\n"
     ]
    }
   ],
   "source": [
    "print(1)"
   ]
  },
  {
   "cell_type": "markdown",
   "metadata": {},
   "source": [
    "CELL 3\n",
    "<a id=\"cell3\"></a>"
   ]
  },
  {
   "cell_type": "code",
   "execution_count": 1,
   "metadata": {},
   "outputs": [
    {
     "name": "stdout",
     "output_type": "stream",
     "text": [
      "2\n"
     ]
    }
   ],
   "source": [
    "print(2)"
   ]
  },
  {
   "cell_type": "markdown",
   "metadata": {},
   "source": [
    "## Section"
   ]
  },
  {
   "cell_type": "markdown",
   "metadata": {},
   "source": [
    "## Section with space"
   ]
  }
 ],
 "metadata": {
  "interpreter": {
   "hash": "5e8eefcd3fe358d9c8f573088a953aaf26c823c16859eee39d47a8065f309cbc"
  },
  "kernelspec": {
   "display_name": "Python 3 (ipykernel)",
   "language": "python",
   "name": "python3"
  },
  "language_info": {
   "codemirror_mode": {
    "name": "ipython",
    "version": 3
   },
   "file_extension": ".py",
   "mimetype": "text/x-python",
   "name": "python",
   "nbconvert_exporter": "python",
   "pygments_lexer": "ipython3",
   "version": "3.10.3"
  }
 },
 "nbformat": 4,
 "nbformat_minor": 2
}
