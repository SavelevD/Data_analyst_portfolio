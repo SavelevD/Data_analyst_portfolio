{
 "cells": [
  {
   "cell_type": "markdown",
   "id": "69b72cfc-ee4e-452f-b7aa-d4b620072e59",
   "metadata": {},
   "source": [
    "<font size=\"+4\">Анализ A/B-теста интернет-магазина</font>\n",
    "\n",
    "<font size=\"+2\">Легенда и описание проекта</font>\n",
    "\n",
    "Роль на проекте — аналитик крупного интернет-магазина.  \n",
    "На проекте проводится A/B-тест.  \n",
    "Необходимо проанализировать два датасета: с заказами пользователей и количеством посещений пользователей. И принять решение об остановке или продолжении A/B-теста.  \n",
    "Данные собраны за август 2019 года.  \n",
    "\n",
    "<font size=\"+2\">Цель исследования</font>\n",
    "- Выяснить есть ли различия по среднему количеству закзов и среднему чеку между группами.\n",
    "\n",
    "<font size=\"+2\">Задачи исследования</font>\n",
    "- Провести исследовательский анализ;\n",
    "- Построить графики:\n",
    "    - кумулятивной выручки по группам;\n",
    "    - кумулятивного среднего чека по группам;\n",
    "    - относительного изменения кумулятивного среднего чека группы B к группе A;\n",
    "    - кумулятивного среднего количества заказов на посетителя по группам;\n",
    "    - относительного изменения кумулятивного среднего количества заказов на посетителя группы B к группе A;\n",
    "    - точечный график количества заказов по пользователям;\n",
    "    - точечный график стоимостей заказов.\n",
    "- Посчитать статистическую значимость различий:\n",
    "    - в среднем количестве заказов на посетителя между группами;\n",
    "    - в среднем чеке заказа между группами.\n",
    "- Принять одно из решений по результатам теста:\n",
    "    - остановить тест, зафиксировать победу одной из групп;\n",
    "    - остановить тест, зафиксировать отсутствие различий между группами;\n",
    "    - продолжить тест.\n",
    "\n",
    "<font size=\"+2\">Содержание</font>\n",
    "\n",
    "- [Обзор данных с результатами A/B-теста](#start)  \n",
    "- [Графики кумулятивных данных](#cumulative_graphs)  \n",
    "- [Анализ выбросов и всплесков](#spikes)  \n",
    "- [Подсчёт статистической значимости](#statistical_significance)  \n",
    "- [Решение по результатам теста](#decision)  \n",
    "- [Общий вывод по результатам анализа A/B-теста](#общий_вывод)"
   ]
  },
  {
   "cell_type": "markdown",
   "id": "c4b4289b-137e-4a4b-b789-48d492f42604",
   "metadata": {},
   "source": [
    "# Обзор данных с результатами A/B-теста <a id='start'></a>"
   ]
  },
  {
   "cell_type": "markdown",
   "id": "6db0c6e2-0834-4456-8fbf-5244424c222a",
   "metadata": {},
   "source": [
    "## Датасет с заказами пользователей <a id='orders_df'></a>\n",
    "Загрузим файл, где содержатся данные с заказами пользователей:"
   ]
  },
  {
   "cell_type": "code",
   "execution_count": 1,
   "id": "992bbe8c-be60-472e-a2cc-b7a0c4ea2f88",
   "metadata": {},
   "outputs": [],
   "source": [
    "import pandas as pd\n",
    "import datetime as dt\n",
    "import numpy as np\n",
    "import matplotlib.pyplot as plt\n",
    "import scipy.stats as stats"
   ]
  },
  {
   "cell_type": "code",
   "execution_count": 2,
   "id": "6c5119fa-53be-4f05-81d8-e42db926cae1",
   "metadata": {},
   "outputs": [],
   "source": [
    "try:\n",
    "    orders = pd.read_csv('datasets/orders.csv')\n",
    "except:\n",
    "    orders = pd.read_csv('https://code.s3.yandex.net/datasets/orders.csv')"
   ]
  },
  {
   "cell_type": "code",
   "execution_count": 3,
   "id": "23692fd4-e38c-4b52-9b74-52b7ba3ee4f2",
   "metadata": {},
   "outputs": [
    {
     "data": {
      "text/html": [
       "<div>\n",
       "<style scoped>\n",
       "    .dataframe tbody tr th:only-of-type {\n",
       "        vertical-align: middle;\n",
       "    }\n",
       "\n",
       "    .dataframe tbody tr th {\n",
       "        vertical-align: top;\n",
       "    }\n",
       "\n",
       "    .dataframe thead th {\n",
       "        text-align: right;\n",
       "    }\n",
       "</style>\n",
       "<table border=\"1\" class=\"dataframe\">\n",
       "  <thead>\n",
       "    <tr style=\"text-align: right;\">\n",
       "      <th></th>\n",
       "      <th>transactionId</th>\n",
       "      <th>visitorId</th>\n",
       "      <th>date</th>\n",
       "      <th>revenue</th>\n",
       "      <th>group</th>\n",
       "    </tr>\n",
       "  </thead>\n",
       "  <tbody>\n",
       "    <tr>\n",
       "      <th>0</th>\n",
       "      <td>3667963787</td>\n",
       "      <td>3312258926</td>\n",
       "      <td>2019-08-15</td>\n",
       "      <td>1650</td>\n",
       "      <td>B</td>\n",
       "    </tr>\n",
       "    <tr>\n",
       "      <th>1</th>\n",
       "      <td>2804400009</td>\n",
       "      <td>3642806036</td>\n",
       "      <td>2019-08-15</td>\n",
       "      <td>730</td>\n",
       "      <td>B</td>\n",
       "    </tr>\n",
       "    <tr>\n",
       "      <th>2</th>\n",
       "      <td>2961555356</td>\n",
       "      <td>4069496402</td>\n",
       "      <td>2019-08-15</td>\n",
       "      <td>400</td>\n",
       "      <td>A</td>\n",
       "    </tr>\n",
       "    <tr>\n",
       "      <th>3</th>\n",
       "      <td>3797467345</td>\n",
       "      <td>1196621759</td>\n",
       "      <td>2019-08-15</td>\n",
       "      <td>9759</td>\n",
       "      <td>B</td>\n",
       "    </tr>\n",
       "    <tr>\n",
       "      <th>4</th>\n",
       "      <td>2282983706</td>\n",
       "      <td>2322279887</td>\n",
       "      <td>2019-08-15</td>\n",
       "      <td>2308</td>\n",
       "      <td>B</td>\n",
       "    </tr>\n",
       "    <tr>\n",
       "      <th>5</th>\n",
       "      <td>182168103</td>\n",
       "      <td>935554773</td>\n",
       "      <td>2019-08-15</td>\n",
       "      <td>2210</td>\n",
       "      <td>B</td>\n",
       "    </tr>\n",
       "    <tr>\n",
       "      <th>6</th>\n",
       "      <td>398296753</td>\n",
       "      <td>2900797465</td>\n",
       "      <td>2019-08-15</td>\n",
       "      <td>1860</td>\n",
       "      <td>B</td>\n",
       "    </tr>\n",
       "    <tr>\n",
       "      <th>7</th>\n",
       "      <td>2626614568</td>\n",
       "      <td>78758296</td>\n",
       "      <td>2019-08-15</td>\n",
       "      <td>1044</td>\n",
       "      <td>A</td>\n",
       "    </tr>\n",
       "    <tr>\n",
       "      <th>8</th>\n",
       "      <td>1576988021</td>\n",
       "      <td>295230930</td>\n",
       "      <td>2019-08-15</td>\n",
       "      <td>13710</td>\n",
       "      <td>A</td>\n",
       "    </tr>\n",
       "    <tr>\n",
       "      <th>9</th>\n",
       "      <td>1506739906</td>\n",
       "      <td>1882260405</td>\n",
       "      <td>2019-08-15</td>\n",
       "      <td>1855</td>\n",
       "      <td>B</td>\n",
       "    </tr>\n",
       "  </tbody>\n",
       "</table>\n",
       "</div>"
      ],
      "text/plain": [
       "   transactionId   visitorId        date  revenue group\n",
       "0     3667963787  3312258926  2019-08-15     1650     B\n",
       "1     2804400009  3642806036  2019-08-15      730     B\n",
       "2     2961555356  4069496402  2019-08-15      400     A\n",
       "3     3797467345  1196621759  2019-08-15     9759     B\n",
       "4     2282983706  2322279887  2019-08-15     2308     B\n",
       "5      182168103   935554773  2019-08-15     2210     B\n",
       "6      398296753  2900797465  2019-08-15     1860     B\n",
       "7     2626614568    78758296  2019-08-15     1044     A\n",
       "8     1576988021   295230930  2019-08-15    13710     A\n",
       "9     1506739906  1882260405  2019-08-15     1855     B"
      ]
     },
     "execution_count": 3,
     "metadata": {},
     "output_type": "execute_result"
    }
   ],
   "source": [
    "orders.head(10)  # Вывод первых 10 строк для первичного ознакомления с датасетом"
   ]
  },
  {
   "cell_type": "code",
   "execution_count": 4,
   "id": "eff0fda2-c0bd-452e-8225-0ae5db398ad0",
   "metadata": {},
   "outputs": [
    {
     "data": {
      "text/html": [
       "<div>\n",
       "<style scoped>\n",
       "    .dataframe tbody tr th:only-of-type {\n",
       "        vertical-align: middle;\n",
       "    }\n",
       "\n",
       "    .dataframe tbody tr th {\n",
       "        vertical-align: top;\n",
       "    }\n",
       "\n",
       "    .dataframe thead th {\n",
       "        text-align: right;\n",
       "    }\n",
       "</style>\n",
       "<table border=\"1\" class=\"dataframe\">\n",
       "  <thead>\n",
       "    <tr style=\"text-align: right;\">\n",
       "      <th></th>\n",
       "      <th>transactionId</th>\n",
       "      <th>visitorId</th>\n",
       "      <th>date</th>\n",
       "      <th>revenue</th>\n",
       "      <th>group</th>\n",
       "    </tr>\n",
       "  </thead>\n",
       "  <tbody>\n",
       "    <tr>\n",
       "      <th>1187</th>\n",
       "      <td>2274188238</td>\n",
       "      <td>132143192</td>\n",
       "      <td>2019-08-14</td>\n",
       "      <td>750</td>\n",
       "      <td>A</td>\n",
       "    </tr>\n",
       "    <tr>\n",
       "      <th>1188</th>\n",
       "      <td>1692103379</td>\n",
       "      <td>1022829655</td>\n",
       "      <td>2019-08-14</td>\n",
       "      <td>112</td>\n",
       "      <td>A</td>\n",
       "    </tr>\n",
       "    <tr>\n",
       "      <th>1189</th>\n",
       "      <td>4082620617</td>\n",
       "      <td>393266494</td>\n",
       "      <td>2019-08-14</td>\n",
       "      <td>31550</td>\n",
       "      <td>B</td>\n",
       "    </tr>\n",
       "    <tr>\n",
       "      <th>1190</th>\n",
       "      <td>38478481</td>\n",
       "      <td>1197745035</td>\n",
       "      <td>2019-08-14</td>\n",
       "      <td>8600</td>\n",
       "      <td>B</td>\n",
       "    </tr>\n",
       "    <tr>\n",
       "      <th>1191</th>\n",
       "      <td>3592955527</td>\n",
       "      <td>608641596</td>\n",
       "      <td>2019-08-14</td>\n",
       "      <td>16490</td>\n",
       "      <td>B</td>\n",
       "    </tr>\n",
       "    <tr>\n",
       "      <th>1192</th>\n",
       "      <td>2662137336</td>\n",
       "      <td>3733762160</td>\n",
       "      <td>2019-08-14</td>\n",
       "      <td>6490</td>\n",
       "      <td>B</td>\n",
       "    </tr>\n",
       "    <tr>\n",
       "      <th>1193</th>\n",
       "      <td>2203539145</td>\n",
       "      <td>370388673</td>\n",
       "      <td>2019-08-14</td>\n",
       "      <td>3190</td>\n",
       "      <td>A</td>\n",
       "    </tr>\n",
       "    <tr>\n",
       "      <th>1194</th>\n",
       "      <td>1807773912</td>\n",
       "      <td>573423106</td>\n",
       "      <td>2019-08-14</td>\n",
       "      <td>10550</td>\n",
       "      <td>A</td>\n",
       "    </tr>\n",
       "    <tr>\n",
       "      <th>1195</th>\n",
       "      <td>1947021204</td>\n",
       "      <td>1614305549</td>\n",
       "      <td>2019-08-14</td>\n",
       "      <td>100</td>\n",
       "      <td>A</td>\n",
       "    </tr>\n",
       "    <tr>\n",
       "      <th>1196</th>\n",
       "      <td>3936777065</td>\n",
       "      <td>2108080724</td>\n",
       "      <td>2019-08-15</td>\n",
       "      <td>202740</td>\n",
       "      <td>B</td>\n",
       "    </tr>\n",
       "  </tbody>\n",
       "</table>\n",
       "</div>"
      ],
      "text/plain": [
       "      transactionId   visitorId        date  revenue group\n",
       "1187     2274188238   132143192  2019-08-14      750     A\n",
       "1188     1692103379  1022829655  2019-08-14      112     A\n",
       "1189     4082620617   393266494  2019-08-14    31550     B\n",
       "1190       38478481  1197745035  2019-08-14     8600     B\n",
       "1191     3592955527   608641596  2019-08-14    16490     B\n",
       "1192     2662137336  3733762160  2019-08-14     6490     B\n",
       "1193     2203539145   370388673  2019-08-14     3190     A\n",
       "1194     1807773912   573423106  2019-08-14    10550     A\n",
       "1195     1947021204  1614305549  2019-08-14      100     A\n",
       "1196     3936777065  2108080724  2019-08-15   202740     B"
      ]
     },
     "execution_count": 4,
     "metadata": {},
     "output_type": "execute_result"
    }
   ],
   "source": [
    "orders.tail(10)  # Вывод последних 10 строк для первичного ознакомления с датасетом"
   ]
  },
  {
   "cell_type": "markdown",
   "id": "7e80c090-8ff0-4e3e-abc3-01036eb4865b",
   "metadata": {},
   "source": [
    "Судя по первым и последним 10 записям датасета orders, данные соотносятся с целями анализа. Данных для анализа достаточно."
   ]
  },
  {
   "cell_type": "markdown",
   "id": "8433b0e0-7fed-4a10-9fb6-95a7af6c39ff",
   "metadata": {},
   "source": [
    "### Описание столбцов orders\n",
    "- **transactionId** — идентификатор заказа;\n",
    "- **visitorId** — идентификатор пользователя, совершившего заказ;\n",
    "- **date** — дата, когда был совершён заказ;\n",
    "- **revenue** — выручка заказа;\n",
    "- **group** — группа A/B-теста, в которую попал заказ."
   ]
  },
  {
   "cell_type": "markdown",
   "id": "7170628c-ba8c-479a-a5a5-0225988e88b9",
   "metadata": {},
   "source": [
    "### Изучение типов данных в orders"
   ]
  },
  {
   "cell_type": "code",
   "execution_count": 5,
   "id": "9c1ae15c-9841-4fc0-9c42-662e4b137aad",
   "metadata": {},
   "outputs": [
    {
     "name": "stdout",
     "output_type": "stream",
     "text": [
      "<class 'pandas.core.frame.DataFrame'>\n",
      "RangeIndex: 1197 entries, 0 to 1196\n",
      "Data columns (total 5 columns):\n",
      " #   Column         Non-Null Count  Dtype \n",
      "---  ------         --------------  ----- \n",
      " 0   transactionId  1197 non-null   int64 \n",
      " 1   visitorId      1197 non-null   int64 \n",
      " 2   date           1197 non-null   object\n",
      " 3   revenue        1197 non-null   int64 \n",
      " 4   group          1197 non-null   object\n",
      "dtypes: int64(3), object(2)\n",
      "memory usage: 46.9+ KB\n"
     ]
    }
   ],
   "source": [
    "orders.info()"
   ]
  },
  {
   "cell_type": "code",
   "execution_count": 6,
   "id": "d8182ace-e72d-48d0-9bd4-57b08d14d919",
   "metadata": {},
   "outputs": [
    {
     "data": {
      "text/plain": [
       "0"
      ]
     },
     "execution_count": 6,
     "metadata": {},
     "output_type": "execute_result"
    }
   ],
   "source": [
    "orders.duplicated().sum()  # Поиск явных дубликатов"
   ]
  },
  {
   "cell_type": "markdown",
   "id": "f78779a0-c582-4ffa-9c6a-e1b6992246b8",
   "metadata": {},
   "source": [
    "Необходимо:\n",
    "- преобразовать тип столбца *date* из *object* в *datetime64*.  \n",
    "- привести названия столбцов к стилю snake_case.\n",
    "\n",
    "Остальные типы данных в датафрейме корректны."
   ]
  },
  {
   "cell_type": "markdown",
   "id": "54f2116c-66d4-468a-8d45-8449407143e8",
   "metadata": {},
   "source": [
    "### Переименование столбцов"
   ]
  },
  {
   "cell_type": "code",
   "execution_count": 7,
   "id": "eaa1ce84-4e1c-4a4a-b83f-56e327771776",
   "metadata": {},
   "outputs": [
    {
     "data": {
      "text/plain": [
       "Index(['transaction_id', 'visitor_id', 'date', 'revenue', 'group'], dtype='object')"
      ]
     },
     "execution_count": 7,
     "metadata": {},
     "output_type": "execute_result"
    }
   ],
   "source": [
    "orders = orders.rename(columns={'transactionId': 'transaction_id',\n",
    "                                'visitorId': 'visitor_id'\n",
    "                               })\n",
    "orders.columns  # Вывод названий столбцов датафрейма для проверки результата"
   ]
  },
  {
   "cell_type": "markdown",
   "id": "4f344561-cee5-404d-9bce-750ecb5be864",
   "metadata": {},
   "source": [
    "Cтолбцы успешно приведены к snake_case."
   ]
  },
  {
   "cell_type": "markdown",
   "id": "6c36bf3f-4cb8-4089-9e27-b45181f836b0",
   "metadata": {},
   "source": [
    "### Преобразование типов"
   ]
  },
  {
   "cell_type": "code",
   "execution_count": 8,
   "id": "d3242d4c-b590-48ee-8a0d-739be14e3132",
   "metadata": {},
   "outputs": [
    {
     "name": "stdout",
     "output_type": "stream",
     "text": [
      "<class 'pandas.core.frame.DataFrame'>\n",
      "RangeIndex: 1197 entries, 0 to 1196\n",
      "Data columns (total 5 columns):\n",
      " #   Column          Non-Null Count  Dtype         \n",
      "---  ------          --------------  -----         \n",
      " 0   transaction_id  1197 non-null   int64         \n",
      " 1   visitor_id      1197 non-null   int64         \n",
      " 2   date            1197 non-null   datetime64[ns]\n",
      " 3   revenue         1197 non-null   int64         \n",
      " 4   group           1197 non-null   object        \n",
      "dtypes: datetime64[ns](1), int64(3), object(1)\n",
      "memory usage: 46.9+ KB\n"
     ]
    }
   ],
   "source": [
    "orders['date'] = orders['date'].map(\n",
    "    lambda x: dt.datetime.strptime(x, '%Y-%m-%d')\n",
    ")\n",
    "orders.info()"
   ]
  },
  {
   "cell_type": "markdown",
   "id": "689c0320-cc1e-41c1-9c75-0871c121658b",
   "metadata": {},
   "source": [
    "Тип столбца *date* успешно изменён с *object* на *datetime64*."
   ]
  },
  {
   "cell_type": "markdown",
   "id": "65a89418-659a-4a2d-ad90-45f40984fa82",
   "metadata": {},
   "source": [
    "## Датасет с количеством посещений пользователей <a id='visitors_df'></a>\n",
    "Загрузим файл, где содержатся данные с количеством посещений пользователей:"
   ]
  },
  {
   "cell_type": "code",
   "execution_count": 9,
   "id": "9ddf18a0-b3c6-485f-9fc2-c31e54306438",
   "metadata": {},
   "outputs": [],
   "source": [
    "try:\n",
    "    visitors = pd.read_csv('datasets/visitors.csv')\n",
    "except:\n",
    "    visitors = pd.read_csv('https://code.s3.yandex.net/datasets/visitors.csv')"
   ]
  },
  {
   "cell_type": "code",
   "execution_count": 10,
   "id": "3cf0d98d-be50-46ed-a859-b1dd74137175",
   "metadata": {},
   "outputs": [
    {
     "data": {
      "text/html": [
       "<div>\n",
       "<style scoped>\n",
       "    .dataframe tbody tr th:only-of-type {\n",
       "        vertical-align: middle;\n",
       "    }\n",
       "\n",
       "    .dataframe tbody tr th {\n",
       "        vertical-align: top;\n",
       "    }\n",
       "\n",
       "    .dataframe thead th {\n",
       "        text-align: right;\n",
       "    }\n",
       "</style>\n",
       "<table border=\"1\" class=\"dataframe\">\n",
       "  <thead>\n",
       "    <tr style=\"text-align: right;\">\n",
       "      <th></th>\n",
       "      <th>date</th>\n",
       "      <th>group</th>\n",
       "      <th>visitors</th>\n",
       "    </tr>\n",
       "  </thead>\n",
       "  <tbody>\n",
       "    <tr>\n",
       "      <th>0</th>\n",
       "      <td>2019-08-01</td>\n",
       "      <td>A</td>\n",
       "      <td>719</td>\n",
       "    </tr>\n",
       "    <tr>\n",
       "      <th>1</th>\n",
       "      <td>2019-08-02</td>\n",
       "      <td>A</td>\n",
       "      <td>619</td>\n",
       "    </tr>\n",
       "    <tr>\n",
       "      <th>2</th>\n",
       "      <td>2019-08-03</td>\n",
       "      <td>A</td>\n",
       "      <td>507</td>\n",
       "    </tr>\n",
       "    <tr>\n",
       "      <th>3</th>\n",
       "      <td>2019-08-04</td>\n",
       "      <td>A</td>\n",
       "      <td>717</td>\n",
       "    </tr>\n",
       "    <tr>\n",
       "      <th>4</th>\n",
       "      <td>2019-08-05</td>\n",
       "      <td>A</td>\n",
       "      <td>756</td>\n",
       "    </tr>\n",
       "    <tr>\n",
       "      <th>5</th>\n",
       "      <td>2019-08-06</td>\n",
       "      <td>A</td>\n",
       "      <td>667</td>\n",
       "    </tr>\n",
       "    <tr>\n",
       "      <th>6</th>\n",
       "      <td>2019-08-07</td>\n",
       "      <td>A</td>\n",
       "      <td>644</td>\n",
       "    </tr>\n",
       "    <tr>\n",
       "      <th>7</th>\n",
       "      <td>2019-08-08</td>\n",
       "      <td>A</td>\n",
       "      <td>610</td>\n",
       "    </tr>\n",
       "    <tr>\n",
       "      <th>8</th>\n",
       "      <td>2019-08-09</td>\n",
       "      <td>A</td>\n",
       "      <td>617</td>\n",
       "    </tr>\n",
       "    <tr>\n",
       "      <th>9</th>\n",
       "      <td>2019-08-10</td>\n",
       "      <td>A</td>\n",
       "      <td>406</td>\n",
       "    </tr>\n",
       "  </tbody>\n",
       "</table>\n",
       "</div>"
      ],
      "text/plain": [
       "         date group  visitors\n",
       "0  2019-08-01     A       719\n",
       "1  2019-08-02     A       619\n",
       "2  2019-08-03     A       507\n",
       "3  2019-08-04     A       717\n",
       "4  2019-08-05     A       756\n",
       "5  2019-08-06     A       667\n",
       "6  2019-08-07     A       644\n",
       "7  2019-08-08     A       610\n",
       "8  2019-08-09     A       617\n",
       "9  2019-08-10     A       406"
      ]
     },
     "execution_count": 10,
     "metadata": {},
     "output_type": "execute_result"
    }
   ],
   "source": [
    "visitors.head(10)  # Вывод первых 10 строк для первичного ознакомления с датасетом"
   ]
  },
  {
   "cell_type": "code",
   "execution_count": 11,
   "id": "0c5ba61e-c729-4d46-9130-d011fd51aacb",
   "metadata": {},
   "outputs": [
    {
     "data": {
      "text/html": [
       "<div>\n",
       "<style scoped>\n",
       "    .dataframe tbody tr th:only-of-type {\n",
       "        vertical-align: middle;\n",
       "    }\n",
       "\n",
       "    .dataframe tbody tr th {\n",
       "        vertical-align: top;\n",
       "    }\n",
       "\n",
       "    .dataframe thead th {\n",
       "        text-align: right;\n",
       "    }\n",
       "</style>\n",
       "<table border=\"1\" class=\"dataframe\">\n",
       "  <thead>\n",
       "    <tr style=\"text-align: right;\">\n",
       "      <th></th>\n",
       "      <th>date</th>\n",
       "      <th>group</th>\n",
       "      <th>visitors</th>\n",
       "    </tr>\n",
       "  </thead>\n",
       "  <tbody>\n",
       "    <tr>\n",
       "      <th>52</th>\n",
       "      <td>2019-08-22</td>\n",
       "      <td>B</td>\n",
       "      <td>650</td>\n",
       "    </tr>\n",
       "    <tr>\n",
       "      <th>53</th>\n",
       "      <td>2019-08-23</td>\n",
       "      <td>B</td>\n",
       "      <td>546</td>\n",
       "    </tr>\n",
       "    <tr>\n",
       "      <th>54</th>\n",
       "      <td>2019-08-24</td>\n",
       "      <td>B</td>\n",
       "      <td>378</td>\n",
       "    </tr>\n",
       "    <tr>\n",
       "      <th>55</th>\n",
       "      <td>2019-08-25</td>\n",
       "      <td>B</td>\n",
       "      <td>679</td>\n",
       "    </tr>\n",
       "    <tr>\n",
       "      <th>56</th>\n",
       "      <td>2019-08-26</td>\n",
       "      <td>B</td>\n",
       "      <td>676</td>\n",
       "    </tr>\n",
       "    <tr>\n",
       "      <th>57</th>\n",
       "      <td>2019-08-27</td>\n",
       "      <td>B</td>\n",
       "      <td>720</td>\n",
       "    </tr>\n",
       "    <tr>\n",
       "      <th>58</th>\n",
       "      <td>2019-08-28</td>\n",
       "      <td>B</td>\n",
       "      <td>654</td>\n",
       "    </tr>\n",
       "    <tr>\n",
       "      <th>59</th>\n",
       "      <td>2019-08-29</td>\n",
       "      <td>B</td>\n",
       "      <td>531</td>\n",
       "    </tr>\n",
       "    <tr>\n",
       "      <th>60</th>\n",
       "      <td>2019-08-30</td>\n",
       "      <td>B</td>\n",
       "      <td>490</td>\n",
       "    </tr>\n",
       "    <tr>\n",
       "      <th>61</th>\n",
       "      <td>2019-08-31</td>\n",
       "      <td>B</td>\n",
       "      <td>718</td>\n",
       "    </tr>\n",
       "  </tbody>\n",
       "</table>\n",
       "</div>"
      ],
      "text/plain": [
       "          date group  visitors\n",
       "52  2019-08-22     B       650\n",
       "53  2019-08-23     B       546\n",
       "54  2019-08-24     B       378\n",
       "55  2019-08-25     B       679\n",
       "56  2019-08-26     B       676\n",
       "57  2019-08-27     B       720\n",
       "58  2019-08-28     B       654\n",
       "59  2019-08-29     B       531\n",
       "60  2019-08-30     B       490\n",
       "61  2019-08-31     B       718"
      ]
     },
     "execution_count": 11,
     "metadata": {},
     "output_type": "execute_result"
    }
   ],
   "source": [
    "visitors.tail(10)  # Вывод последних 10 строк для первичного ознакомления с датасетом"
   ]
  },
  {
   "cell_type": "markdown",
   "id": "f4a2210a-8dab-44b9-b75b-66a721138a4b",
   "metadata": {},
   "source": [
    "Судя по первым и последним 10 записям датасета visitors, данные соотносятся с целями анализа. Данных для анализа достаточно."
   ]
  },
  {
   "cell_type": "markdown",
   "id": "8a802b80-d8d7-4c8d-a2b3-3252a865104b",
   "metadata": {},
   "source": [
    "### Описание столбцов visitors\n",
    "- **date** — дата;\n",
    "- **group** — группа A/B-теста;\n",
    "- **visitors** — количество пользователей в указанную дату в указанной группе A/B-теста."
   ]
  },
  {
   "cell_type": "markdown",
   "id": "efbba02b-d167-46c6-94eb-8bd130949627",
   "metadata": {},
   "source": [
    "### Изучение типов данных в orders"
   ]
  },
  {
   "cell_type": "code",
   "execution_count": 12,
   "id": "0e123eee-852e-4a76-aa2e-e48dea60ffb0",
   "metadata": {},
   "outputs": [
    {
     "name": "stdout",
     "output_type": "stream",
     "text": [
      "<class 'pandas.core.frame.DataFrame'>\n",
      "RangeIndex: 62 entries, 0 to 61\n",
      "Data columns (total 3 columns):\n",
      " #   Column    Non-Null Count  Dtype \n",
      "---  ------    --------------  ----- \n",
      " 0   date      62 non-null     object\n",
      " 1   group     62 non-null     object\n",
      " 2   visitors  62 non-null     int64 \n",
      "dtypes: int64(1), object(2)\n",
      "memory usage: 1.6+ KB\n"
     ]
    }
   ],
   "source": [
    "visitors.info()"
   ]
  },
  {
   "cell_type": "code",
   "execution_count": 13,
   "id": "b11d15d9-5373-416f-8214-14108a5290b7",
   "metadata": {},
   "outputs": [
    {
     "data": {
      "text/plain": [
       "0"
      ]
     },
     "execution_count": 13,
     "metadata": {},
     "output_type": "execute_result"
    }
   ],
   "source": [
    "visitors.duplicated().sum()  # Поиск явных дубликатов"
   ]
  },
  {
   "cell_type": "markdown",
   "id": "788246c5-b46a-467c-9e22-190d5d6c2be6",
   "metadata": {},
   "source": [
    "Необходимо преобразовать тип столбца *date* из *object* в *datetime64*.\n",
    "\n",
    "Остальные типы данных, а также названия столбцов в датафрейме корректны."
   ]
  },
  {
   "cell_type": "markdown",
   "id": "71f3adf1-95f3-4201-99a4-180fbbeebb9b",
   "metadata": {},
   "source": [
    "### Преобразование типов"
   ]
  },
  {
   "cell_type": "code",
   "execution_count": 14,
   "id": "9c552c19-2405-406b-912a-f8089c8e22ba",
   "metadata": {},
   "outputs": [
    {
     "name": "stdout",
     "output_type": "stream",
     "text": [
      "<class 'pandas.core.frame.DataFrame'>\n",
      "RangeIndex: 62 entries, 0 to 61\n",
      "Data columns (total 3 columns):\n",
      " #   Column    Non-Null Count  Dtype         \n",
      "---  ------    --------------  -----         \n",
      " 0   date      62 non-null     datetime64[ns]\n",
      " 1   group     62 non-null     object        \n",
      " 2   visitors  62 non-null     int64         \n",
      "dtypes: datetime64[ns](1), int64(1), object(1)\n",
      "memory usage: 1.6+ KB\n"
     ]
    }
   ],
   "source": [
    "# Преобразование столбца date с типом object к типу datetime64\n",
    "\n",
    "visitors['date'] = visitors['date'].map(\n",
    "    lambda x: dt.datetime.strptime(x, '%Y-%m-%d')\n",
    ")\n",
    "visitors.info()"
   ]
  },
  {
   "cell_type": "markdown",
   "id": "df1aed8d-71e6-4cd8-a151-636f3037c9e5",
   "metadata": {},
   "source": [
    "Тип столбца *date* успешно изменён с *object* на *datetime64*."
   ]
  },
  {
   "cell_type": "markdown",
   "id": "ecf56268-145e-448c-b6a9-781b07bc99e5",
   "metadata": {},
   "source": [
    "## Проверка корректности сбора данных\n",
    "Перед анализом A/B-теста следует убедится, что данные в датасете *orders* собраны корректны. Для этого убедимся, что один и тот же пользователь не попадал в две группы, а был только в одной на протяжении сбора данных для теста, а также посмотрим общее кол-во записей для обеих групп."
   ]
  },
  {
   "cell_type": "code",
   "execution_count": 15,
   "id": "746a94be-a263-4cd3-af8c-623a08033a7d",
   "metadata": {},
   "outputs": [
    {
     "name": "stdout",
     "output_type": "stream",
     "text": [
      "Данные до преобразований:\n",
      "Всего записей заказов для обеих групп: 1197\n",
      "Заказов в группе A: 557\n",
      "Заказов в группе B: 640\n"
     ]
    },
    {
     "data": {
      "text/plain": [
       "A    46.53%\n",
       "B    53.47%\n",
       "Name: group, dtype: object"
      ]
     },
     "execution_count": 15,
     "metadata": {},
     "output_type": "execute_result"
    }
   ],
   "source": [
    "print('Данные до преобразований:')\n",
    "print('Всего записей заказов для обеих групп: ' + str(orders['visitor_id'].count()))\n",
    "print('Заказов в группе A: ' + str(orders.query('group == \"A\"')['visitor_id'].count()))\n",
    "print('Заказов в группе B: ' + str(orders.query('group == \"B\"')['visitor_id'].count()))\n",
    "(orders['group'].value_counts(normalize=True).sort_values().round(4) * 100).astype('str') + '%'"
   ]
  },
  {
   "cell_type": "markdown",
   "id": "82454f88-c33c-4319-9aa6-1df92a24fb15",
   "metadata": {},
   "source": [
    "Распределение заказов по группам приближено к 50%, различие между группами составляет почти 7%.\n",
    "\n",
    "Для того чтобы найти пользователей попавших одновременно в две группы, создадим два датасета *group_a* и *group_b* с пользователями из различных групп:"
   ]
  },
  {
   "cell_type": "code",
   "execution_count": 16,
   "id": "fa003297-6367-4184-8384-d58146e6adaa",
   "metadata": {},
   "outputs": [],
   "source": [
    "# Распределение заказов на два датафрейма согласно их группам\n",
    "\n",
    "group_a = orders.loc[orders['group'] == 'A'] \n",
    "group_b = orders.loc[orders['group'] == 'B']"
   ]
  },
  {
   "cell_type": "markdown",
   "id": "b4db101f-7cd0-4f4c-8015-43b0c96f7367",
   "metadata": {},
   "source": [
    "Найдём заказы пользователей, которые состоят в обеих группах, и отобразим кол-во таких заказов:"
   ]
  },
  {
   "cell_type": "code",
   "execution_count": 17,
   "id": "5587b346-2909-4b27-a389-1a5e2afb239f",
   "metadata": {},
   "outputs": [
    {
     "name": "stdout",
     "output_type": "stream",
     "text": [
      "Общее кол-во заказов: 1197\n",
      "Общее кол-во заказов пользователей состоящих в двух группах: 181\n",
      "Процент заказов пользователей состоящих в двух группах от общего числа заказов: 15.1%\n"
     ]
    }
   ],
   "source": [
    "# в double_orders помещаются заказы пользователей, которые состоят в обеих группах одновременно\n",
    "\n",
    "double_orders = orders[(orders['visitor_id'].isin(group_a['visitor_id'])) & (orders['visitor_id'].isin(group_b['visitor_id']))]\n",
    "\n",
    "print('Общее кол-во заказов: ' + str(orders['visitor_id'].count()))\n",
    "print('Общее кол-во заказов пользователей состоящих в двух группах: ' + str(double_orders['visitor_id'].count()))\n",
    "print('Процент заказов пользователей состоящих в двух группах от общего числа заказов: '\n",
    "      + str(round((double_orders['visitor_id'].count()\n",
    "                   / orders['visitor_id'].count())\n",
    "                   * 100, 1))\n",
    "      + '%')"
   ]
  },
  {
   "cell_type": "markdown",
   "id": "f6609079-6e0d-49eb-bede-e110fc3a539e",
   "metadata": {},
   "source": [
    "Количество уникальных пользователей оказавшихся в обеих группах:"
   ]
  },
  {
   "cell_type": "code",
   "execution_count": 18,
   "id": "3c4ffd35-e37e-4c10-8c57-643769fc6602",
   "metadata": {},
   "outputs": [
    {
     "name": "stdout",
     "output_type": "stream",
     "text": [
      "Общее кол-во уникальных пользователей: 1031\n",
      "Кол-во уникальных пользователей оказавшихся в обеих группах: 58\n",
      "Процент пользователей оказавшихся в обеих группах от общего числа пользователей: 5.6%\n"
     ]
    }
   ],
   "source": [
    "print('Общее кол-во уникальных пользователей: ' + str(orders['visitor_id'].nunique()))\n",
    "print('Кол-во уникальных пользователей оказавшихся в обеих группах: ' + str(double_orders['visitor_id'].nunique()))\n",
    "print('Процент пользователей оказавшихся в обеих группах от общего числа пользователей: '\n",
    "      + str(round((double_orders['visitor_id'].nunique()\n",
    "                   / orders['visitor_id'].nunique())\n",
    "                   * 100, 1))\n",
    "      + '%')"
   ]
  },
  {
   "cell_type": "markdown",
   "id": "9151d415-2361-4e8f-b63b-1563454a9963",
   "metadata": {},
   "source": [
    "В собранных данных было обнаружено 58 пользователей (5.6% от общего числа), которые при совершении заказов попадали в обе группы и которыми был совершен 181 заказ (15.1% от общего числа). Данные записи заказов будут удалены из исследования, поскольку они могут негативно на него повлиять, и также не известно по какой причине заказы одних и тех же пользователей оказывались в разных группах. Процентное соотношение таких пользователей и их заказов к общему числу позволяет продолжить исследование даже после удаления таких заказов. \n",
    "О данном дефекте необходимо также сообщить ответственным за сбор данных для A/B-теста.\n",
    "\n",
    "Удаление заказов таких пользователей, чьи заказы попадали в обе группы:"
   ]
  },
  {
   "cell_type": "code",
   "execution_count": 19,
   "id": "087443d0-46cc-43eb-b005-0f85e253dd2e",
   "metadata": {},
   "outputs": [
    {
     "data": {
      "text/html": [
       "<div>\n",
       "<style scoped>\n",
       "    .dataframe tbody tr th:only-of-type {\n",
       "        vertical-align: middle;\n",
       "    }\n",
       "\n",
       "    .dataframe tbody tr th {\n",
       "        vertical-align: top;\n",
       "    }\n",
       "\n",
       "    .dataframe thead th {\n",
       "        text-align: right;\n",
       "    }\n",
       "</style>\n",
       "<table border=\"1\" class=\"dataframe\">\n",
       "  <thead>\n",
       "    <tr style=\"text-align: right;\">\n",
       "      <th></th>\n",
       "      <th>transaction_id</th>\n",
       "      <th>visitor_id</th>\n",
       "      <th>date</th>\n",
       "      <th>revenue</th>\n",
       "      <th>group</th>\n",
       "    </tr>\n",
       "  </thead>\n",
       "  <tbody>\n",
       "    <tr>\n",
       "      <th>0</th>\n",
       "      <td>3667963787</td>\n",
       "      <td>3312258926</td>\n",
       "      <td>2019-08-15</td>\n",
       "      <td>1650</td>\n",
       "      <td>B</td>\n",
       "    </tr>\n",
       "    <tr>\n",
       "      <th>1</th>\n",
       "      <td>2804400009</td>\n",
       "      <td>3642806036</td>\n",
       "      <td>2019-08-15</td>\n",
       "      <td>730</td>\n",
       "      <td>B</td>\n",
       "    </tr>\n",
       "    <tr>\n",
       "      <th>3</th>\n",
       "      <td>3797467345</td>\n",
       "      <td>1196621759</td>\n",
       "      <td>2019-08-15</td>\n",
       "      <td>9759</td>\n",
       "      <td>B</td>\n",
       "    </tr>\n",
       "    <tr>\n",
       "      <th>4</th>\n",
       "      <td>2282983706</td>\n",
       "      <td>2322279887</td>\n",
       "      <td>2019-08-15</td>\n",
       "      <td>2308</td>\n",
       "      <td>B</td>\n",
       "    </tr>\n",
       "    <tr>\n",
       "      <th>5</th>\n",
       "      <td>182168103</td>\n",
       "      <td>935554773</td>\n",
       "      <td>2019-08-15</td>\n",
       "      <td>2210</td>\n",
       "      <td>B</td>\n",
       "    </tr>\n",
       "    <tr>\n",
       "      <th>...</th>\n",
       "      <td>...</td>\n",
       "      <td>...</td>\n",
       "      <td>...</td>\n",
       "      <td>...</td>\n",
       "      <td>...</td>\n",
       "    </tr>\n",
       "    <tr>\n",
       "      <th>1191</th>\n",
       "      <td>3592955527</td>\n",
       "      <td>608641596</td>\n",
       "      <td>2019-08-14</td>\n",
       "      <td>16490</td>\n",
       "      <td>B</td>\n",
       "    </tr>\n",
       "    <tr>\n",
       "      <th>1192</th>\n",
       "      <td>2662137336</td>\n",
       "      <td>3733762160</td>\n",
       "      <td>2019-08-14</td>\n",
       "      <td>6490</td>\n",
       "      <td>B</td>\n",
       "    </tr>\n",
       "    <tr>\n",
       "      <th>1193</th>\n",
       "      <td>2203539145</td>\n",
       "      <td>370388673</td>\n",
       "      <td>2019-08-14</td>\n",
       "      <td>3190</td>\n",
       "      <td>A</td>\n",
       "    </tr>\n",
       "    <tr>\n",
       "      <th>1194</th>\n",
       "      <td>1807773912</td>\n",
       "      <td>573423106</td>\n",
       "      <td>2019-08-14</td>\n",
       "      <td>10550</td>\n",
       "      <td>A</td>\n",
       "    </tr>\n",
       "    <tr>\n",
       "      <th>1196</th>\n",
       "      <td>3936777065</td>\n",
       "      <td>2108080724</td>\n",
       "      <td>2019-08-15</td>\n",
       "      <td>202740</td>\n",
       "      <td>B</td>\n",
       "    </tr>\n",
       "  </tbody>\n",
       "</table>\n",
       "<p>1016 rows × 5 columns</p>\n",
       "</div>"
      ],
      "text/plain": [
       "      transaction_id  visitor_id       date  revenue group\n",
       "0         3667963787  3312258926 2019-08-15     1650     B\n",
       "1         2804400009  3642806036 2019-08-15      730     B\n",
       "3         3797467345  1196621759 2019-08-15     9759     B\n",
       "4         2282983706  2322279887 2019-08-15     2308     B\n",
       "5          182168103   935554773 2019-08-15     2210     B\n",
       "...              ...         ...        ...      ...   ...\n",
       "1191      3592955527   608641596 2019-08-14    16490     B\n",
       "1192      2662137336  3733762160 2019-08-14     6490     B\n",
       "1193      2203539145   370388673 2019-08-14     3190     A\n",
       "1194      1807773912   573423106 2019-08-14    10550     A\n",
       "1196      3936777065  2108080724 2019-08-15   202740     B\n",
       "\n",
       "[1016 rows x 5 columns]"
      ]
     },
     "execution_count": 19,
     "metadata": {},
     "output_type": "execute_result"
    }
   ],
   "source": [
    "# из датафрейма orders исключаются заказы состоящие в double_orders.\n",
    "# В orders не остаётся заказов пользователей, которые состоят в обеих группах одновременно\n",
    "\n",
    "orders = orders[~orders['visitor_id'].isin(double_orders['visitor_id'])]\n",
    "orders"
   ]
  },
  {
   "cell_type": "code",
   "execution_count": 20,
   "id": "343385c2-d417-4063-b2f0-534975b4d0db",
   "metadata": {},
   "outputs": [
    {
     "name": "stdout",
     "output_type": "stream",
     "text": [
      "Данные после преобразований:\n",
      "Всего записей заказов для обеих групп: 1016\n",
      "Заказов в группе A: 468\n",
      "Заказов в группе B: 548\n"
     ]
    },
    {
     "data": {
      "text/plain": [
       "A    46.06%\n",
       "B    53.94%\n",
       "Name: group, dtype: object"
      ]
     },
     "execution_count": 20,
     "metadata": {},
     "output_type": "execute_result"
    }
   ],
   "source": [
    "print('Данные после преобразований:')\n",
    "print('Всего записей заказов для обеих групп: ' + str(orders['visitor_id'].count()))\n",
    "print('Заказов в группе A: ' + str(orders.query('group == \"A\"')['visitor_id'].count()))\n",
    "print('Заказов в группе B: ' + str(orders.query('group == \"B\"')['visitor_id'].count()))\n",
    "(orders['group'].value_counts(normalize=True).sort_values().round(4) * 100).astype('str') + '%'"
   ]
  },
  {
   "cell_type": "markdown",
   "id": "4d3f9c8d-7664-4a8e-9cea-95f427e46a7d",
   "metadata": {},
   "source": [
    "Распределение заказов по группам осталось приближено к 50%, и теперь составляет чуть менее 8%, что незначительно и позволяет продолжить исследование."
   ]
  },
  {
   "cell_type": "markdown",
   "id": "21f66b25-a214-4357-912f-e4c12dd25a72",
   "metadata": {},
   "source": [
    "## Итоги ознакомления с результатами A/B-теста\n",
    "Произведён первичный осмотр датасетов, наименования столбцов приведены к формату snake_case. Столбцы содержащие временные данные приведены к подходящему типу данных.  \n",
    "Пропуски и дубликаты обнаружены не были.  \n",
    "Проверка корректности собранных данных выявила факты попадания записей заказов одних и тех же пользователей в разные группы. Такие записи заказов были удалены для корректного проведения анализа A/B-теста. "
   ]
  },
  {
   "cell_type": "markdown",
   "id": "c45c78e7-7f5c-49ec-be7f-68bfb7aba0f7",
   "metadata": {},
   "source": [
    "# Графики кумулятивных данных <a id='cumulative_graphs'></a>"
   ]
  },
  {
   "cell_type": "markdown",
   "id": "9ab75056-02bf-487b-b743-5f0acd53307a",
   "metadata": {},
   "source": [
    "## Сбор кумулятивных данных"
   ]
  },
  {
   "cell_type": "markdown",
   "id": "ec0d481e-46aa-4017-a385-2d2874d9c34b",
   "metadata": {},
   "source": [
    "Чтобы построить графики, соберём кумулятивные данные. Объявим датафрейм *cumulativeData* со столбцами: \n",
    "- **date** — дата;\n",
    "- **group** — группа A/B-теста (A или B);\n",
    "- **orders** — кумулятивное количество заказов на указанную дату в указанной группе;\n",
    "- **buyers** — кумулятивное количество пользователей, совершивших хотя бы один заказ, на указанную дату в указанной группе;\n",
    "- **revenue** — кумулятивная выручка на указанную дату в указанной группе (средний чек);\n",
    "- **visitors** — кумулятивное количество посетителей интернет-магазина на указанную дату в определённой группе."
   ]
  },
  {
   "cell_type": "code",
   "execution_count": 21,
   "id": "396beaa9-a2af-4ad1-aeae-970e17658057",
   "metadata": {},
   "outputs": [
    {
     "data": {
      "text/html": [
       "<div>\n",
       "<style scoped>\n",
       "    .dataframe tbody tr th:only-of-type {\n",
       "        vertical-align: middle;\n",
       "    }\n",
       "\n",
       "    .dataframe tbody tr th {\n",
       "        vertical-align: top;\n",
       "    }\n",
       "\n",
       "    .dataframe thead th {\n",
       "        text-align: right;\n",
       "    }\n",
       "</style>\n",
       "<table border=\"1\" class=\"dataframe\">\n",
       "  <thead>\n",
       "    <tr style=\"text-align: right;\">\n",
       "      <th></th>\n",
       "      <th>date</th>\n",
       "      <th>group</th>\n",
       "    </tr>\n",
       "  </thead>\n",
       "  <tbody>\n",
       "    <tr>\n",
       "      <th>0</th>\n",
       "      <td>2019-08-15</td>\n",
       "      <td>B</td>\n",
       "    </tr>\n",
       "    <tr>\n",
       "      <th>7</th>\n",
       "      <td>2019-08-15</td>\n",
       "      <td>A</td>\n",
       "    </tr>\n",
       "    <tr>\n",
       "      <th>45</th>\n",
       "      <td>2019-08-16</td>\n",
       "      <td>A</td>\n",
       "    </tr>\n",
       "    <tr>\n",
       "      <th>47</th>\n",
       "      <td>2019-08-16</td>\n",
       "      <td>B</td>\n",
       "    </tr>\n",
       "    <tr>\n",
       "      <th>55</th>\n",
       "      <td>2019-08-01</td>\n",
       "      <td>A</td>\n",
       "    </tr>\n",
       "    <tr>\n",
       "      <th>...</th>\n",
       "      <td>...</td>\n",
       "      <td>...</td>\n",
       "    </tr>\n",
       "    <tr>\n",
       "      <th>1068</th>\n",
       "      <td>2019-08-12</td>\n",
       "      <td>A</td>\n",
       "    </tr>\n",
       "    <tr>\n",
       "      <th>1114</th>\n",
       "      <td>2019-08-13</td>\n",
       "      <td>B</td>\n",
       "    </tr>\n",
       "    <tr>\n",
       "      <th>1116</th>\n",
       "      <td>2019-08-13</td>\n",
       "      <td>A</td>\n",
       "    </tr>\n",
       "    <tr>\n",
       "      <th>1149</th>\n",
       "      <td>2019-08-14</td>\n",
       "      <td>B</td>\n",
       "    </tr>\n",
       "    <tr>\n",
       "      <th>1150</th>\n",
       "      <td>2019-08-14</td>\n",
       "      <td>A</td>\n",
       "    </tr>\n",
       "  </tbody>\n",
       "</table>\n",
       "<p>62 rows × 2 columns</p>\n",
       "</div>"
      ],
      "text/plain": [
       "           date group\n",
       "0    2019-08-15     B\n",
       "7    2019-08-15     A\n",
       "45   2019-08-16     A\n",
       "47   2019-08-16     B\n",
       "55   2019-08-01     A\n",
       "...         ...   ...\n",
       "1068 2019-08-12     A\n",
       "1114 2019-08-13     B\n",
       "1116 2019-08-13     A\n",
       "1149 2019-08-14     B\n",
       "1150 2019-08-14     A\n",
       "\n",
       "[62 rows x 2 columns]"
      ]
     },
     "execution_count": 21,
     "metadata": {},
     "output_type": "execute_result"
    }
   ],
   "source": [
    "# создаем массив уникальных пар значений дат и групп теста\n",
    "\n",
    "datesGroups = orders[['date','group']].drop_duplicates()\n",
    "datesGroups"
   ]
  },
  {
   "cell_type": "code",
   "execution_count": 22,
   "id": "f5f7ba6e-88f5-4758-8db5-a0525a00ee5b",
   "metadata": {},
   "outputs": [
    {
     "data": {
      "text/html": [
       "<div>\n",
       "<style scoped>\n",
       "    .dataframe tbody tr th:only-of-type {\n",
       "        vertical-align: middle;\n",
       "    }\n",
       "\n",
       "    .dataframe tbody tr th {\n",
       "        vertical-align: top;\n",
       "    }\n",
       "\n",
       "    .dataframe thead th {\n",
       "        text-align: right;\n",
       "    }\n",
       "</style>\n",
       "<table border=\"1\" class=\"dataframe\">\n",
       "  <thead>\n",
       "    <tr style=\"text-align: right;\">\n",
       "      <th></th>\n",
       "      <th>date</th>\n",
       "      <th>group</th>\n",
       "      <th>transaction_id</th>\n",
       "      <th>visitor_id</th>\n",
       "      <th>revenue</th>\n",
       "    </tr>\n",
       "  </thead>\n",
       "  <tbody>\n",
       "    <tr>\n",
       "      <th>55</th>\n",
       "      <td>2019-08-01</td>\n",
       "      <td>A</td>\n",
       "      <td>23</td>\n",
       "      <td>19</td>\n",
       "      <td>142779</td>\n",
       "    </tr>\n",
       "    <tr>\n",
       "      <th>66</th>\n",
       "      <td>2019-08-01</td>\n",
       "      <td>B</td>\n",
       "      <td>17</td>\n",
       "      <td>17</td>\n",
       "      <td>59758</td>\n",
       "    </tr>\n",
       "    <tr>\n",
       "      <th>175</th>\n",
       "      <td>2019-08-02</td>\n",
       "      <td>A</td>\n",
       "      <td>42</td>\n",
       "      <td>36</td>\n",
       "      <td>234381</td>\n",
       "    </tr>\n",
       "    <tr>\n",
       "      <th>173</th>\n",
       "      <td>2019-08-02</td>\n",
       "      <td>B</td>\n",
       "      <td>40</td>\n",
       "      <td>39</td>\n",
       "      <td>221801</td>\n",
       "    </tr>\n",
       "    <tr>\n",
       "      <th>291</th>\n",
       "      <td>2019-08-03</td>\n",
       "      <td>A</td>\n",
       "      <td>66</td>\n",
       "      <td>60</td>\n",
       "      <td>346854</td>\n",
       "    </tr>\n",
       "    <tr>\n",
       "      <th>...</th>\n",
       "      <td>...</td>\n",
       "      <td>...</td>\n",
       "      <td>...</td>\n",
       "      <td>...</td>\n",
       "      <td>...</td>\n",
       "    </tr>\n",
       "    <tr>\n",
       "      <th>533</th>\n",
       "      <td>2019-08-29</td>\n",
       "      <td>B</td>\n",
       "      <td>510</td>\n",
       "      <td>490</td>\n",
       "      <td>4746610</td>\n",
       "    </tr>\n",
       "    <tr>\n",
       "      <th>757</th>\n",
       "      <td>2019-08-30</td>\n",
       "      <td>A</td>\n",
       "      <td>460</td>\n",
       "      <td>437</td>\n",
       "      <td>3311413</td>\n",
       "    </tr>\n",
       "    <tr>\n",
       "      <th>690</th>\n",
       "      <td>2019-08-30</td>\n",
       "      <td>B</td>\n",
       "      <td>531</td>\n",
       "      <td>511</td>\n",
       "      <td>4955833</td>\n",
       "    </tr>\n",
       "    <tr>\n",
       "      <th>958</th>\n",
       "      <td>2019-08-31</td>\n",
       "      <td>A</td>\n",
       "      <td>468</td>\n",
       "      <td>445</td>\n",
       "      <td>3364656</td>\n",
       "    </tr>\n",
       "    <tr>\n",
       "      <th>930</th>\n",
       "      <td>2019-08-31</td>\n",
       "      <td>B</td>\n",
       "      <td>548</td>\n",
       "      <td>528</td>\n",
       "      <td>5068972</td>\n",
       "    </tr>\n",
       "  </tbody>\n",
       "</table>\n",
       "<p>62 rows × 5 columns</p>\n",
       "</div>"
      ],
      "text/plain": [
       "          date group  transaction_id  visitor_id  revenue\n",
       "55  2019-08-01     A              23          19   142779\n",
       "66  2019-08-01     B              17          17    59758\n",
       "175 2019-08-02     A              42          36   234381\n",
       "173 2019-08-02     B              40          39   221801\n",
       "291 2019-08-03     A              66          60   346854\n",
       "..         ...   ...             ...         ...      ...\n",
       "533 2019-08-29     B             510         490  4746610\n",
       "757 2019-08-30     A             460         437  3311413\n",
       "690 2019-08-30     B             531         511  4955833\n",
       "958 2019-08-31     A             468         445  3364656\n",
       "930 2019-08-31     B             548         528  5068972\n",
       "\n",
       "[62 rows x 5 columns]"
      ]
     },
     "execution_count": 22,
     "metadata": {},
     "output_type": "execute_result"
    }
   ],
   "source": [
    "# получаем агрегированные кумулятивные по дням данные о заказах \n",
    "\n",
    "ordersAggregated = (\n",
    "    datesGroups.apply(lambda x: orders[np.logical_and(orders['date'] <= x['date'], orders['group'] == x['group'])]\n",
    "               .agg({'date' : 'max', 'group' : 'max', 'transaction_id' : 'nunique', 'visitor_id' : 'nunique', 'revenue' : 'sum'}), axis=1)\n",
    "               .sort_values(by=['date','group'])\n",
    ")\n",
    "ordersAggregated"
   ]
  },
  {
   "cell_type": "code",
   "execution_count": 23,
   "id": "37727b3a-999f-4b83-9c2a-d8a99468f4e8",
   "metadata": {},
   "outputs": [
    {
     "data": {
      "text/html": [
       "<div>\n",
       "<style scoped>\n",
       "    .dataframe tbody tr th:only-of-type {\n",
       "        vertical-align: middle;\n",
       "    }\n",
       "\n",
       "    .dataframe tbody tr th {\n",
       "        vertical-align: top;\n",
       "    }\n",
       "\n",
       "    .dataframe thead th {\n",
       "        text-align: right;\n",
       "    }\n",
       "</style>\n",
       "<table border=\"1\" class=\"dataframe\">\n",
       "  <thead>\n",
       "    <tr style=\"text-align: right;\">\n",
       "      <th></th>\n",
       "      <th>date</th>\n",
       "      <th>group</th>\n",
       "      <th>visitors</th>\n",
       "    </tr>\n",
       "  </thead>\n",
       "  <tbody>\n",
       "    <tr>\n",
       "      <th>55</th>\n",
       "      <td>2019-08-01</td>\n",
       "      <td>A</td>\n",
       "      <td>719</td>\n",
       "    </tr>\n",
       "    <tr>\n",
       "      <th>66</th>\n",
       "      <td>2019-08-01</td>\n",
       "      <td>B</td>\n",
       "      <td>713</td>\n",
       "    </tr>\n",
       "    <tr>\n",
       "      <th>175</th>\n",
       "      <td>2019-08-02</td>\n",
       "      <td>A</td>\n",
       "      <td>1338</td>\n",
       "    </tr>\n",
       "    <tr>\n",
       "      <th>173</th>\n",
       "      <td>2019-08-02</td>\n",
       "      <td>B</td>\n",
       "      <td>1294</td>\n",
       "    </tr>\n",
       "    <tr>\n",
       "      <th>291</th>\n",
       "      <td>2019-08-03</td>\n",
       "      <td>A</td>\n",
       "      <td>1845</td>\n",
       "    </tr>\n",
       "    <tr>\n",
       "      <th>...</th>\n",
       "      <td>...</td>\n",
       "      <td>...</td>\n",
       "      <td>...</td>\n",
       "    </tr>\n",
       "    <tr>\n",
       "      <th>533</th>\n",
       "      <td>2019-08-29</td>\n",
       "      <td>B</td>\n",
       "      <td>17708</td>\n",
       "    </tr>\n",
       "    <tr>\n",
       "      <th>757</th>\n",
       "      <td>2019-08-30</td>\n",
       "      <td>A</td>\n",
       "      <td>18037</td>\n",
       "    </tr>\n",
       "    <tr>\n",
       "      <th>690</th>\n",
       "      <td>2019-08-30</td>\n",
       "      <td>B</td>\n",
       "      <td>18198</td>\n",
       "    </tr>\n",
       "    <tr>\n",
       "      <th>958</th>\n",
       "      <td>2019-08-31</td>\n",
       "      <td>A</td>\n",
       "      <td>18736</td>\n",
       "    </tr>\n",
       "    <tr>\n",
       "      <th>930</th>\n",
       "      <td>2019-08-31</td>\n",
       "      <td>B</td>\n",
       "      <td>18916</td>\n",
       "    </tr>\n",
       "  </tbody>\n",
       "</table>\n",
       "<p>62 rows × 3 columns</p>\n",
       "</div>"
      ],
      "text/plain": [
       "          date group  visitors\n",
       "55  2019-08-01     A       719\n",
       "66  2019-08-01     B       713\n",
       "175 2019-08-02     A      1338\n",
       "173 2019-08-02     B      1294\n",
       "291 2019-08-03     A      1845\n",
       "..         ...   ...       ...\n",
       "533 2019-08-29     B     17708\n",
       "757 2019-08-30     A     18037\n",
       "690 2019-08-30     B     18198\n",
       "958 2019-08-31     A     18736\n",
       "930 2019-08-31     B     18916\n",
       "\n",
       "[62 rows x 3 columns]"
      ]
     },
     "execution_count": 23,
     "metadata": {},
     "output_type": "execute_result"
    }
   ],
   "source": [
    "# получаем агрегированные кумулятивные по дням данные о посетителях интернет-магазина \n",
    "\n",
    "visitorsAggregated = (\n",
    "    datesGroups.apply(lambda x: visitors[np.logical_and(visitors['date'] <= x['date'], visitors['group'] == x['group'])]\n",
    "               .agg({'date' : 'max', 'group' : 'max', 'visitors' : 'sum'}), axis=1)\n",
    "               .sort_values(by=['date','group'])\n",
    ")\n",
    "visitorsAggregated"
   ]
  },
  {
   "cell_type": "code",
   "execution_count": 24,
   "id": "f5c7f68f-7e7e-4e9e-a905-bf9713a0fba0",
   "metadata": {},
   "outputs": [
    {
     "data": {
      "text/html": [
       "<div>\n",
       "<style scoped>\n",
       "    .dataframe tbody tr th:only-of-type {\n",
       "        vertical-align: middle;\n",
       "    }\n",
       "\n",
       "    .dataframe tbody tr th {\n",
       "        vertical-align: top;\n",
       "    }\n",
       "\n",
       "    .dataframe thead th {\n",
       "        text-align: right;\n",
       "    }\n",
       "</style>\n",
       "<table border=\"1\" class=\"dataframe\">\n",
       "  <thead>\n",
       "    <tr style=\"text-align: right;\">\n",
       "      <th></th>\n",
       "      <th>date</th>\n",
       "      <th>group</th>\n",
       "      <th>orders</th>\n",
       "      <th>buyers</th>\n",
       "      <th>revenue</th>\n",
       "      <th>visitors</th>\n",
       "    </tr>\n",
       "  </thead>\n",
       "  <tbody>\n",
       "    <tr>\n",
       "      <th>0</th>\n",
       "      <td>2019-08-01</td>\n",
       "      <td>A</td>\n",
       "      <td>23</td>\n",
       "      <td>19</td>\n",
       "      <td>142779</td>\n",
       "      <td>719</td>\n",
       "    </tr>\n",
       "    <tr>\n",
       "      <th>1</th>\n",
       "      <td>2019-08-01</td>\n",
       "      <td>B</td>\n",
       "      <td>17</td>\n",
       "      <td>17</td>\n",
       "      <td>59758</td>\n",
       "      <td>713</td>\n",
       "    </tr>\n",
       "    <tr>\n",
       "      <th>2</th>\n",
       "      <td>2019-08-02</td>\n",
       "      <td>A</td>\n",
       "      <td>42</td>\n",
       "      <td>36</td>\n",
       "      <td>234381</td>\n",
       "      <td>1338</td>\n",
       "    </tr>\n",
       "    <tr>\n",
       "      <th>3</th>\n",
       "      <td>2019-08-02</td>\n",
       "      <td>B</td>\n",
       "      <td>40</td>\n",
       "      <td>39</td>\n",
       "      <td>221801</td>\n",
       "      <td>1294</td>\n",
       "    </tr>\n",
       "    <tr>\n",
       "      <th>4</th>\n",
       "      <td>2019-08-03</td>\n",
       "      <td>A</td>\n",
       "      <td>66</td>\n",
       "      <td>60</td>\n",
       "      <td>346854</td>\n",
       "      <td>1845</td>\n",
       "    </tr>\n",
       "    <tr>\n",
       "      <th>...</th>\n",
       "      <td>...</td>\n",
       "      <td>...</td>\n",
       "      <td>...</td>\n",
       "      <td>...</td>\n",
       "      <td>...</td>\n",
       "      <td>...</td>\n",
       "    </tr>\n",
       "    <tr>\n",
       "      <th>57</th>\n",
       "      <td>2019-08-29</td>\n",
       "      <td>B</td>\n",
       "      <td>510</td>\n",
       "      <td>490</td>\n",
       "      <td>4746610</td>\n",
       "      <td>17708</td>\n",
       "    </tr>\n",
       "    <tr>\n",
       "      <th>58</th>\n",
       "      <td>2019-08-30</td>\n",
       "      <td>A</td>\n",
       "      <td>460</td>\n",
       "      <td>437</td>\n",
       "      <td>3311413</td>\n",
       "      <td>18037</td>\n",
       "    </tr>\n",
       "    <tr>\n",
       "      <th>59</th>\n",
       "      <td>2019-08-30</td>\n",
       "      <td>B</td>\n",
       "      <td>531</td>\n",
       "      <td>511</td>\n",
       "      <td>4955833</td>\n",
       "      <td>18198</td>\n",
       "    </tr>\n",
       "    <tr>\n",
       "      <th>60</th>\n",
       "      <td>2019-08-31</td>\n",
       "      <td>A</td>\n",
       "      <td>468</td>\n",
       "      <td>445</td>\n",
       "      <td>3364656</td>\n",
       "      <td>18736</td>\n",
       "    </tr>\n",
       "    <tr>\n",
       "      <th>61</th>\n",
       "      <td>2019-08-31</td>\n",
       "      <td>B</td>\n",
       "      <td>548</td>\n",
       "      <td>528</td>\n",
       "      <td>5068972</td>\n",
       "      <td>18916</td>\n",
       "    </tr>\n",
       "  </tbody>\n",
       "</table>\n",
       "<p>62 rows × 6 columns</p>\n",
       "</div>"
      ],
      "text/plain": [
       "         date group  orders  buyers  revenue  visitors\n",
       "0  2019-08-01     A      23      19   142779       719\n",
       "1  2019-08-01     B      17      17    59758       713\n",
       "2  2019-08-02     A      42      36   234381      1338\n",
       "3  2019-08-02     B      40      39   221801      1294\n",
       "4  2019-08-03     A      66      60   346854      1845\n",
       "..        ...   ...     ...     ...      ...       ...\n",
       "57 2019-08-29     B     510     490  4746610     17708\n",
       "58 2019-08-30     A     460     437  3311413     18037\n",
       "59 2019-08-30     B     531     511  4955833     18198\n",
       "60 2019-08-31     A     468     445  3364656     18736\n",
       "61 2019-08-31     B     548     528  5068972     18916\n",
       "\n",
       "[62 rows x 6 columns]"
      ]
     },
     "execution_count": 24,
     "metadata": {},
     "output_type": "execute_result"
    }
   ],
   "source": [
    "# объединяем кумулятивные данные в одной таблице cumulativeData\n",
    "\n",
    "cumulativeData = ordersAggregated.merge(visitorsAggregated, left_on=['date', 'group'], right_on=['date', 'group'])\n",
    "cumulativeData.columns = ['date', 'group', 'orders', 'buyers', 'revenue', 'visitors']\n",
    "cumulativeData"
   ]
  },
  {
   "cell_type": "markdown",
   "id": "656a51fb-0920-4dfb-8e4c-c32db8314102",
   "metadata": {},
   "source": [
    "Сбор кумулятивных данных произведён успешно"
   ]
  },
  {
   "cell_type": "markdown",
   "id": "90040b73-a7c4-4ff3-9281-ad772dd92d5f",
   "metadata": {},
   "source": [
    "## График кумулятивной выручки по группам"
   ]
  },
  {
   "cell_type": "code",
   "execution_count": 25,
   "id": "bd46cd43-b983-4ffe-a5ee-73b18232fe6f",
   "metadata": {},
   "outputs": [
    {
     "data": {
      "image/png": "[encoded data removed]",
      "text/plain": [
       "<Figure size 900x500 with 1 Axes>"
      ]
     },
     "metadata": {},
     "output_type": "display_data"
    }
   ],
   "source": [
    "# Датафрейм с кумулятивным количеством заказов, кумулятивной выручкой по дням и кумулятивным количеством посетителей в группе А\n",
    "cumulativeRevenueA = cumulativeData[cumulativeData['group']=='A'][['date','revenue', 'orders', 'visitors']]\n",
    "\n",
    "# Датафрейм с кумулятивным количеством заказов, кумулятивной выручкой по дням и кумулятивным количеством посетителей в группе B\n",
    "cumulativeRevenueB = cumulativeData[cumulativeData['group']=='B'][['date','revenue', 'orders', 'visitors']]\n",
    "\n",
    "# Задаём размер «подложки»\n",
    "plt.figure(figsize = (9, 5))\n",
    "\n",
    "# Строим график выручки группы А\n",
    "ax = plt.plot(cumulativeRevenueA['date'], cumulativeRevenueA['revenue'], label='A')\n",
    "\n",
    "# Строим график выручки группы B\n",
    "ax = plt.plot(cumulativeRevenueB['date'], cumulativeRevenueB['revenue'], label='B')\n",
    "\n",
    "\n",
    "plt.title('Кумулятивная выручка по группам')\n",
    "plt.legend(['Группа A', 'Группа B'])\n",
    "plt.grid(which = \"both\")\n",
    "plt.xlabel('Дата')\n",
    "plt.xticks(rotation=45)\n",
    "plt.ylabel('Выручка в миллионах')\n",
    "plt.show()"
   ]
  },
  {
   "cell_type": "markdown",
   "id": "eb4456a2-541b-402e-b4c3-c6b8efac18d2",
   "metadata": {},
   "source": [
    "Выручка почти равномерно увеличивается до 19 августа, где наблюдается резкий скачок у группы B сразу на ~1.5 миллиона. После данного скачка выручка продолжает равномерно увеличиваться в обеих группах.  \n",
    "Резкий скачок в группе B скорее всего обусловлен одним или несколькими аномальными заказами."
   ]
  },
  {
   "cell_type": "markdown",
   "id": "5cfb2058-dcbf-48fd-aa50-5de24fce6d23",
   "metadata": {},
   "source": [
    "## График кумулятивного среднего чека по группам"
   ]
  },
  {
   "cell_type": "code",
   "execution_count": 26,
   "id": "f7e54a31-72d9-47b4-9ae0-13c13efd907a",
   "metadata": {},
   "outputs": [
    {
     "data": {
      "image/png": "[encoded data removed]",
      "text/plain": [
       "<Figure size 900x500 with 1 Axes>"
      ]
     },
     "metadata": {},
     "output_type": "display_data"
    }
   ],
   "source": [
    "plt.figure(figsize = (9, 5))\n",
    "\n",
    "# Строим график кумулятивного среднего чека группы А\n",
    "plt.plot(cumulativeRevenueA['date'], cumulativeRevenueA['revenue']/cumulativeRevenueA['orders'], label='A')\n",
    "\n",
    "# Строим график кумулятивного среднего чека группы B\n",
    "plt.plot(cumulativeRevenueB['date'], cumulativeRevenueB['revenue']/cumulativeRevenueB['orders'], label='B')\n",
    "\n",
    "plt.title('Кумулятивный средний чек по группам')\n",
    "plt.legend(['Группа A', 'Группа B'])\n",
    "plt.grid(which = \"both\")\n",
    "plt.xlabel('Дата')\n",
    "plt.xticks(rotation=45)\n",
    "plt.ylabel('Выручка')\n",
    "plt.show()"
   ]
  },
  {
   "cell_type": "markdown",
   "id": "7559ee27-8c0a-4918-965d-7bc17d894134",
   "metadata": {},
   "source": [
    "Средний чек тоже становился равномерным ближе к середине августа, но как и на прошлом графике заметен резкий скачок для группы B, после чего происходит постепенное выравнивание.  \n",
    "В промежутке между 5 и 9 августа можно заметить ещё большее, чем на предыдущем графике превосходство группы B, которое можем объясняться тем, что в неё в первой половине теста попали крупные заказы."
   ]
  },
  {
   "cell_type": "markdown",
   "id": "9c4c4829-efd7-4596-848e-cef4d758f34f",
   "metadata": {},
   "source": [
    "## График относительного изменения кумулятивного среднего чека группы B к группе A\n",
    "\n",
    "Постройте график относительного изменения кумулятивного среднего чека группы B к группе A. Сделайте выводы и предположения."
   ]
  },
  {
   "cell_type": "code",
   "execution_count": 27,
   "id": "1b2965bf-18f8-4c83-b8ea-47518a9a3991",
   "metadata": {},
   "outputs": [
    {
     "data": {
      "image/png": "[encoded data removed]",
      "text/plain": [
       "<Figure size 900x500 with 1 Axes>"
      ]
     },
     "metadata": {},
     "output_type": "display_data"
    }
   ],
   "source": [
    "# Собираем данные в одном датафрейме\n",
    "mergedCumulativeRevenue = cumulativeRevenueA.merge(cumulativeRevenueB, left_on='date', right_on='date', how='left', suffixes=['A', 'B'])\n",
    "\n",
    "plt.figure(figsize = (9, 5))\n",
    "\n",
    "# Строим отношение средних чеков\n",
    "plt.plot(\n",
    "    mergedCumulativeRevenue['date'],\n",
    "    (mergedCumulativeRevenue['revenueB']/mergedCumulativeRevenue['ordersB'])\n",
    "    /(mergedCumulativeRevenue['revenueA']/mergedCumulativeRevenue['ordersA'])\n",
    "    -1\n",
    ")\n",
    "\n",
    "# Добавляем ось X\n",
    "plt.axhline(y=0, color='black', linestyle='--')\n",
    "\n",
    "plt.title('Относительное изменение кумулятивного среднего чека группы B к группе A')\n",
    "plt.grid(which = \"both\")\n",
    "plt.xlabel('Дата')\n",
    "plt.xticks(rotation=45)\n",
    "plt.ylabel('Отношение')\n",
    "plt.show()"
   ]
  },
  {
   "cell_type": "markdown",
   "id": "9a5c8506-078e-448b-8be1-b17ebd3c9d71",
   "metadata": {},
   "source": [
    "Всплески размера среднего чека группы B по отношению к группе A в промежутке 5-9, а также 19 августа на графике относительного изменения стали ещё более выразительными. "
   ]
  },
  {
   "cell_type": "markdown",
   "id": "1f30c07f-3b9d-4c84-9c17-f59283563f79",
   "metadata": {},
   "source": [
    "## График кумулятивного среднего количества заказов на посетителя по группам"
   ]
  },
  {
   "cell_type": "code",
   "execution_count": 28,
   "id": "34a3d8c4-7ba3-41b5-9f43-8748e8d31218",
   "metadata": {},
   "outputs": [
    {
     "data": {
      "image/png": "[encoded data removed]",
      "text/plain": [
       "<Figure size 900x500 with 1 Axes>"
      ]
     },
     "metadata": {},
     "output_type": "display_data"
    }
   ],
   "source": [
    "plt.figure(figsize = (9, 5))\n",
    "\n",
    "# Строим кумулятивное среднее кол-во заказов на посетителя группы А\n",
    "plt.plot(cumulativeRevenueA['date'], cumulativeRevenueA['orders']/cumulativeRevenueA['visitors'], label='A')\n",
    "\n",
    "# Строим кумулятивное среднее кол-во заказов на посетителя группы B\n",
    "plt.plot(cumulativeRevenueB['date'], cumulativeRevenueB['orders']/cumulativeRevenueB['visitors'], label='B')\n",
    "\n",
    "plt.title('Кумулятивное среднее кол-во заказов на посетителя по группам')\n",
    "plt.legend(['Группа A', 'Группа B'])\n",
    "plt.grid(which = \"both\")\n",
    "plt.xlabel('Дата')\n",
    "plt.xticks(rotation=45)\n",
    "plt.ylabel('Среднее кол-во заказов на посетителя')\n",
    "plt.show()"
   ]
  },
  {
   "cell_type": "markdown",
   "id": "79b8aa32-36ef-43d5-93e1-0711d8c68fd7",
   "metadata": {},
   "source": [
    "Среднее количество заказов на посетителя становится более равномерным ближе к концу теста: установился для группы A и заметно незначительное падение для группы B. При этом показатели группы B заметно лучше. Аномальный скачок в группе A свидетельствует о вероятно аномально большом количестве заказов в начале месяца."
   ]
  },
  {
   "cell_type": "markdown",
   "id": "6ee7c552-a23b-477e-992a-b351231a6ee3",
   "metadata": {},
   "source": [
    "## График относительного изменения кумулятивного среднего количества заказов на посетителя группы B к группе A"
   ]
  },
  {
   "cell_type": "code",
   "execution_count": 29,
   "id": "5510f1de-cec6-48ae-90ff-1a050abd1bc3",
   "metadata": {},
   "outputs": [
    {
     "data": {
      "image/png": "[encoded data removed]",
      "text/plain": [
       "<Figure size 900x500 with 1 Axes>"
      ]
     },
     "metadata": {},
     "output_type": "display_data"
    }
   ],
   "source": [
    "plt.figure(figsize = (9, 5))\n",
    "\n",
    "# Строим отношение средних чеков\n",
    "plt.plot(\n",
    "    mergedCumulativeRevenue['date'],\n",
    "    (mergedCumulativeRevenue['ordersB']/mergedCumulativeRevenue['visitorsB'])\n",
    "    /(mergedCumulativeRevenue['ordersA']/mergedCumulativeRevenue['visitorsA'])\n",
    "    -1\n",
    ")\n",
    "\n",
    "# Добавляем ось X\n",
    "plt.axhline(y=0, color='black', linestyle='--')\n",
    "\n",
    "plt.title('Относительное изменение кумулятивного среднего количества заказов\\nна посетителя группы B к группе A')\n",
    "plt.grid(which = \"both\")\n",
    "plt.xlabel('Дата')\n",
    "plt.xticks(rotation=45)\n",
    "plt.ylabel('Отношение')\n",
    "plt.show()"
   ]
  },
  {
   "cell_type": "markdown",
   "id": "c4074cb0-2ce1-4c28-92a7-3bb14eaf4e3e",
   "metadata": {},
   "source": [
    "На графике относительного изменения кумулятивного среднего количества заказов на посетителя группы B к группе A хорошо заметно, что в начале месяца для группы B был провал связанный с аномальным скачком в группе A, далее до 9 августа шло выравнивание, после чего график стабилизировался."
   ]
  },
  {
   "cell_type": "markdown",
   "id": "146cc0c4-baef-4004-b478-1f00505a6ce5",
   "metadata": {},
   "source": [
    "## Итоги анализа кумулятивных данных <a id='Итоги_анализа_кумулятивных_данных'></a>\n",
    "Выручка в обеих группах увеличивается равномерно за исключением 19 августа, когда наблюдался резкий скачок у группы B, после чего выручка продолжила равномерно увеличиваться в обеих группах.\n",
    "\n",
    "Средний чек становился равномерным во второй половине августа. В графике по среднему чеку для группы B также заметен резкий скачок 19 августа.  \n",
    "В относительном изменении размера среднего чека группы B по отношению к группе A также видно, что в промежутке 5-9 августа средний чек у группы B был значительно выше.  \n",
    "После скачка 19 августа происходит постепенное выравнивание относительного изменения размера среднего чека группы B по отношению к группе A.\n",
    "\n",
    "Кумулятивное среднее количество заказов на посетителя группы B больше, чем у группы A с 7 августа и до конца месяца. Не смотря на то, что в начале месяца для группы B был провал связанный с аномальным скачком в группе A, далее до 9 августа шло выравнивание, после чего график стабилизировался."
   ]
  },
  {
   "cell_type": "markdown",
   "id": "cfbf6378-2424-4b0c-90aa-5eb0c4203e86",
   "metadata": {},
   "source": [
    "# Анализ выбросов и всплесков <a id='spikes'></a>"
   ]
  },
  {
   "cell_type": "markdown",
   "id": "dcb7a97e-7ac2-43c6-997a-86450fb27165",
   "metadata": {},
   "source": [
    "## Точечный график количества заказов по пользователям"
   ]
  },
  {
   "cell_type": "code",
   "execution_count": 30,
   "id": "25d43705-b08b-4383-bb4b-490d18422234",
   "metadata": {},
   "outputs": [
    {
     "data": {
      "text/html": [
       "<div>\n",
       "<style scoped>\n",
       "    .dataframe tbody tr th:only-of-type {\n",
       "        vertical-align: middle;\n",
       "    }\n",
       "\n",
       "    .dataframe tbody tr th {\n",
       "        vertical-align: top;\n",
       "    }\n",
       "\n",
       "    .dataframe thead th {\n",
       "        text-align: right;\n",
       "    }\n",
       "</style>\n",
       "<table border=\"1\" class=\"dataframe\">\n",
       "  <thead>\n",
       "    <tr style=\"text-align: right;\">\n",
       "      <th></th>\n",
       "      <th>visitor_id</th>\n",
       "      <th>transaction_id</th>\n",
       "    </tr>\n",
       "  </thead>\n",
       "  <tbody>\n",
       "    <tr>\n",
       "      <th>0</th>\n",
       "      <td>5114589</td>\n",
       "      <td>1</td>\n",
       "    </tr>\n",
       "    <tr>\n",
       "      <th>1</th>\n",
       "      <td>6958315</td>\n",
       "      <td>1</td>\n",
       "    </tr>\n",
       "    <tr>\n",
       "      <th>2</th>\n",
       "      <td>11685486</td>\n",
       "      <td>1</td>\n",
       "    </tr>\n",
       "    <tr>\n",
       "      <th>3</th>\n",
       "      <td>39475350</td>\n",
       "      <td>1</td>\n",
       "    </tr>\n",
       "    <tr>\n",
       "      <th>4</th>\n",
       "      <td>47206413</td>\n",
       "      <td>1</td>\n",
       "    </tr>\n",
       "    <tr>\n",
       "      <th>...</th>\n",
       "      <td>...</td>\n",
       "      <td>...</td>\n",
       "    </tr>\n",
       "    <tr>\n",
       "      <th>968</th>\n",
       "      <td>4259830713</td>\n",
       "      <td>1</td>\n",
       "    </tr>\n",
       "    <tr>\n",
       "      <th>969</th>\n",
       "      <td>4278982564</td>\n",
       "      <td>1</td>\n",
       "    </tr>\n",
       "    <tr>\n",
       "      <th>970</th>\n",
       "      <td>4279090005</td>\n",
       "      <td>1</td>\n",
       "    </tr>\n",
       "    <tr>\n",
       "      <th>971</th>\n",
       "      <td>4281247801</td>\n",
       "      <td>1</td>\n",
       "    </tr>\n",
       "    <tr>\n",
       "      <th>972</th>\n",
       "      <td>4283872382</td>\n",
       "      <td>1</td>\n",
       "    </tr>\n",
       "  </tbody>\n",
       "</table>\n",
       "<p>973 rows × 2 columns</p>\n",
       "</div>"
      ],
      "text/plain": [
       "     visitor_id  transaction_id\n",
       "0       5114589               1\n",
       "1       6958315               1\n",
       "2      11685486               1\n",
       "3      39475350               1\n",
       "4      47206413               1\n",
       "..          ...             ...\n",
       "968  4259830713               1\n",
       "969  4278982564               1\n",
       "970  4279090005               1\n",
       "971  4281247801               1\n",
       "972  4283872382               1\n",
       "\n",
       "[973 rows x 2 columns]"
      ]
     },
     "execution_count": 30,
     "metadata": {},
     "output_type": "execute_result"
    }
   ],
   "source": [
    "# Группируем заказы по пользователям\n",
    "\n",
    "ordersByUsers = (\n",
    "    orders.groupby('visitor_id', as_index=False)\n",
    "    .agg({'transaction_id': 'nunique'})\n",
    ")\n",
    "ordersByUsers"
   ]
  },
  {
   "cell_type": "code",
   "execution_count": 31,
   "id": "260532a8-9d49-4dc3-82ac-dc893502642c",
   "metadata": {},
   "outputs": [
    {
     "data": {
      "text/html": [
       "<div>\n",
       "<style scoped>\n",
       "    .dataframe tbody tr th:only-of-type {\n",
       "        vertical-align: middle;\n",
       "    }\n",
       "\n",
       "    .dataframe tbody tr th {\n",
       "        vertical-align: top;\n",
       "    }\n",
       "\n",
       "    .dataframe thead th {\n",
       "        text-align: right;\n",
       "    }\n",
       "</style>\n",
       "<table border=\"1\" class=\"dataframe\">\n",
       "  <thead>\n",
       "    <tr style=\"text-align: right;\">\n",
       "      <th></th>\n",
       "      <th>visitor_id</th>\n",
       "      <th>transactions</th>\n",
       "    </tr>\n",
       "  </thead>\n",
       "  <tbody>\n",
       "    <tr>\n",
       "      <th>908</th>\n",
       "      <td>3967698036</td>\n",
       "      <td>3</td>\n",
       "    </tr>\n",
       "    <tr>\n",
       "      <th>55</th>\n",
       "      <td>249864742</td>\n",
       "      <td>3</td>\n",
       "    </tr>\n",
       "    <tr>\n",
       "      <th>478</th>\n",
       "      <td>2108163459</td>\n",
       "      <td>3</td>\n",
       "    </tr>\n",
       "    <tr>\n",
       "      <th>687</th>\n",
       "      <td>2988190573</td>\n",
       "      <td>3</td>\n",
       "    </tr>\n",
       "    <tr>\n",
       "      <th>890</th>\n",
       "      <td>3908431265</td>\n",
       "      <td>3</td>\n",
       "    </tr>\n",
       "    <tr>\n",
       "      <th>...</th>\n",
       "      <td>...</td>\n",
       "      <td>...</td>\n",
       "    </tr>\n",
       "    <tr>\n",
       "      <th>331</th>\n",
       "      <td>1438226485</td>\n",
       "      <td>1</td>\n",
       "    </tr>\n",
       "    <tr>\n",
       "      <th>332</th>\n",
       "      <td>1452540367</td>\n",
       "      <td>1</td>\n",
       "    </tr>\n",
       "    <tr>\n",
       "      <th>333</th>\n",
       "      <td>1455323168</td>\n",
       "      <td>1</td>\n",
       "    </tr>\n",
       "    <tr>\n",
       "      <th>334</th>\n",
       "      <td>1455861274</td>\n",
       "      <td>1</td>\n",
       "    </tr>\n",
       "    <tr>\n",
       "      <th>972</th>\n",
       "      <td>4283872382</td>\n",
       "      <td>1</td>\n",
       "    </tr>\n",
       "  </tbody>\n",
       "</table>\n",
       "<p>973 rows × 2 columns</p>\n",
       "</div>"
      ],
      "text/plain": [
       "     visitor_id  transactions\n",
       "908  3967698036             3\n",
       "55    249864742             3\n",
       "478  2108163459             3\n",
       "687  2988190573             3\n",
       "890  3908431265             3\n",
       "..          ...           ...\n",
       "331  1438226485             1\n",
       "332  1452540367             1\n",
       "333  1455323168             1\n",
       "334  1455861274             1\n",
       "972  4283872382             1\n",
       "\n",
       "[973 rows x 2 columns]"
      ]
     },
     "execution_count": 31,
     "metadata": {},
     "output_type": "execute_result"
    }
   ],
   "source": [
    "# Переименовываем столбец transaction_id в transactions\n",
    "ordersByUsers.columns = ['visitor_id', 'transactions']\n",
    "\n",
    "# Сортируем пользователей по кол-ву заказов\n",
    "ordersByUsers.sort_values(by='transactions', ascending=False)"
   ]
  },
  {
   "cell_type": "markdown",
   "id": "c0fdc0c0-d9a9-403b-a620-150f165d2eb0",
   "metadata": {},
   "source": [
    "Максимальное кол-во заказов на одного пользователя — 3."
   ]
  },
  {
   "cell_type": "code",
   "execution_count": 32,
   "id": "198e0a43-eb7d-4f35-89fc-8a5cc38b2b11",
   "metadata": {},
   "outputs": [
    {
     "data": {
      "image/png": "[encoded data removed]",
      "text/plain": [
       "<Figure size 500x400 with 1 Axes>"
      ]
     },
     "metadata": {},
     "output_type": "display_data"
    }
   ],
   "source": [
    "plt.figure(figsize = (5, 4))\n",
    "\n",
    "# Строим гистограмму количества заказов по пользователям\n",
    "plt.hist(ordersByUsers['transactions'], bins=3) \n",
    "plt.gca().set_xticks(ordersByUsers[\"transactions\"].unique())\n",
    "plt.title('Количество заказов по пользователям')\n",
    "plt.xlabel('Количество заказов')\n",
    "plt.ylabel('Количество пользователей')\n",
    "plt.show()"
   ]
  },
  {
   "cell_type": "markdown",
   "id": "18b34ed1-9236-4af2-9db3-b1ea3a974987",
   "metadata": {},
   "source": [
    "Большинство покупателей делало только 1 заказ. Значительно меньше пользователей сделало 2 заказа и очень малое кол-во пользователей сделали 3."
   ]
  },
  {
   "cell_type": "code",
   "execution_count": 33,
   "id": "1f2f2238-0330-4f13-8e87-6b32fcf31d06",
   "metadata": {},
   "outputs": [
    {
     "data": {
      "image/png": "[encoded data removed]",
      "text/plain": [
       "<Figure size 500x300 with 1 Axes>"
      ]
     },
     "metadata": {},
     "output_type": "display_data"
    }
   ],
   "source": [
    "x_values = pd.Series(range(0,len(ordersByUsers)))\n",
    "\n",
    "plt.figure(figsize = (5, 3))\n",
    "\n",
    "# Строим диаграмму количества заказов по пользователям\n",
    "plt.scatter(x_values, ordersByUsers['transactions'])\n",
    "plt.gca().set_yticks(ordersByUsers[\"transactions\"].unique())\n",
    "plt.title('Количество заказов по пользователям')\n",
    "plt.xlabel('Пользователи')\n",
    "plt.ylabel('Количество заказов')\n",
    "plt.show()"
   ]
  },
  {
   "cell_type": "markdown",
   "id": "fd318ef5-925f-498e-b89f-8eae28963a59",
   "metadata": {},
   "source": [
    "Выводы подтверждаются: много пользователей с 1 заказом, с 2 заказми меньше и совсем мало пользователей с 3 заказами."
   ]
  },
  {
   "cell_type": "markdown",
   "id": "6c90a52e-c229-4a0d-809b-0973531cc1d0",
   "metadata": {},
   "source": [
    "## 95-й и 99-й перцентили количества заказов на пользователя. Выбор границы для определения аномальных пользователей"
   ]
  },
  {
   "cell_type": "code",
   "execution_count": 34,
   "id": "06316240-f8d1-4387-9f6e-07f3695ac4b4",
   "metadata": {},
   "outputs": [
    {
     "name": "stdout",
     "output_type": "stream",
     "text": [
      "[1. 2.]\n"
     ]
    }
   ],
   "source": [
    "# Находим 95-й и 99-й перцентили количества заказов на пользователя\n",
    "\n",
    "print(np.percentile(ordersByUsers['transactions'], [95, 99]))"
   ]
  },
  {
   "cell_type": "markdown",
   "id": "809d8f0a-73cc-4e56-a2ea-9d4c73e83c96",
   "metadata": {},
   "source": [
    "Не более 95% пользователей оформляли только 1 заказ. И не более 5% пользователей оформили более 1 заказа.  \n",
    "На основе полученных данных, границей для определения аномальных будет являться не более 2 заказов на одного пользователя."
   ]
  },
  {
   "cell_type": "markdown",
   "id": "b8ac3104-51f5-4d18-9784-fd1b86a5a1e5",
   "metadata": {},
   "source": [
    "## Точечный график стоимостей заказов <a id='всплеск_выручки'></a>"
   ]
  },
  {
   "cell_type": "code",
   "execution_count": 35,
   "id": "18fb2b85-82db-46b5-83bd-4a85fe1ccce0",
   "metadata": {},
   "outputs": [
    {
     "data": {
      "text/html": [
       "<div>\n",
       "<style scoped>\n",
       "    .dataframe tbody tr th:only-of-type {\n",
       "        vertical-align: middle;\n",
       "    }\n",
       "\n",
       "    .dataframe tbody tr th {\n",
       "        vertical-align: top;\n",
       "    }\n",
       "\n",
       "    .dataframe thead th {\n",
       "        text-align: right;\n",
       "    }\n",
       "</style>\n",
       "<table border=\"1\" class=\"dataframe\">\n",
       "  <thead>\n",
       "    <tr style=\"text-align: right;\">\n",
       "      <th></th>\n",
       "      <th>transaction_id</th>\n",
       "      <th>visitor_id</th>\n",
       "      <th>date</th>\n",
       "      <th>revenue</th>\n",
       "      <th>group</th>\n",
       "    </tr>\n",
       "  </thead>\n",
       "  <tbody>\n",
       "    <tr>\n",
       "      <th>425</th>\n",
       "      <td>590470918</td>\n",
       "      <td>1920142716</td>\n",
       "      <td>2019-08-19</td>\n",
       "      <td>1294500</td>\n",
       "      <td>B</td>\n",
       "    </tr>\n",
       "    <tr>\n",
       "      <th>1196</th>\n",
       "      <td>3936777065</td>\n",
       "      <td>2108080724</td>\n",
       "      <td>2019-08-15</td>\n",
       "      <td>202740</td>\n",
       "      <td>B</td>\n",
       "    </tr>\n",
       "    <tr>\n",
       "      <th>1136</th>\n",
       "      <td>666610489</td>\n",
       "      <td>1307669133</td>\n",
       "      <td>2019-08-13</td>\n",
       "      <td>92550</td>\n",
       "      <td>A</td>\n",
       "    </tr>\n",
       "    <tr>\n",
       "      <th>744</th>\n",
       "      <td>3668308183</td>\n",
       "      <td>888512513</td>\n",
       "      <td>2019-08-27</td>\n",
       "      <td>86620</td>\n",
       "      <td>B</td>\n",
       "    </tr>\n",
       "    <tr>\n",
       "      <th>743</th>\n",
       "      <td>3603576309</td>\n",
       "      <td>4133034833</td>\n",
       "      <td>2019-08-09</td>\n",
       "      <td>67990</td>\n",
       "      <td>A</td>\n",
       "    </tr>\n",
       "    <tr>\n",
       "      <th>...</th>\n",
       "      <td>...</td>\n",
       "      <td>...</td>\n",
       "      <td>...</td>\n",
       "      <td>...</td>\n",
       "      <td>...</td>\n",
       "    </tr>\n",
       "    <tr>\n",
       "      <th>404</th>\n",
       "      <td>2052514069</td>\n",
       "      <td>1995481842</td>\n",
       "      <td>2019-08-28</td>\n",
       "      <td>70</td>\n",
       "      <td>B</td>\n",
       "    </tr>\n",
       "    <tr>\n",
       "      <th>933</th>\n",
       "      <td>3760662696</td>\n",
       "      <td>3577713868</td>\n",
       "      <td>2019-08-27</td>\n",
       "      <td>60</td>\n",
       "      <td>B</td>\n",
       "    </tr>\n",
       "    <tr>\n",
       "      <th>584</th>\n",
       "      <td>1126146019</td>\n",
       "      <td>2705308997</td>\n",
       "      <td>2019-08-20</td>\n",
       "      <td>50</td>\n",
       "      <td>A</td>\n",
       "    </tr>\n",
       "    <tr>\n",
       "      <th>756</th>\n",
       "      <td>125335873</td>\n",
       "      <td>3423937755</td>\n",
       "      <td>2019-08-30</td>\n",
       "      <td>50</td>\n",
       "      <td>B</td>\n",
       "    </tr>\n",
       "    <tr>\n",
       "      <th>459</th>\n",
       "      <td>863448794</td>\n",
       "      <td>2738601405</td>\n",
       "      <td>2019-08-19</td>\n",
       "      <td>50</td>\n",
       "      <td>B</td>\n",
       "    </tr>\n",
       "  </tbody>\n",
       "</table>\n",
       "<p>1016 rows × 5 columns</p>\n",
       "</div>"
      ],
      "text/plain": [
       "      transaction_id  visitor_id       date  revenue group\n",
       "425        590470918  1920142716 2019-08-19  1294500     B\n",
       "1196      3936777065  2108080724 2019-08-15   202740     B\n",
       "1136       666610489  1307669133 2019-08-13    92550     A\n",
       "744       3668308183   888512513 2019-08-27    86620     B\n",
       "743       3603576309  4133034833 2019-08-09    67990     A\n",
       "...              ...         ...        ...      ...   ...\n",
       "404       2052514069  1995481842 2019-08-28       70     B\n",
       "933       3760662696  3577713868 2019-08-27       60     B\n",
       "584       1126146019  2705308997 2019-08-20       50     A\n",
       "756        125335873  3423937755 2019-08-30       50     B\n",
       "459        863448794  2738601405 2019-08-19       50     B\n",
       "\n",
       "[1016 rows x 5 columns]"
      ]
     },
     "execution_count": 35,
     "metadata": {},
     "output_type": "execute_result"
    }
   ],
   "source": [
    "# Сортируем заказы по стоимости\n",
    "\n",
    "orders.sort_values(by='revenue', ascending=False)"
   ]
  },
  {
   "cell_type": "markdown",
   "id": "631ed4a3-895a-4192-8758-3e7bb6fa7b41",
   "metadata": {},
   "source": [
    "Максимальная сумма заказа составляет 1294500 и принадлежит группе B. При этом данная стоимость более чем в 6 раз больше от ближайшего по стоимости заказа. Данный заказ от 19 августа стал виновником скачка на [графиках кумулятивных данных](#Графики_кумулятивных_данных) по выручке и среднему чеку. И только два заказа имеют выручку более 200000, выручка остальных заказов менее 100000.  \n",
    "Минимальная сумма заказа равна 50."
   ]
  },
  {
   "cell_type": "code",
   "execution_count": 36,
   "id": "f30004e1-0897-48cf-badf-f27e84771d17",
   "metadata": {},
   "outputs": [
    {
     "data": {
      "image/png": "[encoded data removed]",
      "text/plain": [
       "<Figure size 700x400 with 1 Axes>"
      ]
     },
     "metadata": {},
     "output_type": "display_data"
    }
   ],
   "source": [
    "plt.figure(figsize = (7, 4))\n",
    "\n",
    "plt.hist(orders['revenue']) \n",
    "plt.title('Стоимость заказов по пользователям')\n",
    "plt.xlabel('Выручка миллионах')\n",
    "plt.ylabel('Количество пользователей')\n",
    "plt.show()"
   ]
  },
  {
   "cell_type": "markdown",
   "id": "05682a49-2fe4-4f45-94df-07801162793d",
   "metadata": {},
   "source": [
    "Гистограмма демонстрирует, что подавляющее число заказов не превышают 200000."
   ]
  },
  {
   "cell_type": "code",
   "execution_count": 37,
   "id": "6f6b6758-ec4a-4df4-a2cf-04904aab23fb",
   "metadata": {},
   "outputs": [
    {
     "data": {
      "image/png": "[encoded data removed]",
      "text/plain": [
       "<Figure size 700x400 with 1 Axes>"
      ]
     },
     "metadata": {},
     "output_type": "display_data"
    }
   ],
   "source": [
    "x_values = pd.Series(range(0,len(orders['revenue'])))\n",
    "\n",
    "plt.figure(figsize = (7, 4))\n",
    "plt.scatter(x_values, orders['revenue']) \n",
    "plt.title('Стоимость заказов по пользователям')\n",
    "plt.xlabel('Пользователи')\n",
    "plt.ylabel('Стоимость заказов')\n",
    "plt.show()"
   ]
  },
  {
   "cell_type": "markdown",
   "id": "b0467d20-be4b-40b3-a7a8-87b658a8e2a2",
   "metadata": {},
   "source": [
    "Точечный график также наглядно демострирует, что только два заказа имют выручку более 200000.\n",
    "\n",
    "Стоит рассмотреть подробнее заказы с выручкой менее 100000:"
   ]
  },
  {
   "cell_type": "code",
   "execution_count": 38,
   "id": "ea30fa99-c112-44ff-8b3f-5bfdc07dd38d",
   "metadata": {},
   "outputs": [
    {
     "data": {
      "image/png": "[encoded data removed]",
      "text/plain": [
       "<Figure size 700x400 with 1 Axes>"
      ]
     },
     "metadata": {},
     "output_type": "display_data"
    }
   ],
   "source": [
    "plt.figure(figsize = (7, 4))\n",
    "plt.scatter(x_values, orders['revenue']) \n",
    "plt.title('Стоимость заказов по пользователям (выручка до 100000)')\n",
    "plt.xlabel('Пользователи')\n",
    "plt.ylabel('Стоимость заказов')\n",
    "plt.ylim(0, 100000)\n",
    "plt.show()"
   ]
  },
  {
   "cell_type": "markdown",
   "id": "3c1deadb-e11b-4809-9697-2ee0ed3c290a",
   "metadata": {},
   "source": [
    "На точечном графике заказов с выручкой менее 100000 хорошо заметно, что большая часть заказов имеют выручку до 20000."
   ]
  },
  {
   "cell_type": "markdown",
   "id": "f9bbb896-3d4e-4477-9f26-d2a6e6758c0e",
   "metadata": {},
   "source": [
    "## 95-й и 99-й перцентили стоимости заказов. Выбор границы для определения аномальных заказов"
   ]
  },
  {
   "cell_type": "code",
   "execution_count": 54,
   "id": "1274cc57-1c26-4cf6-9f73-05ccdca9fbfa",
   "metadata": {},
   "outputs": [
    {
     "name": "stdout",
     "output_type": "stream",
     "text": [
      "[26785. 53904.]\n"
     ]
    }
   ],
   "source": [
    "# Находим 95-й и 99-й перцентили стоимости заказов\n",
    "\n",
    "print(np.percentile(orders['revenue'], [95, 99]))"
   ]
  },
  {
   "cell_type": "markdown",
   "id": "9c94565f-dc2e-433e-9586-a11486d76570",
   "metadata": {},
   "source": [
    "Не более 5% заказов дороже 26785 и не более 1% дороже 53904. В данном случае границей для выбора аномальных заказов можно выбрать выручку более 40000."
   ]
  },
  {
   "cell_type": "markdown",
   "id": "78e60a15-0ed2-48b1-a535-e72d76341cf7",
   "metadata": {},
   "source": [
    "## Итоги анализа выбросов и всплесков данных <a id='Итоги_анализа_выбросов'></a>\n",
    "Согласно проведённому анализу:\n",
    "- Пользователи совершали от 1 до 3 заказов. При этом 3 заказа совершили менее 1% пользователей;\n",
    "- Имеются сильные выбросы в стоимости заказов. Заказ с наибольшей стоимостью в 6 раз превосходит заказ на втором месте по стоимости, а он в свою очередь также более чем в два раза отрывается от заказа на третьем месте. При этом менее 5% заказов имею стоимость более 26785.\n",
    "\n",
    "Примем за аномальные значения следующие:\n",
    "- Пользователей, кто совершил более 2 заказов (менее 1%);\n",
    "- Заказы дороже 40 000 (менее 5%)."
   ]
  },
  {
   "cell_type": "markdown",
   "id": "897bb087-328c-402a-9390-6008759e5bf5",
   "metadata": {},
   "source": [
    "# Подсчёт статистической значимости <a id ='statistical_significance'></a>"
   ]
  },
  {
   "cell_type": "markdown",
   "id": "d343fc2d-50d8-42db-aacb-76c642af1341",
   "metadata": {},
   "source": [
    "## Cтатистическая значимость различий в среднем количестве заказов на посетителя между группами по «сырым» данным"
   ]
  },
  {
   "cell_type": "markdown",
   "id": "63698cff-4eda-42b5-81bc-871e7129ad6c",
   "metadata": {},
   "source": [
    "Подготовка данных для посчёта статистической значимости различий в среднем числе заказов на пользователя и среднем чеке между группами по «сырым» данным — без удаления аномальных пользователей:"
   ]
  },
  {
   "cell_type": "code",
   "execution_count": 40,
   "id": "7ff37e18-aa6c-4ca9-a94e-b55bcb3b015f",
   "metadata": {},
   "outputs": [
    {
     "data": {
      "text/html": [
       "<div>\n",
       "<style scoped>\n",
       "    .dataframe tbody tr th:only-of-type {\n",
       "        vertical-align: middle;\n",
       "    }\n",
       "\n",
       "    .dataframe tbody tr th {\n",
       "        vertical-align: top;\n",
       "    }\n",
       "\n",
       "    .dataframe thead th {\n",
       "        text-align: right;\n",
       "    }\n",
       "</style>\n",
       "<table border=\"1\" class=\"dataframe\">\n",
       "  <thead>\n",
       "    <tr style=\"text-align: right;\">\n",
       "      <th></th>\n",
       "      <th>date</th>\n",
       "      <th>ordersPerDateA</th>\n",
       "      <th>revenuePerDateA</th>\n",
       "      <th>ordersPerDateB</th>\n",
       "      <th>revenuePerDateB</th>\n",
       "      <th>ordersCummulativeA</th>\n",
       "      <th>revenueCummulativeA</th>\n",
       "      <th>ordersCummulativeB</th>\n",
       "      <th>revenueCummulativeB</th>\n",
       "      <th>visitorsPerDateA</th>\n",
       "      <th>visitorsPerDateB</th>\n",
       "      <th>visitorsCummulativeA</th>\n",
       "      <th>visitorsCummulativeB</th>\n",
       "    </tr>\n",
       "  </thead>\n",
       "  <tbody>\n",
       "    <tr>\n",
       "      <th>0</th>\n",
       "      <td>2019-08-01</td>\n",
       "      <td>23</td>\n",
       "      <td>142779</td>\n",
       "      <td>17</td>\n",
       "      <td>59758</td>\n",
       "      <td>23</td>\n",
       "      <td>142779</td>\n",
       "      <td>17</td>\n",
       "      <td>59758</td>\n",
       "      <td>719</td>\n",
       "      <td>713</td>\n",
       "      <td>719</td>\n",
       "      <td>713</td>\n",
       "    </tr>\n",
       "    <tr>\n",
       "      <th>1</th>\n",
       "      <td>2019-08-02</td>\n",
       "      <td>19</td>\n",
       "      <td>91602</td>\n",
       "      <td>23</td>\n",
       "      <td>162043</td>\n",
       "      <td>42</td>\n",
       "      <td>234381</td>\n",
       "      <td>40</td>\n",
       "      <td>221801</td>\n",
       "      <td>619</td>\n",
       "      <td>581</td>\n",
       "      <td>1338</td>\n",
       "      <td>1294</td>\n",
       "    </tr>\n",
       "    <tr>\n",
       "      <th>2</th>\n",
       "      <td>2019-08-03</td>\n",
       "      <td>24</td>\n",
       "      <td>112473</td>\n",
       "      <td>14</td>\n",
       "      <td>67049</td>\n",
       "      <td>66</td>\n",
       "      <td>346854</td>\n",
       "      <td>54</td>\n",
       "      <td>288850</td>\n",
       "      <td>507</td>\n",
       "      <td>509</td>\n",
       "      <td>1845</td>\n",
       "      <td>1803</td>\n",
       "    </tr>\n",
       "    <tr>\n",
       "      <th>3</th>\n",
       "      <td>2019-08-04</td>\n",
       "      <td>11</td>\n",
       "      <td>41176</td>\n",
       "      <td>14</td>\n",
       "      <td>96890</td>\n",
       "      <td>77</td>\n",
       "      <td>388030</td>\n",
       "      <td>68</td>\n",
       "      <td>385740</td>\n",
       "      <td>717</td>\n",
       "      <td>770</td>\n",
       "      <td>2562</td>\n",
       "      <td>2573</td>\n",
       "    </tr>\n",
       "    <tr>\n",
       "      <th>4</th>\n",
       "      <td>2019-08-05</td>\n",
       "      <td>22</td>\n",
       "      <td>86383</td>\n",
       "      <td>21</td>\n",
       "      <td>89908</td>\n",
       "      <td>99</td>\n",
       "      <td>474413</td>\n",
       "      <td>89</td>\n",
       "      <td>475648</td>\n",
       "      <td>756</td>\n",
       "      <td>707</td>\n",
       "      <td>3318</td>\n",
       "      <td>3280</td>\n",
       "    </tr>\n",
       "  </tbody>\n",
       "</table>\n",
       "</div>"
      ],
      "text/plain": [
       "        date  ordersPerDateA  revenuePerDateA  ordersPerDateB  \\\n",
       "0 2019-08-01              23           142779              17   \n",
       "1 2019-08-02              19            91602              23   \n",
       "2 2019-08-03              24           112473              14   \n",
       "3 2019-08-04              11            41176              14   \n",
       "4 2019-08-05              22            86383              21   \n",
       "\n",
       "   revenuePerDateB  ordersCummulativeA  revenueCummulativeA  \\\n",
       "0            59758                  23               142779   \n",
       "1           162043                  42               234381   \n",
       "2            67049                  66               346854   \n",
       "3            96890                  77               388030   \n",
       "4            89908                  99               474413   \n",
       "\n",
       "   ordersCummulativeB  revenueCummulativeB  visitorsPerDateA  \\\n",
       "0                  17                59758               719   \n",
       "1                  40               221801               619   \n",
       "2                  54               288850               507   \n",
       "3                  68               385740               717   \n",
       "4                  89               475648               756   \n",
       "\n",
       "   visitorsPerDateB  visitorsCummulativeA  visitorsCummulativeB  \n",
       "0               713                   719                   713  \n",
       "1               581                  1338                  1294  \n",
       "2               509                  1845                  1803  \n",
       "3               770                  2562                  2573  \n",
       "4               707                  3318                  3280  "
      ]
     },
     "execution_count": 40,
     "metadata": {},
     "output_type": "execute_result"
    }
   ],
   "source": [
    "visitorsADaily = visitors[visitors['group'] == 'A'][['date', 'visitors']]\n",
    "visitorsADaily.columns = ['date', 'visitorsPerDateA']\n",
    "\n",
    "visitorsACummulative = visitorsADaily.apply(\n",
    "    lambda x: visitorsADaily[visitorsADaily['date'] <= x['date']].agg(\n",
    "        {'date': 'max', 'visitorsPerDateA': 'sum'}\n",
    "    ),\n",
    "    axis=1,\n",
    ")\n",
    "visitorsACummulative.columns = ['date', 'visitorsCummulativeA']\n",
    "\n",
    "visitorsBDaily = visitors[visitors['group'] == 'B'][['date', 'visitors']]\n",
    "visitorsBDaily.columns = ['date', 'visitorsPerDateB']\n",
    "\n",
    "visitorsBCummulative = visitorsBDaily.apply(\n",
    "    lambda x: visitorsBDaily[visitorsBDaily['date'] <= x['date']].agg(\n",
    "        {'date': 'max', 'visitorsPerDateB': 'sum'}\n",
    "    ),\n",
    "    axis=1,\n",
    ")\n",
    "visitorsBCummulative.columns = ['date', 'visitorsCummulativeB']\n",
    "\n",
    "ordersADaily = (\n",
    "    orders[orders['group'] == 'A'][['date', 'transaction_id', 'visitor_id', 'revenue']]\n",
    "    .groupby('date', as_index=False)\n",
    "    .agg({'transaction_id': pd.Series.nunique, 'revenue': 'sum'})\n",
    ")\n",
    "ordersADaily.columns = ['date', 'ordersPerDateA', 'revenuePerDateA']\n",
    "\n",
    "ordersACummulative = ordersADaily.apply(\n",
    "    lambda x: ordersADaily[ordersADaily['date'] <= x['date']].agg(\n",
    "        {'date': 'max', 'ordersPerDateA': 'sum', 'revenuePerDateA': 'sum'}\n",
    "    ),\n",
    "    axis=1,\n",
    ").sort_values(by=['date'])\n",
    "ordersACummulative.columns = [\n",
    "    'date',\n",
    "    'ordersCummulativeA',\n",
    "    'revenueCummulativeA',\n",
    "]\n",
    "\n",
    "ordersBDaily = (\n",
    "    orders[orders['group'] == 'B'][['date', 'transaction_id', 'visitor_id', 'revenue']]\n",
    "    .groupby('date', as_index=False)\n",
    "    .agg({'transaction_id': pd.Series.nunique, 'revenue': 'sum'})\n",
    ")\n",
    "ordersBDaily.columns = ['date', 'ordersPerDateB', 'revenuePerDateB']\n",
    "\n",
    "ordersBCummulative = ordersBDaily.apply(\n",
    "    lambda x: ordersBDaily[ordersBDaily['date'] <= x['date']].agg(\n",
    "        {'date': 'max', 'ordersPerDateB': 'sum', 'revenuePerDateB': 'sum'}\n",
    "    ),\n",
    "    axis=1,\n",
    ").sort_values(by=['date'])\n",
    "ordersBCummulative.columns = [\n",
    "    'date',\n",
    "    'ordersCummulativeB',\n",
    "    'revenueCummulativeB',\n",
    "]\n",
    "\n",
    "data = (\n",
    "    ordersADaily.merge(\n",
    "        ordersBDaily, left_on='date', right_on='date', how='left'\n",
    "    )\n",
    "    .merge(ordersACummulative, left_on='date', right_on='date', how='left')\n",
    "    .merge(ordersBCummulative, left_on='date', right_on='date', how='left')\n",
    "    .merge(visitorsADaily, left_on='date', right_on='date', how='left')\n",
    "    .merge(visitorsBDaily, left_on='date', right_on='date', how='left')\n",
    "    .merge(visitorsACummulative, left_on='date', right_on='date', how='left')\n",
    "    .merge(visitorsBCummulative, left_on='date', right_on='date', how='left')\n",
    ")\n",
    "\n",
    "data.head(5)"
   ]
  },
  {
   "cell_type": "markdown",
   "id": "32279ef2-f0e6-4e7c-8bca-1812b76629a6",
   "metadata": {},
   "source": [
    "Данные сформированы успешно.\n",
    "\n",
    "Описание столбцов:\n",
    "- **date** — дата;\n",
    "- **ordersPerDateA** — количество заказов в выбранную дату в группе A;\n",
    "- **revenuePerDateA** — суммарная выручка в выбранную дату в группе A;\n",
    "- **ordersPerDateB** — количество заказов в выбранную дату в группе B;\n",
    "- **revenuePerDateB** — суммарная выручка в выбранную дату в группе B;\n",
    "- **ordersCummulativeA** — суммарное число заказов до выбранной даты включительно в группе A;\n",
    "- **revenueCummulativeA** — суммарная выручка до выбранной даты включительно в группе A;\n",
    "- **ordersCummulativeB** — суммарное количество заказов до выбранной даты включительно в группе B;\n",
    "- **revenueCummulativeB** — суммарная выручка до выбранной даты включительно в группе B;\n",
    "- **visitorsPerDateA** — количество пользователей в выбранную дату в группе A;\n",
    "- **visitorsPerDateB** — количество пользователей в выбранную дату в группе B;\n",
    "- **visitorsCummulativeA** — количество пользователей до выбранной даты включительно в группе A;\n",
    "- **visitorsCummulativeB** — количество пользователей до выбранной даты включительно в группе B."
   ]
  },
  {
   "cell_type": "markdown",
   "id": "bdbbac75-b503-4c85-8b3c-0242b6ea12f8",
   "metadata": {},
   "source": [
    "Сформулируем гипотезы:\n",
    "- Нулевая: различий в среднем количестве заказов между группами нет;\n",
    "- Альтернативная: различия в среднем между группами есть.\n",
    "\n",
    "Посчитаем статистическую значимость различия в среднем количестве заказов между группами."
   ]
  },
  {
   "cell_type": "markdown",
   "id": "58ffe5b1-e535-4c2c-b4f4-f010e79c739f",
   "metadata": {},
   "source": [
    "Создадим переменные *ordersByUsersA* и *ordersByUsersB* со столбцами 'visitor_id' и 'transactions'. В них для пользователей укажем число совершённых заказов. "
   ]
  },
  {
   "cell_type": "code",
   "execution_count": 41,
   "id": "028fc856-ed46-4e2a-8505-0be1e4b33ae7",
   "metadata": {},
   "outputs": [],
   "source": [
    "ordersByUsersA = (\n",
    "    orders[orders['group'] == 'A']\n",
    "    .groupby('visitor_id', as_index=False)\n",
    "    .agg({'transaction_id': pd.Series.nunique})\n",
    ")\n",
    "ordersByUsersA.columns = ['visitor_id', 'transactions']\n",
    "\n",
    "ordersByUsersB = (\n",
    "    orders[orders['group'] == 'B']\n",
    "    .groupby('visitor_id', as_index=False)\n",
    "    .agg({'transaction_id': pd.Series.nunique})\n",
    ")\n",
    "ordersByUsersB.columns = ['visitor_id', 'transactions']"
   ]
  },
  {
   "cell_type": "markdown",
   "id": "fe8eabc2-5a12-45ad-8de3-24485e3b0d43",
   "metadata": {},
   "source": [
    "Объявим переменные *sampleA* и *sampleB*, в которых пользователям из разных групп будет соответствовать количество заказов. Тем, кто ничего не заказал, будут соответствовать нули. Это нужно, чтобы подготовить выборки к проверке критерием Манна-Уитни."
   ]
  },
  {
   "cell_type": "code",
   "execution_count": 42,
   "id": "96618632-92df-4b4d-b19a-004f9fee234e",
   "metadata": {},
   "outputs": [],
   "source": [
    "sampleA = pd.concat(\n",
    "    [\n",
    "        ordersByUsersA['transactions'],\n",
    "        pd.Series(\n",
    "            0,\n",
    "            index=np.arange(\n",
    "                data['visitorsPerDateA'].sum() - len(ordersByUsersA['transactions'])\n",
    "            ),\n",
    "            name='transactions',\n",
    "        ),\n",
    "    ],\n",
    "    axis=0,\n",
    ")\n",
    "\n",
    "sampleB = pd.concat(\n",
    "    [\n",
    "        ordersByUsersB['transactions'],\n",
    "        pd.Series(\n",
    "            0,\n",
    "            index=np.arange(\n",
    "                data['visitorsPerDateB'].sum() - len(ordersByUsersB['transactions'])\n",
    "            ),\n",
    "            name='transactions',\n",
    "        ),\n",
    "    ],\n",
    "    axis=0,\n",
    ")"
   ]
  },
  {
   "cell_type": "markdown",
   "id": "54278285-362c-4caf-b881-277820e949ef",
   "metadata": {},
   "source": [
    "Применим критерий Манна-Уитни и отформатируем p-value, округлив его до трёх знаков после запятой:"
   ]
  },
  {
   "cell_type": "code",
   "execution_count": 43,
   "id": "2ee3e5cf-ae54-45bb-a7e0-a27546cdc9bf",
   "metadata": {},
   "outputs": [
    {
     "data": {
      "text/plain": [
       "0.011"
      ]
     },
     "execution_count": 43,
     "metadata": {},
     "output_type": "execute_result"
    }
   ],
   "source": [
    "stats.mannwhitneyu(sampleA, sampleB)[1].round(3)"
   ]
  },
  {
   "cell_type": "markdown",
   "id": "f82ec651-03f5-4809-afee-26f6fb816ab7",
   "metadata": {},
   "source": [
    "P-value равен 0.011, что меньше 0.05. Значит согласно «сырым» данным **отвергаем** нулевую гипотезу о том, что статистически значимых различий в среднем числе заказов между группами нет."
   ]
  },
  {
   "cell_type": "code",
   "execution_count": 44,
   "id": "fc5b346f-9e87-4741-9d5a-43469a053f23",
   "metadata": {},
   "outputs": [
    {
     "data": {
      "text/plain": [
       "0.16"
      ]
     },
     "execution_count": 44,
     "metadata": {},
     "output_type": "execute_result"
    }
   ],
   "source": [
    "(sampleB.mean() / sampleA.mean() - 1).round(3)"
   ]
  },
  {
   "cell_type": "markdown",
   "id": "39884be7-4dc3-4958-a586-5c83f0d6fd61",
   "metadata": {},
   "source": [
    "Выигрыш группы B равен 16%.\n",
    "\n",
    "Полученные данные говорят о том, что согласно «сырым» данным группа B выгодно отличается по среднему числу заказов на посетителя и это отличие от группы A является статистически значимым."
   ]
  },
  {
   "cell_type": "markdown",
   "id": "58007f98-967f-4ec6-9a40-e9259e01fa69",
   "metadata": {},
   "source": [
    "## Статистическая значимость различий в среднем чеке заказа между группами по «сырым» данным"
   ]
  },
  {
   "cell_type": "markdown",
   "id": "af77c951-6a12-4f3f-a4d5-27e53bbb5f9a",
   "metadata": {},
   "source": [
    "Сформулируем гипотезы:\n",
    "- Нулевая: различий в среднем чеке заказа между группами нет;\n",
    "- Альтернативная: различия в среднем между группами есть."
   ]
  },
  {
   "cell_type": "code",
   "execution_count": 45,
   "id": "3be4f048-fed8-4be5-82a4-a625b9801273",
   "metadata": {},
   "outputs": [
    {
     "data": {
      "text/plain": [
       "0.829"
      ]
     },
     "execution_count": 45,
     "metadata": {},
     "output_type": "execute_result"
    }
   ],
   "source": [
    "stats.mannwhitneyu(orders[orders['group']=='A']['revenue'], orders[orders['group']=='B']['revenue'])[1].round(3)"
   ]
  },
  {
   "cell_type": "markdown",
   "id": "413d91f8-c6f8-4531-8834-0b13278726b4",
   "metadata": {},
   "source": [
    "P-value значительно больше 0.05. Значит, причин отвергать нулевую гипотезу и считать, что в среднем чеке есть различия, нет."
   ]
  },
  {
   "cell_type": "code",
   "execution_count": 46,
   "id": "ff1729b6-7776-4a60-8fcc-7f3836fe2607",
   "metadata": {},
   "outputs": [
    {
     "data": {
      "text/plain": [
       "0.287"
      ]
     },
     "execution_count": 46,
     "metadata": {},
     "output_type": "execute_result"
    }
   ],
   "source": [
    "(orders[orders['group']=='B']['revenue'].mean()/orders[orders['group']=='A']['revenue'].mean()-1).round(3)"
   ]
  },
  {
   "cell_type": "markdown",
   "id": "32e6e4ab-76f1-408d-a5bb-3c95b30f36f0",
   "metadata": {},
   "source": [
    "Средний чек группы B выше среднего чека группы A на 28.7%.\n",
    "\n",
    "Полученные данные говорят о том, что согласно «сырым» данным группа B выгодно отличается по среднему чеку заказа, но статистически значимого различия от группы при этом нет."
   ]
  },
  {
   "cell_type": "markdown",
   "id": "1c4ec788-63b4-4a24-bd42-9588405f617a",
   "metadata": {},
   "source": [
    "## Статистическая значимость различий в среднем количестве заказов на посетителя между группами по «очищенным» данным <a id='очищенные_данные'></a>"
   ]
  },
  {
   "cell_type": "markdown",
   "id": "e25ae59e-bae7-4079-8b5b-ba691c38b0f7",
   "metadata": {},
   "source": [
    "Согласно [итогам анализа выбросов](#Итоги_анализа_выбросов) и всплесков, примаем за аномальных пользователей тех, кто более 2 заказов или совершил заказ дороже 40 000 рублей:"
   ]
  },
  {
   "cell_type": "code",
   "execution_count": 47,
   "id": "b249222c-c56e-4f9e-bf5c-3c375071ec3d",
   "metadata": {},
   "outputs": [
    {
     "data": {
      "text/plain": [
       "30"
      ]
     },
     "execution_count": 47,
     "metadata": {},
     "output_type": "execute_result"
    }
   ],
   "source": [
    "usersWithManyOrders = pd.concat(\n",
    "    [\n",
    "        ordersByUsersA[ordersByUsersA['transactions'] > 2]['visitor_id'],\n",
    "        ordersByUsersB[ordersByUsersB['transactions'] > 2]['visitor_id'],\n",
    "    ],\n",
    "    axis=0,\n",
    ")\n",
    "usersWithExpensiveOrders = orders[orders['revenue'] > 40000]['visitor_id']\n",
    "abnormalUsers = (\n",
    "    pd.concat([usersWithManyOrders, usersWithExpensiveOrders], axis=0)\n",
    "    .drop_duplicates()\n",
    "    .sort_values()\n",
    ")\n",
    "\n",
    "abnormalUsers.shape[0]"
   ]
  },
  {
   "cell_type": "markdown",
   "id": "39a3cd62-9610-49d5-8af5-3b1df0d07201",
   "metadata": {},
   "source": [
    "Всего 30 аномальных пользователей.\n",
    "\n",
    "Посчитаем статистическую значимость различий в среднем количестве заказов между группами теста по очищенным данным:"
   ]
  },
  {
   "cell_type": "code",
   "execution_count": 48,
   "id": "0957b3f2-3a8a-406b-8be9-3e7138c3d162",
   "metadata": {},
   "outputs": [],
   "source": [
    "sampleAFiltered = pd.concat(\n",
    "    [\n",
    "        ordersByUsersA[\n",
    "            np.logical_not(ordersByUsersA['visitor_id'].isin(abnormalUsers))\n",
    "        ]['transactions'],\n",
    "        pd.Series(\n",
    "            0,\n",
    "            index=np.arange(\n",
    "                data['visitorsPerDateA'].sum() - len(ordersByUsersA['transactions'])\n",
    "            ),\n",
    "            name='transactions',\n",
    "        ),\n",
    "    ],\n",
    "    axis=0,\n",
    ")\n",
    "\n",
    "sampleBFiltered = pd.concat(\n",
    "    [\n",
    "        ordersByUsersB[\n",
    "            np.logical_not(ordersByUsersB['visitor_id'].isin(abnormalUsers))\n",
    "        ]['transactions'],\n",
    "        pd.Series(\n",
    "            0,\n",
    "            index=np.arange(\n",
    "                data['visitorsPerDateB'].sum() - len(ordersByUsersB['transactions'])\n",
    "            ),\n",
    "            name='transactions',\n",
    "        ),\n",
    "    ],\n",
    "    axis=0,\n",
    ") "
   ]
  },
  {
   "cell_type": "markdown",
   "id": "7e08ab3b-68b4-477d-8e76-8ec64b2daee9",
   "metadata": {},
   "source": [
    "Применим критерий Манна-Уитни и отформатируем p-value, округлив его до трёх знаков после запятой:"
   ]
  },
  {
   "cell_type": "code",
   "execution_count": 49,
   "id": "4e767e41-6c5b-45a4-8920-b07f02dc6031",
   "metadata": {},
   "outputs": [
    {
     "data": {
      "text/plain": [
       "0.004"
      ]
     },
     "execution_count": 49,
     "metadata": {},
     "output_type": "execute_result"
    }
   ],
   "source": [
    "stats.mannwhitneyu(sampleAFiltered, sampleBFiltered)[1].round(3)"
   ]
  },
  {
   "cell_type": "markdown",
   "id": "359af2b4-20ec-4889-adea-bfacfcd38859",
   "metadata": {},
   "source": [
    "P-value изменился в меньшую сторону и стал равен 0.004, что соответственно по-прежнему меньше 0.05. Значит согласно «очищенным» данным **отвергаем** нулевую гипотезу о том, что статистически значимых различий в среднем числе заказов между группами нет."
   ]
  },
  {
   "cell_type": "code",
   "execution_count": 50,
   "id": "1ba7e084-eda6-40f8-9f06-34992e33d31b",
   "metadata": {},
   "outputs": [
    {
     "data": {
      "text/plain": [
       "0.205"
      ]
     },
     "execution_count": 50,
     "metadata": {},
     "output_type": "execute_result"
    }
   ],
   "source": [
    "(sampleBFiltered.mean()/sampleAFiltered.mean()-1).round(3)"
   ]
  },
  {
   "cell_type": "markdown",
   "id": "69fd8822-be43-456f-bfbe-87d2c93d92c6",
   "metadata": {},
   "source": [
    "Выигрыш группы B равен 20.5%, что ещё больше по сравнению с результатами полученными на «сырых» данных.\n",
    "\n",
    "Полученные данные говорят о том, что согласно «очищенным» данным группа B выгодно отличается по среднему числу заказов на посетителя и это отличие от группы A является статистически значимым."
   ]
  },
  {
   "cell_type": "markdown",
   "id": "7b86a388-7a90-4939-af71-4e5feacbc815",
   "metadata": {},
   "source": [
    "## Статистическая значимость различий в среднем чеке заказа между группами по «очищенным» данным"
   ]
  },
  {
   "cell_type": "code",
   "execution_count": 51,
   "id": "197b3efc-f49d-4ef7-9525-fc6bac9f7f8e",
   "metadata": {},
   "outputs": [
    {
     "data": {
      "text/plain": [
       "0.829"
      ]
     },
     "execution_count": 51,
     "metadata": {},
     "output_type": "execute_result"
    }
   ],
   "source": [
    "stats.mannwhitneyu(orders[orders['group']=='A']['revenue'], orders[orders['group']=='B']['revenue'])[1].round(3)"
   ]
  },
  {
   "cell_type": "code",
   "execution_count": 52,
   "id": "0165689f-e830-4c48-885b-4da88900f950",
   "metadata": {},
   "outputs": [
    {
     "data": {
      "text/plain": [
       "0.937"
      ]
     },
     "execution_count": 52,
     "metadata": {},
     "output_type": "execute_result"
    }
   ],
   "source": [
    "stats.mannwhitneyu(\n",
    "    orders[\n",
    "        np.logical_and(\n",
    "            orders['group'] == 'A',\n",
    "            np.logical_not(orders['visitor_id'].isin(abnormalUsers)),\n",
    "        )\n",
    "    ]['revenue'],\n",
    "    orders[\n",
    "        np.logical_and(\n",
    "            orders['group'] == 'B',\n",
    "            np.logical_not(orders['visitor_id'].isin(abnormalUsers)),\n",
    "        )\n",
    "    ]['revenue'],\n",
    ")[1].round(3)"
   ]
  },
  {
   "cell_type": "markdown",
   "id": "ff85fb6c-91a8-447b-9d95-373d26c426c6",
   "metadata": {},
   "source": [
    "P-value после очистки данных увеличился. Причин отвергать нулевую гипотезу и считать, что в среднем чеке есть различия, по-прежнему нет."
   ]
  },
  {
   "cell_type": "code",
   "execution_count": 53,
   "id": "88138d9b-a4f8-404d-a337-70ff3b863c05",
   "metadata": {},
   "outputs": [
    {
     "data": {
      "text/plain": [
       "0.055"
      ]
     },
     "execution_count": 53,
     "metadata": {},
     "output_type": "execute_result"
    }
   ],
   "source": [
    "(\n",
    "    orders[\n",
    "    np.logical_and(\n",
    "        orders['group'] == 'B',\n",
    "        np.logical_not(orders['visitor_id'].isin(abnormalUsers)),\n",
    "    )\n",
    "]['revenue'].mean()\n",
    "/ orders[\n",
    "    np.logical_and(\n",
    "        orders['group'] == 'A',\n",
    "        np.logical_not(orders['visitor_id'].isin(abnormalUsers)),\n",
    "    )\n",
    "]['revenue'].mean()\n",
    "- 1\n",
    ").round(3)"
   ]
  },
  {
   "cell_type": "markdown",
   "id": "ad2783fd-edef-431c-9039-02ec1d255a27",
   "metadata": {},
   "source": [
    "Средний чек группы B снова выше среднего чека группы A на 5.5% согласно результатам полученным на «очищенных» данных. Но это значительно меньше, чем 28.7% полученных на «сырых» данных.\n",
    "\n",
    "Полученные данные говорят о том, что согласно «сырым» данным группа B превосходит группу A по среднему чеку заказа, но статистически значимого различия от группы при этом нет."
   ]
  },
  {
   "cell_type": "markdown",
   "id": "14c0c09b-a4b4-4077-b275-293169f2dfb2",
   "metadata": {},
   "source": [
    "## Итоги подсчёта статистической значимости\n",
    "- Имеется статистически значимое различия по среднему количеству заказов между группами как по «сырым», так и по данным после фильтрации аномалий.  \n",
    "При этом выигрыш группы B над группой A по среднему количеству заказов составил:\n",
    "    - 16% согласно «сырым» данным;\n",
    "    - 20.5% согласно «очищенным» данным.\n",
    "- Нет статистически значимого различия по среднему чеку между группами ни по «сырым», ни по данным после фильтрации аномалий.  \n",
    "При этом выигрыш группы B над группой A по среднему чеку заказа составил:\n",
    "    - 28.7% согласно «сырым» данным;\n",
    "    - 5.5% согласно «очищенным» данным."
   ]
  },
  {
   "cell_type": "markdown",
   "id": "8d7a6ade-9adb-4074-b248-2549bdf3e881",
   "metadata": {},
   "source": [
    "# Решение по результатам теста <a id='decision'></a>\n",
    "По результатам анализа результатов A/B-теста, **тест следует остановить**. Поскольку согласно [графикам кумулятивных данных](#Итоги_анализа_кумулятивных_данных), значения выручки, среднего чека и среднего количества заказов на посетителя, стабилизируются к концу месяца и нет необходимости продолжать наблюдение.\n",
    "\n",
    "Группа B является победителем по среднему количеству заказов.\n",
    "\n",
    "Различия по среднему чеку между группами отсутствуют."
   ]
  },
  {
   "cell_type": "markdown",
   "id": "0b451c2c-ade3-4b08-b16b-22bf63490bc6",
   "metadata": {},
   "source": [
    "# Общий вывод по результатам анализа A/B-теста <a id='общий_вывод'></a>\n",
    "\n",
    "Анализ «сырых» кумулятивных данных показал, что во второй половине августа у группы B наблюдался аномальный всплеск в показателях выручки и среднего чека, который удалось [локализовать](#всплеск_выручки) на этапе анализа выросов и всплесков и [устранить](#очищенные_данные) при подсчёте статистической значимости.  \n",
    "Наиболее наглядным является *среднее кол-во заказов на посетителя*, т.к. не характеризуется всплесками и во второй половине теста группа B показала стабильно более высокий результат.\n",
    "В целом во всех кумулятивных данных наблюдаются всплески в начале теста, что связано с малым количеством наблюдений. К концу теста для каждого из показателей наблюдается стабилизация графика.\n",
    "\n",
    "По результатам проведённого анализа выбросов и всплесков данных удалось исключить из анализа 30 следующих аномальных записей:\n",
    "- Пользователей, кто совершил более 2 заказов (менее 1%);\n",
    "- Заказы дороже 40 000 (менее 5%).\n",
    "\n",
    "## Результаты анализа теста групп A и B\n",
    "Результаты сравнения между собой групп A и B по **среднему количеству заказов на посетителя** показали статистически значимый выигрыш группы B:\n",
    "- 16% согласно «сырым» данным;\n",
    "- 20.5% согласно «очищенным» данным.\n",
    "\n",
    "А при сравнении между собой групп A и B по **среднему чеку**, нельзя говорить что одна группа превосходит другую, т.к. статистически значимого различия одной группы от другой, нет. При этом оносительные показатели выигрыша группы B над группой A следующие:\n",
    "- 28.7% согласно «сырым» данным;\n",
    "- 5.5% согласно «очищенным» данным.\n",
    "\n",
    "## Решение по результатам теста\n",
    "По результатам анализа результатов A/B-теста, **тест следует остановить**.  \n",
    "Гипотезу проверяемую в тесте следует признать для группы B следует признать успешной, она выступила победителем по среднему количеству заказов.  \n",
    "При этом различия по среднему чеку между группами отсутствуют."
   ]
  },
  {
   "cell_type": "code",
   "execution_count": null,
   "id": "8dfb1d01",
   "metadata": {},
   "outputs": [],
   "source": []
  }
 ],
 "metadata": {
  "ExecuteTimeLog": [
   {
    "duration": 1276,
    "start_time": "2023-06-28T06:45:50.004Z"
   },
   {
    "duration": 3,
    "start_time": "2023-06-28T06:45:51.282Z"
   },
   {
    "duration": 130,
    "start_time": "2023-06-28T06:45:51.286Z"
   },
   {
    "duration": 46,
    "start_time": "2023-06-28T06:45:51.418Z"
   },
   {
    "duration": 10,
    "start_time": "2023-06-28T06:45:51.466Z"
   },
   {
    "duration": 17,
    "start_time": "2023-06-28T06:45:51.477Z"
   },
   {
    "duration": 27,
    "start_time": "2023-06-28T06:45:51.495Z"
   },
   {
    "duration": 23,
    "start_time": "2023-06-28T06:45:51.523Z"
   },
   {
    "duration": 237,
    "start_time": "2023-06-28T06:45:51.547Z"
   },
   {
    "duration": 9,
    "start_time": "2023-06-28T06:45:51.787Z"
   },
   {
    "duration": 7,
    "start_time": "2023-06-28T06:45:51.797Z"
   },
   {
    "duration": 16,
    "start_time": "2023-06-28T06:45:51.806Z"
   },
   {
    "duration": 19,
    "start_time": "2023-06-28T06:45:51.824Z"
   },
   {
    "duration": 84,
    "start_time": "2023-06-28T06:45:51.844Z"
   },
   {
    "duration": 23,
    "start_time": "2023-06-28T06:45:51.930Z"
   },
   {
    "duration": 332,
    "start_time": "2023-06-28T06:45:51.955Z"
   },
   {
    "duration": 7,
    "start_time": "2023-06-28T06:45:52.288Z"
   },
   {
    "duration": 18,
    "start_time": "2023-06-28T06:45:52.296Z"
   },
   {
    "duration": 16,
    "start_time": "2023-06-28T06:45:52.316Z"
   },
   {
    "duration": 29,
    "start_time": "2023-06-28T06:45:52.334Z"
   },
   {
    "duration": 18,
    "start_time": "2023-06-28T06:45:52.365Z"
   },
   {
    "duration": 18,
    "start_time": "2023-06-28T06:45:52.385Z"
   },
   {
    "duration": 4,
    "start_time": "2023-06-28T06:45:52.404Z"
   },
   {
    "duration": 37,
    "start_time": "2023-06-28T06:45:52.409Z"
   },
   {
    "duration": 16,
    "start_time": "2023-06-28T06:45:52.449Z"
   },
   {
    "duration": 15,
    "start_time": "2023-06-28T06:45:52.467Z"
   },
   {
    "duration": 42,
    "start_time": "2023-06-28T06:45:52.484Z"
   },
   {
    "duration": 27,
    "start_time": "2023-06-28T06:45:52.531Z"
   },
   {
    "duration": 162,
    "start_time": "2023-06-28T06:45:52.560Z"
   },
   {
    "duration": 133,
    "start_time": "2023-06-28T06:45:52.724Z"
   },
   {
    "duration": 16,
    "start_time": "2023-06-28T06:45:52.859Z"
   },
   {
    "duration": 288,
    "start_time": "2023-06-28T06:45:52.876Z"
   },
   {
    "duration": 234,
    "start_time": "2023-06-28T06:45:53.166Z"
   },
   {
    "duration": 363,
    "start_time": "2023-06-28T06:45:53.401Z"
   },
   {
    "duration": 204,
    "start_time": "2023-06-28T06:45:53.766Z"
   },
   {
    "duration": 288,
    "start_time": "2023-06-28T06:45:53.971Z"
   },
   {
    "duration": 14,
    "start_time": "2023-06-28T06:45:54.261Z"
   },
   {
    "duration": 104,
    "start_time": "2023-06-28T06:45:54.276Z"
   },
   {
    "duration": 171,
    "start_time": "2023-06-28T06:45:54.381Z"
   },
   {
    "duration": 5,
    "start_time": "2023-06-28T06:45:54.554Z"
   },
   {
    "duration": 25,
    "start_time": "2023-06-28T06:45:54.561Z"
   },
   {
    "duration": 146,
    "start_time": "2023-06-28T06:45:54.587Z"
   },
   {
    "duration": 173,
    "start_time": "2023-06-28T06:45:54.735Z"
   },
   {
    "duration": 136,
    "start_time": "2023-06-28T06:45:54.910Z"
   },
   {
    "duration": 4,
    "start_time": "2023-06-28T06:45:55.048Z"
   },
   {
    "duration": 232,
    "start_time": "2023-06-28T06:45:55.053Z"
   },
   {
    "duration": 121,
    "start_time": "2023-06-28T06:45:55.286Z"
   },
   {
    "duration": 6,
    "start_time": "2023-06-28T06:45:55.408Z"
   },
   {
    "duration": 33,
    "start_time": "2023-06-28T06:45:55.416Z"
   },
   {
    "duration": 6,
    "start_time": "2023-06-28T06:45:55.451Z"
   },
   {
    "duration": 17,
    "start_time": "2023-06-28T06:45:55.459Z"
   },
   {
    "duration": 8,
    "start_time": "2023-06-28T06:45:55.477Z"
   },
   {
    "duration": 19,
    "start_time": "2023-06-28T06:45:55.487Z"
   },
   {
    "duration": 27,
    "start_time": "2023-06-28T06:45:55.508Z"
   },
   {
    "duration": 48,
    "start_time": "2023-06-28T06:45:55.537Z"
   },
   {
    "duration": 4,
    "start_time": "2023-06-28T06:45:55.588Z"
   },
   {
    "duration": 10,
    "start_time": "2023-06-28T06:45:55.593Z"
   },
   {
    "duration": 9,
    "start_time": "2023-06-28T06:45:55.604Z"
   },
   {
    "duration": 17,
    "start_time": "2023-06-28T06:45:55.615Z"
   },
   {
    "duration": 1268,
    "start_time": "2023-06-28T08:01:48.981Z"
   },
   {
    "duration": 2,
    "start_time": "2023-06-28T08:01:50.252Z"
   },
   {
    "duration": 172,
    "start_time": "2023-06-28T08:01:50.255Z"
   },
   {
    "duration": 64,
    "start_time": "2023-06-28T08:01:50.429Z"
   },
   {
    "duration": 11,
    "start_time": "2023-06-28T08:01:50.496Z"
   },
   {
    "duration": 11,
    "start_time": "2023-06-28T08:01:50.509Z"
   },
   {
    "duration": 32,
    "start_time": "2023-06-28T08:01:50.532Z"
   },
   {
    "duration": 10,
    "start_time": "2023-06-28T08:01:50.566Z"
   },
   {
    "duration": 298,
    "start_time": "2023-06-28T08:01:50.577Z"
   },
   {
    "duration": 10,
    "start_time": "2023-06-28T08:01:50.877Z"
   },
   {
    "duration": 10,
    "start_time": "2023-06-28T08:01:50.889Z"
   },
   {
    "duration": 15,
    "start_time": "2023-06-28T08:01:50.901Z"
   },
   {
    "duration": 12,
    "start_time": "2023-06-28T08:01:50.917Z"
   },
   {
    "duration": 13,
    "start_time": "2023-06-28T08:01:50.939Z"
   },
   {
    "duration": 21,
    "start_time": "2023-06-28T08:01:50.953Z"
   },
   {
    "duration": 226,
    "start_time": "2023-06-28T08:01:50.976Z"
   },
   {
    "duration": 7,
    "start_time": "2023-06-28T08:01:51.204Z"
   },
   {
    "duration": 13,
    "start_time": "2023-06-28T08:01:51.213Z"
   },
   {
    "duration": 28,
    "start_time": "2023-06-28T08:01:51.227Z"
   },
   {
    "duration": 13,
    "start_time": "2023-06-28T08:01:51.256Z"
   },
   {
    "duration": 30,
    "start_time": "2023-06-28T08:01:51.271Z"
   },
   {
    "duration": 21,
    "start_time": "2023-06-28T08:01:51.303Z"
   },
   {
    "duration": 5,
    "start_time": "2023-06-28T08:01:51.326Z"
   },
   {
    "duration": 24,
    "start_time": "2023-06-28T08:01:51.338Z"
   },
   {
    "duration": 7,
    "start_time": "2023-06-28T08:01:51.364Z"
   },
   {
    "duration": 25,
    "start_time": "2023-06-28T08:01:51.372Z"
   },
   {
    "duration": 16,
    "start_time": "2023-06-28T08:01:51.399Z"
   },
   {
    "duration": 19,
    "start_time": "2023-06-28T08:01:51.416Z"
   },
   {
    "duration": 186,
    "start_time": "2023-06-28T08:01:51.437Z"
   },
   {
    "duration": 140,
    "start_time": "2023-06-28T08:01:51.624Z"
   },
   {
    "duration": 14,
    "start_time": "2023-06-28T08:01:51.765Z"
   },
   {
    "duration": 300,
    "start_time": "2023-06-28T08:01:51.780Z"
   },
   {
    "duration": 215,
    "start_time": "2023-06-28T08:01:52.081Z"
   },
   {
    "duration": 278,
    "start_time": "2023-06-28T08:01:52.297Z"
   },
   {
    "duration": 221,
    "start_time": "2023-06-28T08:01:52.576Z"
   },
   {
    "duration": 340,
    "start_time": "2023-06-28T08:01:52.799Z"
   },
   {
    "duration": 16,
    "start_time": "2023-06-28T08:01:53.141Z"
   },
   {
    "duration": 113,
    "start_time": "2023-06-28T08:01:53.158Z"
   },
   {
    "duration": 123,
    "start_time": "2023-06-28T08:01:53.272Z"
   },
   {
    "duration": 4,
    "start_time": "2023-06-28T08:01:53.397Z"
   },
   {
    "duration": 42,
    "start_time": "2023-06-28T08:01:53.406Z"
   },
   {
    "duration": 245,
    "start_time": "2023-06-28T08:01:53.452Z"
   },
   {
    "duration": 141,
    "start_time": "2023-06-28T08:01:53.699Z"
   },
   {
    "duration": 141,
    "start_time": "2023-06-28T08:01:53.841Z"
   },
   {
    "duration": 5,
    "start_time": "2023-06-28T08:01:53.984Z"
   },
   {
    "duration": 247,
    "start_time": "2023-06-28T08:01:53.990Z"
   },
   {
    "duration": 142,
    "start_time": "2023-06-28T08:01:54.239Z"
   },
   {
    "duration": 6,
    "start_time": "2023-06-28T08:01:54.382Z"
   },
   {
    "duration": 28,
    "start_time": "2023-06-28T08:01:54.389Z"
   },
   {
    "duration": 17,
    "start_time": "2023-06-28T08:01:54.418Z"
   },
   {
    "duration": 17,
    "start_time": "2023-06-28T08:01:54.437Z"
   },
   {
    "duration": 8,
    "start_time": "2023-06-28T08:01:54.456Z"
   },
   {
    "duration": 16,
    "start_time": "2023-06-28T08:01:54.465Z"
   },
   {
    "duration": 13,
    "start_time": "2023-06-28T08:01:54.483Z"
   },
   {
    "duration": 62,
    "start_time": "2023-06-28T08:01:54.498Z"
   },
   {
    "duration": 7,
    "start_time": "2023-06-28T08:01:54.561Z"
   },
   {
    "duration": 26,
    "start_time": "2023-06-28T08:01:54.569Z"
   },
   {
    "duration": 20,
    "start_time": "2023-06-28T08:01:54.597Z"
   },
   {
    "duration": 17,
    "start_time": "2023-06-28T08:01:54.619Z"
   },
   {
    "duration": 1363,
    "start_time": "2023-06-28T08:10:50.813Z"
   },
   {
    "duration": 3,
    "start_time": "2023-06-28T08:10:52.178Z"
   },
   {
    "duration": 163,
    "start_time": "2023-06-28T08:10:52.183Z"
   },
   {
    "duration": 65,
    "start_time": "2023-06-28T08:10:52.349Z"
   },
   {
    "duration": 19,
    "start_time": "2023-06-28T08:10:52.416Z"
   },
   {
    "duration": 27,
    "start_time": "2023-06-28T08:10:52.438Z"
   },
   {
    "duration": 15,
    "start_time": "2023-06-28T08:10:52.467Z"
   },
   {
    "duration": 14,
    "start_time": "2023-06-28T08:10:52.485Z"
   },
   {
    "duration": 437,
    "start_time": "2023-06-28T08:10:52.501Z"
   },
   {
    "duration": 14,
    "start_time": "2023-06-28T08:10:52.940Z"
   },
   {
    "duration": 12,
    "start_time": "2023-06-28T08:10:52.956Z"
   },
   {
    "duration": 11,
    "start_time": "2023-06-28T08:10:52.970Z"
   },
   {
    "duration": 15,
    "start_time": "2023-06-28T08:10:52.983Z"
   },
   {
    "duration": 10,
    "start_time": "2023-06-28T08:10:53.001Z"
   },
   {
    "duration": 39,
    "start_time": "2023-06-28T08:10:53.012Z"
   },
   {
    "duration": 160,
    "start_time": "2023-06-28T08:10:53.053Z"
   },
   {
    "duration": 7,
    "start_time": "2023-06-28T08:10:53.215Z"
   },
   {
    "duration": 54,
    "start_time": "2023-06-28T08:10:53.224Z"
   },
   {
    "duration": 21,
    "start_time": "2023-06-28T08:10:53.280Z"
   },
   {
    "duration": 18,
    "start_time": "2023-06-28T08:10:53.303Z"
   },
   {
    "duration": 18,
    "start_time": "2023-06-28T08:10:53.323Z"
   },
   {
    "duration": 47,
    "start_time": "2023-06-28T08:10:53.342Z"
   },
   {
    "duration": 10,
    "start_time": "2023-06-28T08:10:53.392Z"
   },
   {
    "duration": 9,
    "start_time": "2023-06-28T08:10:53.403Z"
   },
   {
    "duration": 15,
    "start_time": "2023-06-28T08:10:53.413Z"
   },
   {
    "duration": 51,
    "start_time": "2023-06-28T08:10:53.429Z"
   },
   {
    "duration": 31,
    "start_time": "2023-06-28T08:10:53.482Z"
   },
   {
    "duration": 19,
    "start_time": "2023-06-28T08:10:53.515Z"
   },
   {
    "duration": 232,
    "start_time": "2023-06-28T08:10:53.536Z"
   },
   {
    "duration": 166,
    "start_time": "2023-06-28T08:10:53.770Z"
   },
   {
    "duration": 23,
    "start_time": "2023-06-28T08:10:53.937Z"
   },
   {
    "duration": 294,
    "start_time": "2023-06-28T08:10:53.962Z"
   },
   {
    "duration": 217,
    "start_time": "2023-06-28T08:10:54.258Z"
   },
   {
    "duration": 397,
    "start_time": "2023-06-28T08:10:54.477Z"
   },
   {
    "duration": 275,
    "start_time": "2023-06-28T08:10:54.877Z"
   },
   {
    "duration": 287,
    "start_time": "2023-06-28T08:10:55.154Z"
   },
   {
    "duration": 13,
    "start_time": "2023-06-28T08:10:55.443Z"
   },
   {
    "duration": 135,
    "start_time": "2023-06-28T08:10:55.458Z"
   },
   {
    "duration": 158,
    "start_time": "2023-06-28T08:10:55.595Z"
   },
   {
    "duration": 4,
    "start_time": "2023-06-28T08:10:55.755Z"
   },
   {
    "duration": 19,
    "start_time": "2023-06-28T08:10:55.763Z"
   },
   {
    "duration": 210,
    "start_time": "2023-06-28T08:10:55.784Z"
   },
   {
    "duration": 134,
    "start_time": "2023-06-28T08:10:55.996Z"
   },
   {
    "duration": 180,
    "start_time": "2023-06-28T08:10:56.132Z"
   },
   {
    "duration": 5,
    "start_time": "2023-06-28T08:10:56.313Z"
   },
   {
    "duration": 249,
    "start_time": "2023-06-28T08:10:56.319Z"
   },
   {
    "duration": 143,
    "start_time": "2023-06-28T08:10:56.570Z"
   },
   {
    "duration": 6,
    "start_time": "2023-06-28T08:10:56.715Z"
   },
   {
    "duration": 37,
    "start_time": "2023-06-28T08:10:56.734Z"
   },
   {
    "duration": 5,
    "start_time": "2023-06-28T08:10:56.774Z"
   },
   {
    "duration": 15,
    "start_time": "2023-06-28T08:10:56.780Z"
   },
   {
    "duration": 7,
    "start_time": "2023-06-28T08:10:56.797Z"
   },
   {
    "duration": 11,
    "start_time": "2023-06-28T08:10:56.805Z"
   },
   {
    "duration": 19,
    "start_time": "2023-06-28T08:10:56.817Z"
   },
   {
    "duration": 60,
    "start_time": "2023-06-28T08:10:56.838Z"
   },
   {
    "duration": 5,
    "start_time": "2023-06-28T08:10:56.900Z"
   },
   {
    "duration": 14,
    "start_time": "2023-06-28T08:10:56.906Z"
   },
   {
    "duration": 9,
    "start_time": "2023-06-28T08:10:56.922Z"
   },
   {
    "duration": 20,
    "start_time": "2023-06-28T08:10:56.935Z"
   }
  ],
  "kernelspec": {
   "display_name": "Python 3 (ipykernel)",
   "language": "python",
   "name": "python3"
  },
  "language_info": {
   "codemirror_mode": {
    "name": "ipython",
    "version": 3
   },
   "file_extension": ".py",
   "mimetype": "text/x-python",
   "name": "python",
   "nbconvert_exporter": "python",
   "pygments_lexer": "ipython3",
   "version": "3.9.16"
  },
  "toc": {
   "base_numbering": 1,
   "nav_menu": {},
   "number_sections": true,
   "sideBar": true,
   "skip_h1_title": true,
   "title_cell": "Table of Contents",
   "title_sidebar": "Contents",
   "toc_cell": false,
   "toc_position": {},
   "toc_section_display": true,
   "toc_window_display": false
  },
  "toc-autonumbering": true,
  "toc-showmarkdowntxt": false
 },
 "nbformat": 4,
 "nbformat_minor": 5
}
